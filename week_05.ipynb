{
 "cells": [
  {
   "cell_type": "markdown",
   "metadata": {},
   "source": [
    "### 4주차 복습 퀴즈\n",
    "\n",
    "#### EX 복습퀴즈\n",
    "\n",
    "- 1. text6에서 길이가 4자 이하인 알파벳 중 ie를 포함하는 단어를 단어개수로 출력하시오.\n",
    " I Have a car면 각 각 단어의 빈도 \n",
    "    예:[1,3,4,3]\n",
    "    \n",
    "- 2. text2에서 ch로 끝나는 단어를 출력하는데\n",
    "    - 중복 없고\n",
    "    - 첫글자와 ch 남기고 가운데는 모두 -로 가려라\n",
    "        예: much->m-ch\n",
    "        - ch로 시작하면 바꾸면 안됨!!\n",
    "        예: pitch\n",
    "        p--ch\n",
    "        \n",
    "    - 정렬:\n",
    "        - 문자 길이로 정렬하기 \n",
    "        \n"
   ]
  },
  {
   "cell_type": "code",
   "execution_count": 77,
   "metadata": {},
   "outputs": [
    {
     "data": {
      "text/plain": [
       "[2, 10, 10, 10, 10, 2, 4, 10, 10, 2, 1, 1, 4, 3, 3, 4, 2, 10, 10, 10, 10, 3, 4]"
      ]
     },
     "execution_count": 77,
     "metadata": {},
     "output_type": "execute_result"
    }
   ],
   "source": [
    "#4-1\n",
    "[text6.count(word) for word in text6.tokens if len(word) <= 4 and ('ie' in word)]"
   ]
  },
  {
   "cell_type": "code",
   "execution_count": 78,
   "metadata": {},
   "outputs": [
    {
     "name": "stdout",
     "output_type": "stream",
     "text": [
      "e-ch\n",
      "S-ch\n",
      "m-ch\n",
      "M-ch\n",
      "i-ch\n",
      "E-ch\n",
      "s-ch\n",
      "r-ch\n",
      "f--ch\n",
      "r--ch\n",
      "b--ch\n",
      "t--ch\n",
      "t--ch\n",
      "c--ch\n",
      "W--c-\n",
      "M--ch\n",
      "p--ch\n",
      "m--ch\n",
      "w--ch\n",
      "c--ch\n",
      "w--c-\n",
      "s---ch\n",
      "s---ch\n",
      "----ch\n",
      "s---ch\n",
      "b---ch\n",
      "e---ch\n",
      "b---ch\n",
      "c---c-\n",
      "s-----h\n",
      "s----ch\n",
      "s----ch\n",
      "d-----ch\n",
      "d-----ch\n",
      "------ch\n",
      "------ch\n"
     ]
    }
   ],
   "source": [
    "#4-2. 해결되지 않은 코드\n",
    "\n",
    "arr = [w for w in set(text2) if w.endswith('ch')]\n",
    "arr = sorted(arr, key=len)\n",
    "#ch로 끝나는 단어들\n",
    "for w in arr:\n",
    "    for i in range(len(w)):\n",
    "        if i == 0 or i ==len(w)-1 or i==len(w)-2:\n",
    "            continue\n",
    "            \n",
    "        elif w[i]=='c' and w[i+1]=='h':\n",
    "            continue\n",
    "            \n",
    "        else:\n",
    "            w = w.replace(w[i],'-')\n",
    "    print(w)\n"
   ]
  },
  {
   "cell_type": "code",
   "execution_count": 91,
   "metadata": {},
   "outputs": [
    {
     "name": "stdout",
     "output_type": "stream",
     "text": [
      "['i-ch', 'r-ch', 'S-ch', 'E-ch', 'e-ch', 's-ch', 'M-ch', 'm-ch', 'r--ch', 'c--ch', 'm--ch', 't--ch', 'W--ch', 'w--ch', 'p--ch', 'M--ch', 'b--ch', 'f--ch', 'c---ch', 'e---ch', 'b---ch', 's---ch', 'a---ch', 's----ch', 'd-----ch', 'r-----ch', 'a-----ch']\n"
     ]
    }
   ],
   "source": [
    "arr = [w for w in text2 if w.endswith('ch')]\n",
    "arr = sorted(arr, key=len)\n",
    "#ch로 끝나는 단어들\n",
    "\n",
    "for w in arr:\n",
    "    if word.startswith('ch'):\n",
    "        result = word  \n",
    "\n",
    "for word in arr:\n",
    "    #중복 제거를 위한 set, 0번인덱스는 공개. 1~-1까지 -로 대체 후 ch는 공개. \n",
    "        result = set([word.replace(word[1:-2], '-'*len(word[1:-2])) for word in arr])\n",
    "\n",
    "#단어 길이 순 정렬\n",
    "print(sorted(result,key=len))"
   ]
  },
  {
   "cell_type": "code",
   "execution_count": 2,
   "metadata": {},
   "outputs": [
    {
     "name": "stdout",
     "output_type": "stream",
     "text": [
      "*** Introductory Examples for the NLTK Book ***\n",
      "Loading text1, ..., text9 and sent1, ..., sent9\n",
      "Type the name of the text or sentence to view it.\n",
      "Type: 'texts()' or 'sents()' to list the materials.\n",
      "text1: Moby Dick by Herman Melville 1851\n",
      "text2: Sense and Sensibility by Jane Austen 1811\n",
      "text3: The Book of Genesis\n",
      "text4: Inaugural Address Corpus\n",
      "text5: Chat Corpus\n",
      "text6: Monty Python and the Holy Grail\n",
      "text7: Wall Street Journal\n",
      "text8: Personals Corpus\n",
      "text9: The Man Who Was Thursday by G . K . Chesterton 1908\n"
     ]
    },
    {
     "data": {
      "text/plain": [
       "True"
      ]
     },
     "execution_count": 2,
     "metadata": {},
     "output_type": "execute_result"
    }
   ],
   "source": [
    "import nltk\n",
    "from nltk.book import *\n",
    "#모든 걸 임포트. book말고도 다른것들이 다운됨\n",
    "nltk.download('book',quiet =True)"
   ]
  },
  {
   "cell_type": "markdown",
   "metadata": {},
   "source": [
    "### 반복문\n",
    "\n",
    ":자료구조 순회시 사용. 정해진 동작이 반복될 때. \n",
    "\n",
    "- 들여쓰기를 통한 논리 구조.\n",
    "\n",
    "- 종류에는 for, while이 있음\n",
    "\n",
    "- for: i in range~등으로 범위를 정하여 돌릴 때\n",
    "- ++ for elem in array 형식으로 원소 순회가 가능하다!\n",
    "\n",
    "- while: 특정 조건을 걸어 반복문을 돌릴 때"
   ]
  },
  {
   "cell_type": "code",
   "execution_count": 3,
   "metadata": {},
   "outputs": [
    {
     "name": "stdout",
     "output_type": "stream",
     "text": [
      "0\n",
      "1\n",
      "2\n",
      "3\n",
      "4\n"
     ]
    }
   ],
   "source": [
    "for i in range(5):\n",
    "    print(i)"
   ]
  },
  {
   "cell_type": "markdown",
   "metadata": {},
   "source": [
    "#### for문\n",
    "\n",
    "- for i in range(0,<수 미만>,스텝? 방향?)\n",
    "- 즉 0부터 시작함"
   ]
  },
  {
   "cell_type": "markdown",
   "metadata": {},
   "source": [
    "### while\n",
    "\n",
    "- 어떤 조건이 만족할 때까지 블록 수행\n",
    "- 해당 조건이 거짓이면 수행을 멈춤\n",
    "    -언제 빠져 나오는지, 종료 조건을 잘 알아야함. \n",
    "    \n",
    "- for+ if의 결합형\n",
    "\n",
    "\n",
    "\n",
    "#### while vs for\n",
    "- for loop: 반복횟수를 정확히 알고, 반복 횟수가 변하지 않을 때\n",
    "    - 예: 전체 학생 성적 산출\n",
    "- while loop: 반복 횟수가 정확하지 않고, 어떤 조건을 만족시킬 때 프로그램을 종료하고 싶다면 사용함. \n",
    "    - 예: 가위바위보로 이기면 종료"
   ]
  },
  {
   "cell_type": "code",
   "execution_count": 6,
   "metadata": {},
   "outputs": [
    {
     "name": "stdout",
     "output_type": "stream",
     "text": [
      "0\n",
      "1\n",
      "2\n",
      "3\n"
     ]
    }
   ],
   "source": [
    "for i in range(5):\n",
    "    print(i)\n",
    "    i+=1\n",
    "    if i == 4:\n",
    "        break\n",
    "        "
   ]
  },
  {
   "cell_type": "code",
   "execution_count": 9,
   "metadata": {},
   "outputs": [
    {
     "name": "stdout",
     "output_type": "stream",
     "text": [
      "0\n",
      "1\n",
      "2\n",
      "3\n"
     ]
    }
   ],
   "source": [
    "i = 0\n",
    "while i<4:\n",
    "    print(i)\n",
    "    i+=1"
   ]
  },
  {
   "cell_type": "code",
   "execution_count": 11,
   "metadata": {},
   "outputs": [
    {
     "name": "stdout",
     "output_type": "stream",
     "text": [
      "0\n",
      "1\n",
      "2\n",
      "3\n",
      "4\n",
      "j값은 5\n"
     ]
    }
   ],
   "source": [
    "#while로 바꿔보면\n",
    "j=0\n",
    "\n",
    "while j <5:#0   1.......4\n",
    "    print(j)#0   1.......4\n",
    "    j += 1  #1   2........5(break)\n",
    "    \n",
    "#j는 5에서 멈춤\n",
    "print(\"j값은\",j)"
   ]
  },
  {
   "cell_type": "code",
   "execution_count": 10,
   "metadata": {},
   "outputs": [
    {
     "name": "stdout",
     "output_type": "stream",
     "text": [
      "[\n",
      "Moby\n",
      "Dick\n",
      "by\n",
      "Herman\n",
      "Melville\n",
      "1851\n",
      "]\n",
      "ETYMOLOGY\n",
      ".\n"
     ]
    }
   ],
   "source": [
    "[word for word in text1.tokens][:10]\n",
    "#두 코드가 동일\n",
    "for word in text1.tokens[:10]:\n",
    "    print(word)"
   ]
  },
  {
   "cell_type": "code",
   "execution_count": 12,
   "metadata": {},
   "outputs": [
    {
     "name": "stdout",
     "output_type": "stream",
     "text": [
      "a\n",
      "b\n",
      "c\n"
     ]
    }
   ],
   "source": [
    "#원소 순회가 가능하다\n",
    "characters = ['a', 'b', 'c']\n",
    "for ch in characters:\n",
    "    print(ch)"
   ]
  },
  {
   "cell_type": "markdown",
   "metadata": {},
   "source": [
    "### 반복문의 제어(break, continue)\n",
    "\n",
    "- 의도치 않게 코드를 종료시킬 수 있기 때문에 되도록 사용하지 않는다\n",
    "\n",
    "- break: 논리적으로 반복을 종료시키는 방법. break 시점을 잘 알아야함.\n",
    "\n",
    "- else: 어떤 조건이 '완전히' 끝났을 때 한번 더 실행하는 블록. break로 끝난 것과 구분할 수 있다.\n",
    "\n",
    "- continue: continue는 그 부분만 넘어감. 특정 조건을 건너뛰고 다음 조건을 수행함."
   ]
  },
  {
   "cell_type": "code",
   "execution_count": 13,
   "metadata": {},
   "outputs": [
    {
     "name": "stdout",
     "output_type": "stream",
     "text": [
      "0\n",
      "1\n",
      "2\n",
      "3\n",
      "4\n",
      "5\n"
     ]
    }
   ],
   "source": [
    "i=0\n",
    "\n",
    "for i in range(100):\n",
    "    if i  == 6: \n",
    "        break\n",
    "    print(i)\n",
    "else:\n",
    "    print(\"ended\")\n",
    "    \n",
    "#6일때 break라 5에서 끝남"
   ]
  },
  {
   "cell_type": "code",
   "execution_count": 14,
   "metadata": {},
   "outputs": [
    {
     "name": "stdout",
     "output_type": "stream",
     "text": [
      "0\n",
      "1\n",
      "2\n",
      "3\n",
      "4\n",
      "j는4\n"
     ]
    }
   ],
   "source": [
    "j = 0\n",
    "while j<5:\n",
    "    print(j)\n",
    "    if j == 4: break\n",
    "    j+=1\n",
    "#4에서 break.더하지 않고 끝남\n",
    "\n",
    "print(f'j는{j}')"
   ]
  },
  {
   "cell_type": "code",
   "execution_count": 16,
   "metadata": {},
   "outputs": [
    {
     "name": "stdout",
     "output_type": "stream",
     "text": [
      "0\n",
      "1\n",
      "2\n",
      "4\n",
      "5\n",
      "6\n",
      "7\n",
      "8\n",
      "9\n",
      "ended\n"
     ]
    }
   ],
   "source": [
    "#continue의 핵심은 넘어간다는 것. 그냥 하는 것이 아님!!\n",
    "\n",
    "i=0\n",
    "\n",
    "for i in range(10):\n",
    "    if i  == 3: \n",
    "        continue\n",
    "        print(\"3은 넘어감\")\n",
    "        #넘어가서 print안되는 것 확인\n",
    "    print(i)\n",
    "else:\n",
    "    print(\"ended\")"
   ]
  },
  {
   "cell_type": "markdown",
   "metadata": {},
   "source": [
    "### Quiz: 구구단\n",
    "\n",
    "- 1. for, while 중 선택해서 n단을 입력받아서 n단을 출력한다\n",
    "    - 출력: == =3단 ===\n",
    "            3 x 1 = 3\n",
    "            3 x 2 = 6\n",
    "            ....\n",
    "            3 x 9 = 27\n",
    "            \n",
    "            \n",
    "- 2. 1~n단까지 출력하는 코드\n",
    "- 3. 시작단, 끝단 둘다 입력 받을 것. \n",
    "    -예: 4-7단\n",
    "    - 시작단이 끝단보다 작을 때 어떻게 처리할 것인가\n",
    "\n",
    "- 4. 프로그램으로 만들기(메뉴를 주고, 선택해서 들어가기)\n",
    "    - 1) n단  2)1-n단  3)n-m단\n",
    "    - 3번-> n,m...\n",
    "    - 메뉴에 없는 선택 처리\n",
    "    - 예외에 대한 고려"
   ]
  },
  {
   "cell_type": "code",
   "execution_count": 6,
   "metadata": {},
   "outputs": [
    {
     "name": "stdin",
     "output_type": "stream",
     "text": [
      "몇 단을 입력할까요? 1\n"
     ]
    },
    {
     "name": "stdout",
     "output_type": "stream",
     "text": [
      "===1단===\n"
     ]
    }
   ],
   "source": [
    "#1 4번과의 코드 중복으로 1,2,3은 print부분에 주석으로 묶음.\n",
    "n = int(input(\"몇 단을 입력할까요?\"))\n",
    "\n",
    "print(f'==={n}단===')\n",
    "\n",
    "for i in range(9):\n",
    "    ans = n *(i+1)\n",
    "    #print(f'{n} x {i+1} = {ans}')"
   ]
  },
  {
   "cell_type": "code",
   "execution_count": 2,
   "metadata": {},
   "outputs": [
    {
     "name": "stdin",
     "output_type": "stream",
     "text": [
      "몇 단까지 출력할까요? 1\n"
     ]
    },
    {
     "name": "stdout",
     "output_type": "stream",
     "text": [
      "===1단===\n"
     ]
    }
   ],
   "source": [
    "#2 1~n단까지 출력\n",
    "n = int(input(\"몇 단까지 출력할까요?\"))\n",
    "# a x b\n",
    "for a in range(n):\n",
    "    print(f'==={a+1}단===')\n",
    "    for b in range(9):\n",
    "        ans = (a+1)*(b+1)\n",
    "        #print(f'{a+1} x {b+1} = {ans}')"
   ]
  },
  {
   "cell_type": "code",
   "execution_count": 5,
   "metadata": {},
   "outputs": [
    {
     "name": "stdin",
     "output_type": "stream",
     "text": [
      "몇 단부터 시작할까요? 1\n",
      "몇단까지 입력할까요? 2\n"
     ]
    },
    {
     "name": "stdout",
     "output_type": "stream",
     "text": [
      "===1단===\n",
      "===2단===\n"
     ]
    }
   ],
   "source": [
    "### 3 시작단, 끝단 모두 입력 받기 코드\n",
    "\n",
    "start = int(input(\"몇 단부터 시작할까요?\"))\n",
    "end = int(input(\"몇단까지 입력할까요?\"))\n",
    "i = 0\n",
    "j = 0\n",
    "for i in range(start,end+1):\n",
    "    print(f'==={i}단===')\n",
    "    for j in range(1,10):\n",
    "        ans = i*j\n",
    "        #print(f'{i}x{j}={ans}')\n",
    "    "
   ]
  },
  {
   "cell_type": "markdown",
   "metadata": {},
   "source": [
    "4번\n",
    "- 프로그램으로 만들기(메뉴를 주고, 선택해서 들어가기)\n",
    "- 1) n단 2)1-n단 3)n-m단\n",
    "- 3번-> n,m...\n",
    "- 메뉴에 없는 선택 처리\n",
    "- 예외에 대한 고려"
   ]
  },
  {
   "cell_type": "code",
   "execution_count": 1,
   "metadata": {},
   "outputs": [
    {
     "name": "stdin",
     "output_type": "stream",
     "text": [
      "선택지를 골라주세요. 1. n단 2. 1단부터 n단까지 3. n단에서 m단까지 4. 종료 5\n"
     ]
    },
    {
     "name": "stdout",
     "output_type": "stream",
     "text": [
      "잘못된 입력입니다. 다시 선택해주세요\n"
     ]
    },
    {
     "name": "stdin",
     "output_type": "stream",
     "text": [
      "선택지를 골라주세요. 1. n단 2. 1단부터 n단까지 3. n단에서 m단까지 4. 종료 3\n",
      "몇 단부터 시작할까요? 2\n",
      "몇단까지 입력할까요? 4\n"
     ]
    },
    {
     "name": "stdout",
     "output_type": "stream",
     "text": [
      "===2단===\n",
      "2x1=2\n",
      "2x2=4\n",
      "2x3=6\n",
      "2x4=8\n",
      "2x5=10\n",
      "2x6=12\n",
      "2x7=14\n",
      "2x8=16\n",
      "2x9=18\n",
      "===3단===\n",
      "3x1=3\n",
      "3x2=6\n",
      "3x3=9\n",
      "3x4=12\n",
      "3x5=15\n",
      "3x6=18\n",
      "3x7=21\n",
      "3x8=24\n",
      "3x9=27\n",
      "===4단===\n",
      "4x1=4\n",
      "4x2=8\n",
      "4x3=12\n",
      "4x4=16\n",
      "4x5=20\n",
      "4x6=24\n",
      "4x7=28\n",
      "4x8=32\n",
      "4x9=36\n"
     ]
    },
    {
     "name": "stdin",
     "output_type": "stream",
     "text": [
      "선택지를 골라주세요. 1. n단 2. 1단부터 n단까지 3. n단에서 m단까지 4. 종료 4\n"
     ]
    },
    {
     "name": "stdout",
     "output_type": "stream",
     "text": [
      "종료합니다\n"
     ]
    }
   ],
   "source": [
    "#4 프로그램으로 만들기\n",
    "\n",
    "while True:\n",
    "    sel = int(input(\"선택지를 골라주세요. 1. n단 2. 1단부터 n단까지 3. n단에서 m단까지 4. 종료\"))\n",
    "    \n",
    "    \n",
    "    if sel == 1:\n",
    "        n = int(input(\"몇 단을 입력할까요?\"))\n",
    "        print(f'==={n}단===')\n",
    "        for i in range(9):\n",
    "            ans = n *(i+1)\n",
    "            print(f'{n} x {i+1} = {ans}')\n",
    "            \n",
    "    elif sel == 2:\n",
    "        n = int(input(\"몇 단까지 출력할까요?\"))\n",
    "        # a x b\n",
    "        for a in range(n):\n",
    "            print(f'==={a+1}단===')\n",
    "            for b in range(9):\n",
    "                ans = (a+1)*(b+1) \n",
    "                print(f'{a+1} x {b+1} = {ans}')\n",
    "    \n",
    "    elif sel == 3:\n",
    "        start = int(input(\"몇 단부터 시작할까요?\"))\n",
    "        end = int(input(\"몇단까지 입력할까요?\"))\n",
    "        i = 0\n",
    "        j = 0\n",
    "        for i in range(start,end+1):\n",
    "            print(f'==={i}단===')\n",
    "            for j in range(1,10):\n",
    "                ans = i*j\n",
    "                print(f'{i}x{j}={ans}')\n",
    "    \n",
    "    elif sel == 4:\n",
    "        print(\"종료합니다\")\n",
    "        break\n",
    "    \n",
    "    else:\n",
    "        print(\"잘못된 입력입니다. 다시 선택해주세요\")"
   ]
  },
  {
   "cell_type": "markdown",
   "metadata": {},
   "source": [
    "### print formatting\n",
    "\n",
    "- 1.f string\n",
    "    - f,F둘다 사용가능\n",
    "    - f'{var}'가장 흔하게 사용함\n",
    "    \n",
    "- 2. format\n",
    "    - '{}'.format(var)\n",
    "- 3.%\n",
    "    - '%type' %var\n",
    "    - %d,%s등의 형식 구분\n",
    "    - 잘 쓰지 않는 추세\n",
    "\n",
    "\n",
    "- XXXX사용 금지XXXX\"A\",\"B\",\"C\" 답변안받음"
   ]
  },
  {
   "cell_type": "code",
   "execution_count": 29,
   "metadata": {},
   "outputs": [
    {
     "name": "stdout",
     "output_type": "stream",
     "text": [
      "게임 이름은 Lol:League of legend이고 한국어로는 리그오브레전드으로 부른다\n",
      "리그오\n"
     ]
    }
   ],
   "source": [
    "#1 가장 흔히 사용하는 f format\n",
    "\n",
    "game = 'Lol:League of legend'\n",
    "name = '리그오브레전드'\n",
    "print(f'게임 이름은 {game}이고 한국어로는 {name}으로 부른다')\n",
    "\n",
    "#f포맷도 소수점 포맷 가능\n",
    "print(f'{name:.3}')"
   ]
  },
  {
   "cell_type": "code",
   "execution_count": 27,
   "metadata": {},
   "outputs": [
    {
     "name": "stdout",
     "output_type": "stream",
     "text": [
      "그 게임은 Lol?\n"
     ]
    }
   ],
   "source": [
    "#2\n",
    "\n",
    "print('그 게임은 {:.3s}?'.format(game))\n",
    "#소수점 출력시 유용"
   ]
  },
  {
   "cell_type": "code",
   "execution_count": 30,
   "metadata": {},
   "outputs": [
    {
     "name": "stdout",
     "output_type": "stream",
     "text": [
      "그 게임 이름은 리그오브레전드 입니다\n"
     ]
    }
   ],
   "source": [
    "#3\n",
    "print('그 게임 이름은 %s 입니다' %name)"
   ]
  },
  {
   "cell_type": "markdown",
   "metadata": {},
   "source": [
    "### nltk: corpus \n",
    "\n",
    "- 다양한 종류의 코퍼스가 있다\n",
    "- 더 다양한 언어 분석이 가능\n",
    "\n",
    "- 종류\n",
    "    - gutenberg: 저작권이 만료된 명작들\n",
    "    - brown: 카테고리별로 묶이는 코퍼스\n",
    "    - inaugural\n",
    "- 함수\n",
    "    - words()\n",
    "    - sents()\n",
    "    - fileids()\n",
    "    - raw()"
   ]
  },
  {
   "cell_type": "code",
   "execution_count": 3,
   "metadata": {},
   "outputs": [
    {
     "data": {
      "text/plain": [
       "True"
      ]
     },
     "execution_count": 3,
     "metadata": {},
     "output_type": "execute_result"
    }
   ],
   "source": [
    "#구텐베르그 호출하기\n",
    "\n",
    "import nltk\n",
    "from nltk.corpus import gutenberg\n",
    "nltk.download('gutenberg',quiet=True)"
   ]
  },
  {
   "cell_type": "code",
   "execution_count": 32,
   "metadata": {},
   "outputs": [
    {
     "data": {
      "text/plain": [
       "<PlaintextCorpusReader in 'C:\\\\Users\\\\bestl\\\\AppData\\\\Roaming\\\\nltk_data\\\\corpora\\\\gutenberg'>"
      ]
     },
     "execution_count": 32,
     "metadata": {},
     "output_type": "execute_result"
    }
   ],
   "source": [
    "gutenberg"
   ]
  },
  {
   "cell_type": "code",
   "execution_count": 34,
   "metadata": {},
   "outputs": [
    {
     "data": {
      "text/plain": [
       "['austen-emma.txt',\n",
       " 'austen-persuasion.txt',\n",
       " 'austen-sense.txt',\n",
       " 'bible-kjv.txt',\n",
       " 'blake-poems.txt',\n",
       " 'bryant-stories.txt',\n",
       " 'burgess-busterbrown.txt',\n",
       " 'carroll-alice.txt',\n",
       " 'chesterton-ball.txt',\n",
       " 'chesterton-brown.txt',\n",
       " 'chesterton-thursday.txt',\n",
       " 'edgeworth-parents.txt',\n",
       " 'melville-moby_dick.txt',\n",
       " 'milton-paradise.txt',\n",
       " 'shakespeare-caesar.txt',\n",
       " 'shakespeare-hamlet.txt',\n",
       " 'shakespeare-macbeth.txt',\n",
       " 'whitman-leaves.txt']"
      ]
     },
     "execution_count": 34,
     "metadata": {},
     "output_type": "execute_result"
    }
   ],
   "source": [
    "#구텐베르그의 책들을 알 수 있는 함수\n",
    "gutenberg.fileids()"
   ]
  },
  {
   "cell_type": "code",
   "execution_count": 36,
   "metadata": {},
   "outputs": [
    {
     "name": "stdout",
     "output_type": "stream",
     "text": [
      "['[', 'Emma', 'by', 'Jane', 'Austen', '1816', ']', ...]\n"
     ]
    },
    {
     "data": {
      "text/plain": [
       "192427"
      ]
     },
     "execution_count": 36,
     "metadata": {},
     "output_type": "execute_result"
    }
   ],
   "source": [
    "#구텐베르그 내의 austen-emma의 단어수는\n",
    "print(gutenberg.words())\n",
    "len(gutenberg.words(['austen-emma.txt']))"
   ]
  },
  {
   "cell_type": "markdown",
   "metadata": {},
   "source": [
    "#### tip: 글자수, 단어수, 문장수 출력\n",
    "\n",
    "- gutenberg.raw(작품명): 작품의 글자 \n",
    "- gutenberg.words(작품명): 작품의 단어 \n",
    "- gutenberg.sents(작품명): 작품의 문장\n",
    "\n",
    "- 시험에서 글자 수, 단어 수 를 요구할 시 len으로 묶어주면 가능함\n",
    "\n",
    "- 시험 문제에서 순회하라 할 때 앞으로 text입력 일일히 하지 말구... 아래같이 원소 순회 해서 가능!"
   ]
  },
  {
   "cell_type": "code",
   "execution_count": 4,
   "metadata": {},
   "outputs": [
    {
     "name": "stdout",
     "output_type": "stream",
     "text": [
      "['[', 'The', 'Tragedie', 'of', 'Hamlet', 'by', ...]\n",
      "37360\n"
     ]
    }
   ],
   "source": [
    "#제목을 따옴표로 묶어줘야 작동\n",
    "print(gutenberg.words('shakespeare-hamlet.txt'))\n",
    "#개수구하기\n",
    "print(len(gutenberg.words('shakespeare-hamlet.txt')))"
   ]
  },
  {
   "cell_type": "code",
   "execution_count": 51,
   "metadata": {},
   "outputs": [
    {
     "name": "stdout",
     "output_type": "stream",
     "text": [
      "austen-emma | 글자 수 = 887071 단어 수 = 192427 문장 수 =7752\n",
      "austen-persuasion | 글자 수 = 466292 단어 수 = 98171 문장 수 =3747\n",
      "austen-sense | 글자 수 = 673022 단어 수 = 141576 문장 수 =4999\n",
      "bible-kjv | 글자 수 = 4332554 단어 수 = 1010654 문장 수 =30103\n",
      "blake-poems | 글자 수 = 38153 단어 수 = 8354 문장 수 =438\n",
      "bryant-stories | 글자 수 = 249439 단어 수 = 55563 문장 수 =2863\n",
      "burgess-busterbrown | 글자 수 = 84663 단어 수 = 18963 문장 수 =1054\n",
      "carroll-alice | 글자 수 = 144395 단어 수 = 34110 문장 수 =1703\n",
      "chesterton-ball | 글자 수 = 457450 단어 수 = 96996 문장 수 =4779\n",
      "chesterton-brown | 글자 수 = 406629 단어 수 = 86063 문장 수 =3806\n",
      "chesterton-thursday | 글자 수 = 320525 단어 수 = 69213 문장 수 =3742\n",
      "edgeworth-parents | 글자 수 = 935158 단어 수 = 210663 문장 수 =10230\n",
      "melville-moby_dick | 글자 수 = 1242990 단어 수 = 260819 문장 수 =10059\n",
      "milton-paradise | 글자 수 = 468220 단어 수 = 96825 문장 수 =1851\n",
      "shakespeare-caesar | 글자 수 = 112310 단어 수 = 25833 문장 수 =2163\n",
      "shakespeare-hamlet | 글자 수 = 162881 단어 수 = 37360 문장 수 =3106\n",
      "shakespeare-macbeth | 글자 수 = 100351 단어 수 = 23140 문장 수 =1907\n",
      "whitman-leaves | 글자 수 = 711215 단어 수 = 154883 문장 수 =4250\n"
     ]
    }
   ],
   "source": [
    "#글자수 길이 등 넣기\n",
    "\n",
    "for file in gutenberg.fileids():\n",
    "    \n",
    "    ch_n = len(gutenberg.raw(file))\n",
    "    word_n = len(gutenberg.words(file))\n",
    "    sent_n = len(gutenberg.sents(file))\n",
    "    showTitle = file[:-4]\n",
    "    #txt가 보이지 않도록\n",
    "    \n",
    "    print(f'{showTitle} | 글자 수 = {ch_n} 단어 수 = {word_n} 문장 수 ={sent_n}')"
   ]
  },
  {
   "cell_type": "code",
   "execution_count": 5,
   "metadata": {},
   "outputs": [
    {
     "data": {
      "text/plain": [
       "True"
      ]
     },
     "execution_count": 5,
     "metadata": {},
     "output_type": "execute_result"
    }
   ],
   "source": [
    "import nltk\n",
    "from nltk.book import *\n",
    "#모든 걸 임포트. book말고도 다른것들이 다운됨\n",
    "nltk.download('book',quiet =True)"
   ]
  },
  {
   "cell_type": "markdown",
   "metadata": {},
   "source": [
    "### tip: text 문단대로 뽑아오기"
   ]
  },
  {
   "cell_type": "code",
   "execution_count": 25,
   "metadata": {},
   "outputs": [
    {
     "data": {
      "text/plain": [
       "['text1',\n",
       " 'text2',\n",
       " 'text3',\n",
       " 'text4',\n",
       " 'text5',\n",
       " 'text6',\n",
       " 'text7',\n",
       " 'text8',\n",
       " 'text9']"
      ]
     },
     "execution_count": 25,
     "metadata": {},
     "output_type": "execute_result"
    }
   ],
   "source": [
    "texts = [f'text{i}' for i in range(1,10)]\n",
    "texts"
   ]
  },
  {
   "cell_type": "code",
   "execution_count": 34,
   "metadata": {},
   "outputs": [
    {
     "data": {
      "text/plain": [
       "[<Text: Moby Dick by Herman Melville 1851>,\n",
       " <Text: Sense and Sensibility by Jane Austen 1811>,\n",
       " <Text: The Book of Genesis>,\n",
       " <Text: Inaugural Address Corpus>,\n",
       " <Text: Chat Corpus>,\n",
       " <Text: Monty Python and the Holy Grail>,\n",
       " <Text: Wall Street Journal>,\n",
       " <Text: Personals Corpus>,\n",
       " <Text: The Man Who Was Thursday by G . K . Chesterton 1908>]"
      ]
     },
     "execution_count": 34,
     "metadata": {},
     "output_type": "execute_result"
    }
   ],
   "source": [
    "# text 1 - 9\n",
    "    # text1과 'text1'은 다름\n",
    "    # text1 - 9 문자열로 가져오기\n",
    "    # string -> 기능으로 바꿔주기 | 기능으로 바꾸는 함수 : getattr(library, 'string_name')\n",
    "texts = [text1, text2, ..., text9]\n",
    "texts = [getattr(nltk.book, f'text{i}') for i in range(1, 10)]\n",
    "texts"
   ]
  },
  {
   "cell_type": "code",
   "execution_count": 52,
   "metadata": {},
   "outputs": [
    {
     "name": "stdout",
     "output_type": "stream",
     "text": [
      "<Text: Moby Dick by Herman Melville 1851>\n",
      "<Text: Chat Corpus>\n",
      " text0:<Text: Moby Dick by Herman Melville 1851>\n",
      " text1:<Text: Sense and Sensibility by Jane Austen 1811>\n",
      " text2:<Text: The Book of Genesis>\n",
      " text3:<Text: Inaugural Address Corpus>\n"
     ]
    }
   ],
   "source": [
    "print(texts[0])#첫번째 책\n",
    "print(texts[4])#두번째 책\n",
    "\n",
    "i = 0\n",
    "for i in range(0,4):\n",
    "    print(f' text{i}:{texts[i]}')"
   ]
  },
  {
   "cell_type": "markdown",
   "metadata": {},
   "source": [
    "### Brown 코퍼스(브라운 대학교)\n",
    "\n",
    "- 특징은 카테고리\n",
    "- categories()"
   ]
  },
  {
   "cell_type": "code",
   "execution_count": 6,
   "metadata": {},
   "outputs": [
    {
     "name": "stderr",
     "output_type": "stream",
     "text": [
      "[nltk_data] Downloading package brown to\n",
      "[nltk_data]     C:\\Users\\bestl\\AppData\\Roaming\\nltk_data...\n",
      "[nltk_data]   Package brown is already up-to-date!\n"
     ]
    },
    {
     "data": {
      "text/plain": [
       "['adventure',\n",
       " 'belles_lettres',\n",
       " 'editorial',\n",
       " 'fiction',\n",
       " 'government',\n",
       " 'hobbies',\n",
       " 'humor',\n",
       " 'learned',\n",
       " 'lore',\n",
       " 'mystery',\n",
       " 'news',\n",
       " 'religion',\n",
       " 'reviews',\n",
       " 'romance',\n",
       " 'science_fiction']"
      ]
     },
     "execution_count": 6,
     "metadata": {},
     "output_type": "execute_result"
    }
   ],
   "source": [
    "from nltk.corpus import brown\n",
    "nltk.download('brown')\n",
    "brown_corpus = nltk.corpus.brown\n",
    "brown_corpus.categories()"
   ]
  },
  {
   "cell_type": "code",
   "execution_count": 8,
   "metadata": {},
   "outputs": [],
   "source": [
    "humor = brown_corpus.words(categories = 'humor')"
   ]
  },
  {
   "cell_type": "code",
   "execution_count": 58,
   "metadata": {},
   "outputs": [
    {
     "name": "stdout",
     "output_type": "stream",
     "text": [
      "can 17\n",
      "could 33\n",
      "may 8\n",
      "might 8\n",
      "will 13\n",
      "would 56\n"
     ]
    }
   ],
   "source": [
    "#modal verbs의 쓰임\n",
    "\n",
    "modals = ['can', 'could', 'may', 'might', 'will','would']\n",
    "\n",
    "fdist_brown = nltk.FreqDist([w.lower() for w in humor])\n",
    "\n",
    "for verb in modals:\n",
    "    print(verb, fdist_brown[verb])\n"
   ]
  },
  {
   "cell_type": "markdown",
   "metadata": {},
   "source": [
    "#### conditional frequency distribution(CFD)\n",
    "\n",
    "- 조건이 붙은 fdist\n",
    "- 브라운 코퍼스에서 지원"
   ]
  },
  {
   "cell_type": "code",
   "execution_count": 10,
   "metadata": {},
   "outputs": [],
   "source": [
    "cfd = nltk.ConditionalFreqDist(\n",
    "    (genre,word.lower)\n",
    "    for genre in brown_corpus.categories() #장르에 대해\n",
    "    for word in brown_corpus.words(categories = genre))#단어에 대해\n",
    "#장르에 따른 fdist"
   ]
  },
  {
   "cell_type": "code",
   "execution_count": 60,
   "metadata": {},
   "outputs": [
    {
     "data": {
      "text/plain": [
       "FreqDist({<built-in method lower of str object at 0x000001F4349A81B0>: 3899, <built-in method lower of str object at 0x000001F4342BDD70>: 3736, <built-in method lower of str object at 0x000001F43475EE70>: 1335, <built-in method lower of str object at 0x000001F434872930>: 951, <built-in method lower of str object at 0x000001F4342BD1B0>: 690, <built-in method lower of str object at 0x000001F434B061B0>: 316, <built-in method lower of str object at 0x000001F43479F5F0>: 264, <built-in method lower of str object at 0x000001F4347A0230>: 56, <built-in method lower of str object at 0x000001F434870C70>: 48, <built-in method lower of str object at 0x000001F4349A8230>: 21, ...})"
      ]
     },
     "execution_count": 60,
     "metadata": {},
     "output_type": "execute_result"
    }
   ],
   "source": [
    "cfd['romance']"
   ]
  },
  {
   "cell_type": "code",
   "execution_count": 54,
   "metadata": {},
   "outputs": [
    {
     "data": {
      "text/plain": [
       "[('.', 3326),\n",
       " ('the', 2817),\n",
       " (',', 2805),\n",
       " ('to', 1294),\n",
       " ('and', 1282),\n",
       " ('a', 1196),\n",
       " ('he', 1076),\n",
       " ('of', 913),\n",
       " ('was', 828),\n",
       " ('``', 740)]"
      ]
     },
     "execution_count": 54,
     "metadata": {},
     "output_type": "execute_result"
    }
   ],
   "source": [
    "cfd['mystery'].most_common(10)"
   ]
  },
  {
   "cell_type": "code",
   "execution_count": 24,
   "metadata": {},
   "outputs": [
    {
     "data": {
      "text/plain": [
       "3780"
      ]
     },
     "execution_count": 24,
     "metadata": {},
     "output_type": "execute_result"
    }
   ],
   "source": [
    "cfd['adventure']['the']"
   ]
  },
  {
   "cell_type": "code",
   "execution_count": 55,
   "metadata": {},
   "outputs": [
    {
     "data": {
      "text/plain": [
       "[('.', 4057),\n",
       " ('the', 3780),\n",
       " (',', 3488),\n",
       " ('and', 1706),\n",
       " ('a', 1432),\n",
       " ('of', 1327),\n",
       " ('to', 1322),\n",
       " ('he', 1283),\n",
       " ('``', 998),\n",
       " (\"''\", 995)]"
      ]
     },
     "execution_count": 55,
     "metadata": {},
     "output_type": "execute_result"
    }
   ],
   "source": [
    "cfd['adventure'].most_common(10)"
   ]
  },
  {
   "cell_type": "code",
   "execution_count": 36,
   "metadata": {},
   "outputs": [],
   "source": [
    "#cfd.tabulate(conditions = brown_corpus.categories()[:3], samples = modals)"
   ]
  },
  {
   "cell_type": "code",
   "execution_count": 11,
   "metadata": {},
   "outputs": [
    {
     "data": {
      "text/plain": [
       "FreqDist({<built-in method lower of str object at 0x0000012762D081B0>: 3899, <built-in method lower of str object at 0x000001276296DD70>: 3736, <built-in method lower of str object at 0x0000012762ABEE70>: 1335, <built-in method lower of str object at 0x0000012762BD2930>: 951, <built-in method lower of str object at 0x000001276296D1B0>: 690, <built-in method lower of str object at 0x0000012762E661B0>: 316, <built-in method lower of str object at 0x0000012762AFF5B0>: 264, <built-in method lower of str object at 0x0000012762B00270>: 56, <built-in method lower of str object at 0x0000012762BD0C70>: 48, <built-in method lower of str object at 0x0000012762D08230>: 21, ...})"
      ]
     },
     "execution_count": 11,
     "metadata": {},
     "output_type": "execute_result"
    }
   ],
   "source": [
    "cfd['romance']"
   ]
  },
  {
   "cell_type": "code",
   "execution_count": 22,
   "metadata": {},
   "outputs": [
    {
     "data": {
      "text/plain": [
       "36"
      ]
     },
     "execution_count": 22,
     "metadata": {},
     "output_type": "execute_result"
    }
   ],
   "source": [
    "cfd['romance']['love'] #romance 카테고리에서 love가 몇 번 나왔는지"
   ]
  },
  {
   "cell_type": "code",
   "execution_count": 21,
   "metadata": {},
   "outputs": [
    {
     "data": {
      "text/plain": [
       "107"
      ]
     },
     "execution_count": 21,
     "metadata": {},
     "output_type": "execute_result"
    }
   ],
   "source": [
    "cfd['mystery']['man']"
   ]
  },
  {
   "cell_type": "code",
   "execution_count": 53,
   "metadata": {},
   "outputs": [
    {
     "data": {
      "text/plain": [
       "40"
      ]
     },
     "execution_count": 53,
     "metadata": {},
     "output_type": "execute_result"
    }
   ],
   "source": [
    "fdist = nltk.FreqDist([w.lower() for w in brown.words(categories='mystery')])\n",
    "#brown.words(categories=' ', fileids=' ') 인수가 복수 개이므로 categories가 무엇인지 명시해주어야 함.\n",
    "#중복을 잡아 위와 개수가 다른 것으로 추측됨\n",
    "fdist['men'] #미스테리 장르 중 men 단어의 개수(모두 소문자)"
   ]
  },
  {
   "cell_type": "markdown",
   "metadata": {},
   "source": [
    "### gutenberg 연습\n",
    "- shakespeare-caesar의 중복된 단어를 거르고 각 단어의 길이를 출력하시오.\n",
    "- chesterton-thursday에서 길이가 4자 이하인 알파벳 중 ie를 포함하는 단어를 소문자로 출력하고, 개수를 세어라.\n",
    "- bryant-stories에서 ch로 끝나는 단어를 출력하는데, 중복 없이, 첫 글자(모두 소문자)와 끝 ch만 남기고 가운데 글자들은 모두 -로 가려라. 예: much -> m-ch"
   ]
  },
  {
   "cell_type": "code",
   "execution_count": 22,
   "metadata": {},
   "outputs": [
    {
     "data": {
      "text/plain": [
       "[6, 8, 6, 11, 9, 6, 8, 5, 7, 1, 4, 5, 3, 6, 4, 4, 5, 9, 5, 2]"
      ]
     },
     "execution_count": 22,
     "metadata": {},
     "output_type": "execute_result"
    }
   ],
   "source": [
    "#1\n",
    "[len(w) for w in set(gutenberg.words(fileids='shakespeare-caesar.txt'))][:20]"
   ]
  },
  {
   "cell_type": "code",
   "execution_count": 30,
   "metadata": {},
   "outputs": [
    {
     "data": {
      "text/plain": [
       "[('lie', 3),\n",
       " ('tie', 3),\n",
       " ('die', 12),\n",
       " ('died', 5),\n",
       " ('tied', 2),\n",
       " ('dies', 1),\n",
       " ('lies', 1),\n",
       " ('view', 2),\n",
       " ('pier', 5),\n",
       " ('foie', 1),\n",
       " ('erie', 1),\n",
       " ('pie', 1)]"
      ]
     },
     "execution_count": 30,
     "metadata": {},
     "output_type": "execute_result"
    }
   ],
   "source": [
    "# 2\n",
    "w = gutenberg.words(fileids='chesterton-thursday.txt')\n",
    "fdist = FreqDist(w)\n",
    "\n",
    "#소문자화 후 중복 제거\n",
    "ans = set([(w.lower(), fdist[w]) for w in w if len(w) <= 4 and 'ie' in w])\n",
    "list(ans)"
   ]
  },
  {
   "cell_type": "code",
   "execution_count": 34,
   "metadata": {},
   "outputs": [
    {
     "data": {
      "text/plain": [
       "['b---ch',\n",
       " 'i-ch',\n",
       " 'a---ch',\n",
       " 'c--ch',\n",
       " 's-ch',\n",
       " 'f---ch',\n",
       " 'w--ch',\n",
       " 'b--ch',\n",
       " 'l---ch',\n",
       " 's----ch',\n",
       " 't--ch',\n",
       " 'r--ch',\n",
       " 'l--ch',\n",
       " 'm-ch',\n",
       " 'p--ch',\n",
       " 'e-ch',\n",
       " 'm--ch',\n",
       " 's-----ch',\n",
       " 'a-----ch',\n",
       " 'r-ch',\n",
       " 'a-ch',\n",
       " 's---ch',\n",
       " 'h--ch',\n",
       " 'c---ch']"
      ]
     },
     "execution_count": 34,
     "metadata": {},
     "output_type": "execute_result"
    }
   ],
   "source": [
    "# 3\n",
    "words = gutenberg.words(fileids='chesterton-thursday.txt')\n",
    "ans1 = set([word[0].lower()+\"-\"*len(word[1:-2])+word[-2:] for word in words if word.endswith('ch')])\n",
    "list(ans1)"
   ]
  },
  {
   "cell_type": "code",
   "execution_count": null,
   "metadata": {},
   "outputs": [],
   "source": []
  }
 ],
 "metadata": {
  "kernelspec": {
   "display_name": "Python 3",
   "language": "python",
   "name": "python3"
  },
  "language_info": {
   "codemirror_mode": {
    "name": "ipython",
    "version": 3
   },
   "file_extension": ".py",
   "mimetype": "text/x-python",
   "name": "python",
   "nbconvert_exporter": "python",
   "pygments_lexer": "ipython3",
   "version": "3.7.6"
  }
 },
 "nbformat": 4,
 "nbformat_minor": 4
}
