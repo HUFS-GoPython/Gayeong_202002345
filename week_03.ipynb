{
 "cells": [
  {
   "cell_type": "markdown",
   "metadata": {},
   "source": [
    "# 3주차 복습\n",
    "\n",
    "## volume 3.1\n",
    "\n",
    "### 중첩 조건문\n",
    "\n",
    "- nested conditional\n",
    "- if 블록 안에 또다른 if블록이 있는 경우\n",
    "- 들여쓰기 논리를 구분한다"
   ]
  },
  {
   "cell_type": "code",
   "execution_count": 2,
   "metadata": {},
   "outputs": [
    {
     "name": "stdout",
     "output_type": "stream",
     "text": [
      "Yes it is\n"
     ]
    }
   ],
   "source": [
    "#안좋은 예시1(복잡한 논리)\n",
    "\n",
    "a = 0\n",
    "b = 1\n",
    "\n",
    "if a == b:\n",
    "    print(\"Is it same?\")\n",
    "    \n",
    "else:\n",
    "    if a < b:\n",
    "        print(\"Yes it is\")\n",
    "    else:\n",
    "        print(\"Think again\")"
   ]
  },
  {
   "cell_type": "code",
   "execution_count": 4,
   "metadata": {},
   "outputs": [
    {
     "name": "stdout",
     "output_type": "stream",
     "text": [
      "Yes it is\n"
     ]
    }
   ],
   "source": [
    "# 개선한 코드(elif사용)\n",
    "\n",
    "if a == b:\n",
    "    print(\"Is it same?\")\n",
    "\n",
    "elif a < b:\n",
    "    print(\"Yes it is\")\n",
    "    \n",
    "else:\n",
    "    print(\"Think again\")"
   ]
  },
  {
   "cell_type": "code",
   "execution_count": 7,
   "metadata": {},
   "outputs": [
    {
     "name": "stdout",
     "output_type": "stream",
     "text": [
      "Block C\n"
     ]
    }
   ],
   "source": [
    "#안좋은 예 2\n",
    "\n",
    "x = 0\n",
    "y = 1\n",
    "\n",
    "if x > 0 :\n",
    "    if x < 10:\n",
    "        print(\"Block A\")\n",
    "        \n",
    "    else:\n",
    "        print(\"Block B\")\n",
    "\n",
    "else:\n",
    "    print(\"Block C\")\n",
    "    \n",
    "#x가 0보다 크고 10보다 작다면 A, 10보다 크면 B, 나머지는 C\n",
    "#조건이 중복되고 반복되는 점, 중첩을 풀어헤칠 수 있으면 풀자."
   ]
  },
  {
   "cell_type": "code",
   "execution_count": 8,
   "metadata": {},
   "outputs": [
    {
     "name": "stdout",
     "output_type": "stream",
     "text": [
      "Block C\n"
     ]
    }
   ],
   "source": [
    "#개선한 코드. 중복된 조건을 풀어서 단순화\n",
    "\n",
    "if x>0 and x<10:\n",
    "    print(\"Block A\")\n",
    "\n",
    "elif x>10:\n",
    "    print(\"Block B\")\n",
    "else:\n",
    "    print(\"Block C\")\n"
   ]
  },
  {
   "cell_type": "markdown",
   "metadata": {},
   "source": [
    "\n",
    "### elif 사용 예문\n",
    "\n",
    "- 다양한 선택지 조건들이 있을 때 사용. "
   ]
  },
  {
   "cell_type": "code",
   "execution_count": 9,
   "metadata": {},
   "outputs": [
    {
     "name": "stdout",
     "output_type": "stream",
     "text": [
      "Block B\n"
     ]
    }
   ],
   "source": [
    "#1\n",
    "\n",
    "if x == y:\n",
    "    print (\"block A\")\n",
    "    \n",
    "elif x < y:\n",
    "    print (\"Block B\")\n",
    "    \n",
    "    \n",
    "else:\n",
    "    print(\"Blcok C\")"
   ]
  },
  {
   "cell_type": "markdown",
   "metadata": {},
   "source": [
    "\n",
    "### 논리 연산자\n",
    "\n",
    "- 조건에 비교연산자가 여러번 사용될 때 사용하는 것\n",
    "ex )a <10 이고 b>5 일때 , 과목=고파썬 이거나 학생=이가영일 때\n",
    "\n",
    "- and, or ,not\n",
    "    \n",
    "    1. and(교집합. 곱)\n",
    "    \n",
    "    - A and B: A도 참, B도 참일 때 True.둘 중 하나라도 거짓이면 False. \n",
    "    * &로도 사용 가능\n",
    "        예: A&B\n",
    "        \n",
    "    2. or(합집합. 합)\n",
    "    \n",
    "    - A or B: 둘 중 하나만 참이면 True\n",
    "        예: A | B\n",
    "        \n",
    "    3. not (부정)\n",
    "    \n",
    "    - not A: 반대. A가 False->True, True->False\n",
    "\n",
    "\n",
    "* 비교연산자의 괄호는 가독성을 위한 것으로 선택적임(optional)\n",
    "* 파이썬에서만 가능한 표현: 0 < x < 10"
   ]
  },
  {
   "cell_type": "code",
   "execution_count": 10,
   "metadata": {},
   "outputs": [
    {
     "name": "stdout",
     "output_type": "stream",
     "text": [
      "Block B\n"
     ]
    }
   ],
   "source": [
    "# 합집합 예시\n",
    "\n",
    "if (x>0) and (x<10):\n",
    "    print(\"Block A\")\n",
    "    \n",
    "else:\n",
    "    print(\"Block B\")"
   ]
  },
  {
   "cell_type": "code",
   "execution_count": 11,
   "metadata": {},
   "outputs": [
    {
     "name": "stdout",
     "output_type": "stream",
     "text": [
      "Block b\n"
     ]
    }
   ],
   "source": [
    "#방법2. 파이썬에서만 가능한 문법\n",
    "\n",
    "if 0<x<10:\n",
    "    print(\"Block A\")\n",
    "    \n",
    "else:\n",
    "    print(\"Block b\")"
   ]
  },
  {
   "cell_type": "markdown",
   "metadata": {},
   "source": [
    "\n",
    "\n",
    "### True, False (참 거짓)\n",
    "\n",
    "- A가 참이라면~~ 이라는 조건에 많이 쓰임. \n",
    "\n",
    "- False 인경우\n",
    "1. 공백\n",
    "2. 리스트 등에 아무것도 없는 경우\n",
    "3. 0\n",
    "\n",
    "* \"\" 등의 공백은 문자열로 인식"
   ]
  },
  {
   "cell_type": "code",
   "execution_count": 12,
   "metadata": {},
   "outputs": [
    {
     "name": "stdout",
     "output_type": "stream",
     "text": [
      "시험에서 틀림\n"
     ]
    }
   ],
   "source": [
    "#쓰면 안되는 문법. 시험에서 틀리게 할 거임.\n",
    "\n",
    "a = True\n",
    "\n",
    "\n",
    "if a == True:\n",
    "    print(\"시험에서 틀림\")\n"
   ]
  },
  {
   "cell_type": "code",
   "execution_count": 13,
   "metadata": {},
   "outputs": [
    {
     "name": "stdout",
     "output_type": "stream",
     "text": [
      "True는 군말이 없다\n"
     ]
    }
   ],
   "source": [
    "# a= true 를 걸기 좋은 방법\n",
    "\n",
    "a = True\n",
    "\n",
    "if a:\n",
    "    print(\"True는 군말이 없다\")"
   ]
  },
  {
   "cell_type": "markdown",
   "metadata": {},
   "source": [
    "\n",
    "\n",
    "### in 함수\n",
    "\n",
    "- membership operator\n",
    "- 어떤 요소가 그 안에 있는지 확인하고 싶다.\n",
    "- 리스트와 사용하여 그 안에 있는지 확인\n",
    "- 리스트로 확인해야 스펠링 하나하나 확인이 됨. 단순 등호로 단어의 알파벳 하나하나를 검사할 수는 없음. "
   ]
  },
  {
   "cell_type": "code",
   "execution_count": 14,
   "metadata": {},
   "outputs": [
    {
     "name": "stdout",
     "output_type": "stream",
     "text": [
      "No\n"
     ]
    }
   ],
   "source": [
    "#letter이 모음인지 확인하고 싶다\n",
    "\n",
    "letter = 'L'\n",
    "\n",
    "#반복문으로 하면\n",
    "#if letter == 'a' or letter == 'e' ...\n",
    "#in을 사용하면\n",
    "\n",
    "if letter in ['a', 'e', 'i', 'o', 'u']:\n",
    "#리스트 요소애  letter과 일치하는 것이 있는가\n",
    "    print(\"Yes\")\n",
    "    \n",
    "else:\n",
    "    print(\"No\")"
   ]
  },
  {
   "cell_type": "code",
   "execution_count": 36,
   "metadata": {},
   "outputs": [
    {
     "name": "stdout",
     "output_type": "stream",
     "text": [
      "No\n"
     ]
    }
   ],
   "source": [
    "\n",
    "#틀린 예시\n",
    "\n",
    "word = 'abcde'\n",
    "\n",
    "#단어가 a,e,i,o,u중에 있는가?\n",
    "if word in ['a', 'e', 'i', 'o', 'u']:\n",
    "    print(\"Yes\")\n",
    "else:\n",
    "    print(\"No\")"
   ]
  },
  {
   "cell_type": "code",
   "execution_count": 26,
   "metadata": {},
   "outputs": [
    {
     "ename": "TypeError",
     "evalue": "'in <string>' requires string as left operand, not list",
     "output_type": "error",
     "traceback": [
      "\u001b[1;31m---------------------------------------------------------------------------\u001b[0m",
      "\u001b[1;31mTypeError\u001b[0m                                 Traceback (most recent call last)",
      "\u001b[1;32m<ipython-input-26-3476d5361973>\u001b[0m in \u001b[0;36m<module>\u001b[1;34m\u001b[0m\n\u001b[0;32m      1\u001b[0m \u001b[1;31m#aeiou 중 word에 있는 것이 있는가?\u001b[0m\u001b[1;33m\u001b[0m\u001b[1;33m\u001b[0m\u001b[1;33m\u001b[0m\u001b[0m\n\u001b[0;32m      2\u001b[0m \u001b[1;33m\u001b[0m\u001b[0m\n\u001b[1;32m----> 3\u001b[1;33m \u001b[1;32mif\u001b[0m \u001b[1;33m[\u001b[0m\u001b[1;34m'a'\u001b[0m\u001b[1;33m,\u001b[0m \u001b[1;34m'e'\u001b[0m\u001b[1;33m,\u001b[0m \u001b[1;34m'i'\u001b[0m\u001b[1;33m,\u001b[0m \u001b[1;34m'o'\u001b[0m\u001b[1;33m,\u001b[0m \u001b[1;34m'u'\u001b[0m\u001b[1;33m]\u001b[0m \u001b[1;32min\u001b[0m \u001b[0mword\u001b[0m\u001b[1;33m:\u001b[0m\u001b[1;33m\u001b[0m\u001b[1;33m\u001b[0m\u001b[0m\n\u001b[0m\u001b[0;32m      4\u001b[0m     \u001b[0mprint\u001b[0m\u001b[1;33m(\u001b[0m\u001b[1;34m\"Yes\"\u001b[0m\u001b[1;33m)\u001b[0m\u001b[1;33m\u001b[0m\u001b[1;33m\u001b[0m\u001b[0m\n\u001b[0;32m      5\u001b[0m \u001b[1;33m\u001b[0m\u001b[0m\n",
      "\u001b[1;31mTypeError\u001b[0m: 'in <string>' requires string as left operand, not list"
     ]
    }
   ],
   "source": [
    "#aeiou 중 word에 있는 것이 있는가?\n",
    "\n",
    "if ['a', 'e', 'i', 'o', 'u'] in word:\n",
    "    print(\"Yes\")\n",
    "\n",
    "else:\n",
    "    print(\"No\")\n",
    "    \n",
    "#오류: 문자열은 리스트가 아니다"
   ]
  },
  {
   "cell_type": "markdown",
   "metadata": {},
   "source": [
    "Q. 왜 no가 뜰까?\n",
    "\n",
    "A. word를 a,b,c,d,e로 인식해서 하나하나 검사하는 것이 아니라 abcde가 a,e,i,o,u중에 있느냐? 를 묻는 것."
   ]
  },
  {
   "cell_type": "code",
   "execution_count": 22,
   "metadata": {},
   "outputs": [
    {
     "name": "stdout",
     "output_type": "stream",
     "text": [
      "Ex\n"
     ]
    }
   ],
   "source": [
    "word = 'Letter'\n",
    "\n",
    "if word in ['a', 'e', 'i', 'o', 'u']:\n",
    "    print(\"Yes\")\n",
    "\n",
    "elif word in [\"cat\", \"Letter\", \"soup\"]:\n",
    "    print(\"Ex\")\n",
    "else:\n",
    "    print(\"No\")"
   ]
  },
  {
   "cell_type": "code",
   "execution_count": 28,
   "metadata": {},
   "outputs": [
    {
     "name": "stdout",
     "output_type": "stream",
     "text": [
      "Yes\n"
     ]
    }
   ],
   "source": [
    "#옳게 검사하는 방법에는 무엇이 있을까?\n",
    "\n",
    "word = 'abcde'\n",
    "\n",
    "if \"a\" or \"e\" or \"i\" or \"o\" or \"u \" in word:\n",
    "    print(\"Yes\")\n",
    "else:\n",
    "    print(\"No\")"
   ]
  },
  {
   "cell_type": "markdown",
   "metadata": {},
   "source": [
    "\n",
    "\n",
    "### 바다코끼리 연산자(walrus operator)\n",
    "\n",
    "- 할당과 테스트를 동시에 하는 기능\n",
    "- :="
   ]
  },
  {
   "cell_type": "code",
   "execution_count": 31,
   "metadata": {},
   "outputs": [
    {
     "data": {
      "text/plain": [
       "'과제 중과제 중과제 중과제 중과제 중과제 중과제 중과제 중과제 중과제 중과제 중과제 중과제 중과제 중과제 중과제 중과제 중과제 중과제 중과제 중과제 중과제 중과제 중과제 중과제 중과제 중과제 중과제 중과제 중과제 중'"
      ]
     },
     "execution_count": 31,
     "metadata": {},
     "output_type": "execute_result"
    }
   ],
   "source": [
    "tweet_limit = 100\n",
    "tweet_string = \"과제 중\" * 30\n",
    "#*연산자: 공백없이 과제 중 4글자 30번 출력\n",
    "tweet_string"
   ]
  },
  {
   "cell_type": "markdown",
   "metadata": {},
   "source": [
    "\n",
    "#### len 함수\n",
    "\n",
    ": 길이를 재는 함수. len(변수명)"
   ]
  },
  {
   "cell_type": "code",
   "execution_count": 32,
   "metadata": {},
   "outputs": [
    {
     "data": {
      "text/plain": [
       "3"
      ]
     },
     "execution_count": 32,
     "metadata": {},
     "output_type": "execute_result"
    }
   ],
   "source": [
    "a = \"이가영\"\n",
    "len(a)"
   ]
  },
  {
   "cell_type": "code",
   "execution_count": 33,
   "metadata": {},
   "outputs": [
    {
     "name": "stdout",
     "output_type": "stream",
     "text": [
      "불가능\n"
     ]
    }
   ],
   "source": [
    "diff = tweet_limit - len(tweet_string)\n",
    "if diff > 0:\n",
    "    print(\"가능\")\n",
    "    \n",
    "else:\n",
    "    print(\"불가능\")"
   ]
  },
  {
   "cell_type": "code",
   "execution_count": 35,
   "metadata": {},
   "outputs": [
    {
     "ename": "SyntaxError",
     "evalue": "invalid syntax (<ipython-input-35-6ed984cb02f7>, line 3)",
     "output_type": "error",
     "traceback": [
      "\u001b[1;36m  File \u001b[1;32m\"<ipython-input-35-6ed984cb02f7>\"\u001b[1;36m, line \u001b[1;32m3\u001b[0m\n\u001b[1;33m    if diff := tweet_limit - len(tweet_stiring) > 0:\u001b[0m\n\u001b[1;37m             ^\u001b[0m\n\u001b[1;31mSyntaxError\u001b[0m\u001b[1;31m:\u001b[0m invalid syntax\n"
     ]
    }
   ],
   "source": [
    "#walrus\n",
    "#왜인지 오류 남. 패스\n",
    "if diff := tweet_limit - len(tweet_stiring) > 0:\n",
    "        print(\"가능\")"
   ]
  },
  {
   "cell_type": "markdown",
   "metadata": {},
   "source": [
    "\n",
    "\n",
    "\n",
    "### Quiz\n",
    "\n",
    "\n",
    "- 윤년을 구하는 코드를 짜보자\n",
    "    - 연도가 4로 나눠떨어지면 윤년\n",
    "        :4년,44년 윤년\n",
    "    - 100으로만 나눠떨어지면 안된다\n",
    "    - 400으로 나눠떨어지면 된다\n",
    "    \n",
    "- year을 입력받는다.\n",
    "- '{}년은 윤년입니다.'/  \"{}년은 윤년이 아닙니다.\"\n"
   ]
  },
  {
   "cell_type": "code",
   "execution_count": 37,
   "metadata": {},
   "outputs": [
    {
     "name": "stdin",
     "output_type": "stream",
     "text": [
      " 300\n"
     ]
    },
    {
     "name": "stdout",
     "output_type": "stream",
     "text": [
      "300년은 윤년이 아닙니다.\n"
     ]
    }
   ],
   "source": [
    "\n",
    "# 중첩이라 좋지 않은 내 답\n",
    "\n",
    "\n",
    "year = int(input())\n",
    "\n",
    "if year % 4 == 0:\n",
    "    if year % 400 == 0:\n",
    "        print(f'{year}년은 윤년 입니다.')\n",
    "    \n",
    "    elif year % 400 != 0 and year % 100 == 0:\n",
    "         print(f'{year}년은 윤년이 아닙니다.')\n",
    "    else:\n",
    "         print(f'{year}년은 윤년 입니다.')\n",
    "            \n",
    "else:\n",
    "    print(f'{year}년은 윤년이 아닙니다.')"
   ]
  },
  {
   "cell_type": "code",
   "execution_count": 38,
   "metadata": {},
   "outputs": [
    {
     "name": "stdin",
     "output_type": "stream",
     "text": [
      " 850\n"
     ]
    },
    {
     "name": "stdout",
     "output_type": "stream",
     "text": [
      "850년은 윤년이 아닙니다.\n"
     ]
    }
   ],
   "source": [
    "#100년 조건 걸어주기\n",
    "#한줄로 걸어주기\n",
    "\n",
    "year = int(input())\n",
    "\n",
    "#논리 연산자는 입력 순서대로 조건을 고려함\n",
    "if year % 4 == 0 and year % 100 != 0 or year % 400 == 0:\n",
    "    print(f'{year}년은 윤년입니다.')\n",
    "    \n",
    "else:\n",
    "     print(f'{year}년은 윤년이 아닙니다.')"
   ]
  },
  {
   "cell_type": "markdown",
   "metadata": {},
   "source": [
    "\n",
    "\n",
    "\n",
    "## Volume 3.2\n",
    "\n",
    "\n",
    "### String | 문자열\n",
    "\n",
    "- str type\n",
    "- 시스템에서 가장 작은 단위 : a가 시스템에서 차지하는 단위가 작다.\n",
    "\n",
    "- 불변적인 성격을 가짐(immutable)\n",
    "    - 'abcd'->b를 a로 바꿀 수 없다는 뜻\n",
    "    \n",
    "- 문법: '',\"\"감싸면 모두 문자열\n",
    "    -예: '24'\n",
    "\n",
    "- ''' or \"\"\"\" => 주석\n",
    "- 형 변환은 str()\n",
    "\n",
    "### Escape character | 이스케이프 문자 (특이한 스트링)\n",
    "\n",
    "- 눈에 보이는 대로 인식되지 않는 문자열\n",
    "- 문법: \\ + <character>\n",
    "    \n",
    "- \\n, \\t, \\b, \\'\n",
    "    1. \\n : 엔터\n",
    "    2. \\t : 탭. 4개의 공백\n",
    "    3. \\b : 백스페이스\n",
    "    4. \\' : 따옴표 표시하기\n",
    "    \n",
    "   \n",
    "- print함수를 쓰지 않으면 형태가 출력된다\n",
    "- '\\n'은 어떻게 출력?\n",
    "    - \\\\n\n",
    "    - r''(raw string)\n",
    "    \n",
    "- 문자열을 바꾸는 것이 아니라 표면상의 형태를 말하는 것 \n",
    "\n"
   ]
  },
  {
   "cell_type": "code",
   "execution_count": 40,
   "metadata": {},
   "outputs": [
    {
     "name": "stdout",
     "output_type": "stream",
     "text": [
      "hello \t world i'm a boy\n"
     ]
    },
    {
     "data": {
      "text/plain": [
       "\"hello \\t world i'm a boy\""
      ]
     },
     "execution_count": 40,
     "metadata": {},
     "output_type": "execute_result"
    }
   ],
   "source": [
    "#2,4번 사용 예시\n",
    "sent ='hello \\t world i\\'m a boy'\n",
    "\n",
    "#정상 출력\n",
    "print(sent)\n",
    "\n",
    "#이스케이프 문자 보기\n",
    "sent"
   ]
  },
  {
   "cell_type": "code",
   "execution_count": 41,
   "metadata": {},
   "outputs": [
    {
     "name": "stdout",
     "output_type": "stream",
     "text": [
      "helloworld\n"
     ]
    }
   ],
   "source": [
    "#백스페이스. 잘쓰이지 않음\n",
    "print(\"hello \\bworld\")"
   ]
  },
  {
   "cell_type": "markdown",
   "metadata": {},
   "source": [
    "\n",
    "\n",
    "### 문자열 연산\n",
    "\n",
    "- concatenation (+)\n",
    "    - ''+''=>붙이기, 공백없이 붙는다.\n",
    "    \n",
    "- 복제(*)\n",
    "    - \"*4 => 4번 반복. 공백 없음.\n",
    "    "
   ]
  },
  {
   "cell_type": "code",
   "execution_count": 42,
   "metadata": {},
   "outputs": [
    {
     "data": {
      "text/plain": [
       "'Python김아리 교수님'"
      ]
     },
     "execution_count": 42,
     "metadata": {},
     "output_type": "execute_result"
    }
   ],
   "source": [
    "\n",
    "F_class = 'Python'\n",
    "F_pf = '김아리 교수님'\n",
    "F_class + F_pf"
   ]
  },
  {
   "cell_type": "code",
   "execution_count": 43,
   "metadata": {},
   "outputs": [
    {
     "data": {
      "text/plain": [
       "'AAA'"
      ]
     },
     "execution_count": 43,
     "metadata": {},
     "output_type": "execute_result"
    }
   ],
   "source": [
    "word = 'A'\n",
    "word * 3"
   ]
  },
  {
   "cell_type": "markdown",
   "metadata": {},
   "source": [
    "\n",
    "\n",
    "### 슬라이싱(slicing)\n",
    "\n",
    "- 지정 범위의 문자열을 추출하는 것\n",
    "- 문법: 대괄호 + 오프셋 이용 [offset]\n",
    "    -[start:end:step]\n",
    "    1.start: 시작번호. 0번 부터 시작\n",
    "    2. end: 끝나는 번호. 미만으로 작동된다.(9면 8번까지)\n",
    "    3. step: 몇 계단씩. 입력을 안하면 1로 자동입력\n",
    "\n",
    "- 기본값은 0부터 시작\n",
    "\n",
    "- start 포함, end 불포함 (크거나 같고, 작다)\n",
    "\n",
    "- 0 일 경우 생략한다.\n",
    "    - 예: ~4까지 출력하라 =>[:5] \n",
    "    - 처음부터 끝까지 2스텝씩 => [::2]\n",
    "    - 처음부터 끝까지 역순 =>[::-1]\n",
    "- 오프셋은 거꾸로도 가능하다.음수로 가능. 단, 스타트가 0으로 시작하지 않는다.\n",
    "0 1 2 ..\n",
    "h e l l o\n",
    "-5       -1"
   ]
  },
  {
   "cell_type": "code",
   "execution_count": 44,
   "metadata": {},
   "outputs": [
    {
     "data": {
      "text/plain": [
       "'i'"
      ]
     },
     "execution_count": 44,
     "metadata": {},
     "output_type": "execute_result"
    }
   ],
   "source": [
    "\n",
    "sent = \"First Sentence\"\n",
    "\n",
    "sent[1]\n"
   ]
  },
  {
   "cell_type": "code",
   "execution_count": 45,
   "metadata": {},
   "outputs": [
    {
     "data": {
      "text/plain": [
       "'2'"
      ]
     },
     "execution_count": 45,
     "metadata": {},
     "output_type": "execute_result"
    }
   ],
   "source": [
    "numbers = \"012345\"\n",
    "\n",
    "numbers[2]"
   ]
  },
  {
   "cell_type": "code",
   "execution_count": 47,
   "metadata": {},
   "outputs": [
    {
     "data": {
      "text/plain": [
       "'123'"
      ]
     },
     "execution_count": 47,
     "metadata": {},
     "output_type": "execute_result"
    }
   ],
   "source": [
    "numbers[1:4]\n",
    "#1부터 3번까지"
   ]
  },
  {
   "cell_type": "code",
   "execution_count": 48,
   "metadata": {},
   "outputs": [
    {
     "data": {
      "text/plain": [
       "'Firs'"
      ]
     },
     "execution_count": 48,
     "metadata": {},
     "output_type": "execute_result"
    }
   ],
   "source": [
    "#~까지의 동일 의미. \n",
    "\n",
    "sent[0:4]\n",
    "sent[:4]\n",
    "#위에 두개는 같음\n",
    "#sent[:4]가 맞음"
   ]
  },
  {
   "cell_type": "code",
   "execution_count": 49,
   "metadata": {},
   "outputs": [
    {
     "data": {
      "text/plain": [
       "'024'"
      ]
     },
     "execution_count": 49,
     "metadata": {},
     "output_type": "execute_result"
    }
   ],
   "source": [
    "# 처음부터 끝까지 2스텝씩 출력하기\n",
    "\n",
    "numbers[::2]"
   ]
  },
  {
   "cell_type": "code",
   "execution_count": 50,
   "metadata": {},
   "outputs": [
    {
     "data": {
      "text/plain": [
       "'543210'"
      ]
     },
     "execution_count": 50,
     "metadata": {},
     "output_type": "execute_result"
    }
   ],
   "source": [
    "# 역순으로 출력하기\n",
    "\n",
    "numbers[::-1]"
   ]
  },
  {
   "cell_type": "markdown",
   "metadata": {},
   "source": [
    "\n",
    "\n",
    "#### 가변형, 불변형의 의미\n",
    "\n",
    "- str은 불변형(immutable)\n",
    "    ->중간의 문자를 슬라이싱 하여 바꿀 수 없다.\n",
    "    \n",
    "- 가변형인 경우: 리스트"
   ]
  },
  {
   "cell_type": "code",
   "execution_count": 51,
   "metadata": {},
   "outputs": [
    {
     "ename": "TypeError",
     "evalue": "'str' object does not support item assignment",
     "output_type": "error",
     "traceback": [
      "\u001b[1;31m---------------------------------------------------------------------------\u001b[0m",
      "\u001b[1;31mTypeError\u001b[0m                                 Traceback (most recent call last)",
      "\u001b[1;32m<ipython-input-51-062bf188d24e>\u001b[0m in \u001b[0;36m<module>\u001b[1;34m\u001b[0m\n\u001b[0;32m      1\u001b[0m \u001b[0mhello\u001b[0m \u001b[1;33m=\u001b[0m \u001b[1;34m\"Hello\"\u001b[0m\u001b[1;33m\u001b[0m\u001b[1;33m\u001b[0m\u001b[0m\n\u001b[1;32m----> 2\u001b[1;33m \u001b[0mhello\u001b[0m\u001b[1;33m[\u001b[0m\u001b[1;36m2\u001b[0m\u001b[1;33m]\u001b[0m \u001b[1;33m=\u001b[0m \u001b[1;34m'L'\u001b[0m\u001b[1;33m\u001b[0m\u001b[1;33m\u001b[0m\u001b[0m\n\u001b[0m\u001b[0;32m      3\u001b[0m \u001b[0mhello\u001b[0m\u001b[1;33m\u001b[0m\u001b[1;33m\u001b[0m\u001b[0m\n\u001b[0;32m      4\u001b[0m \u001b[1;31m#불변타입이라 바꿀 수 없다\u001b[0m\u001b[1;33m\u001b[0m\u001b[1;33m\u001b[0m\u001b[1;33m\u001b[0m\u001b[0m\n",
      "\u001b[1;31mTypeError\u001b[0m: 'str' object does not support item assignment"
     ]
    }
   ],
   "source": [
    "hello = \"Hello\"\n",
    "hello[2] = 'L'\n",
    "hello\n",
    "#불변타입이라 바꿀 수 없다"
   ]
  },
  {
   "cell_type": "code",
   "execution_count": 52,
   "metadata": {},
   "outputs": [
    {
     "data": {
      "text/plain": [
       "[0, 2, '고급파이썬']"
      ]
     },
     "execution_count": 52,
     "metadata": {},
     "output_type": "execute_result"
    }
   ],
   "source": [
    "vals = [0 , 2, \"이가영\"]\n",
    "\n",
    "vals[2] = \"고급파이썬\"\n",
    "\n",
    "vals"
   ]
  },
  {
   "cell_type": "markdown",
   "metadata": {},
   "source": [
    "\n",
    "\n",
    "\n",
    "## Volume 3\n",
    "\n",
    "\n",
    "\n",
    "### NLTK\n",
    "\n",
    "\n",
    "- natural language toolkit\n",
    "- 교육용으로 개발된 자연어 처리 패키지\n",
    "- 코퍼스 제공하는데 어떤 처리가 되어있다.\n",
    "    - 토크나이즈, 파싱, 태깅 등등(이걸 하진 않음. 문자열 부분 기초만!)"
   ]
  },
  {
   "cell_type": "code",
   "execution_count": 54,
   "metadata": {},
   "outputs": [
    {
     "name": "stdout",
     "output_type": "stream",
     "text": [
      "Requirement already satisfied: nltk in c:\\users\\bestl\\anaconda3\\lib\\site-packages (3.4.5)\n",
      "Requirement already satisfied: six in c:\\users\\bestl\\anaconda3\\lib\\site-packages (from nltk) (1.14.0)\n"
     ]
    }
   ],
   "source": [
    "\n",
    "# 다운로드 문법\n",
    "\n",
    "!pip install nltk\n",
    "#이미 받아짐"
   ]
  },
  {
   "cell_type": "code",
   "execution_count": 57,
   "metadata": {},
   "outputs": [
    {
     "data": {
      "text/plain": [
       "True"
      ]
     },
     "execution_count": 57,
     "metadata": {},
     "output_type": "execute_result"
    }
   ],
   "source": [
    "#nltk 호출\n",
    "\n",
    "import nltk\n",
    "\n",
    "nltk.download('book', quiet = True)\n",
    "#접근은 dot(점)으로\n",
    "#quiet = True 하면 조용히 받아짐\n",
    "#True가 뜨면 다운로드가 완료 되어있는 것!"
   ]
  },
  {
   "cell_type": "code",
   "execution_count": 56,
   "metadata": {},
   "outputs": [
    {
     "name": "stdout",
     "output_type": "stream",
     "text": [
      "*** Introductory Examples for the NLTK Book ***\n",
      "Loading text1, ..., text9 and sent1, ..., sent9\n",
      "Type the name of the text or sentence to view it.\n",
      "Type: 'texts()' or 'sents()' to list the materials.\n",
      "text1: Moby Dick by Herman Melville 1851\n",
      "text2: Sense and Sensibility by Jane Austen 1811\n",
      "text3: The Book of Genesis\n",
      "text4: Inaugural Address Corpus\n",
      "text5: Chat Corpus\n",
      "text6: Monty Python and the Holy Grail\n",
      "text7: Wall Street Journal\n",
      "text8: Personals Corpus\n",
      "text9: The Man Who Was Thursday by G . K . Chesterton 1908\n"
     ]
    }
   ],
   "source": [
    "from nltk import book"
   ]
  },
  {
   "cell_type": "code",
   "execution_count": 88,
   "metadata": {},
   "outputs": [],
   "source": [
    "\n",
    "#text1불러오기\n",
    "\n",
    "moby = book. text1\n"
   ]
  },
  {
   "cell_type": "markdown",
   "metadata": {},
   "source": [
    "#### tokens: 단어들을 볼 수 있음. text1에 있는 단어들. \n",
    "- tokens: 프로그래밍에서 정의하는 단어의 단위\n",
    "- 단어로는 I'm하나 지만 토큰으로는 i am, i'm, i/'m 등 여러 단위가 있음\n",
    "- 자연어 처리는 이런 여러개 중 어떤 처리가 더 가능할까 고민"
   ]
  },
  {
   "cell_type": "code",
   "execution_count": 59,
   "metadata": {},
   "outputs": [
    {
     "data": {
      "text/plain": [
       "260819"
      ]
     },
     "execution_count": 59,
     "metadata": {},
     "output_type": "execute_result"
    }
   ],
   "source": [
    "# text1의 단어의 개수\n",
    "len(moby.tokens)"
   ]
  },
  {
   "cell_type": "code",
   "execution_count": 67,
   "metadata": {},
   "outputs": [
    {
     "data": {
      "text/plain": [
       "['[',\n",
       " 'Moby',\n",
       " 'Dick',\n",
       " 'by',\n",
       " 'Herman',\n",
       " 'Melville',\n",
       " '1851',\n",
       " ']',\n",
       " 'ETYMOLOGY',\n",
       " '.']"
      ]
     },
     "execution_count": 67,
     "metadata": {},
     "output_type": "execute_result"
    }
   ],
   "source": [
    "#개수 제한 걸어서 출력하기는 [:인덱스번호]으로 가능\n",
    "#끝 번호는 포함되지 않는다. 10이면 9번까지 출력\n",
    "\n",
    "#모든 토큰들을 보는 법(260819개라 생략)\n",
    "#moby.tokens\n",
    "\n",
    "moby.tokens[:10]"
   ]
  },
  {
   "cell_type": "code",
   "execution_count": 71,
   "metadata": {},
   "outputs": [
    {
     "data": {
      "text/plain": [
       "{'.',\n",
       " '1851',\n",
       " 'Dick',\n",
       " 'ETYMOLOGY',\n",
       " 'Herman',\n",
       " 'Melville',\n",
       " 'Moby',\n",
       " '[',\n",
       " ']',\n",
       " 'by'}"
      ]
     },
     "execution_count": 71,
     "metadata": {},
     "output_type": "execute_result"
    }
   ],
   "source": [
    "#중복 단어 걸러내기:set(moby.tokens)\n",
    "\n",
    "set(moby.tokens[:10])"
   ]
  },
  {
   "cell_type": "markdown",
   "metadata": {},
   "source": [
    "\n",
    "\n",
    "\n",
    "### 집합(set)과 리스트(list에 관하여\n",
    "\n",
    "- set\n",
    "    - {a, b ,c ...}\n",
    "    - 중복 불가능\n",
    "    - 수학의 집합과 동일한 개념\n",
    "    - 순서 없음 = 슬라이싱 불가\n",
    "\n",
    "\n",
    "- list\n",
    "    -[a, b, c ..]\n",
    "    - 중복 가능\n",
    "    - 순서 있음 = 슬라이싱 가능"
   ]
  },
  {
   "cell_type": "code",
   "execution_count": 69,
   "metadata": {},
   "outputs": [
    {
     "data": {
      "text/plain": [
       "['kia', 'benz', 'porsche', 'kia']"
      ]
     },
     "execution_count": 69,
     "metadata": {},
     "output_type": "execute_result"
    }
   ],
   "source": [
    "#리스트\n",
    "\n",
    "cars = ['kia', 'benz', 'porsche', 'kia']\n",
    "\n",
    "#중복 가능\n",
    "cars"
   ]
  },
  {
   "cell_type": "code",
   "execution_count": 70,
   "metadata": {},
   "outputs": [
    {
     "data": {
      "text/plain": [
       "{'benz', 'kia', 'porsche'}"
      ]
     },
     "execution_count": 70,
     "metadata": {},
     "output_type": "execute_result"
    }
   ],
   "source": [
    "#집합 시 중복 제거\n",
    "set(cars)"
   ]
  },
  {
   "cell_type": "markdown",
   "metadata": {},
   "source": [
    "이렇게 중복이 사라지는 집합의 특징을 사용하여 중복을 없애는 기능을 사용함."
   ]
  },
  {
   "cell_type": "code",
   "execution_count": 72,
   "metadata": {},
   "outputs": [
    {
     "data": {
      "text/plain": [
       "{'.',\n",
       " '1851',\n",
       " 'Dick',\n",
       " 'ETYMOLOGY',\n",
       " 'Herman',\n",
       " 'Melville',\n",
       " 'Moby',\n",
       " '[',\n",
       " ']',\n",
       " 'by'}"
      ]
     },
     "execution_count": 72,
     "metadata": {},
     "output_type": "execute_result"
    }
   ],
   "source": [
    "#중복 단어 걸러내기:set(moby.tokens)\n",
    "\n",
    "set(moby.tokens[:10])"
   ]
  },
  {
   "cell_type": "code",
   "execution_count": 73,
   "metadata": {},
   "outputs": [
    {
     "data": {
      "text/plain": [
       "19317"
      ]
     },
     "execution_count": 73,
     "metadata": {},
     "output_type": "execute_result"
    }
   ],
   "source": [
    "#중복 없는 단어 수 \n",
    "len(set(moby.tokens))"
   ]
  },
  {
   "cell_type": "code",
   "execution_count": 74,
   "metadata": {},
   "outputs": [
    {
     "data": {
      "text/plain": [
       "0.07406285585022564"
      ]
     },
     "execution_count": 74,
     "metadata": {},
     "output_type": "execute_result"
    }
   ],
   "source": [
    "#lexical diversity\n",
    "#문자적 다양성. 중복 제외 개수 / 전체 개수\n",
    "# 1에 가까울 수록 중복되는 사용되는 단어가 다양함.\n",
    "\n",
    "\n",
    "len(set(moby.tokens)) / len(moby.tokens)"
   ]
  },
  {
   "cell_type": "code",
   "execution_count": 75,
   "metadata": {},
   "outputs": [
    {
     "data": {
      "text/plain": [
       "['benz', 'kia', 'kia', 'porsche']"
      ]
     },
     "execution_count": 75,
     "metadata": {},
     "output_type": "execute_result"
    }
   ],
   "source": [
    "#오름차순 정렬. 알파벳 순\n",
    "sorted(cars)"
   ]
  },
  {
   "cell_type": "code",
   "execution_count": 77,
   "metadata": {},
   "outputs": [
    {
     "data": {
      "text/plain": [
       "['porsche', 'kia', 'kia', 'benz']"
      ]
     },
     "execution_count": 77,
     "metadata": {},
     "output_type": "execute_result"
    }
   ],
   "source": [
    "#내림 차순 reverse = True\n",
    "sorted(cars, reverse = True)"
   ]
  },
  {
   "cell_type": "code",
   "execution_count": 86,
   "metadata": {},
   "outputs": [
    {
     "data": {
      "text/plain": [
       "['!', '!\"', '!\"--', \"!'\", '!\\'\"', '!)', '!)\"', '!*', '!--', '!--\"']"
      ]
     },
     "execution_count": 86,
     "metadata": {},
     "output_type": "execute_result"
    }
   ],
   "source": [
    "#모비딕 정렬하기. 알파벳 순이며 특수문자-숫자-알파벳 순\n",
    "\n",
    "sorted(set(moby.tokens))[:10]"
   ]
  },
  {
   "cell_type": "code",
   "execution_count": 81,
   "metadata": {},
   "outputs": [
    {
     "data": {
      "text/plain": [
       "['zoology',\n",
       " 'zones',\n",
       " 'zoned',\n",
       " 'zone',\n",
       " 'zodiac',\n",
       " 'zig',\n",
       " 'zephyr',\n",
       " 'zeal',\n",
       " 'zay',\n",
       " 'zag']"
      ]
     },
     "execution_count": 81,
     "metadata": {},
     "output_type": "execute_result"
    }
   ],
   "source": [
    "sorted(set(moby.tokens),reverse = True)[:10]"
   ]
  },
  {
   "cell_type": "code",
   "execution_count": 87,
   "metadata": {},
   "outputs": [
    {
     "data": {
      "text/plain": [
       "['heartlessness',\n",
       " 'hearts',\n",
       " 'heartwoes',\n",
       " 'hearty',\n",
       " 'heat',\n",
       " 'heated',\n",
       " 'heath',\n",
       " 'heathen',\n",
       " 'heathenish',\n",
       " 'heathens']"
      ]
     },
     "execution_count": 87,
     "metadata": {},
     "output_type": "execute_result"
    }
   ],
   "source": [
    "sorted(set(moby.tokens))[10000:10010]"
   ]
  },
  {
   "cell_type": "markdown",
   "metadata": {},
   "source": [
    "\n",
    "\n",
    "## H.W\n",
    "\n",
    "### Quiz 1.\n",
    "1. text 9 에서 lexical diversity 계산하기\n",
    "2. text 6 에서 중복없는 셋 내림차순 정렬하기\n",
    "    - a. 앞에서 단어 10개 추출하기\n",
    "    - b. 조건문 연습: 'z'가 있으면 대문자로 바꾸기, 'z'가 없는데 4개 이상이면 끝 글자 대문자로 바꾸기\n"
   ]
  },
  {
   "cell_type": "code",
   "execution_count": 100,
   "metadata": {},
   "outputs": [
    {
     "data": {
      "text/plain": [
       "['[', 'The', 'Man', 'Who', 'Was', 'Thursday', 'by', 'G', '.', 'K']"
      ]
     },
     "execution_count": 100,
     "metadata": {},
     "output_type": "execute_result"
    }
   ],
   "source": [
    "#1\n",
    "moby = book. text9\n",
    "moby.tokens[:10]"
   ]
  },
  {
   "cell_type": "code",
   "execution_count": 106,
   "metadata": {},
   "outputs": [
    {
     "data": {
      "text/plain": [
       "0.0983485761345412"
      ]
     },
     "execution_count": 106,
     "metadata": {},
     "output_type": "execute_result"
    }
   ],
   "source": [
    "#1번 답\n",
    "len(set(moby.tokens))/len(moby.tokens)"
   ]
  },
  {
   "cell_type": "code",
   "execution_count": 114,
   "metadata": {},
   "outputs": [
    {
     "data": {
      "text/plain": [
       "['zoosh',\n",
       " 'zoop',\n",
       " 'zoo',\n",
       " 'zone',\n",
       " 'zhiv',\n",
       " 'yourself',\n",
       " 'yours',\n",
       " 'your',\n",
       " 'young',\n",
       " 'you']"
      ]
     },
     "execution_count": 114,
     "metadata": {},
     "output_type": "execute_result"
    }
   ],
   "source": [
    "#2번\n",
    "moby = book . text6\n",
    "\n",
    "sorted(set(moby.tokens),reverse = True)[:10]"
   ]
  },
  {
   "cell_type": "code",
   "execution_count": 115,
   "metadata": {},
   "outputs": [
    {
     "data": {
      "text/plain": [
       "['!', '!', '!', '!', '!', '!', '!', '!', '!', '!']"
      ]
     },
     "execution_count": 115,
     "metadata": {},
     "output_type": "execute_result"
    }
   ],
   "source": [
    "#2-a\n",
    "\n",
    "#중복을 제거하지 않을 경우\n",
    "sorted(moby.tokens)[:10]\n"
   ]
  },
  {
   "cell_type": "code",
   "execution_count": 116,
   "metadata": {},
   "outputs": [
    {
     "data": {
      "text/plain": [
       "['!', '!)', '!,', '!]', '#', \"'\", \"'!\", \"',\", \"'.\", \"'...\"]"
      ]
     },
     "execution_count": 116,
     "metadata": {},
     "output_type": "execute_result"
    }
   ],
   "source": [
    "#중복 제거시\n",
    "sorted(set(moby.tokens))[:10]"
   ]
  },
  {
   "cell_type": "code",
   "execution_count": null,
   "metadata": {},
   "outputs": [],
   "source": [
    "#2-b\n",
    "\n",
    "#이미 모비 토큰들은 리스트로 받아옴\n",
    "\n",
    "\n",
    "moby = book.text6\n",
    "sent = sorted(set(moby.tokens), reverse = True)\n",
    "\n",
    "#배열로 sent를 정해주고 단어들을 받기\n",
    "arr = sent\n",
    "\n",
    "\n",
    "#len(set(moby.tokens))=2166개\n",
    "#replace 함수(바꿀 인자, 바뀐 인자)\n",
    "\n",
    "#배열 안 토큰들 스펠링 검사\n",
    "#길이 만큼 뒤지기\n",
    "for i in range (0,len(set(moby.tokens))):\n",
    "        tk = arr[i]\n",
    "        \n",
    "        if 'z' in tk:\n",
    "            arr[i] = tk.replace('z', 'Z')\n",
    "            \n",
    "        elif len(tk) >= 4:\n",
    "            arr[i] = tk.replace(word[-1], word[-1].upper())\n",
    "\n",
    "print(arr[:10])\n",
    "#작동 확인. 10개만 테스트확인"
   ]
  },
  {
   "cell_type": "markdown",
   "metadata": {},
   "source": [
    "### Quiz 2.\n",
    "\n",
    "- 주민등록번호, 휴대폰 번호, 이메일 입력 받기.\n",
    "    - 주민번호, 휴대폰은 숫자만 입력(-은 없음!)\n",
    "    - 이메일은 아이디만 입력(@뒷부분 받지 않음)\n",
    "    \n",
    "- 출력:\n",
    "    - \"당신은 {}년 {}월 {}일 출생의 {남/여}입니다.\"\n",
    "    * 성별은 주민번호에서 추출\n",
    "    - 휴대폰 번호: {} 하이픈 없는 걸 하이픈으로 연결하기\n",
    "    - 이메일 주소: {아이디}@gmail.com"
   ]
  },
  {
   "cell_type": "code",
   "execution_count": null,
   "metadata": {},
   "outputs": [],
   "source": [
    "#주민등록번호는 문자형으로 받아옴\n",
    "P_num = input(\"주민등록번호를 - 없이 입력해주세요:\")\n",
    "\n",
    "\n",
    "Year = P_num[:2]\n",
    "Month = P_num[2:4]\n",
    "Day = P_num[4:6]\n",
    "Sex = P_num[6]\n",
    "\n",
    "if Sex == '1' or Sex =='3':\n",
    "    Sex =\"남자\"\n",
    "\n",
    "elif Sex == '2' or Sex == '4':\n",
    "    Sex = \"여성\"\n",
    "else:\n",
    "    Sex = \"성별 정보 없음\"\n",
    "\n",
    "\n",
    "P_tel = input(\"전화번호를 - 없이 입력해주세요: \")\n",
    "P_mail = input(\"이메일 아이디를 입력해주세요: \")\n",
    "\n",
    "print(f'당신은 20{Year}년 {Month}월 {Day}출생의 {Sex}입니다.' )\n",
    "print(f'전화 번호는 {P_tel[0:3]}-{P_tel[3:7]}-{P_tel[7:11]}입니다.')\n",
    "print(f'이메일 주소는 {P_mail}@gmail.com입니다')\n",
    "\n",
    "#값은 정상적으로 나오는데 리스트 값을 어떻게 풀어야 할지 모르겠음.\n",
    "#리스트로 받아오면 안됨. 그냥 받아오기"
   ]
  }
 ],
 "metadata": {
  "kernelspec": {
   "display_name": "Python 3",
   "language": "python",
   "name": "python3"
  },
  "language_info": {
   "codemirror_mode": {
    "name": "ipython",
    "version": 3
   },
   "file_extension": ".py",
   "mimetype": "text/x-python",
   "name": "python",
   "nbconvert_exporter": "python",
   "pygments_lexer": "ipython3",
   "version": "3.7.6"
  }
 },
 "nbformat": 4,
 "nbformat_minor": 4
}
