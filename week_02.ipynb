{
 "cells": [
  {
   "cell_type": "markdown",
   "metadata": {},
   "source": [
    "# Week_02 복습 \n",
    "\n",
    "## CH.2 Variables\n",
    "\n",
    "### 자료형 변환하기\n",
    "\n",
    "- 자료형에는 int, str, float, bool이 있음.\n",
    "\n",
    "- 사실 위의 자료형은 불가가변(immuatble)한 자료형들\n",
    "\n",
    "- 외에 가변적인(mutable) 리스트, 딕셔너리 등도 있다고 한다. \n",
    "\n",
    "**실습 따라할 때 반드시 띄어쓰기까지 따라하기. 개발자간의 약속이자 기본이다."
   ]
  },
  {
   "cell_type": "code",
   "execution_count": 1,
   "metadata": {},
   "outputs": [
    {
     "data": {
      "text/plain": [
       "int"
      ]
     },
     "execution_count": 1,
     "metadata": {},
     "output_type": "execute_result"
    }
   ],
   "source": [
    "a = 10\n",
    "type (2)"
   ]
  },
  {
   "cell_type": "code",
   "execution_count": 2,
   "metadata": {},
   "outputs": [
    {
     "data": {
      "text/plain": [
       "10.0"
      ]
     },
     "execution_count": 2,
     "metadata": {},
     "output_type": "execute_result"
    }
   ],
   "source": [
    "#int->float\n",
    "#바꾸고 싶은 변수 타입을 작성하여 변수를 괄호로 감싼다\n",
    "\n",
    "float(a)"
   ]
  },
  {
   "cell_type": "code",
   "execution_count": 3,
   "metadata": {},
   "outputs": [
    {
     "data": {
      "text/plain": [
       "'10'"
      ]
     },
     "execution_count": 3,
     "metadata": {},
     "output_type": "execute_result"
    }
   ],
   "source": [
    "#int->str\n",
    "#따옴표로 감싼다\n",
    "\n",
    "str(a)"
   ]
  },
  {
   "cell_type": "code",
   "execution_count": 7,
   "metadata": {},
   "outputs": [
    {
     "name": "stdin",
     "output_type": "stream",
     "text": [
      " 312\n"
     ]
    },
    {
     "data": {
      "text/plain": [
       "int"
      ]
     },
     "execution_count": 7,
     "metadata": {},
     "output_type": "execute_result"
    }
   ],
   "source": [
    "#input은 숫자도 str로 받기 때문에 주로 숫자 취급 시 int문법을 자주 사용한다\n",
    "\n",
    "num= int(input())\n",
    "type(num)"
   ]
  },
  {
   "cell_type": "code",
   "execution_count": 8,
   "metadata": {},
   "outputs": [
    {
     "data": {
      "text/plain": [
       "True"
      ]
     },
     "execution_count": 8,
     "metadata": {},
     "output_type": "execute_result"
    }
   ],
   "source": [
    "#int->bool\n",
    "bool(10)\n",
    "\n",
    "#어떤 경우가 false인가?\n",
    "#0인 경우, 값이 없거나 none인 경우."
   ]
  },
  {
   "cell_type": "code",
   "execution_count": 5,
   "metadata": {},
   "outputs": [
    {
     "data": {
      "text/plain": [
       "10"
      ]
     },
     "execution_count": 5,
     "metadata": {},
     "output_type": "execute_result"
    }
   ],
   "source": [
    "#float->int: 10.6\n",
    "int(10.9)\n",
    "\n",
    "#실수->정수 변환 시 소수를 버린다"
   ]
  },
  {
   "cell_type": "code",
   "execution_count": 6,
   "metadata": {},
   "outputs": [
    {
     "name": "stdout",
     "output_type": "stream",
     "text": [
      "12\n",
      "11\n"
     ]
    }
   ],
   "source": [
    "#유의할 점\n",
    "\n",
    "x = 4.6\n",
    "y = 7.9\n",
    "\n",
    "print(int(x + y)) #12.xxxx\n",
    "print(int(x) + int(y)) #4+7. 각각이 정수로 내림 되어 값 왜곡"
   ]
  },
  {
   "cell_type": "code",
   "execution_count": 23,
   "metadata": {},
   "outputs": [
    {
     "name": "stdout",
     "output_type": "stream",
     "text": [
      "88.3\n",
      "88\n"
     ]
    },
    {
     "data": {
      "text/plain": [
       "float"
      ]
     },
     "execution_count": 23,
     "metadata": {},
     "output_type": "execute_result"
    }
   ],
   "source": [
    "#str ->flaot\n",
    "\n",
    "p='88.3'\n",
    "\n",
    "#p는 숫자지만 여기선 문자열이기 때문에 바로 int가 불가능\n",
    "#int(p)\n",
    "#에러: 88.3은 float으로 바꿔야하는데 int로 바꾸라 해서 오류남\n",
    "\n",
    "print(float(p))\n",
    "\n",
    "#즉 정수로 바꾸고 싶다면 float->int순임\n",
    "\n",
    "print(int(fp))\n",
    "type(fp)\n",
    "\n",
    "#막줄 빼고는 print없으면 출력 x"
   ]
  },
  {
   "cell_type": "markdown",
   "metadata": {},
   "source": [
    "## 꿀팁"
   ]
  },
  {
   "cell_type": "code",
   "execution_count": 29,
   "metadata": {},
   "outputs": [
    {
     "name": "stdout",
     "output_type": "stream",
     "text": [
      "\n"
     ]
    }
   ],
   "source": [
    "print()\n",
    "#자동 줄바꿈.\n",
    "#가독성을 확보하거나 두줄 출력 등 할 때 자주 사용"
   ]
  },
  {
   "cell_type": "code",
   "execution_count": 28,
   "metadata": {},
   "outputs": [
    {
     "name": "stdout",
     "output_type": "stream",
     "text": [
      "orange apple tomato\n",
      "orange fruit apple fruit tomato\n"
     ]
    }
   ],
   "source": [
    "print('orange', 'apple', 'tomato')\n",
    "#default: 쉼표= 띄어쓰기. sep으로 바꿀 수 있다.\n",
    "#default: sep = ''\n",
    "print('orange', 'apple', 'tomato', sep=' fruit ')"
   ]
  },
  {
   "cell_type": "markdown",
   "metadata": {},
   "source": [
    "### sep과 end의 역할\n",
    "\n",
    "- 출력문 끝에 붙어 각각 쉼표의 역할과 끝의 역할을 정해주는 문법임.\n",
    "\n",
    "- default = sep='', end='\\n'\n",
    "\n",
    "- 즉 쉼표는 공백, 출력이 끝나면 줄바꿈이 된다. \n",
    "\n",
    "*그래서 문장이 끝나도 줄바꿈이 되지 않았으면 한다면  end= '' 로 선언하는 경우도 자주 있다."
   ]
  },
  {
   "cell_type": "code",
   "execution_count": 31,
   "metadata": {},
   "outputs": [
    {
     "name": "stdout",
     "output_type": "stream",
     "text": [
      "orangeappletomato\n",
      "orange apple tomato\n",
      "orange:apple:tomato\n",
      "\n",
      "EOL\n"
     ]
    }
   ],
   "source": [
    "#1 예제\n",
    "\n",
    "orange = 'orange'\n",
    "apple = 'apple'\n",
    "tomato = 'tomato'\n",
    "\n",
    "#첫번째 방법\n",
    "print(orange + apple + tomato) #연결 가능 but 원소들 간의 공백이 사라짐\n",
    "\n",
    "#두번째 방법. default\n",
    "print(orange, apple , tomato, sep=' ',end='\\n') #default\n",
    "\n",
    "#세번째. default의 응용\n",
    "print(orange, apple , tomato, sep=':',end='\\n\\n')\n",
    "\n",
    "#end of line\n",
    "print('EOL')"
   ]
  },
  {
   "cell_type": "code",
   "execution_count": 32,
   "metadata": {},
   "outputs": [],
   "source": [
    "#라인이 짧을때 -> ;로 연결가능\n",
    "#변수 선언 시 자주 사용함\n",
    "\n",
    "orange = 'orange'; apple = 'apple'; tomato = 'tomato'\n"
   ]
  },
  {
   "cell_type": "code",
   "execution_count": 33,
   "metadata": {},
   "outputs": [
    {
     "name": "stdout",
     "output_type": "stream",
     "text": [
      "5\n"
     ]
    }
   ],
   "source": [
    "num = 5; print(num)"
   ]
  },
  {
   "cell_type": "markdown",
   "metadata": {},
   "source": [
    "\n",
    "\n",
    "## Ch 2-1. 입출력\n",
    "\n",
    "\n",
    "### input()\n",
    "\n",
    "- console에서 사용자에게 값을 입력받는 함수\n",
    "- 입출력 중 입력에 해당\n",
    "- 입력받는 값의 타입은 무조건 문자열(str)\n",
    "    : 숫자로 취급해주고 싶다면 int로 변환하는 것이 필수적이다.\n",
    "    \n",
    "- 입력 받은 값을 변수에 담아서 사용한다.\n",
    "    : 변수에 담지 않으면 생기는 일= 저장이 되지 않아서 값이 날아감"
   ]
  },
  {
   "cell_type": "code",
   "execution_count": 3,
   "metadata": {},
   "outputs": [
    {
     "name": "stdin",
     "output_type": "stream",
     "text": [
      " 1\n"
     ]
    },
    {
     "name": "stdout",
     "output_type": "stream",
     "text": [
      "1 <class 'str'>\n"
     ]
    }
   ],
   "source": [
    "#입력 받는 값의 타입\n",
    "num = input()\n",
    "print(num, type(num))\n"
   ]
  },
  {
   "cell_type": "code",
   "execution_count": 4,
   "metadata": {},
   "outputs": [
    {
     "name": "stdin",
     "output_type": "stream",
     "text": [
      " 2\n"
     ]
    },
    {
     "name": "stdout",
     "output_type": "stream",
     "text": [
      "2 <class 'int'>\n"
     ]
    }
   ],
   "source": [
    "#변환하여 바로 받기\n",
    "cnum = int(input())\n",
    "print(cnum, type(cnum))"
   ]
  },
  {
   "cell_type": "markdown",
   "metadata": {},
   "source": [
    "** 연산, 대소비교 등을 하려면 str로는 되지 않기 때문에 숫자 값이라면 반드시 int로 바꿔주는 작업을 거쳐야한다."
   ]
  },
  {
   "cell_type": "code",
   "execution_count": 5,
   "metadata": {},
   "outputs": [
    {
     "name": "stdin",
     "output_type": "stream",
     "text": [
      "바이바이 입력값\n"
     ]
    },
    {
     "name": "stdout",
     "output_type": "stream",
     "text": [
      "받을 변수 없음\n"
     ]
    }
   ],
   "source": [
    "#input값을 변수에 담지 않으면 그릇이 없는 것과 같다.\n",
    "input('바이바이')\n",
    "print('받을 변수 없음')"
   ]
  },
  {
   "cell_type": "code",
   "execution_count": 6,
   "metadata": {},
   "outputs": [
    {
     "name": "stdin",
     "output_type": "stream",
     "text": [
      "what's your name? lee\n"
     ]
    },
    {
     "data": {
      "text/plain": [
       "'lee'"
      ]
     },
     "execution_count": 6,
     "metadata": {},
     "output_type": "execute_result"
    }
   ],
   "source": [
    "input(\"what's your name?\")"
   ]
  },
  {
   "cell_type": "code",
   "execution_count": 9,
   "metadata": {},
   "outputs": [
    {
     "name": "stdin",
     "output_type": "stream",
     "text": [
      "What's your name? song\n"
     ]
    }
   ],
   "source": [
    "#1.input값 안내문\n",
    "name = input(\"What's your name?\")"
   ]
  },
  {
   "cell_type": "code",
   "execution_count": 10,
   "metadata": {},
   "outputs": [
    {
     "name": "stdout",
     "output_type": "stream",
     "text": [
      "What's your name?\n"
     ]
    },
    {
     "name": "stdin",
     "output_type": "stream",
     "text": [
      " Lee\n"
     ]
    }
   ],
   "source": [
    "#2.input전에 위에 그냥 print를 해줄 수도 있다.\n",
    "print(\"What's your name?\")\n",
    "name = input()\n",
    "#변수에 입력값을 할당한다"
   ]
  },
  {
   "cell_type": "markdown",
   "metadata": {},
   "source": [
    "#### input을 str이 아닌 다른 타입으로 사용하고 싶다면 형변환을 반드시 해줘야함."
   ]
  },
  {
   "cell_type": "code",
   "execution_count": 11,
   "metadata": {},
   "outputs": [
    {
     "name": "stdin",
     "output_type": "stream",
     "text": [
      "How old are you? 22\n"
     ]
    },
    {
     "data": {
      "text/plain": [
       "str"
      ]
     },
     "execution_count": 11,
     "metadata": {},
     "output_type": "execute_result"
    }
   ],
   "source": [
    "age = input(\"How old are you?\")\n",
    "type(age)"
   ]
  },
  {
   "cell_type": "code",
   "execution_count": 12,
   "metadata": {},
   "outputs": [
    {
     "name": "stdin",
     "output_type": "stream",
     "text": [
      "How old are you? 22\n"
     ]
    },
    {
     "data": {
      "text/plain": [
       "int"
      ]
     },
     "execution_count": 12,
     "metadata": {},
     "output_type": "execute_result"
    }
   ],
   "source": [
    "age = int(input(\"How old are you?\"))\n",
    "type(age)"
   ]
  },
  {
   "cell_type": "code",
   "execution_count": 13,
   "metadata": {},
   "outputs": [
    {
     "name": "stdout",
     "output_type": "stream",
     "text": [
      "당신이 태어난 해는 2001 입니다\n"
     ]
    }
   ],
   "source": [
    "print('당신이 태어난 해는', 2022 - age + 1, '입니다') \n",
    "#연산 가능해짐"
   ]
  },
  {
   "cell_type": "markdown",
   "metadata": {},
   "source": [
    "\n",
    "\n",
    "### Printing(출력)"
   ]
  },
  {
   "cell_type": "code",
   "execution_count": 14,
   "metadata": {},
   "outputs": [
    {
     "name": "stdout",
     "output_type": "stream",
     "text": [
      "당신이 태어난 해는 2001년입니다!\n"
     ]
    }
   ],
   "source": [
    "print(f'당신이 태어난 해는 {2022 - age +1}년입니다!')\n",
    "\n",
    "#f'포맷. 변수명을 자유롭게 쓸 수 있다.\n",
    "#print(f'{<vluable>})"
   ]
  },
  {
   "cell_type": "markdown",
   "metadata": {},
   "source": [
    "### Quiz 1\n",
    "- 택배 정보를 입력 받고 무게에 따른 값 산정하기\n",
    "    - 수취인 성명:\n",
    "    - 수취인 주소:\n",
    "    - 배송비: 3000원\n",
    "    - 물건 비용: <계산된 값>원\n",
    "    - 총 합계: <계산된 값>원\n",
    "- 물건 비용은 무게(g) * 5\n",
    "- 입력 값 = 이름, 주소, 무게"
   ]
  },
  {
   "cell_type": "code",
   "execution_count": 17,
   "metadata": {},
   "outputs": [
    {
     "name": "stdin",
     "output_type": "stream",
     "text": [
      "수취인 성명:  이가영\n",
      "수취인 주소:  서울\n",
      "물건 무게:  100\n"
     ]
    },
    {
     "name": "stdout",
     "output_type": "stream",
     "text": [
      "수취인 성명: 이가영\n",
      "수취인 주소:  서울\n",
      "배송비: 3000원\n",
      "물건비용: 500원\n",
      "총 합계: 3500원\n"
     ]
    }
   ],
   "source": [
    "name = input(\"수취인 성명: \")\n",
    "address = input(\"수취인 주소: \")\n",
    "weight = float(input(\"물건 무게: \"))\n",
    "\n",
    "price = int(weight *5)\n",
    "total = price +3000\n",
    "#배송비는 후에 offset으로 설정해두면 좋음!\n",
    "\n",
    "print(f'수취인 성명: {name}')\n",
    "print(\"수취인 주소: \", address)\n",
    "print(\"배송비: 3000원\")\n",
    "print(f'물건비용: {price}원')\n",
    "print(f'총 합계: {price + 3000}원')"
   ]
  },
  {
   "cell_type": "markdown",
   "metadata": {},
   "source": [
    "## Ch03. Numbers\n",
    "\n",
    "### boolean 연산자\n",
    "\n",
    "- True/False로 구분(참, 거짓)\n",
    "\n",
    "- false인 값들\n",
    "\n",
    "- 주로 if문에서 사용: if문(조건식)\n",
    "\n",
    "-> if True:~~~"
   ]
  },
  {
   "cell_type": "code",
   "execution_count": 66,
   "metadata": {},
   "outputs": [
    {
     "name": "stdout",
     "output_type": "stream",
     "text": [
      "0은 False\n",
      "공백은 False\n",
      "None값은 False\n"
     ]
    }
   ],
   "source": [
    "#false값\n",
    "\n",
    "print('0은',bool(0))\n",
    "print('공백은',bool(''))\n",
    "print('None값은',bool(None))\n"
   ]
  },
  {
   "cell_type": "markdown",
   "metadata": {},
   "source": [
    "#### False 값 종류 (피피티 포함)\n",
    "- 0\n",
    "- 0.0\n",
    "- null\n",
    "- 공백\n",
    "- None\n",
    "- [], {}, () (빈리스트, 튜플, 딕셔너리, 빈세트)"
   ]
  },
  {
   "cell_type": "markdown",
   "metadata": {},
   "source": [
    "\n",
    "## Integer\n",
    "\n",
    "- 분수나 소수가 아닌 정수 \n",
    "- 음수는 '-'기호를 붙인다: i.e., -50\n",
    "- default = 양수\n",
    "- 숫자 앞에는 0을 쓰지 못한다. i.e., 09<<<불가\n",
    "    -0bxx(10진수가 아닌 2진수 등등 같은 것들)\n",
    "- 숫자가 커졌다고 숫자 사이에 쉼표를 쓰면 오류가 남: 100,000(X)->100_000\n",
    "    =>숫자 사이의 언더바는 인식하지 않는다는 의미(쉼표를 언더바가 대체함)"
   ]
  },
  {
   "cell_type": "code",
   "execution_count": 21,
   "metadata": {},
   "outputs": [
    {
     "ename": "SyntaxError",
     "evalue": "invalid token (<ipython-input-21-a0d9ee40d39e>, line 1)",
     "output_type": "error",
     "traceback": [
      "\u001b[1;36m  File \u001b[1;32m\"<ipython-input-21-a0d9ee40d39e>\"\u001b[1;36m, line \u001b[1;32m1\u001b[0m\n\u001b[1;33m    a = 09\u001b[0m\n\u001b[1;37m         ^\u001b[0m\n\u001b[1;31mSyntaxError\u001b[0m\u001b[1;31m:\u001b[0m invalid token\n"
     ]
    }
   ],
   "source": [
    "a = 09\n",
    "#앞에 0붙이기 금지"
   ]
  },
  {
   "cell_type": "code",
   "execution_count": 23,
   "metadata": {},
   "outputs": [
    {
     "data": {
      "text/plain": [
       "-1"
      ]
     },
     "execution_count": 23,
     "metadata": {},
     "output_type": "execute_result"
    }
   ],
   "source": [
    "#연산 가능\n",
    "a = -50\n",
    "b = 49\n",
    "a + b"
   ]
  },
  {
   "cell_type": "markdown",
   "metadata": {},
   "source": [
    "### 연산자 | operator\n",
    "\n",
    "- +,-,*,/\n",
    "- 피연산자 | operand: 1, 2,....\n",
    "- 수식 | expression"
   ]
  },
  {
   "cell_type": "code",
   "execution_count": 26,
   "metadata": {},
   "outputs": [
    {
     "name": "stdout",
     "output_type": "stream",
     "text": [
      "13\n",
      "5\n",
      "36\n",
      "2.25\n",
      "6561\n"
     ]
    }
   ],
   "source": [
    "x = 9\n",
    "y = 4\n",
    "\n",
    "#연산\n",
    "print(x+y)\n",
    "print(x-y)\n",
    "print(x*y)\n",
    "\n",
    "print(x/y)\n",
    "#나눗셈 주의\n",
    "#2.9여도 내림되어 2로 됨\n",
    "\n",
    "print(x ** y)\n",
    "#거듭 제곱 |exponential"
   ]
  },
  {
   "cell_type": "markdown",
   "metadata": {},
   "source": [
    "\n",
    "\n",
    "### 나눗셈 종류\n",
    "\n",
    "- /몫과 나머지가 나오는 연산. 1.234432등\n",
    "- // 몫만 나옴\n",
    "- x%y 나머지 연산"
   ]
  },
  {
   "cell_type": "code",
   "execution_count": 27,
   "metadata": {},
   "outputs": [
    {
     "name": "stdout",
     "output_type": "stream",
     "text": [
      "2.25\n",
      "2\n",
      "1\n"
     ]
    }
   ],
   "source": [
    "x=9; y=4\n",
    "\n",
    "print(x / y)\n",
    "print(x // y)\n",
    "print(x % y)"
   ]
  },
  {
   "cell_type": "code",
   "execution_count": 29,
   "metadata": {},
   "outputs": [
    {
     "data": {
      "text/plain": [
       "(2, 1)"
      ]
     },
     "execution_count": 29,
     "metadata": {},
     "output_type": "execute_result"
    }
   ],
   "source": [
    "divmod(x,y) \n",
    "#x/y\n",
    "#몫과 나머지가 튜플로 반환됨(몫, 나머지)"
   ]
  },
  {
   "cell_type": "markdown",
   "metadata": {},
   "source": [
    "XXXX division by zero 항시 유의(0으로 나누지 마세요!)XXX"
   ]
  },
  {
   "cell_type": "code",
   "execution_count": 30,
   "metadata": {},
   "outputs": [
    {
     "data": {
      "text/plain": [
       "20"
      ]
     },
     "execution_count": 30,
     "metadata": {},
     "output_type": "execute_result"
    }
   ],
   "source": [
    "1 + 9                     +10\n",
    "#숫자 사이의 공백은 무시"
   ]
  },
  {
   "cell_type": "markdown",
   "metadata": {},
   "source": [
    "### 복합 대입 연산자 | compound assignment operator"
   ]
  },
  {
   "cell_type": "code",
   "execution_count": 31,
   "metadata": {},
   "outputs": [
    {
     "name": "stdout",
     "output_type": "stream",
     "text": [
      "5\n"
     ]
    }
   ],
   "source": [
    "x = 5\n",
    "x - 3\n",
    "print(x)\n",
    "#불변: x-3에 할당한 변수가 없음"
   ]
  },
  {
   "cell_type": "code",
   "execution_count": 32,
   "metadata": {},
   "outputs": [
    {
     "name": "stdout",
     "output_type": "stream",
     "text": [
      "2\n"
     ]
    }
   ],
   "source": [
    "#변한 값을 변수로 받아줘야함\n",
    "x = x - 3\n",
    "print(x)\n",
    "\n",
    "#논리 3단계\n",
    "# temp 임시변수. 파이썬이 자동으로 선언하여 나오는 구조.\n",
    "#1. x - 3 계산\n",
    "#2. temp = x-3 (임시 변수에 담는다)\n",
    "#3. x = temp"
   ]
  },
  {
   "cell_type": "code",
   "execution_count": 33,
   "metadata": {},
   "outputs": [
    {
     "name": "stdout",
     "output_type": "stream",
     "text": [
      "-1\n"
     ]
    }
   ],
   "source": [
    "x -= 3\n",
    "print(x) \n",
    "#2 - 3\n",
    "#자신의 값을 변경해서 자신에게 업데이트하는 방식"
   ]
  },
  {
   "cell_type": "markdown",
   "metadata": {},
   "source": [
    "#### 복합연산자"
   ]
  },
  {
   "cell_type": "code",
   "execution_count": 34,
   "metadata": {},
   "outputs": [],
   "source": [
    "x += 3\n",
    "x -= 3\n",
    "x *= 3\n",
    "x /= 3\n",
    "\n",
    "x+= 1"
   ]
  },
  {
   "cell_type": "markdown",
   "metadata": {},
   "source": [
    "### Quiz 1.\n",
    "- 반지름을 입력 받아서 원의 면적을 구하기\n",
    "- 반지름은 r\n",
    "- 면적은 pi * r제곱"
   ]
  },
  {
   "cell_type": "code",
   "execution_count": 38,
   "metadata": {},
   "outputs": [
    {
     "name": "stdin",
     "output_type": "stream",
     "text": [
      "반지름 2\n"
     ]
    },
    {
     "name": "stdout",
     "output_type": "stream",
     "text": [
      "넓이는 12.56이다\n"
     ]
    }
   ],
   "source": [
    "#Quiz 1.\n",
    "\n",
    "r=float(input(\"반지름\"))\n",
    "pi= 3.14\n",
    "\n",
    "wid= (r **2) *pi\n",
    "print(f'넓이는 {wid}이다')\n",
    "\n",
    "#변수명과 고정값(offset?)은 의미를 담아 설정하는 것이 좋다"
   ]
  },
  {
   "cell_type": "markdown",
   "metadata": {},
   "source": [
    "### Quiz 2.\n",
    "- 숫자를 입력 받고 3의 배수인지 확인하기\n",
    "- 짝수 확인해보기"
   ]
  },
  {
   "cell_type": "code",
   "execution_count": 39,
   "metadata": {},
   "outputs": [
    {
     "name": "stdin",
     "output_type": "stream",
     "text": [
      "숫자: 5\n"
     ]
    },
    {
     "name": "stdout",
     "output_type": "stream",
     "text": [
      "5은 3의 배수가 아닙니다\n"
     ]
    }
   ],
   "source": [
    "#Quiz 2.\n",
    "\n",
    "num = int(input(\"숫자:\"))\n",
    "\n",
    "if num % 3 == 0:\n",
    "    print(f'{num}은 3의 배수 입니다')\n",
    "    \n",
    "else:\n",
    "    print(f'{num}은 3의 배수가 아닙니다')"
   ]
  },
  {
   "cell_type": "code",
   "execution_count": 40,
   "metadata": {},
   "outputs": [
    {
     "name": "stdin",
     "output_type": "stream",
     "text": [
      "숫자:  2\n"
     ]
    },
    {
     "name": "stdout",
     "output_type": "stream",
     "text": [
      "False\n"
     ]
    }
   ],
   "source": [
    "#Quiz 2. if말고 True로 받아보기\n",
    "\n",
    "num = int(input(\"숫자: \"))\n",
    "\n",
    "TF = bool(num%3==0)\n",
    "\n",
    "print(TF)"
   ]
  },
  {
   "cell_type": "code",
   "execution_count": 42,
   "metadata": {},
   "outputs": [
    {
     "name": "stdin",
     "output_type": "stream",
     "text": [
      "숫자: 3\n"
     ]
    },
    {
     "name": "stdout",
     "output_type": "stream",
     "text": [
      "3은 홀수입니다.\n"
     ]
    }
   ],
   "source": [
    "#Quiz 2-1 짝수\n",
    "\n",
    "num = int(input(\"숫자:\"))\n",
    "\n",
    "if num % 2 == 0:\n",
    "    print(f'{num}은 짝수입니다.')\n",
    "    \n",
    "else:\n",
    "    print(f'{num}은 홀수입니다.')"
   ]
  },
  {
   "cell_type": "markdown",
   "metadata": {},
   "source": [
    "\n",
    "\n",
    "### 지수 표현\n",
    "\n",
    "- 예: '1.0e-4'\n",
    "- e의 앞부분은 소수, 정수 모두 됨\n",
    "- 뒷부분은 정수여야함\n",
    "- 뒷부분이 음수면 소수점 자릿수를 의미함\n",
    "- e, E 모두 가능"
   ]
  },
  {
   "cell_type": "code",
   "execution_count": 43,
   "metadata": {},
   "outputs": [
    {
     "data": {
      "text/plain": [
       "0.0001"
      ]
     },
     "execution_count": 43,
     "metadata": {},
     "output_type": "execute_result"
    }
   ],
   "source": [
    "#e뒤에 빼는 수가 소수점 몇자리까지인지 정함\n",
    "1.0e-4\n"
   ]
  },
  {
   "cell_type": "code",
   "execution_count": 58,
   "metadata": {},
   "outputs": [
    {
     "data": {
      "text/plain": [
       "10.0"
      ]
     },
     "execution_count": 58,
     "metadata": {},
     "output_type": "execute_result"
    }
   ],
   "source": [
    "#더하는 것은 배수\n",
    "1.0e+1"
   ]
  },
  {
   "cell_type": "code",
   "execution_count": 45,
   "metadata": {},
   "outputs": [
    {
     "name": "stdout",
     "output_type": "stream",
     "text": [
      "0.0004005\n"
     ]
    }
   ],
   "source": [
    "# 0.0004005 => 지수로 표현하기\n",
    "print(4.005e-4)"
   ]
  },
  {
   "cell_type": "code",
   "execution_count": 59,
   "metadata": {},
   "outputs": [
    {
     "name": "stdout",
     "output_type": "stream",
     "text": [
      "0.04\n",
      "400.0\n"
     ]
    }
   ],
   "source": [
    "print(4e-2)\n",
    "print(4e+2)"
   ]
  },
  {
   "cell_type": "markdown",
   "metadata": {},
   "source": [
    "\n",
    "\n",
    "### IF조건문과 주석\n",
    "\n",
    "#### 코드 짜는 팁(주석에 관해)\n",
    "\n",
    "- 주석달기\n",
    "    -# hash, sharp 등등등\n",
    "    \n",
    "    -# 시작 지점부터 라인 끝까지가 주석 처리된다.(같은 라인만!)\n",
    "    \n",
    "    - 즉, 라인이 바뀌면 코드로 인식함!\n",
    "    \n",
    "    - 주석이 길 때는  ''' '''으로 묶어준다. (\"\"\" \"\"\"\" 도 가능)\n",
    "    \n",
    "    - 이유? 코드에 대한 설명은 최대한 하지 않는 것이 코더의 실력. 의도를 나타내거나 오류가 있다거나 등 의미외의 전달 사항이 있을 시 주석을 단다. 코드 설명은 주석으로 달지 않도록 한다. \n",
    "    \n",
    "- 라인 유지하기\n",
    "    - 들여쓰기 (default space 4개=tab누르기)\n",
    "    - 들여쓰기 굉장히 중요함. 논리구조를 나타내기 때문에!\n",
    "        : 특히 파이썬은 들여쓰기가 틀리면 코드가 망가지는 경우가 많다.\n",
    "    - 한 라인에 80자 정도 넣는게 코드가 이쁘게 써짐 (80자가 넘어갈 시 백 슬레시로 라인을 끊어준다(\\)"
   ]
  },
  {
   "cell_type": "code",
   "execution_count": 46,
   "metadata": {},
   "outputs": [
    {
     "name": "stdout",
     "output_type": "stream",
     "text": [
      "3\n"
     ]
    }
   ],
   "source": [
    "a = 3 #주석이다\n",
    "\n",
    "\"\"\"\n",
    "주석\n",
    "주석\n",
    "주석\n",
    "\"\"\"\n",
    "print(a)"
   ]
  },
  {
   "cell_type": "code",
   "execution_count": 47,
   "metadata": {},
   "outputs": [
    {
     "name": "stdout",
     "output_type": "stream",
     "text": [
      "hey, there #\n"
     ]
    }
   ],
   "source": [
    "print('hey, there #')\n",
    "#문자열에서는 그냥 나옴"
   ]
  },
  {
   "cell_type": "markdown",
   "metadata": {},
   "source": [
    "\n",
    "### If 문법\n",
    "\n",
    "if <조건식>:\n",
    "    <실행할 코드>"
   ]
  },
  {
   "cell_type": "code",
   "execution_count": 48,
   "metadata": {},
   "outputs": [
    {
     "name": "stdout",
     "output_type": "stream",
     "text": [
      "두 수는 같지않다\n"
     ]
    }
   ],
   "source": [
    "if 3 != 1:\n",
    "    print(\"두 수는 같지않다\")\n",
    "#같을 경우는 아무것도 출력되지 않음"
   ]
  },
  {
   "cell_type": "markdown",
   "metadata": {},
   "source": [
    "- if-else: 조건과 조건외 단 두개의 조건\n",
    "\n",
    "if <조건식>:\n",
    "    <실행할 코드1>\n",
    "    \n",
    "else:\n",
    "    <실행할 코드 2>"
   ]
  },
  {
   "cell_type": "code",
   "execution_count": 50,
   "metadata": {},
   "outputs": [
    {
     "name": "stdout",
     "output_type": "stream",
     "text": [
      "두 수는 같지않다\n"
     ]
    }
   ],
   "source": [
    "if 3 != 1:\n",
    "    print(\"두 수는 같지않다\")\n",
    "else:\n",
    "    print(\"두 수가 같다\")"
   ]
  },
  {
   "cell_type": "markdown",
   "metadata": {},
   "source": [
    "- if-elif-else: 조건1, 조건2, 그 외\n",
    "\n",
    "if <조건식>:\n",
    "    <실행할 코드1>\n",
    "    \n",
    "elif <조건식2>:\n",
    "    <실행할 코드 3>\n",
    "    \n",
    "else:\n",
    "    <실행할 코드 2>"
   ]
  },
  {
   "cell_type": "code",
   "execution_count": 52,
   "metadata": {},
   "outputs": [
    {
     "name": "stdout",
     "output_type": "stream",
     "text": [
      "3보다 크다\n"
     ]
    }
   ],
   "source": [
    "a = 4\n",
    "\n",
    "if a < 3:\n",
    "    print(\"3보다 작다\")\n",
    "\n",
    "elif a == 3:\n",
    "    print(\"3이다\")\n",
    "\n",
    "else:\n",
    "    print(\"3보다 크다\")"
   ]
  },
  {
   "cell_type": "code",
   "execution_count": 53,
   "metadata": {},
   "outputs": [],
   "source": [
    "#각자 if로 써버린다면?\n",
    "\n",
    "a = 4\n",
    "if a < 3:\n",
    "    print(\"3보다 작다\")\n",
    "\n",
    "if a == 3:\n",
    "    print(\"3이다\")\n",
    "\n",
    "if a>4:\n",
    "    print(\"3보다 크다\")\n",
    "    \n",
    "#아무것도 뜨지 않는다. \n",
    "#각각이 별개의 조건이기 때문에 답이 없다"
   ]
  },
  {
   "cell_type": "markdown",
   "metadata": {},
   "source": [
    "\n",
    "\n",
    "### 비교 연산자\n",
    "\n",
    "- x < y\n",
    "- x > y\n",
    "- x >= y\n",
    "- x <= y\n",
    "- x == y(값이)\n",
    "- x != y\n",
    "- x is y (값, 메모리 주소)\n",
    "- x is not y (값 메모리 주소)"
   ]
  },
  {
   "cell_type": "markdown",
   "metadata": {},
   "source": [
    "### 퀴즈\n",
    "- 1. 시험 점수를 입력 받고, 80점 이상이면 True, 아니면 False를 반환하세요\n",
    "- 2. 시험 점수를 입력 받고, 95 이상 A+ ,90이상 A, 85 이상 B+, 나머지 F로 출력하세요"
   ]
  },
  {
   "cell_type": "code",
   "execution_count": 55,
   "metadata": {},
   "outputs": [
    {
     "name": "stdin",
     "output_type": "stream",
     "text": [
      "시험점수:  90\n"
     ]
    },
    {
     "name": "stdout",
     "output_type": "stream",
     "text": [
      "True\n"
     ]
    }
   ],
   "source": [
    "#1번\n",
    "score=int(input(\"시험점수: \"))\n",
    "print(bool(score>=80))"
   ]
  },
  {
   "cell_type": "code",
   "execution_count": 56,
   "metadata": {},
   "outputs": [
    {
     "name": "stdin",
     "output_type": "stream",
     "text": [
      "시험 점수:  95\n"
     ]
    },
    {
     "name": "stdout",
     "output_type": "stream",
     "text": [
      "A+입니다\n"
     ]
    }
   ],
   "source": [
    "#2번\n",
    "score = int(input(\"시험 점수: \"))\n",
    "\n",
    "if score >= 95:\n",
    "    print(\"A+입니다\")\n",
    "elif score >= 90:\n",
    "    print(\"A입니다\")\n",
    "elif score >=85:\n",
    "    print(\"B+입니다\")\n",
    "    \n",
    "else:\n",
    "    print(\"F입니다.\")"
   ]
  },
  {
   "cell_type": "markdown",
   "metadata": {},
   "source": [
    "\n",
    "### 연습문제 \n",
    "- 3.1 1시간은 몇 초인가? 대화식 인터프리터를 계산기로 사용해서 1시간(60분)에 1분(60초)을 곱하기\n",
    "- 3.2 계산한 결과를 seconds_per_hour 변수에 저장\n",
    "- 3.3 1일은 몇 초인가? seconds_per_hour 변수를 사용\n",
    "- 3.4 계산한 결과를 seconds_per_day 변수에 저장\n",
    "- 3.5 부동소수점(/) 나눗셈을 사용해서 seconds_per_day를 seconds_per_hour로 나누기\n",
    "- 3.6 정수(//) 나눗셈을 사용해서 seconds_per_day를 seconds_per_hour로 나누기. 3.5 문제 결과에서 본.0 부분을 제외하고 결과가 같은가?"
   ]
  },
  {
   "cell_type": "code",
   "execution_count": 62,
   "metadata": {},
   "outputs": [
    {
     "name": "stdout",
     "output_type": "stream",
     "text": [
      "3600\n"
     ]
    }
   ],
   "source": [
    "#3.1, 3.2 1시간은 몇초인가\n",
    "\n",
    "sec = 60\n",
    "minuite = 60\n",
    "seconds_per_hour = minuite*sec\n",
    "print(seconds_per_hour)"
   ]
  },
  {
   "cell_type": "code",
   "execution_count": 63,
   "metadata": {},
   "outputs": [
    {
     "name": "stdout",
     "output_type": "stream",
     "text": [
      "86400\n"
     ]
    }
   ],
   "source": [
    "#3.3, 3.4 1일은 몇초인가?\n",
    "\n",
    "seconds_per_day = seconds_per_hour *24\n",
    "print(seconds_per_day)"
   ]
  },
  {
   "cell_type": "code",
   "execution_count": 65,
   "metadata": {},
   "outputs": [
    {
     "name": "stdout",
     "output_type": "stream",
     "text": [
      "24.0\n",
      "24\n"
     ]
    }
   ],
   "source": [
    "# 3.5, 3.6\n",
    "\n",
    "ans = seconds_per_day/seconds_per_hour\n",
    "print(ans)\n",
    "\n",
    "ans1 = seconds_per_day//seconds_per_hour\n",
    "print(ans1)"
   ]
  },
  {
   "cell_type": "markdown",
   "metadata": {},
   "source": [
    "- 4.1 1에서10 사이의 숫자를 선택해서 secret 변수에 할당. 그리고 1~10 사이의 다른 숫자를 선택해서 guess변수에 할당. if, elif, else 문을 사용하여 guess 변수가 secret 변수보다 작으면 'too low', 크면 'too high’,일치하면 'just right'를 출력"
   ]
  },
  {
   "cell_type": "code",
   "execution_count": 2,
   "metadata": {},
   "outputs": [
    {
     "name": "stdin",
     "output_type": "stream",
     "text": [
      "1에서 10 사이의 숫자를 선택해주세요:  1\n",
      "secret과 다른 수로 1에서 10 사이의 숫자를 선택해주세요:  2\n"
     ]
    },
    {
     "name": "stdout",
     "output_type": "stream",
     "text": [
      "too high\n"
     ]
    }
   ],
   "source": [
    "secret = int(input('1에서 10 사이의 숫자를 선택해주세요: '))\n",
    "guess = int(input('secret과 다른 수로 1에서 10 사이의 숫자를 선택해주세요: '))\n",
    "\n",
    "if guess < secret :\n",
    "    print(\"too low\")\n",
    "\n",
    "elif guess > secret :\n",
    "    print(\"too high\")\n",
    "    \n",
    "else:\n",
    "    print(\"just right\")"
   ]
  },
  {
   "cell_type": "markdown",
   "metadata": {},
   "source": [
    "\n",
    "- 4.2 True나 False를 small과 green 변수에 할당. if, else 문을 사용하여 작은 것(small)과 녹색(green)을 기준으로 체리, 완두콩, 수박, 호박(cherry, pea, watermelon, pumpkin)을 출력해보기(예: 체리는 작고 녹색이 아님, 완두콩은 작고 녹색, 수박은 크고 녹색, 호박은 크고 녹색이 아님)"
   ]
  },
  {
   "cell_type": "code",
   "execution_count": 5,
   "metadata": {},
   "outputs": [
    {
     "name": "stdout",
     "output_type": "stream",
     "text": [
      "(True, False)\n",
      "(True, True)\n",
      "(False, True)\n",
      "(False, False)\n"
     ]
    }
   ],
   "source": [
    "small = True\n",
    "\n",
    "green = True\n",
    "\n",
    "cherry =  small, not green\n",
    "print(cherry)\n",
    "\n",
    "pea =  small, green\n",
    "print(pea)\n",
    "\n",
    "watermelon = not small, green\n",
    "print(watermelon)\n",
    "\n",
    "pumpkin = not small, not green\n",
    "print(pumpkin)"
   ]
  },
  {
   "cell_type": "markdown",
   "metadata": {},
   "source": [
    "\n",
    "### ++불리언 연산자의 곱\n",
    "\n",
    "1. 합집합 = 둘 중 하나라도 참이라면 참. 둘 다 거짓일 때만 거짓.\n",
    "2. 교집합 = 둘 중 하나라도 거짓이라면 거짓. 둘다 참일 때만 참"
   ]
  },
  {
   "cell_type": "code",
   "execution_count": 18,
   "metadata": {},
   "outputs": [
    {
     "name": "stdout",
     "output_type": "stream",
     "text": [
      "True + True = True\n",
      "True + False = True\n",
      "False + False = False\n"
     ]
    }
   ],
   "source": [
    "#합집합\n",
    "\n",
    "print(\"True + True =\", bool(True+True))\n",
    "print(\"True + False =\", bool(True+False))\n",
    "print(\"False + False =\", bool(False+False))"
   ]
  },
  {
   "cell_type": "code",
   "execution_count": 19,
   "metadata": {},
   "outputs": [
    {
     "name": "stdout",
     "output_type": "stream",
     "text": [
      "True * True = True\n",
      "True * False = False\n",
      "False * False = False\n"
     ]
    }
   ],
   "source": [
    "#교집합(곱셈)\n",
    "\n",
    "print(\"True * True =\",bool(True*True))\n",
    "print(\"True * False =\",bool(True*False))\n",
    "print(\"False * False =\",bool(False*False))"
   ]
  }
 ],
 "metadata": {
  "kernelspec": {
   "display_name": "Python 3",
   "language": "python",
   "name": "python3"
  },
  "language_info": {
   "codemirror_mode": {
    "name": "ipython",
    "version": 3
   },
   "file_extension": ".py",
   "mimetype": "text/x-python",
   "name": "python",
   "nbconvert_exporter": "python",
   "pygments_lexer": "ipython3",
   "version": "3.7.6"
  }
 },
 "nbformat": 4,
 "nbformat_minor": 4
}
