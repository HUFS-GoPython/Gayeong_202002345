{
 "cells": [
  {
   "cell_type": "markdown",
   "metadata": {},
   "source": [
    "### 3주차 숙제 2번 배운 걸로 풀기\n",
    "\n",
    "1. text 9 에서 lexical diversity 계산하기\n",
    "2. text 6 에서 중복없는 셋 내림차순 정렬하기\n",
    "    - a. 앞에서 단어 10개 추출하기\n",
    "    - b. 조건문 연습: 'z'가 있으면 대문자로 바꾸기, 'z'가 없는데 4개 이상이면 끝 글자 대문자로 바꾸기\n"
   ]
  },
  {
   "cell_type": "code",
   "execution_count": 3,
   "metadata": {},
   "outputs": [
    {
     "name": "stdout",
     "output_type": "stream",
     "text": [
      "*** Introductory Examples for the NLTK Book ***\n",
      "Loading text1, ..., text9 and sent1, ..., sent9\n",
      "Type the name of the text or sentence to view it.\n",
      "Type: 'texts()' or 'sents()' to list the materials.\n",
      "text1: Moby Dick by Herman Melville 1851\n",
      "text2: Sense and Sensibility by Jane Austen 1811\n",
      "text3: The Book of Genesis\n",
      "text4: Inaugural Address Corpus\n",
      "text5: Chat Corpus\n",
      "text6: Monty Python and the Holy Grail\n",
      "text7: Wall Street Journal\n",
      "text8: Personals Corpus\n",
      "text9: The Man Who Was Thursday by G . K . Chesterton 1908\n"
     ]
    }
   ],
   "source": [
    "import nltk\n",
    "nltk.download('book', quiet = True)\n",
    "from nltk.book import *"
   ]
  },
  {
   "cell_type": "code",
   "execution_count": 2,
   "metadata": {},
   "outputs": [
    {
     "data": {
      "text/plain": [
       "0.0983485761345412"
      ]
     },
     "execution_count": 2,
     "metadata": {},
     "output_type": "execute_result"
    }
   ],
   "source": [
    "#1 text9의 lexical diversity\n",
    "\n",
    "len(set(text9.tokens))/len(text9.tokens)"
   ]
  },
  {
   "cell_type": "code",
   "execution_count": 9,
   "metadata": {},
   "outputs": [
    {
     "data": {
      "text/plain": [
       "['zoosh',\n",
       " 'zoop',\n",
       " 'zoo',\n",
       " 'zone',\n",
       " 'zhiv',\n",
       " 'yourself',\n",
       " 'yours',\n",
       " 'your',\n",
       " 'young',\n",
       " 'you']"
      ]
     },
     "execution_count": 9,
     "metadata": {},
     "output_type": "execute_result"
    }
   ],
   "source": [
    "#2 tex6에서 중복없는 집합 내림차순 정렬\n",
    "# 앞에서 단어 10개\n",
    "\n",
    "#2\n",
    "sorted(set(text6.tokens),reverse = True)[:10]"
   ]
  },
  {
   "cell_type": "code",
   "execution_count": 22,
   "metadata": {},
   "outputs": [
    {
     "name": "stdout",
     "output_type": "stream",
     "text": [
      "['Zoosh', 'Zoop', 'Zoo', 'Zone', 'Zhiv', 'yourself', 'yours', 'your', 'young', 'you']\n"
     ]
    }
   ],
   "source": [
    "#2-2 z가 있으면 대문자로, 4개 이상이면 끝글자 대문자\n",
    "\n",
    "sent = sorted(set(text6.tokens), reverse = True)\n",
    "\n",
    "for i in range (0,len(set(text6.tokens))):\n",
    "    tk = sent[i]\n",
    "    if 'z' in tk:\n",
    "        sent[i] = tk.replace('z', 'Z')\n",
    "    elif len(tk) >= 4:\n",
    "        sent[i] = tk.replace(sent[-1], sent[-1].upper())\n",
    "\n",
    "print(sent[:10])"
   ]
  },
  {
   "cell_type": "markdown",
   "metadata": {},
   "source": [
    "### 3주차 숙제 3번: 주민등록번호 년도 고려 안한 것 코드 고치기\n",
    "\n",
    "### Quiz 2.\n",
    "\n",
    "- 주민등록번호, 휴대폰 번호, 이메일 입력 받기.\n",
    "    - 주민번호, 휴대폰은 숫자만 입력(-은 없음!)\n",
    "    - 이메일은 아이디만 입력(@뒷부분 받지 않음)\n",
    "    \n",
    "- 출력:\n",
    "    - \"당신은 {}년 {}월 {}일 출생의 {남/여}입니다.\"\n",
    "    * 성별은 주민번호에서 추출\n",
    "    - 휴대폰 번호: {} 하이픈 없는 걸 하이픈으로 연결하기\n",
    "    - 이메일 주소: {아이디}@gmail.com"
   ]
  },
  {
   "cell_type": "code",
   "execution_count": 26,
   "metadata": {},
   "outputs": [
    {
     "name": "stdin",
     "output_type": "stream",
     "text": [
      "주민등록번호를 - 없이 입력해주세요: 0103123\n",
      "전화번호를 - 없이 입력해주세요:  01024\n",
      "이메일 아이디를 입력해주세요:  a\n"
     ]
    },
    {
     "name": "stdout",
     "output_type": "stream",
     "text": [
      "당신은 2001년 03월 12출생의 남자입니다.\n",
      "전화 번호는 010-24-입니다.\n",
      "이메일 주소는 a@gmail.com입니다\n"
     ]
    }
   ],
   "source": [
    "#주민등록번호는 문자형으로 받아옴\n",
    "P_num = input(\"주민등록번호를 - 없이 입력해주세요:\")\n",
    "\n",
    "\n",
    "Year = P_num[:2]\n",
    "Month = P_num[2:4]\n",
    "Day = P_num[4:6]\n",
    "Sex = P_num[6]\n",
    "\n",
    "if Sex == '1' or Sex =='3':\n",
    "    Sex =\"남자\"\n",
    "\n",
    "elif Sex == '2' or Sex == '4':\n",
    "    Sex = \"여성\"\n",
    "else:\n",
    "    Sex = \"성별 정보 없음\"\n",
    "\n",
    "\n",
    "P_tel = input(\"전화번호를 - 없이 입력해주세요: \")\n",
    "P_mail = input(\"이메일 아이디를 입력해주세요: \")\n",
    "if Sex== 1 or Sex ==2:\n",
    "    print(f'당신은 19{Year}년 {Month}월 {Day}출생의 {Sex}입니다.')\n",
    "else:\n",
    "    print(f'당신은 20{Year}년 {Month}월 {Day}출생의 {Sex}입니다.' )\n",
    "print(f'전화 번호는 {P_tel[0:3]}-{P_tel[3:7]}-{P_tel[7:11]}입니다.')\n",
    "print(f'이메일 주소는 {P_mail}@gmail.com입니다')\n"
   ]
  },
  {
   "cell_type": "markdown",
   "metadata": {},
   "source": [
    "\n",
    "\n",
    "## 4주차 복습\n",
    "\n",
    "### NLTK"
   ]
  },
  {
   "cell_type": "code",
   "execution_count": 92,
   "metadata": {},
   "outputs": [
    {
     "data": {
      "text/plain": [
       "True"
      ]
     },
     "execution_count": 92,
     "metadata": {},
     "output_type": "execute_result"
    }
   ],
   "source": [
    "import nltk\n",
    "\n",
    "from nltk import book\n",
    "nltk.download('book',quiet = True)"
   ]
  },
  {
   "cell_type": "code",
   "execution_count": 30,
   "metadata": {},
   "outputs": [],
   "source": [
    "text1 = book. text1\n",
    "text2 = book. text2\n",
    "text3 = book. text3\n",
    "text4 = book. text4\n",
    "text5 = book. text5\n",
    "text6 = book. text6\n",
    "text7 = book. text7\n",
    "text8 = book. text8\n",
    "text9 = book. text9"
   ]
  },
  {
   "cell_type": "code",
   "execution_count": 25,
   "metadata": {},
   "outputs": [
    {
     "data": {
      "text/plain": [
       "\"import nltk\\nnltk.download('book', quiet = True)\\nfrom nltk.book import *\""
      ]
     },
     "execution_count": 25,
     "metadata": {},
     "output_type": "execute_result"
    }
   ],
   "source": [
    "'''import nltk\n",
    "nltk.download('book', quiet = True)\n",
    "from nltk.book import *'''\n",
    "# 이렇게 하면 위에 일일히 선언해주거나 그런 것들이 필요 없음!!"
   ]
  },
  {
   "cell_type": "markdown",
   "metadata": {},
   "source": [
    "### 내장 함수I\n",
    "\n",
    "y = 3x + 1\n",
    "-\"  \".fx(<요소>)'\n",
    "\n",
    "- count('찾을 문자열'): 텍스트에서 어떤 요소의 개수를 세는 함수\n",
    "- replace('A','B'): 대체 함수. A를 B로 바꿀 거면 A,B순으로기입\n",
    "- strip() : 불필요한 공백 등등 원하는 요소를 제거하는 역할. lstrip,rstrip등으로 원하는 쪽 공백 가능\n",
    "- find('str'): 원하는 문자열 찾기rfind가능\n",
    "- index('a'): 원하는 문자열의 인덱스 반환"
   ]
  },
  {
   "cell_type": "code",
   "execution_count": 9,
   "metadata": {},
   "outputs": [
    {
     "name": "stdout",
     "output_type": "stream",
     "text": [
      "13721\n",
      "375\n"
     ]
    }
   ],
   "source": [
    "#count()\n",
    "\n",
    "print(text1. count('the'))\n",
    "print(text2. count('what'))"
   ]
  },
  {
   "cell_type": "code",
   "execution_count": 11,
   "metadata": {},
   "outputs": [
    {
     "data": {
      "text/plain": [
       "'GayEong LEE'"
      ]
     },
     "execution_count": 11,
     "metadata": {},
     "output_type": "execute_result"
    }
   ],
   "source": [
    "#replace(A,B)\n",
    "\n",
    "name = 'Gayeong Lee'\n",
    "name = name.replace('e','E')\n",
    "name"
   ]
  },
  {
   "cell_type": "code",
   "execution_count": 15,
   "metadata": {},
   "outputs": [
    {
     "name": "stdout",
     "output_type": "stream",
     "text": [
      "shelter              \n",
      "                  \t shelter\n",
      "shelter\n"
     ]
    }
   ],
   "source": [
    "#strip(),rstrip()lstrip()\n",
    "\n",
    "word = '                  \\t shelter              '\n",
    "print(word.lstrip())\n",
    "print(word.rstrip())\n",
    "print(word.strip())"
   ]
  },
  {
   "cell_type": "code",
   "execution_count": 21,
   "metadata": {},
   "outputs": [
    {
     "name": "stdout",
     "output_type": "stream",
     "text": [
      "r      shelther           l\n",
      "r      shelther           l\n",
      "r      shelther           l\n"
     ]
    }
   ],
   "source": [
    "#strip함수 주의점 1. 문자열 사이의 공백은 공백으로 인식x\n",
    "\n",
    "word = 'r      shelther           l'\n",
    "print(word.strip())\n",
    "print(word.lstrip())\n",
    "print(word.rstrip())"
   ]
  },
  {
   "cell_type": "code",
   "execution_count": 28,
   "metadata": {},
   "outputs": [
    {
     "name": "stdout",
     "output_type": "stream",
     "text": [
      "\n",
      "\n",
      " Can you hear me?\n",
      "\n",
      "\n",
      "Can you hear me?\n"
     ]
    }
   ],
   "source": [
    "#strip함수 주의점 2. 줄바꿈도 사라짐. \n",
    "\n",
    "hear = '\\n\\n Can you hear me?\\n\\n'\n",
    "\n",
    "print(hear)\n",
    "print(hear.strip())"
   ]
  },
  {
   "cell_type": "markdown",
   "metadata": {},
   "source": [
    "#### strip()함수 특징 정리\n",
    "\n",
    "- strip은 정확히는 whitespace(공백)을 지우는 것이다. \n",
    "- 즉, 띄어쓰기, 탭(\\t),엔터(\\n)까지 모두 지워진다.\n",
    "- 다만, 문자와 문자 사이의 공백은 인식하지 않는다."
   ]
  },
  {
   "cell_type": "code",
   "execution_count": 13,
   "metadata": {},
   "outputs": [
    {
     "data": {
      "text/plain": [
       "'포르투갈어과:이가영 A0'"
      ]
     },
     "execution_count": 13,
     "metadata": {},
     "output_type": "execute_result"
    }
   ],
   "source": [
    "# 같은 문자열 쭉쭉 쓰기 가능\n",
    "\n",
    "name =\"     포르투갈어과:이가영 C+\"\n",
    "\n",
    "name = name. lstrip().replace('C','A').replace('+','0')\n",
    "name"
   ]
  },
  {
   "cell_type": "code",
   "execution_count": 14,
   "metadata": {},
   "outputs": [
    {
     "data": {
      "text/plain": [
       "'포르투갈어과:이가영 A0'"
      ]
     },
     "execution_count": 14,
     "metadata": {},
     "output_type": "execute_result"
    }
   ],
   "source": [
    "# 주의 사항: 함수를 변수명에 담지 않고 하면 적용이 되지 않음!!\n",
    "\n",
    "name.replace('A','B')\n",
    "name"
   ]
  },
  {
   "cell_type": "code",
   "execution_count": 20,
   "metadata": {},
   "outputs": [
    {
     "name": "stdout",
     "output_type": "stream",
     "text": [
      "3\n",
      "19\n"
     ]
    }
   ],
   "source": [
    "#find: 첫번째 발견한 문자의 인덱스\n",
    "#lfind, rfind 가능!\n",
    "\n",
    "word2 = 'I want you to go away'\n",
    "print(word2.find('a'))\n",
    "print(word2.rfind('a'))\n",
    "#print(word2.lfind('a'))\n",
    "#lfind는 없는 함수입니다.find랑 똑같기때문"
   ]
  },
  {
   "cell_type": "code",
   "execution_count": 21,
   "metadata": {},
   "outputs": [
    {
     "data": {
      "text/plain": [
       "0"
      ]
     },
     "execution_count": 21,
     "metadata": {},
     "output_type": "execute_result"
    }
   ],
   "source": [
    "word2.index(\"I\")"
   ]
  },
  {
   "cell_type": "markdown",
   "metadata": {},
   "source": [
    "### find와 index 차이\n",
    "\n",
    "- find: 없을 때 -1 출력(진행 가능)\n",
    "\n",
    "- index: 없을 때 오류 출력(더이상 진행x)"
   ]
  },
  {
   "cell_type": "code",
   "execution_count": 23,
   "metadata": {},
   "outputs": [
    {
     "name": "stdout",
     "output_type": "stream",
     "text": [
      "-1\n"
     ]
    }
   ],
   "source": [
    "print(word2.find(':'))"
   ]
  },
  {
   "cell_type": "markdown",
   "metadata": {},
   "source": [
    "\n",
    "\n",
    "## Nltk 내장 함수 II\n",
    "\n",
    "- nltk전용\n",
    "\n",
    "- concordance(): 특정 스트링이 어떤 문맥에서 쓰이는지 알 수 있음. 단어가 사용된 위치를 직접 표시하며 해당 단어 앞,뒤에 사용된 단어를 알 수 있다\n",
    "\n",
    "- similar(): 주어진 스트링과 비슷한 문맥에서 쓰이는 단어들을 보여줌. 같은 문맥에서 같이 자주 사용된 단어들을 보여줌.\n",
    "\n",
    "- common_context(리스트): 주어진 스트링들이 공유하는 문맥\n",
    "\n",
    "- dispersion_plot(리스트): 주어진 스트링들이 텍스트의 어느 위치에 나오는지 이미지로 보여줌"
   ]
  },
  {
   "cell_type": "code",
   "execution_count": 48,
   "metadata": {},
   "outputs": [
    {
     "name": "stdout",
     "output_type": "stream",
     "text": [
      "Displaying 25 of 1226 matches:\n",
      "s , and to teach them by what name a whale - fish is to be called in our tongue\n",
      "t which is not true .\" -- HACKLUYT \" WHALE . ... Sw . and Dan . HVAL . This ani\n",
      "ulted .\" -- WEBSTER ' S DICTIONARY \" WHALE . ... It is more immediately from th\n",
      "ISH . WAL , DUTCH . HWAL , SWEDISH . WHALE , ICELANDIC . WHALE , ENGLISH . BALE\n",
      "HWAL , SWEDISH . WHALE , ICELANDIC . WHALE , ENGLISH . BALEINE , FRENCH . BALLE\n",
      "least , take the higgledy - piggledy whale statements , however authentic , in \n",
      " dreadful gulf of this monster ' s ( whale ' s ) mouth , are immediately lost a\n",
      " patient Job .\" -- RABELAIS . \" This whale ' s liver was two cartloads .\" -- ST\n",
      " Touching that monstrous bulk of the whale or ork we have received nothing cert\n",
      " of oil will be extracted out of one whale .\" -- IBID . \" HISTORY OF LIFE AND D\n",
      "ise .\" -- KING HENRY . \" Very like a whale .\" -- HAMLET . \" Which to secure , n\n",
      "restless paine , Like as the wounded whale to shore flies thro ' the maine .\" -\n",
      ". OF SPERMA CETI AND THE SPERMA CETI WHALE . VIDE HIS V . E . \" Like Spencer ' \n",
      "t had been a sprat in the mouth of a whale .\" -- PILGRIM ' S PROGRESS . \" That \n",
      "EN ' S ANNUS MIRABILIS . \" While the whale is floating at the stern of the ship\n",
      "e ship called The Jonas - in - the - Whale . ... Some say the whale can ' t ope\n",
      " in - the - Whale . ... Some say the whale can ' t open his mouth , but that is\n",
      " masts to see whether they can see a whale , for the first discoverer has a duc\n",
      " for his pains . ... I was told of a whale taken near Shetland , that had above\n",
      "oneers told me that he caught once a whale in Spitzbergen that was white all ov\n",
      "2 , one eighty feet in length of the whale - bone kind came in , which ( as I w\n",
      "n master and kill this Sperma - ceti whale , for I could never hear of any of t\n",
      " . 1729 . \"... and the breath of the whale is frequendy attended with such an i\n",
      "ed with hoops and armed with ribs of whale .\" -- RAPE OF THE LOCK . \" If we com\n",
      "contemptible in the comparison . The whale is doubtless the largest animal in c\n"
     ]
    }
   ],
   "source": [
    "#특정 문자열이 어떤 문맥에서 쓰이는가\n",
    "text1.concordance('whale')\n",
    "\n",
    "#1226개의 매칭 중 25개를 보여줌"
   ]
  },
  {
   "cell_type": "code",
   "execution_count": 35,
   "metadata": {},
   "outputs": [
    {
     "name": "stdout",
     "output_type": "stream",
     "text": [
      "ship boat sea time captain world man deck pequod other whales air\n",
      "water head crew line thing side way body\n",
      "a1\n"
     ]
    }
   ],
   "source": [
    "#변수에 담아 쓸 수 없는...줄 알았는데 있네요?\n",
    "#비슷한 문맥에서 쓰이는 용어\n",
    "a1 = text1.similar('whale')\n",
    "print('a1')"
   ]
  },
  {
   "cell_type": "code",
   "execution_count": 39,
   "metadata": {},
   "outputs": [
    {
     "name": "stdout",
     "output_type": "stream",
     "text": [
      "No common contexts were found\n"
     ]
    }
   ],
   "source": [
    "#못 찾는 경우\n",
    "text2. common_contexts(['man','very'])"
   ]
  },
  {
   "cell_type": "code",
   "execution_count": 49,
   "metadata": {},
   "outputs": [
    {
     "name": "stdout",
     "output_type": "stream",
     "text": [
      "a_pretty am_glad a_lucky is_pretty be_glad\n"
     ]
    }
   ],
   "source": [
    "#두 단어의공통 문맥.\n",
    "text2. common_contexts(['monstrous','very'])"
   ]
  },
  {
   "cell_type": "code",
   "execution_count": 40,
   "metadata": {},
   "outputs": [
    {
     "data": {
      "image/png": "[encoded data removed]",
      "text/plain": [
       "<Figure size 432x288 with 1 Axes>"
      ]
     },
     "metadata": {
      "needs_background": "light"
     },
     "output_type": "display_data"
    }
   ],
   "source": [
    "text4 = book.text4\n",
    "\n",
    "text4.dispersion_plot(['man', 'democracy'])"
   ]
  },
  {
   "cell_type": "markdown",
   "metadata": {},
   "source": [
    "\n",
    "\n",
    "### 리스트&슬라이싱\n",
    "\n",
    "- 프로그래밍에서 '배열'에 해당 , 파이썬에서는 리스트라고 부른다\n",
    "- 하나의 변수에 여러 값을 할당하는 자료형\n",
    "    - example = [1, 2, 3, 4]\n",
    "- 대괄호를 사용한다\n",
    "- 내부 요소들의 자료형은 같을 필요 없다.\n",
    "    - example = [1, 'yes', True]\n",
    "- 순서가 있는 자료형 => 슬라이싱, 인덱싱\n",
    "- 빈 리스트 선언: set(),[]\n",
    "* set은 집합임!"
   ]
  },
  {
   "cell_type": "code",
   "execution_count": 50,
   "metadata": {},
   "outputs": [
    {
     "name": "stdout",
     "output_type": "stream",
     "text": [
      "I\n",
      " have\n",
      " an\n",
      " apple\n",
      "['I', ' have', ' an', ' apple']\n"
     ]
    }
   ],
   "source": [
    "#예시. 원래 아래와 같이 선언해야함.\n",
    "\n",
    "sent = 'I, have, an, apple'\n",
    "\n",
    "#sent_tokens = [w.strip() for w in sent.split(',')]\n",
    "\n",
    "sent_tokens = []\n",
    "\n",
    "for token in sent.split(','):\n",
    "    sent_tokens.append(token)\n",
    "    print(token)\n",
    "\n",
    "print(sent_tokens)"
   ]
  },
  {
   "cell_type": "code",
   "execution_count": 52,
   "metadata": {},
   "outputs": [
    {
     "data": {
      "text/plain": [
       "['I', ' have', ' an', ' apple']"
      ]
     },
     "execution_count": 52,
     "metadata": {},
     "output_type": "execute_result"
    }
   ],
   "source": [
    "#위의 과정을 하나로 줄여주는 것이 리스트 컴프리헨션\n",
    "[sent_tokens for token in sent]\n",
    "sent_tokens"
   ]
  },
  {
   "cell_type": "code",
   "execution_count": 53,
   "metadata": {},
   "outputs": [
    {
     "data": {
      "text/plain": [
       "'blue'"
      ]
     },
     "execution_count": 53,
     "metadata": {},
     "output_type": "execute_result"
    }
   ],
   "source": [
    "empty = []\n",
    "colors = ['blue', 'yellow', 'white']\n",
    "colors[0]\n",
    "#colors['blue']식으로 찾는 것은 불가능함"
   ]
  },
  {
   "cell_type": "code",
   "execution_count": 54,
   "metadata": {},
   "outputs": [
    {
     "data": {
      "text/plain": [
       "['white', 'yellow', 'blue']"
      ]
     },
     "execution_count": 54,
     "metadata": {},
     "output_type": "execute_result"
    }
   ],
   "source": [
    "#거꾸로 출력하기\n",
    "colors[::-1]"
   ]
  },
  {
   "cell_type": "markdown",
   "metadata": {},
   "source": [
    "\n",
    "\n",
    "### list comprehension\n",
    "- 포함형/지능형/축약형 리스트\n",
    "- 하나의 리스트에서 그걸 포함하여 다른 리스트를 만든다.\n",
    "- list + for loop\n",
    "-[A for A' in C]\n",
    "    - C에 있는 A'에서 A를 가져와라 => 리스트에 담아서 반환\n",
    "    - A: 내가 원하는 출력 형태\n",
    "    - A': C의 형태\n",
    "    - C:반복 가능한 자료형(리스트)\n",
    "    \n",
    "    \n",
    "- 조건 추가: [A for A' in C if ....]"
   ]
  },
  {
   "cell_type": "code",
   "execution_count": 55,
   "metadata": {},
   "outputs": [
    {
     "data": {
      "text/plain": [
       "['b', 'y', 'w']"
      ]
     },
     "execution_count": 55,
     "metadata": {},
     "output_type": "execute_result"
    }
   ],
   "source": [
    "[color[0] for color in colors]\n",
    "#colors의 color을 돌며 각각의 0번째 인덱스를 반환"
   ]
  },
  {
   "cell_type": "code",
   "execution_count": 62,
   "metadata": {},
   "outputs": [
    {
     "data": {
      "text/plain": [
       "['E', 'T', '.', 'h', 't', 'b', 'c', 'p', 'o', ',']"
      ]
     },
     "execution_count": 62,
     "metadata": {},
     "output_type": "execute_result"
    }
   ],
   "source": [
    "#text2의 토큰 중 마지막 10개 단어에서 첫 알파벳 출력\n",
    "\n",
    "[word[0] for word in text2.tokens[::-1][:10]]"
   ]
  },
  {
   "cell_type": "code",
   "execution_count": 63,
   "metadata": {},
   "outputs": [
    {
     "data": {
      "text/plain": [
       "['[', 'by', ']', '.']"
      ]
     },
     "execution_count": 63,
     "metadata": {},
     "output_type": "execute_result"
    }
   ],
   "source": [
    "#조건이 붙은 listcomp\n",
    "#10개 중 길이가 3보다 짧은 것\n",
    "[word for word in text1.tokens[:10] if len(word) < 3]"
   ]
  },
  {
   "cell_type": "markdown",
   "metadata": {},
   "source": [
    "\n",
    "\n",
    "\n",
    "### mini quiz\n",
    "1. text5에서 길이가 15이상인 단어 추출하기\n",
    "2. text3에서 대문자인 단어를 소문자로 추출: isupper(),lower()\n"
   ]
  },
  {
   "cell_type": "code",
   "execution_count": 65,
   "metadata": {},
   "outputs": [
    {
     "name": "stdout",
     "output_type": "stream",
     "text": [
      "False\n",
      "False\n",
      "True\n"
     ]
    }
   ],
   "source": [
    "#isupper:모두 대문자면True\n",
    "print('hey'.isupper())\n",
    "print('Hey'.isupper())\n",
    "print('HEY'.isupper())"
   ]
  },
  {
   "cell_type": "code",
   "execution_count": 66,
   "metadata": {},
   "outputs": [
    {
     "data": {
      "text/plain": [
       "'gayeong'"
      ]
     },
     "execution_count": 66,
     "metadata": {},
     "output_type": "execute_result"
    }
   ],
   "source": [
    "#소문자로 바꾸기\n",
    "'GAYEONG'.lower()"
   ]
  },
  {
   "cell_type": "code",
   "execution_count": 78,
   "metadata": {},
   "outputs": [
    {
     "data": {
      "text/plain": [
       "['iamahotniplickme',\n",
       " '!!!!!!!!!!!!!!!!',\n",
       " 'iamahotnipwithpics',\n",
       " 'iamahotnipwithhotnippics',\n",
       " '--------------------',\n",
       " '..............................',\n",
       " '!!!!!!!!!!!!!!!!',\n",
       " 'mikeeeeeeeeeeeeeeeeeeeeeeeeee',\n",
       " 'oooooooooooooonnnnnnnnnnnneeeeeeeeeeeeeeesssssssss',\n",
       " 'WEEEEEEEEEEEEEEEEEE']"
      ]
     },
     "execution_count": 78,
     "metadata": {},
     "output_type": "execute_result"
    }
   ],
   "source": [
    "#text5에서 길이가 15이상인 단어 추출하기\n",
    "[word for word in text5.tokens if len(word)>=15][:10]"
   ]
  },
  {
   "cell_type": "code",
   "execution_count": 79,
   "metadata": {},
   "outputs": [
    {
     "data": {
      "text/plain": [
       "['i', 'i', 'lord', 'lord', 'lord', 'lord', 'lord', 'lord', 'lord', 'lord']"
      ]
     },
     "execution_count": 79,
     "metadata": {},
     "output_type": "execute_result"
    }
   ],
   "source": [
    "#2 대문자인 단어를 소문자로 추출\n",
    "\n",
    "[word.lower() for word in text3.tokens if word.isupper()][:10]"
   ]
  },
  {
   "cell_type": "code",
   "execution_count": 81,
   "metadata": {},
   "outputs": [
    {
     "data": {
      "text/plain": [
       "1"
      ]
     },
     "execution_count": 81,
     "metadata": {},
     "output_type": "execute_result"
    }
   ],
   "source": [
    "#리스트의 인덱스 번호를 아는 법\n",
    "\n",
    "colors. index('yellow')"
   ]
  },
  {
   "cell_type": "markdown",
   "metadata": {},
   "source": [
    "\n",
    "\n",
    "#### cased, uncased\n",
    "\n",
    "- cased: 대소문자를 구분하는\n",
    "- uncased: 대소문자를 구분하지 않는\n",
    "\n",
    "- 변환: 'upper(), lower(), title(), swapcase()'\n",
    "    - 형태를 바꿔줌. 변수에 담아주기!\n",
    "    \n",
    "    \n",
    "- 형태 체크: 'isupper(), is slower(),istitle()'\n",
    "    - True,False\n",
    "    - 'endswith(<string>),startwith()'\n",
    "    - isalpha(): 문자냐. 알파벳만 골라줌\n",
    "    \n",
    "- 'string' .upper()\n",
    "- 'string' endswith()"
   ]
  },
  {
   "cell_type": "code",
   "execution_count": 88,
   "metadata": {},
   "outputs": [
    {
     "data": {
      "text/plain": [
       "['comfortableness',\n",
       " 'honourableness',\n",
       " 'immutableness',\n",
       " 'indispensableness',\n",
       " 'indomitableness',\n",
       " 'intolerableness',\n",
       " 'palpableness',\n",
       " 'reasonableness',\n",
       " 'uncomfortableness']"
      ]
     },
     "execution_count": 88,
     "metadata": {},
     "output_type": "execute_result"
    }
   ],
   "source": [
    "# text1에서 'ableness'로 끝나는 단어를 중복없이 정렬하기\n",
    "#순서 중요. 집합으로 묶고, 검사하고 정렬\n",
    "#중복을 없애고 정렬하는 것!\n",
    "#text1의 단어들 중 ableness로 끝나는 것\n",
    "sorted(set([word for word in text1 if word.endswith('ableness')]))"
   ]
  },
  {
   "cell_type": "markdown",
   "metadata": {},
   "source": [
    "\n",
    "\n",
    "#### 퀴즈\n",
    "text 4에서 'gnt'가 포함된 단어들을 소문자로 리스트 반환\n",
    "\n",
    "- 포함 검사에 대해 in 함수 사용하기\n",
    "- 중복은 set으로 없앨 수 있음"
   ]
  },
  {
   "cell_type": "code",
   "execution_count": 89,
   "metadata": {},
   "outputs": [
    {
     "name": "stdout",
     "output_type": "stream",
     "text": [
      "{'sovereignties', 'sovereignty'}\n",
      "['sovereignties', 'sovereignty', 'sovereignty']\n"
     ]
    }
   ],
   "source": [
    "#다 한다음에 중복을 없앰\n",
    "#중복이 없음\n",
    "print(set([word.lower() for word in text4 if 'gnt' in word]))\n",
    "\n",
    "#중복부터 없애고 작동\n",
    "#대소문자 구분이 있음. America, america둘 다 남음. 중복 있음\n",
    "print([word.lower() for word in set(text4)if 'gnt' in word])"
   ]
  },
  {
   "cell_type": "markdown",
   "metadata": {},
   "source": [
    "\n",
    "\n",
    "\n",
    "### Nltk frequency distribution\n",
    "\n",
    "- 단어개수, 빈도수(빈도는 주제를 대표할 수 있음!)"
   ]
  },
  {
   "cell_type": "code",
   "execution_count": 72,
   "metadata": {},
   "outputs": [
    {
     "data": {
      "text/plain": [
       "FreqDist({',': 18713, 'the': 13721, '.': 6862, 'of': 6536, 'and': 6024, 'a': 4569, 'to': 4542, ';': 4072, 'in': 3916, 'that': 2982, ...})"
      ]
     },
     "execution_count": 72,
     "metadata": {},
     "output_type": "execute_result"
    }
   ],
   "source": [
    "import nltk\n",
    "\n",
    "from nltk.book import *\n",
    "nltk.download('book', quiet = True)\n",
    "\n",
    "fdist = FreqDist(text1)\n",
    "#cased\n",
    "fdist"
   ]
  },
  {
   "cell_type": "markdown",
   "metadata": {},
   "source": [
    "#### 빈도수를 활용한 함수들 정리\n",
    "\n",
    "- fdist. most_common(숫자): 빈번한 상위 어휘와 사용 횟수를 출력\n",
    "- fdist['어휘'] = textn.count('어휘): 사용횟수 출력\n",
    "- fdist.freq('어휘'): 도수로 표현. 자주 나올 수록 1에 가까운 숫자\n",
    "- fdist.plot(개수): 나온 횟수를 표현. 개수 안 정해주면 오래걸림\n",
    "    - fdist.plot(개수, cumulative=True): 누적형\n",
    "- fdist.hapaxes()[:제한 개수]: 가장 적게 나타난 어휘들(대개 1번 출현)출력\n"
   ]
  },
  {
   "cell_type": "code",
   "execution_count": 95,
   "metadata": {},
   "outputs": [
    {
     "data": {
      "text/plain": [
       "[(',', 18713),\n",
       " ('the', 13721),\n",
       " ('.', 6862),\n",
       " ('of', 6536),\n",
       " ('and', 6024),\n",
       " ('a', 4569),\n",
       " ('to', 4542),\n",
       " (';', 4072),\n",
       " ('in', 3916),\n",
       " ('that', 2982)]"
      ]
     },
     "execution_count": 95,
     "metadata": {},
     "output_type": "execute_result"
    }
   ],
   "source": [
    "fdist.most_common(10)\n",
    "#빈번한 상위 몇개를 뽑아줌"
   ]
  },
  {
   "cell_type": "code",
   "execution_count": 96,
   "metadata": {},
   "outputs": [
    {
     "data": {
      "text/plain": [
       "(2982, 2982)"
      ]
     },
     "execution_count": 96,
     "metadata": {},
     "output_type": "execute_result"
    }
   ],
   "source": [
    "fdist['that'], text1.count('that')"
   ]
  },
  {
   "cell_type": "code",
   "execution_count": 101,
   "metadata": {},
   "outputs": [
    {
     "data": {
      "text/plain": [
       "0.052607363727335814"
      ]
     },
     "execution_count": 101,
     "metadata": {},
     "output_type": "execute_result"
    }
   ],
   "source": [
    "#fdist.freq('that')\n",
    "fdist.freq('the')\n",
    "#자주 나올 수록 수가 높아짐!"
   ]
  },
  {
   "cell_type": "code",
   "execution_count": 73,
   "metadata": {},
   "outputs": [
    {
     "data": {
      "image/png": "[encoded data removed]",
      "text/plain": [
       "<Figure size 432x288 with 1 Axes>"
      ]
     },
     "metadata": {
      "needs_background": "light"
     },
     "output_type": "display_data"
    },
    {
     "data": {
      "image/png": "[encoded data removed]",
      "text/plain": [
       "<Figure size 432x288 with 1 Axes>"
      ]
     },
     "metadata": {
      "needs_background": "light"
     },
     "output_type": "display_data"
    },
    {
     "data": {
      "text/plain": [
       "<matplotlib.axes._subplots.AxesSubplot at 0x1e6b5a546c8>"
      ]
     },
     "execution_count": 73,
     "metadata": {},
     "output_type": "execute_result"
    }
   ],
   "source": [
    "fdist.plot(50, cumulative = True)\n",
    "#누적형\n",
    "#사진이 뜨지 않을 시\n",
    "#!pip install matplotlib\n",
    "fdist.plot(50)"
   ]
  },
  {
   "cell_type": "code",
   "execution_count": 103,
   "metadata": {},
   "outputs": [
    {
     "data": {
      "text/plain": [
       "['Herman',\n",
       " 'Melville',\n",
       " ']',\n",
       " 'ETYMOLOGY',\n",
       " 'Late',\n",
       " 'Consumptive',\n",
       " 'School',\n",
       " 'threadbare',\n",
       " 'lexicons',\n",
       " 'mockingly']"
      ]
     },
     "execution_count": 103,
     "metadata": {},
     "output_type": "execute_result"
    }
   ],
   "source": [
    "# 가장 빈번하지 않은 => 한번 나타나는 단어들\n",
    "fdist.hapaxes()[:10]"
   ]
  },
  {
   "cell_type": "code",
   "execution_count": 104,
   "metadata": {},
   "outputs": [
    {
     "data": {
      "text/plain": [
       "{'Consumptive',\n",
       " 'ETYMOLOGY',\n",
       " 'Herman',\n",
       " 'Late',\n",
       " 'Melville',\n",
       " 'School',\n",
       " 'flags',\n",
       " 'lexicons',\n",
       " 'mockingly',\n",
       " 'threadbare'}"
      ]
     },
     "execution_count": 104,
     "metadata": {},
     "output_type": "execute_result"
    }
   ],
   "source": [
    "#알파벳만 담아보기. 중복되지 않게!\n",
    "set([w for w in fdist.hapaxes() if w.isalpha()][:10])"
   ]
  },
  {
   "cell_type": "code",
   "execution_count": 4,
   "metadata": {},
   "outputs": [
    {
     "data": {
      "text/plain": [
       "14333"
      ]
     },
     "execution_count": 4,
     "metadata": {},
     "output_type": "execute_result"
    }
   ],
   "source": [
    "#uncased fdist는 어떻게 만드는가(대소문자 구분안하는)\n",
    "#the는 만오천번 The는 6000번 나오면 the가 이만천번 나온다\n",
    "\n",
    "\n",
    "FreqDist =fdist['the'] + fdist['The']\n",
    "FreqDist"
   ]
  },
  {
   "cell_type": "code",
   "execution_count": 107,
   "metadata": {},
   "outputs": [
    {
     "data": {
      "text/plain": [
       "14431"
      ]
     },
     "execution_count": 107,
     "metadata": {},
     "output_type": "execute_result"
    }
   ],
   "source": [
    "#리스트 컴프리핸션 쓰기\n",
    "#모든 단어에 대해 소문자로 만들어 횟수를 세기\n",
    "fdist2 = FreqDist([word.lower() for word in text1])\n",
    "fdist2['the']"
   ]
  },
  {
   "cell_type": "code",
   "execution_count": 110,
   "metadata": {},
   "outputs": [
    {
     "data": {
      "text/plain": [
       "0"
      ]
     },
     "execution_count": 110,
     "metadata": {},
     "output_type": "execute_result"
    }
   ],
   "source": [
    "#다 lower해버려 The는 없음!\n",
    "#때문에 set사용 순서에 유의해야함. 소문자로 바꿔버리고 the를 없애버리면 다 사라질 것\n",
    "fdist2['The']"
   ]
  },
  {
   "cell_type": "code",
   "execution_count": 112,
   "metadata": {},
   "outputs": [
    {
     "name": "stdout",
     "output_type": "stream",
     "text": [
      "<FreqDist with 19317 samples and 260819 outcomes>\n",
      "<FreqDist with 17231 samples and 260819 outcomes>\n"
     ]
    }
   ],
   "source": [
    "fdist = FreqDist(text1) \n",
    "#대소문자, 첫글자 대문자 the, The, THE\n",
    "\n",
    "\n",
    "fidst2 =FreqDist([word.lower() for word in text1])\n",
    "#한꺼번에 세어질 수 있도록\n",
    "\n",
    "print(fdist)\n",
    "print(fdist2)"
   ]
  },
  {
   "cell_type": "markdown",
   "metadata": {},
   "source": [
    "#text2에서 길이가 3자이하이고, 빈도수가 5이상\n",
    "\n",
    "fdist_2 = FreqDist(text2)\n",
    "[word for word in text2 if len(word)<=3 and fdist[word]>=5][:10]"
   ]
  },
  {
   "cell_type": "code",
   "execution_count": null,
   "metadata": {},
   "outputs": [],
   "source": [
    "#listcomp\n",
    "\n",
    "[w for w in text2 if len(w)<=3 andFreqDis(text2)>=5]"
   ]
  },
  {
   "cell_type": "code",
   "execution_count": null,
   "metadata": {},
   "outputs": [],
   "source": [
    "[word for word in FreqDist(text2)]"
   ]
  },
  {
   "cell_type": "markdown",
   "metadata": {},
   "source": [
    "\n",
    "\n",
    "### 리스트 <->스트링\n",
    "- split()\n",
    "    - default = 공백\n",
    "- join()"
   ]
  },
  {
   "cell_type": "code",
   "execution_count": 8,
   "metadata": {},
   "outputs": [
    {
     "data": {
      "text/plain": [
       "['I', 'have', 'a', 'car']"
      ]
     },
     "execution_count": 8,
     "metadata": {},
     "output_type": "execute_result"
    }
   ],
   "source": [
    "sent = 'I have a car'\n",
    "#['I',' have','a','car'] tokens\n",
    "sent.split(' ')\n",
    "\n",
    "#공백을 기준으로 리스트에 나눠서 들어가짐"
   ]
  },
  {
   "cell_type": "code",
   "execution_count": 10,
   "metadata": {},
   "outputs": [
    {
     "data": {
      "text/plain": [
       "['I', 'have', 'a', 'car']"
      ]
     },
     "execution_count": 10,
     "metadata": {},
     "output_type": "execute_result"
    }
   ],
   "source": [
    "sent_tokens = [word.strip() for word in sent.split(' ')]\n",
    "sent_tokens"
   ]
  },
  {
   "cell_type": "code",
   "execution_count": 11,
   "metadata": {},
   "outputs": [
    {
     "data": {
      "text/plain": [
       "'I-have-a-car'"
      ]
     },
     "execution_count": 11,
     "metadata": {},
     "output_type": "execute_result"
    }
   ],
   "source": [
    "#['I', \"Have\" , 'A', 'Car']\n",
    "'-'.join(sent_tokens)"
   ]
  },
  {
   "cell_type": "markdown",
   "metadata": {},
   "source": [
    "\n",
    "\n",
    "### 반복문 맛보기(for)\n",
    "    \n",
    "\n",
    "- 자료구조를 순회할 때 사용\n",
    "- 시작 조건, 종료조건, 수행명령\n",
    "\n",
    "- for 변수 in <반복 범위>:\n",
    "    <들여쓰기><수행 명령>\n",
    "- [<수행명령> for 변수 in <반복 범위>]\n",
    "    - 0부터 시작\n",
    "    - 인덱스랑 다른 점은 :->,"
   ]
  },
  {
   "cell_type": "code",
   "execution_count": 12,
   "metadata": {},
   "outputs": [
    {
     "data": {
      "text/plain": [
       "['I', 'have', 'a', 'car']"
      ]
     },
     "execution_count": 12,
     "metadata": {},
     "output_type": "execute_result"
    }
   ],
   "source": [
    "[word for word in sent_tokens]"
   ]
  },
  {
   "cell_type": "code",
   "execution_count": 13,
   "metadata": {},
   "outputs": [
    {
     "name": "stdout",
     "output_type": "stream",
     "text": [
      "I\n",
      "have\n",
      "a\n",
      "car\n"
     ]
    }
   ],
   "source": [
    "for word in sent_tokens:\n",
    "    print(word)"
   ]
  },
  {
   "cell_type": "code",
   "execution_count": 14,
   "metadata": {},
   "outputs": [
    {
     "name": "stdout",
     "output_type": "stream",
     "text": [
      "0\n",
      "1\n",
      "2\n",
      "3\n",
      "4\n",
      "5\n",
      "6\n",
      "7\n",
      "8\n",
      "9\n"
     ]
    }
   ],
   "source": [
    "# 1-10출력\n",
    "for i in range(10):\n",
    "    print(i)"
   ]
  },
  {
   "cell_type": "markdown",
   "metadata": {},
   "source": [
    "\n",
    "\n",
    "\n",
    "\n",
    "\n",
    "### EX 복습퀴즈\n",
    "\n",
    "- 1. text6에서 길이가 4자 이하인 알파벳 중 ie를 포함하는 단어를 단어개수로 출력하시오.\n",
    " I Have a car면 각 각 단어의 빈도 \n",
    "    예:[1,3,4,3]\n",
    "    \n",
    "- 2. text2에서 ch로 끝나는 단어를 출력하는데\n",
    "    - 중복 없고\n",
    "    - 첫글자와 ch 남기고 가운데는 모두 -로 가려라\n",
    "        예: much->m-ch\n",
    "        - ch로 시작하면 바꾸면 안됨!!\n",
    "        예: pitch\n",
    "        p--ch\n",
    "        \n",
    "    - 정렬:\n",
    "        - 문자 길이로 정렬하기 "
   ]
  },
  {
   "cell_type": "code",
   "execution_count": 5,
   "metadata": {},
   "outputs": [
    {
     "name": "stdout",
     "output_type": "stream",
     "text": [
      "['die', 'Pie', 'Pie', 'Pie', 'Pie', 'die', 'lies', 'Pie', 'Pie', 'lie', 'Lie', 'tie', 'lies', 'died', 'died', 'lies', 'lie', 'Pie', 'Pie', 'Pie', 'Pie', 'died', 'lies']\n"
     ]
    }
   ],
   "source": [
    "#1\n",
    "\n",
    "#print([word.lower() for word in set(text4)if 'gnt' in word])\n",
    "\n",
    "print([n for n in text6 if len(n)<=4 and 'ie' in n])\n",
    "\n"
   ]
  },
  {
   "cell_type": "code",
   "execution_count": 65,
   "metadata": {},
   "outputs": [
    {
     "name": "stdout",
     "output_type": "stream",
     "text": [
      "['much', 'each', 'inch', 'Each', 'Such', 'rich', 'such', 'Much', 'match', 'fetch', 'Which', 'touch', 'watch', 'coach', 'teach', 'which', 'catch', 'reach', 'bitch', 'March', 'pitch', 'church', 'branch', 'attach', 'sketch', 'speech', 'breach', 'enrich', 'search', 'stretch', 'scratch', 'stomach', 'despatch', 'approach', 'dispatch', 'reproach']\n"
     ]
    }
   ],
   "source": [
    "#2.cased로 진행\n",
    "\n",
    "        \n",
    "arr = [w for w in set(text2) if w.endswith('ch')]\n",
    "arr = sorted(arr, key=len)\n",
    "#ch로 끝나는 단어들\n",
    "print(arr)\n"
   ]
  },
  {
   "cell_type": "code",
   "execution_count": 77,
   "metadata": {},
   "outputs": [
    {
     "name": "stdout",
     "output_type": "stream",
     "text": [
      "m-ch\n",
      "e-ch\n",
      "i-ch\n",
      "E-ch\n",
      "S-ch\n",
      "r-ch\n",
      "s-ch\n",
      "M-ch\n",
      "m--ch\n",
      "f--ch\n",
      "W--c-\n",
      "t--ch\n",
      "w--ch\n",
      "c--ch\n",
      "t--ch\n",
      "w--c-\n",
      "c--ch\n",
      "r--ch\n",
      "b--ch\n",
      "M--ch\n",
      "p--ch\n",
      "c---c-\n",
      "b---ch\n",
      "----ch\n",
      "s---ch\n",
      "s---ch\n",
      "b---ch\n",
      "e---ch\n",
      "s---ch\n",
      "s----ch\n",
      "s-----h\n",
      "s----ch\n",
      "d-----ch\n",
      "------ch\n",
      "d-----ch\n",
      "------ch\n"
     ]
    }
   ],
   "source": [
    "for w in arr:\n",
    "    for i in range(len(w)):\n",
    "        if i == 0 or i ==len(w)-1 or i==len(w)-2:\n",
    "            continue\n",
    "            \n",
    "        elif w[i]=='c' and w[i+1]=='h':\n",
    "            continue\n",
    "            \n",
    "        else:\n",
    "            w = w.replace(w[i],'-')\n",
    "    print(w)\n",
    "\n",
    "#스펠링이 같으면 가려지는 문제점"
   ]
  },
  {
   "cell_type": "code",
   "execution_count": null,
   "metadata": {},
   "outputs": [],
   "source": []
  }
 ],
 "metadata": {
  "kernelspec": {
   "display_name": "Python 3",
   "language": "python",
   "name": "python3"
  },
  "language_info": {
   "codemirror_mode": {
    "name": "ipython",
    "version": 3
   },
   "file_extension": ".py",
   "mimetype": "text/x-python",
   "name": "python",
   "nbconvert_exporter": "python",
   "pygments_lexer": "ipython3",
   "version": "3.7.6"
  }
 },
 "nbformat": 4,
 "nbformat_minor": 4
}
