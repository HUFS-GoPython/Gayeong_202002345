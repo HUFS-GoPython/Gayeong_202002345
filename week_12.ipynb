{
 "cells": [
  {
   "cell_type": "markdown",
   "metadata": {},
   "source": [
    "### 12주차 복습\n",
    "\n",
    "#### 함수 II\n",
    "\n",
    "##### asterisk(satrs)\n",
    "\n",
    "- * 기능\n",
    "    - 함수의 인자에 붙이면 튜플로 묶어서 활용\n",
    "    - 프린트문에 붙이면 언패킹\n",
    "        - 원래 안붙이면 튜플로 묶이질 않기 때문에 오류가 남\n",
    "    - args는 *args로 가져가 언패킹 해주는 것이 컨벤션\n",
    "- ** 기능\n",
    "    - 딕셔너리로 묶는 기능\n",
    "    - 언패킹 기능은 없다. 키: 값 구조"
   ]
  },
  {
   "cell_type": "code",
   "execution_count": 5,
   "metadata": {},
   "outputs": [
    {
     "name": "stdout",
     "output_type": "stream",
     "text": [
      "review is good for you\n"
     ]
    }
   ],
   "source": [
    "#원소들을 출력하는 함수\n",
    "\n",
    "def print_elem(elems):\n",
    "    print(elems)\n",
    " \n",
    "#원소가 하나라 작동.두개 입력 시 오류\n",
    "print_elem('review is good for you')"
   ]
  },
  {
   "cell_type": "code",
   "execution_count": 6,
   "metadata": {},
   "outputs": [
    {
     "name": "stdout",
     "output_type": "stream",
     "text": [
      "('review', 'team_project', 'final exam')\n"
     ]
    }
   ],
   "source": [
    "# *활용\n",
    "def print_elem(*elems):\n",
    "    print(elems)\n",
    "\n",
    "print_elem('review','team_project','final exam')"
   ]
  },
  {
   "cell_type": "code",
   "execution_count": 13,
   "metadata": {},
   "outputs": [
    {
     "name": "stdout",
     "output_type": "stream",
     "text": [
      "('my dream', 'champaigne supernova')\n",
      "my dream champaigne supernova\n"
     ]
    }
   ],
   "source": [
    "#* 언패킹\n",
    "def unpacking_elem(*elems):\n",
    "    #튜플 그대로\n",
    "    print(elems)\n",
    "    #언패킹\n",
    "    print(*elems)\n",
    "    \n",
    "unpacking_elem(\"my dream\",\"champaigne supernova\")"
   ]
  },
  {
   "cell_type": "code",
   "execution_count": 14,
   "metadata": {},
   "outputs": [
    {
     "name": "stdout",
     "output_type": "stream",
     "text": [
      "obligatory book\n",
      "1 2 3 4\n"
     ]
    }
   ],
   "source": [
    "# 기능 섞어서 활용도 가능함\n",
    "\n",
    "def print_arg2(name, *args):\n",
    "    print('obligatory', name)\n",
    "    print(*args)\n",
    "    \n",
    "print_arg2('book',1,2,3,4)"
   ]
  },
  {
   "cell_type": "code",
   "execution_count": 16,
   "metadata": {},
   "outputs": [
    {
     "name": "stdout",
     "output_type": "stream",
     "text": [
      "I need boyfriend\n",
      "4 1 3\n",
      "I need you\n",
      "(100, 10, 31, 24)\n",
      "I need love\n",
      "(100, 10, 31, 24)\n"
     ]
    }
   ],
   "source": [
    "#변수 할당도 가능하다.\n",
    "\n",
    "def print_elem(thing, *numbers):\n",
    "    print(\"I need\", thing)\n",
    "    print(*numbers)\n",
    "    \n",
    "print_elem(\"boyfriend\", 4,1,3)\n",
    "\n",
    "n = (100,10,31,24)\n",
    "\n",
    "x = print_elem(\"you\",n)\n",
    "y = print_elem(\"love\",n)"
   ]
  },
  {
   "cell_type": "markdown",
   "metadata": {},
   "source": [
    "#### 외부에서 활용하기\n",
    "\n",
    "- kargs\n",
    "- 컬렉션 자료형을 언패킹하여 출력할 시\n",
    "    - 컬렉션 자료형 : 리스트, 튜플, 셋, 딕셔너리...\n",
    "    - zip()과도 많이 활용한다. \n",
    "    \n",
    "- 키워드 전용 인수 선언 시 활용\n",
    "    - 키워드: 특별한 의미를 가진 용어들 def, False 등\n",
    "    - 별 뒤에 오는 매개변수들은 반드시 키워드 인수로 들어오도록 설정해줌\n",
    "    - kargs와 혼선을 빚지 않기 위해 사용\n",
    "        - kargs = keyword arguments\n",
    "        - 키워드 = 특정값 형태로 딕셔너리로 전달 가능"
   ]
  },
  {
   "cell_type": "code",
   "execution_count": 17,
   "metadata": {},
   "outputs": [
    {
     "name": "stdout",
     "output_type": "stream",
     "text": [
      "{0, 1, 2}\n",
      "0 1 2\n"
     ]
    }
   ],
   "source": [
    "args = set(range(3))\n",
    "\n",
    "print(args)\n",
    "print(*args)"
   ]
  },
  {
   "cell_type": "code",
   "execution_count": 19,
   "metadata": {},
   "outputs": [
    {
     "name": "stdout",
     "output_type": "stream",
     "text": [
      "1\n",
      "3\n",
      "5\n",
      "(1, 3, 5)\n",
      "(2, 4, 6)\n"
     ]
    }
   ],
   "source": [
    "# 수업 예제\n",
    "a = [\n",
    "    [1, 2],\n",
    "    [3, 4],\n",
    "    [5, 6]\n",
    "]\n",
    "#1,3,5/ 2,4,6\n",
    "for elem_list in a:\n",
    "    print(elem_list[0])\n",
    "    \n",
    "for row in zip(*a):\n",
    "    print(row)"
   ]
  },
  {
   "cell_type": "code",
   "execution_count": 18,
   "metadata": {},
   "outputs": [
    {
     "name": "stdout",
     "output_type": "stream",
     "text": [
      "이가영\n",
      "팀플1\n",
      "팀플2\n",
      "팀플3\n",
      "('이가영', '팀플1', '팀플2', '팀플3')\n",
      "('고급파이썬', '사전 뽑아오기', ' 사전 정제', '편의점')\n"
     ]
    }
   ],
   "source": [
    "arr = [\n",
    "    ['이가영','고급파이썬'],\n",
    "    ['팀플1', '사전 뽑아오기'],\n",
    "    ['팀플2', ' 사전 정제'],\n",
    "    ['팀플3' , '편의점']\n",
    "]\n",
    "for todo in arr:\n",
    "    print(todo[0])\n",
    "    \n",
    "#각각 뽑아오기\n",
    "for row in zip(*arr):\n",
    "    print(row)"
   ]
  },
  {
   "cell_type": "code",
   "execution_count": 21,
   "metadata": {},
   "outputs": [
    {
     "name": "stdout",
     "output_type": "stream",
     "text": [
      "1\n",
      "2\n"
     ]
    }
   ],
   "source": [
    "#data, start, end 사용법: start, end를 설정해줘야 한다. \n",
    "\n",
    "nums = list(range(5))\n",
    "\n",
    "def print_data(data, *, start, end): #start, end -> start = 0\n",
    "    for value in data[start:end]:\n",
    "        print(value)\n",
    "\n",
    "# 틀린 출력\n",
    "#print_data(nums)\n",
    "\n",
    "#start,end 설정\n",
    "print_data(nums, start = 1, end =3)"
   ]
  },
  {
   "cell_type": "markdown",
   "metadata": {},
   "source": [
    "#### **활용"
   ]
  },
  {
   "cell_type": "code",
   "execution_count": 25,
   "metadata": {},
   "outputs": [
    {
     "name": "stdout",
     "output_type": "stream",
     "text": [
      "{'dessert': 'pudding', 'drink': 'coffee'}\n",
      "pudding is sweet\n"
     ]
    }
   ],
   "source": [
    "# 딕녀러리로 묶기(kargs)\n",
    "# get으로 받으면 오류를 방지할 수 있다.\n",
    "\n",
    "def print_kargs(**kargs):\n",
    "    # ** 언패킹 불가\n",
    "    print(kargs)\n",
    "    \n",
    "    print(kargs['dessert'], 'is sweet')\n",
    "    \n",
    "#딕셔너리로 받아짐    \n",
    "print_kargs(dessert = 'pudding', drink = 'coffee')"
   ]
  },
  {
   "cell_type": "code",
   "execution_count": 26,
   "metadata": {},
   "outputs": [
    {
     "name": "stdout",
     "output_type": "stream",
     "text": [
      "{'dessert': 'puddin', 'drink': 'orange juice'}\n",
      "puddin is sweet\n",
      "{'dessert': 'cake', 'drink': 'orange juice'}\n",
      "cake is sweet\n",
      "{'dessert': 'cookie', 'drink': 'orange juice'}\n",
      "cookie is sweet\n"
     ]
    }
   ],
   "source": [
    "#활용\n",
    "dessert_list = 'puddin,cake,cookie'.split(',')\n",
    "\n",
    "#키 아규먼트\n",
    "for dessert in dessert_list:\n",
    "    print_kargs(dessert = dessert, drink = 'orange juice')"
   ]
  },
  {
   "cell_type": "code",
   "execution_count": 27,
   "metadata": {},
   "outputs": [
    {
     "name": "stdout",
     "output_type": "stream",
     "text": [
      "15\n",
      "{'first': 1, 'second': 2}\n"
     ]
    }
   ],
   "source": [
    "#자리 유의할 것. 위치인수> args> kargs\n",
    "def print_both(one, two, *args, **kargs):\n",
    "    print(one + two + sum(args))\n",
    "    print(kargs)\n",
    "    \n",
    "print_both(1, 2, 3, 4, 5, first = 1, second = 2)"
   ]
  },
  {
   "cell_type": "markdown",
   "metadata": {},
   "source": [
    "#### 3.5 이상 딕셔너리 결합 시 사용가능"
   ]
  },
  {
   "cell_type": "code",
   "execution_count": 31,
   "metadata": {},
   "outputs": [
    {
     "data": {
      "text/plain": [
       "{1: 'a', 2: 'c', 3: 'd'}"
      ]
     },
     "execution_count": 31,
     "metadata": {},
     "output_type": "execute_result"
    }
   ],
   "source": [
    "x = {1:'a', 2:'b'}\n",
    "y = {2: 'c', 3:'d'}\n",
    "z = {**x, **y}\n",
    "\n",
    "z"
   ]
  },
  {
   "cell_type": "markdown",
   "metadata": {},
   "source": [
    "#### 일급 객체\n",
    "\n",
    "- first class object, first class citizenn\n",
    "- 파이썬에서는 함수도 객체다\n",
    "    - 다른 언어에서는 아님\n",
    "- 일급객체의 성질\n",
    "    - 함수의 인자로 전달 가능\n",
    "    - 변환값이 될 수 있다(return)\n",
    "    - 수정, 할당될 수 있다"
   ]
  },
  {
   "cell_type": "code",
   "execution_count": 37,
   "metadata": {},
   "outputs": [
    {
     "name": "stdout",
     "output_type": "stream",
     "text": [
      "312\n"
     ]
    }
   ],
   "source": [
    "def get_num():\n",
    "    print(312)\n",
    "\n",
    "# 파이썬에서만 가능한 함수 객체\n",
    "def run_func(func):\n",
    "    func()\n",
    "    \n",
    "# 함수를 인자로\n",
    "run_func(get_num)"
   ]
  },
  {
   "cell_type": "code",
   "execution_count": 38,
   "metadata": {},
   "outputs": [
    {
     "name": "stdout",
     "output_type": "stream",
     "text": [
      "312\n"
     ]
    }
   ],
   "source": [
    "def run_anything(func):\n",
    "    return func\n",
    "\n",
    "run_anything(get_num)() #괄호를 붙이면 함수가 실행된다.  함수로 받아서 실행 하는 것. "
   ]
  },
  {
   "cell_type": "code",
   "execution_count": 39,
   "metadata": {},
   "outputs": [
    {
     "data": {
      "text/plain": [
       "13"
      ]
     },
     "execution_count": 39,
     "metadata": {},
     "output_type": "execute_result"
    }
   ],
   "source": [
    "# 수업 예제\n",
    "#일급객체와 에스테릭스 합치기\n",
    "def sum_args(*args):\n",
    "    return sum(args)\n",
    "\n",
    "def run_with_positional_args(func, *args):\n",
    "    return func(*args)\n",
    "\n",
    "run_with_positional_args(sum_args, 1, 3, 4, 5)"
   ]
  },
  {
   "cell_type": "code",
   "execution_count": 1,
   "metadata": {},
   "outputs": [
    {
     "data": {
      "text/plain": [
       "[1, 3, 5, 9]"
      ]
     },
     "execution_count": 1,
     "metadata": {},
     "output_type": "execute_result"
    }
   ],
   "source": [
    "#가변 인자, 불변 인자\n",
    "\n",
    "#가변 인자일 때 => 초기화하지 않으면 변수 내용이 변할 수 있음\n",
    "def func(num_list):\n",
    "    # 변할 수 잇음을 문서화하거나 인지 시켜주지 않으면 위험한 코드임.\n",
    "    sum_num = sum(num_list)\n",
    "    num_list.append(sum_num)\n",
    "    \n",
    "a = [1, 3, 5]\n",
    "func(a)\n",
    "a"
   ]
  },
  {
   "cell_type": "code",
   "execution_count": 2,
   "metadata": {},
   "outputs": [
    {
     "data": {
      "text/plain": [
       "[1, 3, 5, 9, 18]"
      ]
     },
     "execution_count": 2,
     "metadata": {},
     "output_type": "execute_result"
    }
   ],
   "source": [
    "# 초기화 해주지 않아 누적되는 모습\n",
    "func(a)\n",
    "a"
   ]
  },
  {
   "cell_type": "markdown",
   "metadata": {},
   "source": [
    "#### 익명함수 람다\n",
    "\n",
    "- lambda\n",
    "- 이름 없는 함수(def, retun이 없다)\n",
    "- 사용: 단순하여 이름 적는 것이 낭비일 시 사용\n",
    "- 많이 단순하지 않다면 쓰지 않기를 권한다\n",
    "    - 직관성이 낮고, 이름이 없기 때문에 재활용이 불가능하기 때문\n",
    "    \n",
    "\n",
    "- 문법: lambda x:<x 관련 코드>"
   ]
  },
  {
   "cell_type": "code",
   "execution_count": 6,
   "metadata": {},
   "outputs": [
    {
     "name": "stdout",
     "output_type": "stream",
     "text": [
      "ok\n"
     ]
    },
    {
     "data": {
      "text/plain": [
       "'ok'"
      ]
     },
     "execution_count": 6,
     "metadata": {},
     "output_type": "execute_result"
    }
   ],
   "source": [
    "#수업\n",
    "#lambda x: x.lower()\n",
    "\n",
    "def f(x):\n",
    "    return x.lower()\n",
    "\n",
    "#위와 아래는 같은 코드\n",
    "\n",
    "f2 = lambda x: x.lower()\n",
    "\n",
    "print(f('OK'))\n",
    "f2('OK')"
   ]
  },
  {
   "cell_type": "code",
   "execution_count": 7,
   "metadata": {},
   "outputs": [
    {
     "data": {
      "text/plain": [
       "'ok'"
      ]
     },
     "execution_count": 7,
     "metadata": {},
     "output_type": "execute_result"
    }
   ],
   "source": [
    "# 위에는변수할당해줘서 이름이 있는데 이름이 없는 예시\n",
    "(lambda x: x.lower())(\"OK\")"
   ]
  },
  {
   "cell_type": "code",
   "execution_count": 9,
   "metadata": {},
   "outputs": [
    {
     "data": {
      "text/plain": [
       "101"
      ]
     },
     "execution_count": 9,
     "metadata": {},
     "output_type": "execute_result"
    }
   ],
   "source": [
    "# 활용 예제\n",
    "\n",
    "(lambda y: y+1)(100)"
   ]
  },
  {
   "cell_type": "code",
   "execution_count": 10,
   "metadata": {},
   "outputs": [
    {
     "data": {
      "text/plain": [
       "'ABC!'"
      ]
     },
     "execution_count": 10,
     "metadata": {},
     "output_type": "execute_result"
    }
   ],
   "source": [
    "# 수업중 만든 ! 붙이는 코드\n",
    "f4 = lambda x : x.upper()+'!'\n",
    "f4(\"abc\")"
   ]
  },
  {
   "cell_type": "code",
   "execution_count": 11,
   "metadata": {},
   "outputs": [
    {
     "data": {
      "text/plain": [
       "'ABC!'"
      ]
     },
     "execution_count": 11,
     "metadata": {},
     "output_type": "execute_result"
    }
   ],
   "source": [
    "#익명 함수 특징 살려 만들기\n",
    "(lambda x: x.upper() + '!')(\"abc\")"
   ]
  },
  {
   "cell_type": "code",
   "execution_count": null,
   "metadata": {},
   "outputs": [],
   "source": []
  }
 ],
 "metadata": {
  "kernelspec": {
   "display_name": "Python 3",
   "language": "python",
   "name": "python3"
  },
  "language_info": {
   "codemirror_mode": {
    "name": "ipython",
    "version": 3
   },
   "file_extension": ".py",
   "mimetype": "text/x-python",
   "name": "python",
   "nbconvert_exporter": "python",
   "pygments_lexer": "ipython3",
   "version": "3.7.6"
  }
 },
 "nbformat": 4,
 "nbformat_minor": 4
}
