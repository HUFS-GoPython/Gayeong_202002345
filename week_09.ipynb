{
 "cells": [
  {
   "cell_type": "markdown",
   "metadata": {},
   "source": [
    "### 9주차 수업: 딕셔너리, set"
   ]
  },
  {
   "cell_type": "markdown",
   "metadata": {},
   "source": [
    "#### 딕셔너리\n",
    "- {키: 값, 키:값...} 형태로 구성되는 자료형\n",
    "\n",
    "- 키의 특징\n",
    "    - 키값은 고유해야한다\n",
    "    - 키값이 중복이면 안된다. \n",
    "        - 키 값이 중복이면 정확히는 수정이 되어버린다.\n",
    "        \n",
    "\n",
    "- 순서가 없기 때문에 인덱스가 없다\n",
    "- 가변 객체(mutable)하여 수정, 추가, 삭제가 가능하다\n",
    "\n",
    "\n",
    "- 타입변형: dict, dict()\n",
    "    - dict()는 키에 따옴표를 쓰지 않아도 된다\n",
    "    \n",
    "    \n",
    "- value로는 리스트, 튜플, 딕셔너리 등 다양한 자료 구조 삽입이 가능하다. "
   ]
  },
  {
   "cell_type": "code",
   "execution_count": 6,
   "metadata": {},
   "outputs": [
    {
     "name": "stdout",
     "output_type": "stream",
     "text": [
      "0\n"
     ]
    },
    {
     "data": {
      "text/plain": [
       "'이가영'"
      ]
     },
     "execution_count": 6,
     "metadata": {},
     "output_type": "execute_result"
    }
   ],
   "source": [
    "#순서가 없는 딕셔너리\n",
    "arr = [0,1,2,3]\n",
    "print(arr[0])\n",
    "dict1 = {'name': '이가영', 'sub':'고급 파이썬'}\n",
    "#인덱스가 없으므로 키로 접근해야한다.\n",
    "dict1['name']"
   ]
  },
  {
   "cell_type": "code",
   "execution_count": 7,
   "metadata": {},
   "outputs": [
    {
     "data": {
      "text/plain": [
       "({}, {})"
      ]
     },
     "execution_count": 7,
     "metadata": {},
     "output_type": "execute_result"
    }
   ],
   "source": [
    "#빈 딕셔너리 선언해주기\n",
    "empty_dict = dict()\n",
    "empty_dict2 ={}\n",
    "empty_dict, empty_dict2"
   ]
  },
  {
   "cell_type": "code",
   "execution_count": 12,
   "metadata": {},
   "outputs": [
    {
     "data": {
      "text/plain": [
       "(set, {1, 2, 3})"
      ]
     },
     "execution_count": 12,
     "metadata": {},
     "output_type": "execute_result"
    }
   ],
   "source": [
    "arr = [1,2,3]\n",
    "arr = set(arr)\n",
    "type(arr),set(arr)"
   ]
  },
  {
   "cell_type": "code",
   "execution_count": 13,
   "metadata": {},
   "outputs": [
    {
     "data": {
      "text/plain": [
       "{'name', 'sub'}"
      ]
     },
     "execution_count": 13,
     "metadata": {},
     "output_type": "execute_result"
    }
   ],
   "source": [
    "arr2 = {'name':'이가영','sub':'고파썬'}\n",
    "arr2 = set(arr2)\n",
    "#키만 남기게 된다.\n",
    "arr2"
   ]
  },
  {
   "cell_type": "code",
   "execution_count": 14,
   "metadata": {},
   "outputs": [
    {
     "data": {
      "text/plain": [
       "{'title': 'Cruella', 'company': 'Diseney', 'place': 'CGV'}"
      ]
     },
     "execution_count": 14,
     "metadata": {},
     "output_type": "execute_result"
    }
   ],
   "source": [
    "#키에 따옴표를 안넣어도 되는 dict()\n",
    "#dict(키 = value 형식)\n",
    "my_love = dict(title = 'Cruella', company = 'Diseney', place = 'CGV')\n",
    "my_love"
   ]
  },
  {
   "cell_type": "markdown",
   "metadata": {},
   "source": [
    "#### 수업 문제: 출석부 딕셔너리 만들기\n",
    "- 이름, 학번, 학과로 구성\n",
    "- 제임스 202201 경영학과\n",
    "- 줄리엣 202202 아랍어과\n",
    "- 로버트 202203 ELLT과\n",
    "- 키를 무엇으로 잡아야할까?"
   ]
  },
  {
   "cell_type": "code",
   "execution_count": 16,
   "metadata": {},
   "outputs": [
    {
     "data": {
      "text/plain": [
       "{'제임스': (202201, '경영학과'), '줄리엣': (2022, '아랍어과'), '로버트': (202203, 'ELLT')}"
      ]
     },
     "execution_count": 16,
     "metadata": {},
     "output_type": "execute_result"
    }
   ],
   "source": [
    "attendance = dict(제임스 = (202201,'경영학과'),줄리엣 = (2022,'아랍어과'),로버트 = (202203,'ELLT'))\n",
    "attendance"
   ]
  },
  {
   "cell_type": "code",
   "execution_count": 17,
   "metadata": {},
   "outputs": [
    {
     "data": {
      "text/plain": [
       "{202002345: ('이가영', '포르투갈어과'), 2022: ('줄리엣', '아랍어과')}"
      ]
     },
     "execution_count": 17,
     "metadata": {},
     "output_type": "execute_result"
    }
   ],
   "source": [
    "#키를 번호로잡아도 된다. 고유하기 때문에!\n",
    "attendance_ex = {202002345:('이가영','포르투갈어과'), 2022:(\"줄리엣\",'아랍어과')}\n",
    "attendance_ex"
   ]
  },
  {
   "cell_type": "code",
   "execution_count": 20,
   "metadata": {},
   "outputs": [
    {
     "name": "stdin",
     "output_type": "stream",
     "text": [
      " 줄리엣\n"
     ]
    },
    {
     "data": {
      "text/plain": [
       "(2022, '아랍어과')"
      ]
     },
     "execution_count": 20,
     "metadata": {},
     "output_type": "execute_result"
    }
   ],
   "source": [
    "#검색도 가능하다\n",
    "calling = input()\n",
    "attendance[calling]"
   ]
  },
  {
   "cell_type": "markdown",
   "metadata": {},
   "source": [
    "#### 형변환\n",
    "\n",
    "- dict()\n",
    "    - 키에 따옴표가 없어도 됨. 리스트의 경우 둘씩 쪼개서 키:값 으로 들어감\n",
    "    - 집합이 두개씩 묶여있다면 각자 키:값\n",
    "    - 리스트의 개수가 홀수일 경우 오류가 난다. "
   ]
  },
  {
   "cell_type": "code",
   "execution_count": 24,
   "metadata": {},
   "outputs": [
    {
     "data": {
      "text/plain": [
       "{20221: ['이가영'], 3: 12, 2001: 3}"
      ]
     },
     "execution_count": 24,
     "metadata": {},
     "output_type": "execute_result"
    }
   ],
   "source": [
    "ex1 = [[20221,['이가영']],[3,12],[2001,3]]\n",
    "dict(ex1)"
   ]
  },
  {
   "cell_type": "code",
   "execution_count": 25,
   "metadata": {},
   "outputs": [
    {
     "data": {
      "text/plain": [
       "{'구융소': 'sw&ai', '한국외대': '한국외국어대학교'}"
      ]
     },
     "execution_count": 25,
     "metadata": {},
     "output_type": "execute_result"
    }
   ],
   "source": [
    "ex2 = [('구융소','sw&ai'),('한국외대','한국외국어대학교')]\n",
    "dict(ex2)"
   ]
  },
  {
   "cell_type": "markdown",
   "metadata": {},
   "source": [
    "#### 항목 변경하기\n",
    "- 인덱스로 찾기가 불가능\n",
    "- 때문에 키로 찾아가서 값을 변경해주면 됨\n",
    "    - dictionary['key'] = 'value'\n",
    "- 있는 키일 경우 변경, 없는 키일 경우 추가가 된다"
   ]
  },
  {
   "cell_type": "code",
   "execution_count": 67,
   "metadata": {},
   "outputs": [
    {
     "data": {
      "text/plain": [
       "{'G-Idle': 'Tomboy',\n",
       " 'Hyuck-oh': 'Tomboy',\n",
       " 'zedd': 'Middle',\n",
       " 'radwimps': 'sparkle'}"
      ]
     },
     "execution_count": 67,
     "metadata": {},
     "output_type": "execute_result"
    }
   ],
   "source": [
    "Songs = {\n",
    "    'G-Idle':'Tomboy',\n",
    "    'Hyuck-oh':'Tomboy',\n",
    "    'zedd':'Middle',\n",
    "    'radwimps':'sparkle'\n",
    "}\n",
    "Songs"
   ]
  },
  {
   "cell_type": "code",
   "execution_count": 31,
   "metadata": {},
   "outputs": [
    {
     "data": {
      "text/plain": [
       "{'G-Idle': 'Tomboy',\n",
       " 'Hyuck-oh': 'Tomboy',\n",
       " 'zedd': 'Middle',\n",
       " 'radwimps': 'sparkle',\n",
       " 'Infinite': 'Cover girl'}"
      ]
     },
     "execution_count": 31,
     "metadata": {},
     "output_type": "execute_result"
    }
   ],
   "source": [
    "#키값이 없을 경우 추가 되는 것\n",
    "Songs['Infinite'] = 'Cover girl'\n",
    "Songs"
   ]
  },
  {
   "cell_type": "code",
   "execution_count": 32,
   "metadata": {},
   "outputs": [
    {
     "data": {
      "text/plain": [
       "{'G-Idle': 'Tomboy',\n",
       " 'Hyuck-oh': 'Love-Ya',\n",
       " 'zedd': 'Middle',\n",
       " 'radwimps': 'sparkle',\n",
       " 'Infinite': 'Cover girl'}"
      ]
     },
     "execution_count": 32,
     "metadata": {},
     "output_type": "execute_result"
    }
   ],
   "source": [
    "#키 값이 있는 경우 변경된다\n",
    "Songs['Hyuck-oh'] = 'Love-Ya'\n",
    "Songs"
   ]
  },
  {
   "cell_type": "markdown",
   "metadata": {},
   "source": [
    "### 값이 없을 때 불러오는 법\n",
    "- Songs[없는 가수]로 하면 에러가난다\n",
    "\n",
    "- 해결하는 방법\n",
    "1. '가수' in Songs : 순회하며 찾고, 있다면 True, 없으면 False로 반환\n",
    "2. 딕셔너리.get('키',없을 시 반환 값)"
   ]
  },
  {
   "cell_type": "code",
   "execution_count": 34,
   "metadata": {},
   "outputs": [
    {
     "data": {
      "text/plain": [
       "False"
      ]
     },
     "execution_count": 34,
     "metadata": {},
     "output_type": "execute_result"
    }
   ],
   "source": [
    "# 값이 없을 때 키를 불러오면 에러가 난다. 때문에 Songs['B1A4']로 불러오면 안된다.\n",
    "#값이 없을 때 불러오기: 없다면 False\n",
    "'B1A4' in Songs"
   ]
  },
  {
   "cell_type": "code",
   "execution_count": 35,
   "metadata": {},
   "outputs": [
    {
     "data": {
      "text/plain": [
       "True"
      ]
     },
     "execution_count": 35,
     "metadata": {},
     "output_type": "execute_result"
    }
   ],
   "source": [
    "'Infinite'in Songs"
   ]
  },
  {
   "cell_type": "code",
   "execution_count": 36,
   "metadata": {},
   "outputs": [
    {
     "name": "stdout",
     "output_type": "stream",
     "text": [
      "None 없습니다\n"
     ]
    }
   ],
   "source": [
    "print(Songs.get('Boa'), Songs.get('Boa','없습니다'))"
   ]
  },
  {
   "cell_type": "code",
   "execution_count": 38,
   "metadata": {},
   "outputs": [
    {
     "name": "stdout",
     "output_type": "stream",
     "text": [
      "Middle\n"
     ]
    }
   ],
   "source": [
    "print(Songs.get('zedd'))"
   ]
  },
  {
   "cell_type": "markdown",
   "metadata": {},
   "source": [
    "### 딕셔너리 함수: keys(), values(), items()\n",
    "- keys() : 키 반환\n",
    "- values() : 값 반환\n",
    "- items(): 아이템들 반환.\n",
    "    - 아이템 형식 [(키,값),(키,값)]"
   ]
  },
  {
   "cell_type": "code",
   "execution_count": 40,
   "metadata": {},
   "outputs": [
    {
     "name": "stdout",
     "output_type": "stream",
     "text": [
      "dict_keys(['G-Idle', 'Hyuck-oh', 'zedd', 'radwimps', 'Infinite']) <class 'dict_keys'>\n",
      "dict_values(['Tomboy', 'Love-Ya', 'Middle', 'sparkle', 'Cover girl'])\n",
      "dict_items([('G-Idle', 'Tomboy'), ('Hyuck-oh', 'Love-Ya'), ('zedd', 'Middle'), ('radwimps', 'sparkle'), ('Infinite', 'Cover girl')])\n"
     ]
    }
   ],
   "source": [
    "#타입 자체가 딕셔너리의 키, 값, 아이템인것을 볼 수 있다.\n",
    "print(Songs.keys(), type(Songs.keys()))\n",
    "print(Songs.values())\n",
    "print(Songs.items())"
   ]
  },
  {
   "cell_type": "code",
   "execution_count": 42,
   "metadata": {},
   "outputs": [
    {
     "data": {
      "text/plain": [
       "['G-Idle', 'Hyuck-oh', 'zedd', 'radwimps', 'Infinite']"
      ]
     },
     "execution_count": 42,
     "metadata": {},
     "output_type": "execute_result"
    }
   ],
   "source": [
    "#형변환을 해야 유용하게 사용 가능\n",
    "list(Songs.keys())"
   ]
  },
  {
   "cell_type": "code",
   "execution_count": 48,
   "metadata": {},
   "outputs": [
    {
     "name": "stdout",
     "output_type": "stream",
     "text": [
      "['G-Idle', 'Hyuck-oh', 'zedd', 'radwimps', 'Infinite']\n",
      "['Tomboy', 'Love-Ya', 'Middle', 'sparkle', 'Cover girl']\n",
      "[('G-Idle', 'Tomboy'), ('Hyuck-oh', 'Love-Ya'), ('zedd', 'Middle'), ('radwimps', 'sparkle'), ('Infinite', 'Cover girl')]\n"
     ]
    }
   ],
   "source": [
    "#아이템은 순회 시 자주 사용됨\n",
    "#item[0] = 키 ,item[1] = 값\n",
    "print([group[0] for group in Songs.items()])\n",
    "print([group[1] for group in Songs.items()])\n",
    "print([group for group in Songs.items()])"
   ]
  },
  {
   "cell_type": "markdown",
   "metadata": {},
   "source": [
    "#### 수업 문제: forloop을 이용해서 animal:legs 형태의 딕셔너리 만들기"
   ]
  },
  {
   "cell_type": "code",
   "execution_count": 50,
   "metadata": {},
   "outputs": [
    {
     "data": {
      "text/plain": [
       "{'cat': 4, 'snake': 0, 'monkey': 2, 'ant': 4, 'spider': 8}"
      ]
     },
     "execution_count": 50,
     "metadata": {},
     "output_type": "execute_result"
    }
   ],
   "source": [
    "animals = 'cat snake monkey ant spider'.split()\n",
    "legs = 4,0,2,4,8\n",
    "#내가 적었던 코드.\n",
    "leg_count = []\n",
    "for a,n in zip(animals, legs):\n",
    "    leg_count.append([a,n])\n",
    "#print(leg_count)\n",
    "#딕셔너리로 바꾸는 것은 비효율적이다\n",
    "dict(leg_count)"
   ]
  },
  {
   "cell_type": "code",
   "execution_count": 51,
   "metadata": {},
   "outputs": [
    {
     "data": {
      "text/plain": [
       "{'cat': 4, 'snake': 0, 'monkey': 2, 'ant': 4, 'spider': 8}"
      ]
     },
     "execution_count": 51,
     "metadata": {},
     "output_type": "execute_result"
    }
   ],
   "source": [
    "#아예 처음부터 딕셔너리로 받기\n",
    "animals = 'cat snake monkey ant spider'.split()\n",
    "legs = 4,0,2,4,8\n",
    "\n",
    "animals_dict = {}\n",
    "for k,v in zip(animals, legs):\n",
    "    animals_dict[k] = v\n",
    "    \n",
    "animals_dict"
   ]
  },
  {
   "cell_type": "markdown",
   "metadata": {},
   "source": [
    "### 수업: 파이썬 딕셔너리에서 성:이름-> 성 앞글자, 이름 글자수로 리스트 컴프리헨션"
   ]
  },
  {
   "cell_type": "code",
   "execution_count": 53,
   "metadata": {},
   "outputs": [
    {
     "data": {
      "text/plain": [
       "[('c', 6), ('C', 4), ('J', 5), ('I', 4), ('P', 7)]"
      ]
     },
     "execution_count": 53,
     "metadata": {},
     "output_type": "execute_result"
    }
   ],
   "source": [
    "pythons = {\n",
    "    'chapman':'Graham',\n",
    "    'Cleese':'Jhon',\n",
    "    'Jhones': 'Terry',\n",
    "    'Idle':'Eric',\n",
    "    'Palin':'Michael'\n",
    "}\n",
    "#아이템을 사용하여 쉽게 만들 수 있다.\n",
    "[(x[0],len(y)) for x,y in pythons.items()]"
   ]
  },
  {
   "cell_type": "markdown",
   "metadata": {},
   "source": [
    "### 딕셔너리에서 값 삭제, 복제하기, 비교하기\n",
    "\n",
    "#### 복제\n",
    "- .update(넣을 딕셔너리): append와 유사. 할당하지 않아도 된다.\n",
    "- ** 파이썬3 부터 가능함. 까먹어도 괜찮다.\n",
    "\n",
    "#### 삭제\n",
    "- del dict[key]\n",
    "- .pop(key): 지워지는 값을 보여줌. get과 유사함\n",
    "- .clear(): 완전히 지우는 함수\n",
    "\n",
    "#### 복제\n",
    "- .copy(): 얕은 복사로 가변 객체 내에 있는 리스트는 수정이 되지 않는다.\n",
    "- import copy/ .deepcopy(변수명): 수정가능\n",
    "\n",
    "#### 비교\n",
    "- 크다 작다 비교는 불가능함. 다만 같다 다르다는 가능"
   ]
  },
  {
   "cell_type": "code",
   "execution_count": 68,
   "metadata": {},
   "outputs": [
    {
     "data": {
      "text/plain": [
       "{'G-Idle': 'Tomboy',\n",
       " 'Hyuck-oh': 'Tomboy',\n",
       " 'zedd': 'Middle',\n",
       " 'radwimps': 'sparkle',\n",
       " 'twice': 'cheer up',\n",
       " 'Bigbang': '4seasons'}"
      ]
     },
     "execution_count": 68,
     "metadata": {},
     "output_type": "execute_result"
    }
   ],
   "source": [
    "Comeback = dict( twice = 'cheer up', Bigbang = '4seasons')\n",
    "Songs.update(Comeback)\n",
    "Songs"
   ]
  },
  {
   "cell_type": "code",
   "execution_count": 69,
   "metadata": {},
   "outputs": [
    {
     "data": {
      "text/plain": [
       "{'G-Idle': 'Tomboy',\n",
       " 'Hyuck-oh': 'Tomboy',\n",
       " 'zedd': 'Middle',\n",
       " 'twice': 'cheer up',\n",
       " 'Bigbang': '4seasons'}"
      ]
     },
     "execution_count": 69,
     "metadata": {},
     "output_type": "execute_result"
    }
   ],
   "source": [
    "del Songs['radwimps']\n",
    "Songs"
   ]
  },
  {
   "cell_type": "code",
   "execution_count": 70,
   "metadata": {},
   "outputs": [
    {
     "data": {
      "text/plain": [
       "{'G-Idle': 'Tomboy',\n",
       " 'Hyuck-oh': 'Tomboy',\n",
       " 'zedd': 'Middle',\n",
       " 'twice': 'cheer up'}"
      ]
     },
     "execution_count": 70,
     "metadata": {},
     "output_type": "execute_result"
    }
   ],
   "source": [
    "Songs.pop('Bigbang')\n",
    "Songs"
   ]
  },
  {
   "cell_type": "code",
   "execution_count": 71,
   "metadata": {},
   "outputs": [
    {
     "data": {
      "text/plain": [
       "{}"
      ]
     },
     "execution_count": 71,
     "metadata": {},
     "output_type": "execute_result"
    }
   ],
   "source": [
    "Songs.clear()\n",
    "Songs"
   ]
  },
  {
   "cell_type": "code",
   "execution_count": 72,
   "metadata": {},
   "outputs": [
    {
     "data": {
      "text/plain": [
       "({1: [100, 2, 2], 2: [1, 1, 1]}, {1: [100, 2, 2], 2: [1, 1, 1]})"
      ]
     },
     "execution_count": 72,
     "metadata": {},
     "output_type": "execute_result"
    }
   ],
   "source": [
    "#깊은 복사하기\n",
    "a = {1:[2,2,2], 2:[1,1,1]}\n",
    "b = a.copy()\n",
    "a[1][0] = 100\n",
    "#아쉽게도 똑같다..!\n",
    "# 가변객체 내에 있는 리스트는 수정 x\n",
    "a,b"
   ]
  },
  {
   "cell_type": "code",
   "execution_count": 73,
   "metadata": {},
   "outputs": [
    {
     "data": {
      "text/plain": [
       "({1: [9, 2, 2], 2: [1, 1, 1]}, {1: [100, 2, 2], 2: [1, 1, 1]})"
      ]
     },
     "execution_count": 73,
     "metadata": {},
     "output_type": "execute_result"
    }
   ],
   "source": [
    "#방법: 함수 호출\n",
    "import copy\n",
    "b = copy.deepcopy(a)\n",
    "a[1][0] = 9\n",
    "a,b"
   ]
  },
  {
   "cell_type": "code",
   "execution_count": 74,
   "metadata": {},
   "outputs": [
    {
     "name": "stdout",
     "output_type": "stream",
     "text": [
      "False\n",
      "True\n"
     ]
    }
   ],
   "source": [
    "print(a==b)\n",
    "print(a!=b)"
   ]
  },
  {
   "cell_type": "markdown",
   "metadata": {},
   "source": [
    "### 수업 중 실습: 행성\n",
    "1. 명왕성 추가하기\n",
    "2. 지구 등 성으로 끝나지 않는 단어를 삭제하되 하드코딩 금지\n",
    "3. 정렬"
   ]
  },
  {
   "cell_type": "code",
   "execution_count": 79,
   "metadata": {},
   "outputs": [
    {
     "data": {
      "text/plain": [
       "{'태양': 'sun',\n",
       " '수성': 'mercury',\n",
       " '금성': 'venus',\n",
       " '지구': 'earth',\n",
       " '화성': 'mars',\n",
       " '목성': 'jupiter',\n",
       " '토성': 'saturn',\n",
       " '천왕성': 'uranus',\n",
       " '해왕성': 'neptune',\n",
       " '명왕성': 'pluto'}"
      ]
     },
     "execution_count": 79,
     "metadata": {},
     "output_type": "execute_result"
    }
   ],
   "source": [
    "solar_kor = '태양 수성 금성 지구 화성 목성 토성 천왕성 해왕성'.split()\n",
    "solar_eng = 'sun mercury venus earth mars jupiter saturn uranus neptune'.split()\n",
    "solar = [ (k,e) for k,e in zip(solar_kor,solar_eng)]\n",
    "dict_solar = dict(solar)\n",
    "#1.명왕성 추가\n",
    "dict_solar['명왕성'] = 'pluto'\n",
    "dict_solar"
   ]
  },
  {
   "cell_type": "code",
   "execution_count": 80,
   "metadata": {},
   "outputs": [
    {
     "data": {
      "text/plain": [
       "{'수성': 'mercury',\n",
       " '금성': 'venus',\n",
       " '화성': 'mars',\n",
       " '목성': 'jupiter',\n",
       " '토성': 'saturn',\n",
       " '천왕성': 'uranus',\n",
       " '해왕성': 'neptune',\n",
       " '명왕성': 'pluto'}"
      ]
     },
     "execution_count": 80,
     "metadata": {},
     "output_type": "execute_result"
    }
   ],
   "source": [
    "#성으로 끝나지 않는 단어 삭제하기\n",
    "#{k:solar.keys() for k in solar if k.endswith('성')}\n",
    "solar = [(k,v) for k,v in dict_solar.items() if '성' in k]\n",
    "solar = dict(solar)\n",
    "solar"
   ]
  },
  {
   "cell_type": "code",
   "execution_count": 83,
   "metadata": {},
   "outputs": [
    {
     "name": "stdout",
     "output_type": "stream",
     "text": [
      "['금성', '명왕성', '목성', '수성', '천왕성', '토성', '해왕성', '화성']\n",
      "[('금성', 'venus'), ('명왕성', 'pluto'), ('목성', 'jupiter'), ('수성', 'mercury'), ('천왕성', 'uranus'), ('토성', 'saturn'), ('해왕성', 'neptune'), ('화성', 'mars')]\n"
     ]
    }
   ],
   "source": [
    "#키 정렬, 아이템 정렬\n",
    "print(sorted(solar))\n",
    "print(sorted(solar.items()))"
   ]
  },
  {
   "cell_type": "code",
   "execution_count": 84,
   "metadata": {},
   "outputs": [
    {
     "data": {
      "text/plain": [
       "{'a': 1, 'l': 1, 'p': 2, 'e': 1}"
      ]
     },
     "execution_count": 84,
     "metadata": {},
     "output_type": "execute_result"
    }
   ],
   "source": [
    "#set으로 묶어 중복제거하고 효율적으로 코드 돌리기\n",
    "letter = 'apple'\n",
    "{ch: letter.count(ch) for ch in set(letter)}"
   ]
  },
  {
   "cell_type": "code",
   "execution_count": 85,
   "metadata": {},
   "outputs": [
    {
     "data": {
      "text/plain": [
       "({'a': 2, 'e': 1, 'i': 1, 'o': 4, 'u': 0}, {'o': 4, 'a': 2, 'e': 1, 'i': 1})"
      ]
     },
     "execution_count": 85,
     "metadata": {},
     "output_type": "execute_result"
    }
   ],
   "source": [
    "#주어진 단어의 모음 세기\n",
    "vowels = 'aeiou'\n",
    "word = 'onomatopoeia'\n",
    "\n",
    "#딕셔너리 컴프리헨션\n",
    "vowel_dict1 = {ch:word.count(ch) for ch in vowels}\n",
    "vowel_dict2 = {ch:word.count(ch) for ch in word if ch in vowels}\n",
    "vowel_dict1,vowel_dict2"
   ]
  },
  {
   "cell_type": "code",
   "execution_count": 86,
   "metadata": {},
   "outputs": [
    {
     "name": "stdout",
     "output_type": "stream",
     "text": [
      "{'a': 2, 'e': 1, 'i': 1, 'o': 4, 'u': 0}\n"
     ]
    },
    {
     "data": {
      "text/plain": [
       "{'a': 2, 'o': 4, 'i': 1, 'e': 1}"
      ]
     },
     "execution_count": 86,
     "metadata": {},
     "output_type": "execute_result"
    }
   ],
   "source": [
    "op1 = {v: word.count(v) for v in vowels}\n",
    "print(op1)\n",
    "\n",
    "# word순회: 없는 모음 제외\n",
    "{ch:word.count(ch) for ch in set(word) if ch in vowels}"
   ]
  },
  {
   "cell_type": "markdown",
   "metadata": {},
   "source": [
    "### set\n",
    "\n",
    "- 딕셔너리에서 키만 모아둔 것과 유사. -> 중복이 없다는 것이 가장 중요한 성질이다\n",
    "- 집합의 개념을 구현해둔 것이다.\n",
    "- 데이터 자루이며, 순서가 없어서 인덱싱이 없다."
   ]
  },
  {
   "cell_type": "code",
   "execution_count": 87,
   "metadata": {},
   "outputs": [
    {
     "data": {
      "text/plain": [
       "(set, dict)"
      ]
     },
     "execution_count": 87,
     "metadata": {},
     "output_type": "execute_result"
    }
   ],
   "source": [
    "a = {1,2,3}\n",
    "b = {1:'a', 2:'b'}\n",
    "type(a), type(b)"
   ]
  },
  {
   "cell_type": "code",
   "execution_count": 89,
   "metadata": {},
   "outputs": [
    {
     "data": {
      "text/plain": [
       "{1, 2}"
      ]
     },
     "execution_count": 89,
     "metadata": {},
     "output_type": "execute_result"
    }
   ],
   "source": [
    "b = set(b)\n",
    "b"
   ]
  },
  {
   "cell_type": "markdown",
   "metadata": {},
   "source": [
    "### set의 함수\n",
    "\n",
    "#### 추가하기\n",
    "1. .add(추가할 것)\n",
    "\n",
    "#### 삭제하기\n",
    "1. .remove(삭제할 것)\n",
    "2. .discard(삭제할 것)"
   ]
  },
  {
   "cell_type": "code",
   "execution_count": 97,
   "metadata": {},
   "outputs": [
    {
     "data": {
      "text/plain": [
       "{'Brillante', 'Gaby', '이가영'}"
      ]
     },
     "execution_count": 97,
     "metadata": {},
     "output_type": "execute_result"
    }
   ],
   "source": [
    "MyName = {'이가영','Gaby'}\n",
    "MyName.add(\"Brillante\")\n",
    "MyName"
   ]
  },
  {
   "cell_type": "code",
   "execution_count": 98,
   "metadata": {},
   "outputs": [
    {
     "data": {
      "text/plain": [
       "{'Gaby', '이가영'}"
      ]
     },
     "execution_count": 98,
     "metadata": {},
     "output_type": "execute_result"
    }
   ],
   "source": [
    "MyName.remove('Brillante')\n",
    "MyName"
   ]
  },
  {
   "cell_type": "code",
   "execution_count": 99,
   "metadata": {},
   "outputs": [
    {
     "data": {
      "text/plain": [
       "{'이가영'}"
      ]
     },
     "execution_count": 99,
     "metadata": {},
     "output_type": "execute_result"
    }
   ],
   "source": [
    "MyName.discard('Gaby')\n",
    "MyName"
   ]
  },
  {
   "cell_type": "markdown",
   "metadata": {},
   "source": [
    "### 수업 실습: 멤버십연산자"
   ]
  },
  {
   "cell_type": "code",
   "execution_count": 102,
   "metadata": {},
   "outputs": [
    {
     "name": "stdout",
     "output_type": "stream",
     "text": [
      "1번:black russian\n",
      "1번:white russian\n",
      "1번:screwdriver\n",
      "2번:black russian\n",
      "2번:screwdriver\n"
     ]
    }
   ],
   "source": [
    "drinks = {\n",
    "    'martini':{'vodca','vermouth'},\n",
    "    'black russian':{'vodka', 'kahlua'},\n",
    "    'white russian':{'cream', 'kahlua', 'vodka'},\n",
    "    'mahattan':{'rye','vermouth','bitters'},\n",
    "    'screwdriver':{'orange juice','vodka'}\n",
    "}\n",
    "\n",
    "#1. vodka 없는 것을 골라내어 출력하기: 값에서 조건을 걸어 출력할 수 있다\n",
    "for k,v in drinks.items():\n",
    "    if 'vodka' in v:\n",
    "        print(f'1번:{k}')\n",
    "        \n",
    "#2. 보드카는 있는데 크림이나 버무스가 같이 있다면 프린트 하지 않기\n",
    "for k,v in drinks.items():\n",
    "    if 'vodka' in v and not ('cream' in v or 'vermouth' in v):\n",
    "        print(f'2번:{k}')"
   ]
  },
  {
   "cell_type": "code",
   "execution_count": 105,
   "metadata": {},
   "outputs": [
    {
     "name": "stdout",
     "output_type": "stream",
     "text": [
      "black russian\n",
      "screwdriver\n"
     ]
    }
   ],
   "source": [
    "# 집합연산자 활용하기\n",
    "for drinktype,name  in drinks.items():\n",
    "    if name & {'vodka'} and not name & {'cream', 'vermouth'}:\n",
    "        print(drinktype)"
   ]
  },
  {
   "cell_type": "markdown",
   "metadata": {},
   "source": [
    "### 집합의 종류 정리\n",
    "1. 교집합: a&b, a.intersection(b)\n",
    "2. 합집합: a|b, a.union(b)\n",
    "3. 차집합: a-b, a.difference(b). 빼는 순서에 유의해야한다. "
   ]
  },
  {
   "cell_type": "code",
   "execution_count": 103,
   "metadata": {},
   "outputs": [
    {
     "name": "stdout",
     "output_type": "stream",
     "text": [
      "{'you', 'me'}\n",
      "{'we', 'can', 'you', 'and', 'anything', 'do', 'me'}\n",
      "{'do', 'we', 'can', 'anything'}\n"
     ]
    }
   ],
   "source": [
    "arr1 = {'you','and','me'}\n",
    "arr2 = {'we','can','do','anything', 'you','me'}\n",
    "print(arr1&arr2)\n",
    "print(arr1.union(arr2))\n",
    "print(arr2-arr1)"
   ]
  },
  {
   "cell_type": "code",
   "execution_count": 104,
   "metadata": {},
   "outputs": [
    {
     "data": {
      "text/plain": [
       "frozenset({1, 2, 3})"
      ]
     },
     "execution_count": 104,
     "metadata": {},
     "output_type": "execute_result"
    }
   ],
   "source": [
    "#frozenset:불변으로 만들어주는. 참고만 하기\n",
    "fs = frozenset([1,2,3])\n",
    "fs"
   ]
  },
  {
   "cell_type": "code",
   "execution_count": 106,
   "metadata": {},
   "outputs": [
    {
     "data": {
      "text/plain": [
       "{0, 1, 2, 3, 4}"
      ]
     },
     "execution_count": 106,
     "metadata": {},
     "output_type": "execute_result"
    }
   ],
   "source": [
    "#set컴프리헨션\n",
    "set1 = {s for s in range(5)}\n",
    "set1"
   ]
  }
 ],
 "metadata": {
  "kernelspec": {
   "display_name": "Python 3",
   "language": "python",
   "name": "python3"
  },
  "language_info": {
   "codemirror_mode": {
    "name": "ipython",
    "version": 3
   },
   "file_extension": ".py",
   "mimetype": "text/x-python",
   "name": "python",
   "nbconvert_exporter": "python",
   "pygments_lexer": "ipython3",
   "version": "3.7.6"
  }
 },
 "nbformat": 4,
 "nbformat_minor": 4
}
