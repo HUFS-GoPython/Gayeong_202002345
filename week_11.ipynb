{
 "cells": [
  {
   "cell_type": "markdown",
   "metadata": {},
   "source": [
    "## 11주차 복습"
   ]
  },
  {
   "cell_type": "markdown",
   "metadata": {},
   "source": [
    "### 클래스 개념 간단 요약\n",
    "\n",
    "\n",
    "- 클래스의 구성 요소\n",
    "    - 속성: 변수\n",
    "        - def __init__ (self, a,b)\n",
    "            self. a = a\n",
    "             형식임\n",
    "    - 행동: 함수\n",
    "        - def function(self) 형식이 기본. self뒤로 필요할 시 변수 추가\n",
    "    - 함수로 만들어진 것들 = 인스턴스 "
   ]
  },
  {
   "cell_type": "markdown",
   "metadata": {},
   "source": [
    "### 상속 | inheritance\n",
    "- 이전 클래스의 내용을 추가, 변경 해야할 경우. 다 가져는 가는데 약간 수정하거나 변경이 필요한 경우 사용한다. \n",
    "- 코드 재사용 시 매우 유용하다\n",
    "- 다만 부모와 엮여 독립적이지 못한 코드가 될 수 있기에 상속은 굉장히 유의해야할 개념이다\n",
    "- 상속 관계\n",
    "    - is-a: He is a student\n",
    "    - has-a: Book has a page\n",
    "\n",
    "- 기준이 되는 클래스 / 상속받는 클래스 두개로 존재함\n",
    "    - 기준 클래스: vehicle, parent, super, base, 부모 클래스\n",
    "    - 상속 받는 클래스: child, sub, derived, 자식 클래스\n",
    "    - Vehicle <- Car\n",
    "    \n",
    "- 상속 하기\n",
    "    - class 자식이름(부모이름):"
   ]
  },
  {
   "cell_type": "code",
   "execution_count": 2,
   "metadata": {},
   "outputs": [],
   "source": [
    "#부모 클래스\n",
    "class BoyGroup:\n",
    "    def __init__(self, song_name):\n",
    "        self.song_name = song_name\n",
    "        \n",
    "    def sing(self):\n",
    "        print(f'이 노래의 제목은 {self.song_name}이다.')\n",
    "        \n",
    "#자식 클래스. 상속 받기\n",
    "class DanceGroup(BoyGroup):\n",
    "        pass"
   ]
  },
  {
   "cell_type": "code",
   "execution_count": 3,
   "metadata": {},
   "outputs": [
    {
     "name": "stdout",
     "output_type": "stream",
     "text": [
      "이 노래의 제목은 BTD이다.\n"
     ]
    }
   ],
   "source": [
    "Infinite = DanceGroup('BTD')\n",
    "Infinite.sing()"
   ]
  },
  {
   "cell_type": "markdown",
   "metadata": {},
   "source": [
    "### 자식 함수의 속성과 메소드의 추가, 변경"
   ]
  },
  {
   "cell_type": "markdown",
   "metadata": {},
   "source": [
    "#### 속성\n",
    "- 특별하지 않다면 부모에게서 그대로 가져오는 경우가 많다\n",
    "    - super().__init__()으로 실현가능.\n",
    "    - 괄호 안에 갖고 오고 싶은 변수명만을 적을 수 도 있다. "
   ]
  },
  {
   "cell_type": "code",
   "execution_count": 4,
   "metadata": {},
   "outputs": [],
   "source": [
    "class DanceGroup(BoyGroup):\n",
    "    def __init__(self, song_name, albulm_name):\n",
    "        super().__init__(song_name)\n",
    "        self. albulm_name = albulm_name"
   ]
  },
  {
   "cell_type": "code",
   "execution_count": 5,
   "metadata": {},
   "outputs": [],
   "source": [
    "bigbang = DanceGroup('Blue', 'alive')"
   ]
  },
  {
   "cell_type": "code",
   "execution_count": 6,
   "metadata": {},
   "outputs": [
    {
     "name": "stdout",
     "output_type": "stream",
     "text": [
      "이 노래의 제목은 Blue이다.\n"
     ]
    }
   ],
   "source": [
    "bigbang.sing()"
   ]
  },
  {
   "cell_type": "markdown",
   "metadata": {},
   "source": [
    "#### 메소드 변경: 오버라이드(override, 제정의)\n",
    "- 함수의 재정의, override. 새롭게 함수를 고친다\n",
    "- 다만 부모 세대의 인자 이름이 뭐가 있는지 모르므로 필요한 것들은 호출 해줘야 한다.\n",
    "- 자식에서 바뀐 함수들은 부모에게 영향을 끼치지 않는다. "
   ]
  },
  {
   "cell_type": "code",
   "execution_count": 7,
   "metadata": {},
   "outputs": [],
   "source": [
    "class DanceGroup(BoyGroup):\n",
    "    def __init__(self, song_name, albulm_name, release_year):\n",
    "        super().__init__(song_name)\n",
    "        self. albulm_name = albulm_name\n",
    "        self. release_year = release_year\n",
    "    \n",
    "    #재정의\n",
    "    def sing(self):\n",
    "        print(f'{self.song_name}은 {self.albulm_name} 에 속한 노래이다.')"
   ]
  },
  {
   "cell_type": "code",
   "execution_count": 8,
   "metadata": {},
   "outputs": [
    {
     "name": "stdout",
     "output_type": "stream",
     "text": [
      "Loser은 M 에 속한 노래이다.\n"
     ]
    }
   ],
   "source": [
    "bigbang = DanceGroup('Loser','M',2015)\n",
    "bigbang.sing()"
   ]
  },
  {
   "cell_type": "code",
   "execution_count": 9,
   "metadata": {},
   "outputs": [],
   "source": [
    "#부모도 타고, 오버라이드도 하고 싶다면\n",
    "class Vehicle:\n",
    "    def __init__(self, speed): \n",
    "        self.speed = speed\n",
    "    \n",
    "    def go(self):\n",
    "        print(f'{self.speed}의 속력으로 달린다.')\n",
    "        \n",
    "class Car(Vehicle):\n",
    "    def __init__(self, speed, brand):\n",
    "        super().__init__(speed) \n",
    "        self.brand = brand\n",
    "        \n",
    "    def go(self):\n",
    "        super().go()\n",
    "        print(f'차종은 {self.brand}')\n",
    "        \n",
    "    def stop(self):\n",
    "        print(\"차를 멈추겠습니다\")"
   ]
  },
  {
   "cell_type": "code",
   "execution_count": 10,
   "metadata": {},
   "outputs": [
    {
     "name": "stdout",
     "output_type": "stream",
     "text": [
      "20km/h의 속력으로 달린다.\n",
      "차종은 kia\n",
      "차를 멈추겠습니다\n"
     ]
    }
   ],
   "source": [
    "car1 = Car('20km/h','kia')\n",
    "#달린다와 차종이 모두 뜬다.\n",
    "car1.go()\n",
    "car1.stop()"
   ]
  },
  {
   "cell_type": "code",
   "execution_count": 11,
   "metadata": {},
   "outputs": [],
   "source": [
    "# 수업 중의 실습\n",
    "# 단순히 출력이 박사로 되는 것이 아닌 속성이 변하도록 설정해주기\n",
    "class Person:\n",
    "    # name\n",
    "    def __init__(self, name):\n",
    "        self.name = name\n",
    "class Doctor(Person): # 'Dr.~'\n",
    "    def __init__(self, name):\n",
    "        super().__init__('Dr.'+ name) \n",
    "class Male(Person): # 'Mr.~'\n",
    "    def __init__(self, name):\n",
    "        super().__init__('Mr.'+name)\n",
    "class Female(Person): # 'Mrs. ~'\n",
    "    def __init__(self, name):\n",
    "        super().__init__('Mrs.'+name)"
   ]
  },
  {
   "cell_type": "code",
   "execution_count": 12,
   "metadata": {},
   "outputs": [
    {
     "data": {
      "text/plain": [
       "'Dr.son'"
      ]
     },
     "execution_count": 12,
     "metadata": {},
     "output_type": "execute_result"
    }
   ],
   "source": [
    "Doctor('son').name"
   ]
  },
  {
   "cell_type": "code",
   "execution_count": 13,
   "metadata": {},
   "outputs": [],
   "source": [
    "# 응용 실습\n",
    "class Student:\n",
    "    def __init__(self, name):\n",
    "        self.name = name\n",
    "        \n",
    "class MajorStudent(Student):\n",
    "    def __init__(self, name, major):\n",
    "        self.major = major\n",
    "        super().__init__(f'{self.major}과 학생 {name}')"
   ]
  },
  {
   "cell_type": "code",
   "execution_count": 14,
   "metadata": {},
   "outputs": [],
   "source": [
    "student1 = Student('lgy')\n",
    "student2 = MajorStudent('lgy', 'portuguese')"
   ]
  },
  {
   "cell_type": "code",
   "execution_count": 15,
   "metadata": {},
   "outputs": [
    {
     "data": {
      "text/plain": [
       "'lgy'"
      ]
     },
     "execution_count": 15,
     "metadata": {},
     "output_type": "execute_result"
    }
   ],
   "source": [
    "student1.name"
   ]
  },
  {
   "cell_type": "code",
   "execution_count": 16,
   "metadata": {},
   "outputs": [
    {
     "data": {
      "text/plain": [
       "'portuguese과 학생 lgy'"
      ]
     },
     "execution_count": 16,
     "metadata": {},
     "output_type": "execute_result"
    }
   ],
   "source": [
    "student2.name"
   ]
  },
  {
   "cell_type": "markdown",
   "metadata": {},
   "source": [
    "### 다중 상속\n",
    "- method resolution order(MRO)\n",
    "- 여러개의 함수를 상속 받는 것. \n",
    "- 괄호에서 순서가 가까울 수록 더 큰 영향을 받는다. "
   ]
  },
  {
   "cell_type": "code",
   "execution_count": 17,
   "metadata": {},
   "outputs": [],
   "source": [
    "class Animal:\n",
    "    def says(self):\n",
    "        return '동물이 운다'\n",
    "\n",
    "#-----------------child\n",
    "\n",
    "class Horse(Animal):\n",
    "    #overriding\n",
    "    def says(self):\n",
    "        return '히히힝'\n",
    "    \n",
    "class Donkey(Animal):\n",
    "    def says(self):\n",
    "        return '히이호'\n",
    "#----------------------grand child\n",
    "\n",
    "#먼저 쓰인 객체가 더 가깝다\n",
    "class Mule(Donkey, Horse):\n",
    "    pass\n",
    "\n",
    "class Hinny(Horse, Donkey):\n",
    "    pass"
   ]
  },
  {
   "cell_type": "code",
   "execution_count": 18,
   "metadata": {},
   "outputs": [
    {
     "data": {
      "text/plain": [
       "'히이호'"
      ]
     },
     "execution_count": 18,
     "metadata": {},
     "output_type": "execute_result"
    }
   ],
   "source": [
    "Mule().says()"
   ]
  },
  {
   "cell_type": "code",
   "execution_count": 19,
   "metadata": {},
   "outputs": [
    {
     "data": {
      "text/plain": [
       "'히히힝'"
      ]
     },
     "execution_count": 19,
     "metadata": {},
     "output_type": "execute_result"
    }
   ],
   "source": [
    "Hinny().says()"
   ]
  },
  {
   "cell_type": "code",
   "execution_count": 20,
   "metadata": {},
   "outputs": [
    {
     "data": {
      "text/plain": [
       "[__main__.Mule, __main__.Donkey, __main__.Horse, __main__.Animal, object]"
      ]
     },
     "execution_count": 20,
     "metadata": {},
     "output_type": "execute_result"
    }
   ],
   "source": [
    "#사이가 가까운 순서대로 나옴\n",
    "#더 큰 영향을 받는다는 것을 의미함. \n",
    "Mule.mro()"
   ]
  },
  {
   "cell_type": "markdown",
   "metadata": {},
   "source": [
    "### 다형성 duck typing\n",
    "- 가령 len함수가 있다면 str, 리스트 등의 길이를 측정하는 방법은 다 다를 것임에도 길이 재는 것은 len 하나로 충분함. 이런 특징이 다형성임\n",
    "- 오버라이딩도 다형성 중 하나이다"
   ]
  },
  {
   "cell_type": "code",
   "execution_count": 21,
   "metadata": {},
   "outputs": [
    {
     "name": "stdout",
     "output_type": "stream",
     "text": [
      "동물이 운다\n",
      "히히힝\n",
      "히이호\n"
     ]
    }
   ],
   "source": [
    "for animal in [Animal(),Horse(),Mule()]:\n",
    "    print(animal.says())"
   ]
  },
  {
   "cell_type": "markdown",
   "metadata": {},
   "source": [
    "### 메소드 종류\n",
    "1. 인스턴스 메소드\n",
    "2. 클래스 메소드\n",
    "3. 정적 메소드\n",
    "4. 추상 메소드\n"
   ]
  },
  {
   "cell_type": "markdown",
   "metadata": {},
   "source": [
    "- 인스턴스 메소드\n",
    "\n",
    "    - 우리가 원래 써오던 메소드.\n",
    "    - 첫번째 인수가 self인 메소드로 객체 생성 및 객체 사용이 가능하다"
   ]
  },
  {
   "cell_type": "code",
   "execution_count": 22,
   "metadata": {},
   "outputs": [
    {
     "data": {
      "text/plain": [
       "'히히힝'"
      ]
     },
     "execution_count": 22,
     "metadata": {},
     "output_type": "execute_result"
    }
   ],
   "source": [
    "#instance method\n",
    "h = Hinny()\n",
    "h.says()"
   ]
  },
  {
   "cell_type": "markdown",
   "metadata": {},
   "source": [
    "- 클래스 메소드\n",
    "    - 첫 인수로 클래스 객체를 전달 받음\n",
    "    - 객체를 생성하지 않고도 메소드에 접근이 가능하다. \n",
    "    - 붕어빵 틀이 몇개 만들어졌는가?\n",
    "    - 데코레이터 @classmethod로 사용 가능\n",
    "    - 클래스 소유인 cls로 표시\n",
    "    - 객체마다 달라지지 않음\n",
    "    - 모든 객체가 공유하는 클래스 변수, 메소드\n"
   ]
  },
  {
   "cell_type": "code",
   "execution_count": 25,
   "metadata": {},
   "outputs": [
    {
     "name": "stdout",
     "output_type": "stream",
     "text": [
      "0\n",
      "0\n"
     ]
    }
   ],
   "source": [
    "class A:\n",
    "    cnt = 0\n",
    "    \n",
    "    def move(cls):\n",
    "        print(cls. cnt)\n",
    "#카운트가 올라가지 않음. 어떻게 해야 올릴 수 있나? = 데코레이터 활용        \n",
    "A().move()\n",
    "A().move()"
   ]
  },
  {
   "cell_type": "markdown",
   "metadata": {},
   "source": [
    "- @classmethod를 사용하여 객체가 생성될 때마다 횟수를 증가하여 프린트하기가 가능해진다. \n",
    "- cls로 클래스의 개수를 카운팅 해준다"
   ]
  },
  {
   "cell_type": "code",
   "execution_count": 32,
   "metadata": {},
   "outputs": [
    {
     "name": "stdout",
     "output_type": "stream",
     "text": [
      "1\n",
      "2\n",
      "3\n",
      "4\n",
      "5\n"
     ]
    }
   ],
   "source": [
    "class Boong:\n",
    "    cnt = 0\n",
    "    def __init__(self):\n",
    "        Boong.cnt+=1\n",
    "        \n",
    "    @classmethod\n",
    "    def count(cls):\n",
    "        print(cls.cnt)\n",
    "        \n",
    "for i in range(5):\n",
    "    Boong().count()"
   ]
  },
  {
   "cell_type": "code",
   "execution_count": 33,
   "metadata": {},
   "outputs": [],
   "source": [
    "class Person:\n",
    "    def __init__(self,name, age):\n",
    "        self.name = name\n",
    "        self.age = age\n",
    "        \n",
    "    @classmethod\n",
    "    #튜플을 인자로 받아서 객체를 생성하는 메소드\n",
    "    def tuple_object(cls, args):\n",
    "        return cls(args[0],args[1])\n",
    "\n",
    "name = 'LEE'\n",
    "age = 22\n",
    "\n",
    "p = Person(name, age)\n",
    "\n",
    "info = name, age\n",
    "p = Person.tuple_object(info) #객체를 생성하지 않고 접근했다"
   ]
  },
  {
   "cell_type": "code",
   "execution_count": 34,
   "metadata": {},
   "outputs": [
    {
     "data": {
      "text/plain": [
       "'hong'"
      ]
     },
     "execution_count": 34,
     "metadata": {},
     "output_type": "execute_result"
    }
   ],
   "source": [
    "p.name"
   ]
  },
  {
   "cell_type": "code",
   "execution_count": 35,
   "metadata": {},
   "outputs": [
    {
     "data": {
      "text/plain": [
       "24"
      ]
     },
     "execution_count": 35,
     "metadata": {},
     "output_type": "execute_result"
    }
   ],
   "source": [
    "p.age"
   ]
  },
  {
   "cell_type": "code",
   "execution_count": null,
   "metadata": {},
   "outputs": [],
   "source": [
    "#p1 = Person.tuple_object(name, age)로 바로 만들기가 안된다. arg가 3개라고 함."
   ]
  },
  {
   "cell_type": "code",
   "execution_count": 40,
   "metadata": {},
   "outputs": [],
   "source": [
    "name = 'Song'\n",
    "age = 17\n",
    "inform = name,age\n",
    "p1 = Person.tuple_object(inform)"
   ]
  },
  {
   "cell_type": "code",
   "execution_count": 41,
   "metadata": {},
   "outputs": [
    {
     "data": {
      "text/plain": [
       "'Song'"
      ]
     },
     "execution_count": 41,
     "metadata": {},
     "output_type": "execute_result"
    }
   ],
   "source": [
    "p1.name"
   ]
  },
  {
   "cell_type": "code",
   "execution_count": 42,
   "metadata": {},
   "outputs": [
    {
     "data": {
      "text/plain": [
       "17"
      ]
     },
     "execution_count": 42,
     "metadata": {},
     "output_type": "execute_result"
    }
   ],
   "source": [
    "p1.age"
   ]
  },
  {
   "cell_type": "markdown",
   "metadata": {},
   "source": [
    "- 정적 메소드\n",
    "    - 첫번째 인수를 self로 받지 않는다.\n",
    "    - 클래스나 인스턴스에 접근하지 않는다. 즉 클래스와 관련이 없는 편이다\n",
    "    - 비슷한 유틸리티라서 클래스 내에 묶어둘 때 사용한다\n",
    "    - 객체를 생성하지 않고 메소드 접근이 가능하다. (클래스 메소드와의 공통점)\n",
    "    - @staticmethod로 가능\n",
    "    - self로 받지 않기 때문에 속성을 보기가 불가능함. \n",
    "\n",
    "\n",
    "    - 원래는 a = Calulator()-> a.add 식으로 해야하지만아래와 같은 사용이 가능함"
   ]
  },
  {
   "cell_type": "code",
   "execution_count": 47,
   "metadata": {},
   "outputs": [
    {
     "name": "stdout",
     "output_type": "stream",
     "text": [
      "85\n",
      "25\n"
     ]
    }
   ],
   "source": [
    "class Calculator:\n",
    "    \n",
    "    @staticmethod\n",
    "    def add(a,b):\n",
    "        print(a + b)\n",
    "        \n",
    "    @staticmethod\n",
    "    def minus(a,b):\n",
    "        print(a - b)\n",
    "        \n",
    "Calculator.add(55,30)\n",
    "Calculator.minus(55,30)"
   ]
  },
  {
   "cell_type": "code",
   "execution_count": 48,
   "metadata": {},
   "outputs": [
    {
     "data": {
      "text/plain": [
       "'hi'"
      ]
     },
     "execution_count": 48,
     "metadata": {},
     "output_type": "execute_result"
    }
   ],
   "source": [
    "#staticmethod: @staticmethod사용\n",
    "class Coyote:\n",
    "    @staticmethod\n",
    "    def says():\n",
    "        return 'hi'\n",
    "    \n",
    "Coyote.says()"
   ]
  },
  {
   "cell_type": "markdown",
   "metadata": {},
   "source": [
    "- 추상 메소드\n",
    "    - @abstractmethod로 사용\n",
    "    - 여러 함수, 메소드들이 섞여 변수,함수를 모를 때 이를 모아보기 위해 사용한다. \n",
    "    - 재정의 해주지 않으면 오류를 출력한다\n",
    "    - 협업 시 누락 방지에 도움을 준다"
   ]
  },
  {
   "cell_type": "code",
   "execution_count": 51,
   "metadata": {},
   "outputs": [],
   "source": [
    "from abc import *\n",
    "\n",
    "class Vehicle(metaclass = ABCMeta):\n",
    "    #변수에 뭘 넣을지 정의하기\n",
    "    speed = '속도'\n",
    "    \n",
    "    #자식 클래스가 오버라이드해야 하는 메소드 정의해주지만 구체화하지는 않는다\n",
    "    # drive, stop에 대한 재정의가 필요하다. \n",
    "    @abstractmethod\n",
    "    def drive(self):\n",
    "        #pass\n",
    "        print('교통수단에 관하여')\n",
    "    def stop(self):\n",
    "        pass\n",
    "\n",
    "#추상 자료형이기 때문에 재정의해줬다. \n",
    "class Car(Vehicle):\n",
    "    def drive(self):\n",
    "        return super().speed"
   ]
  },
  {
   "cell_type": "code",
   "execution_count": 55,
   "metadata": {},
   "outputs": [
    {
     "data": {
      "text/plain": [
       "'속도'"
      ]
     },
     "execution_count": 55,
     "metadata": {},
     "output_type": "execute_result"
    }
   ],
   "source": [
    "car1 = Car()\n",
    "car1.drive()"
   ]
  },
  {
   "cell_type": "code",
   "execution_count": 57,
   "metadata": {},
   "outputs": [],
   "source": [
    "#응용 예제\n",
    "from abc import*\n",
    "\n",
    "class Boong(metaclass = ABCMeta):\n",
    "    dough = 'flour'\n",
    "    temperature = 'hot'\n",
    "    weather = '추운 날'\n",
    "    \n",
    "    def eat(self):\n",
    "        print(f'{weather}에 붕어빵을 먹습니다. ')\n",
    "        \n",
    "    @abstractmethod\n",
    "    def insideBoong(self):\n",
    "        print(f' 붕어빵 안에 있는 재료를 적어줍니다')"
   ]
  },
  {
   "cell_type": "code",
   "execution_count": 58,
   "metadata": {},
   "outputs": [],
   "source": [
    "class CreamBoong(Boong):\n",
    "    name = \"크림 붕어빵\"\n",
    "    \n",
    "    def insideBoong(self):\n",
    "        print(\"이 붕어빵 안에는 크림이 들어있습니다.\")"
   ]
  },
  {
   "cell_type": "code",
   "execution_count": 60,
   "metadata": {},
   "outputs": [
    {
     "data": {
      "text/plain": [
       "'크림 붕어빵'"
      ]
     },
     "execution_count": 60,
     "metadata": {},
     "output_type": "execute_result"
    }
   ],
   "source": [
    "CreamBoong.name"
   ]
  },
  {
   "cell_type": "code",
   "execution_count": 63,
   "metadata": {},
   "outputs": [
    {
     "name": "stdout",
     "output_type": "stream",
     "text": [
      "이 붕어빵 안에는 크림이 들어있습니다.\n"
     ]
    }
   ],
   "source": [
    "CreamBoong.insideBoong(Boong)"
   ]
  },
  {
   "cell_type": "markdown",
   "metadata": {},
   "source": [
    "### 매직 메소드\n",
    "- init과 같은 앞뒤로 긴줄(__ __)이 있는 메소드들\n",
    "- object클래스 재정의\n",
    "    - __ str __ \n",
    "        - 인스턴스를 스트링으로 출력해준다\n",
    "        - print(인스턴스)했을 때 출력되는 값\n",
    "        \n",
    "    - __ repr __\n",
    "        - 사용자 이해할 수 있게 객체를 출력하고 싶을 때 사용한다. \n",
    "        - p를 치면 주소가 아닌 다른 것이 나오면 할 때 사용"
   ]
  },
  {
   "cell_type": "code",
   "execution_count": 66,
   "metadata": {},
   "outputs": [
    {
     "data": {
      "text/plain": [
       "<__main__.Person at 0x17d7e61c2c8>"
      ]
     },
     "execution_count": 66,
     "metadata": {},
     "output_type": "execute_result"
    }
   ],
   "source": [
    "class Person:\n",
    "    def __init__(self,name):\n",
    "        self.name = name\n",
    "#그냥 하면 이렇게 나옴       \n",
    "ex_p = Person('song')\n",
    "ex_p"
   ]
  },
  {
   "cell_type": "code",
   "execution_count": 64,
   "metadata": {},
   "outputs": [],
   "source": [
    "class Person:\n",
    "    def __init__(self, name):\n",
    "        self.name = name\n",
    "        \n",
    "    def __str__(self):\n",
    "        return self.name\n",
    "    \n",
    "    def __repr__(self):\n",
    "        return f'Person({self.name})'"
   ]
  },
  {
   "cell_type": "code",
   "execution_count": 65,
   "metadata": {},
   "outputs": [
    {
     "data": {
      "text/plain": [
       "Person(lee)"
      ]
     },
     "execution_count": 65,
     "metadata": {},
     "output_type": "execute_result"
    }
   ],
   "source": [
    "p = Person('lee')\n",
    "p"
   ]
  },
  {
   "cell_type": "code",
   "execution_count": 67,
   "metadata": {},
   "outputs": [
    {
     "name": "stdout",
     "output_type": "stream",
     "text": [
      "lee\n"
     ]
    }
   ],
   "source": [
    "print(p)"
   ]
  },
  {
   "cell_type": "code",
   "execution_count": 68,
   "metadata": {},
   "outputs": [
    {
     "data": {
      "text/plain": [
       "'Person(lee)'"
      ]
     },
     "execution_count": 68,
     "metadata": {},
     "output_type": "execute_result"
    }
   ],
   "source": [
    "repr(p)"
   ]
  },
  {
   "cell_type": "markdown",
   "metadata": {},
   "source": [
    "### namedtuple(네임드 튜플), dataclass(데이터 클래스)\n",
    "- 변수만 있는 클래스를 설정할 때 더 효율적으로 사용하는 수단\n",
    "- 딕셔너리 키와 같은 기능\n",
    "    - 네임드튜플의 경우 메모리를 덜 잡아먹는다\n",
    "- 불변 객체"
   ]
  },
  {
   "cell_type": "markdown",
   "metadata": {},
   "source": [
    "#### 네임드 튜플\n",
    "- 메모리를 덜 잡아먹는다.\n",
    "- 튜플과 달리 인덱스, 이름으로 접근이 가능하다."
   ]
  },
  {
   "cell_type": "code",
   "execution_count": 71,
   "metadata": {},
   "outputs": [
    {
     "data": {
      "text/plain": [
       "'kim'"
      ]
     },
     "execution_count": 71,
     "metadata": {},
     "output_type": "execute_result"
    }
   ],
   "source": [
    "from collections import namedtuple\n",
    "\n",
    "Person = namedtuple('Person','name age')\n",
    "a = Person('kim',33)\n",
    "a.name"
   ]
  },
  {
   "cell_type": "code",
   "execution_count": 72,
   "metadata": {},
   "outputs": [
    {
     "data": {
      "text/plain": [
       "33"
      ]
     },
     "execution_count": 72,
     "metadata": {},
     "output_type": "execute_result"
    }
   ],
   "source": [
    "a.age"
   ]
  },
  {
   "cell_type": "code",
   "execution_count": 73,
   "metadata": {},
   "outputs": [],
   "source": [
    "#할당 가능 but 객체를 바꿀 수 없다. \n",
    "b = a._replace(name = 'lee')"
   ]
  },
  {
   "cell_type": "code",
   "execution_count": 79,
   "metadata": {},
   "outputs": [
    {
     "data": {
      "text/plain": [
       "Person(name='lee', age=33)"
      ]
     },
     "execution_count": 79,
     "metadata": {},
     "output_type": "execute_result"
    }
   ],
   "source": [
    "b"
   ]
  },
  {
   "cell_type": "markdown",
   "metadata": {},
   "source": [
    "#### 데이터 클래스\n",
    "- 일부 init, repr 같은 메소드를 자동으로 생성해주기 때문에 타이포를 줄일 수 있다"
   ]
  },
  {
   "cell_type": "code",
   "execution_count": 80,
   "metadata": {},
   "outputs": [],
   "source": [
    "from dataclasses import dataclass\n",
    "\n",
    "@dataclass\n",
    "class Person:\n",
    "    name: str\n",
    "    age: int"
   ]
  },
  {
   "cell_type": "code",
   "execution_count": 81,
   "metadata": {},
   "outputs": [
    {
     "data": {
      "text/plain": [
       "19"
      ]
     },
     "execution_count": 81,
     "metadata": {},
     "output_type": "execute_result"
    }
   ],
   "source": [
    "a = Person('Song',19)\n",
    "a.age"
   ]
  },
  {
   "cell_type": "code",
   "execution_count": 83,
   "metadata": {},
   "outputs": [],
   "source": [
    "#기존에는\n",
    "class Person:\n",
    "    def __init__(self,name,age):\n",
    "        self.name = name\n",
    "        self.age = age\n",
    "#식으로 접근해야했던 것을 바로 선언으로 줄여버림"
   ]
  },
  {
   "cell_type": "code",
   "execution_count": null,
   "metadata": {},
   "outputs": [],
   "source": []
  }
 ],
 "metadata": {
  "kernelspec": {
   "display_name": "Python 3",
   "language": "python",
   "name": "python3"
  },
  "language_info": {
   "codemirror_mode": {
    "name": "ipython",
    "version": 3
   },
   "file_extension": ".py",
   "mimetype": "text/x-python",
   "name": "python",
   "nbconvert_exporter": "python",
   "pygments_lexer": "ipython3",
   "version": "3.7.6"
  }
 },
 "nbformat": 4,
 "nbformat_minor": 4
}
