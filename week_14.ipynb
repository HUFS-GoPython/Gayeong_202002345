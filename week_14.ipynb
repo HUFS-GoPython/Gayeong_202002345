{
 "cells": [
  {
   "cell_type": "markdown",
   "metadata": {},
   "source": [
    "### 14주차 복습"
   ]
  },
  {
   "cell_type": "markdown",
   "metadata": {},
   "source": [
    "#### 함수 II\n",
    "\n",
    "- 배울 것\n",
    "1. 중첩함수\n",
    "2. 제너레이터\n",
    "3. 재귀함수\n",
    "4. 예외처리"
   ]
  },
  {
   "cell_type": "markdown",
   "metadata": {},
   "source": [
    "#### 중첩함수\n",
    "\n",
    "- 특징: 캡슐화가 된다. 내부 함수는 따로 호출할 수 없다. \n",
    "    - 책임 및 관리가 명확해지는 장점."
   ]
  },
  {
   "cell_type": "markdown",
   "metadata": {},
   "source": [
    "\n",
    "\n",
    "- 아래의 함수 논리 생각해보기\n",
    "\n",
    "밖의 함수로 인자를 받고-> 그대로 a,b가 반환되고-> c,d 자리에 a,b가 들어가고 곱셈하여 반환"
   ]
  },
  {
   "cell_type": "code",
   "execution_count": 1,
   "metadata": {},
   "outputs": [
    {
     "name": "stdout",
     "output_type": "stream",
     "text": [
      "outside function\n",
      "inside function\n"
     ]
    },
    {
     "data": {
      "text/plain": [
       "(6, 'return')"
      ]
     },
     "execution_count": 1,
     "metadata": {},
     "output_type": "execute_result"
    }
   ],
   "source": [
    "def outside_function(a, b):\n",
    "    print(\"outside function\")\n",
    "    def inside_function(c, d):\n",
    "        print(\"inside function\")\n",
    "        return c*d\n",
    "    # 일급 객체의 특징으로 함수 반환이 가능하다. \n",
    "    return inside_function(a, b), 'return'\n",
    "\n",
    "outside_function(2,3)"
   ]
  },
  {
   "cell_type": "code",
   "execution_count": 2,
   "metadata": {},
   "outputs": [
    {
     "ename": "NameError",
     "evalue": "name 'inside_function' is not defined",
     "output_type": "error",
     "traceback": [
      "\u001b[1;31m---------------------------------------------------------------------------\u001b[0m",
      "\u001b[1;31mNameError\u001b[0m                                 Traceback (most recent call last)",
      "\u001b[1;32m<ipython-input-2-c817eda9248f>\u001b[0m in \u001b[0;36m<module>\u001b[1;34m\u001b[0m\n\u001b[0;32m      1\u001b[0m \u001b[1;31m#캡슐화가 되는 증거. 내부 함수를 호출하면 선언한 적 없다는 name error가 뜬다\u001b[0m\u001b[1;33m\u001b[0m\u001b[1;33m\u001b[0m\u001b[1;33m\u001b[0m\u001b[0m\n\u001b[1;32m----> 2\u001b[1;33m \u001b[0minside_function\u001b[0m\u001b[1;33m(\u001b[0m\u001b[1;36m1\u001b[0m\u001b[1;33m,\u001b[0m\u001b[1;36m3\u001b[0m\u001b[1;33m)\u001b[0m\u001b[1;33m\u001b[0m\u001b[1;33m\u001b[0m\u001b[0m\n\u001b[0m",
      "\u001b[1;31mNameError\u001b[0m: name 'inside_function' is not defined"
     ]
    }
   ],
   "source": [
    "#캡슐화가 되는 증거. 내부 함수를 호출하면 선언한 적 없다는 name error가 뜬다\n",
    "inside_function(1,3)"
   ]
  },
  {
   "cell_type": "code",
   "execution_count": 3,
   "metadata": {},
   "outputs": [
    {
     "data": {
      "text/plain": [
       "' we are the knights who say: the enemy!! '"
      ]
     },
     "execution_count": 3,
     "metadata": {},
     "output_type": "execute_result"
    }
   ],
   "source": [
    "# 교재 예제. 반환 값을 변수로 받기가 가능하다. \n",
    "\n",
    "def knights(saying):\n",
    "    def say(quote):\n",
    "        return f' we are the knights who say: {quote} '\n",
    "    \n",
    "    return say(saying)\n",
    "\n",
    "knight1 = knights(\"the enemy!!\")\n",
    "knight1"
   ]
  },
  {
   "cell_type": "markdown",
   "metadata": {},
   "source": [
    "#### 클로저\n",
    "- 쉽게 생각하면 코드를 묶는 기술. 위의 코드에서는 say까지 묶는 knights가 클로저\n",
    "- 자신을 둘러싼 scope와 상태 값을 기억하는 함수\n",
    "- 호출 전까지 메모리를 사용하지 않기 때문에 메모리의 효율적 사용이 가능하다. 함수 호출 시에만 사용이 가능하다\n",
    "\n",
    "\n",
    "- 사용 조건\n",
    "    - 중첩함수여야 한다.\n",
    "    - 외부 함수의 상태값을 참조해야한다\n",
    "        - 위에서도 inside함수를 호출하지만 outside인자인 a,b를 호출했다.\n",
    "    - 외부함수가 내부 함수를 반환해야한다\n",
    "        - 위에서도 내부 함수인 inside나 say를 외부함수에서 리턴한다.\n",
    "        \n",
    "        \n",
    "###### 이해 쉽게 조금 정리\n",
    "\n",
    "- 위의 outer는 전역 함수, inner은 지역함수라고 생각하면 됨.\n",
    "    - 굉장히 getter setter과 비슷하다는 느낌\n",
    "- 겉만 사용하고 안의 내용을 숨기고 싶다면 inner로 넣어주면 됨. return inner이 필수적임\n",
    "- 내부 함수 누적은 가능하지만 권장되지는 않는다고 한다."
   ]
  },
  {
   "cell_type": "code",
   "execution_count": 4,
   "metadata": {},
   "outputs": [
    {
     "data": {
      "text/plain": [
       "<function __main__.multiply.<locals>.inner(y)>"
      ]
     },
     "execution_count": 4,
     "metadata": {},
     "output_type": "execute_result"
    }
   ],
   "source": [
    "# 수업 예제\n",
    "\n",
    "# 변수로 받는 것이 의미가 있으려면 위의 리턴 값이 없어져야 의미가 생김. \n",
    "# 외부함수를 참조함\n",
    "def multiply(x): # 클로저(closure): x를 기억한다\n",
    "    def inner(y):\n",
    "        return x*y\n",
    "    #따로 괄호를 쓰지 않아 함수가 돌아가지는 않음\n",
    "    return inner\n",
    "\n",
    "# 함수로 반환된다\n",
    "multiply\n",
    "\n",
    "multiply(6)"
   ]
  },
  {
   "cell_type": "code",
   "execution_count": 5,
   "metadata": {},
   "outputs": [
    {
     "data": {
      "text/plain": [
       "30"
      ]
     },
     "execution_count": 5,
     "metadata": {},
     "output_type": "execute_result"
    }
   ],
   "source": [
    "m5 = multiply(5)\n",
    "m5(6)"
   ]
  },
  {
   "cell_type": "code",
   "execution_count": 4,
   "metadata": {},
   "outputs": [
    {
     "data": {
      "text/plain": [
       "[[1, 2]]"
      ]
     },
     "execution_count": 4,
     "metadata": {},
     "output_type": "execute_result"
    }
   ],
   "source": [
    "# 혼자 실습\n",
    "def closure(empty_arr):\n",
    "    #[] 입력해주세요\n",
    "    def add_arr(adding_arr):\n",
    "        empty_arr.append(adding_arr)\n",
    "        return empty_arr\n",
    "    return add_arr\n",
    "    \n",
    "# 괄호를 붙이지 않으면 함수로 반환    \n",
    "a = closure([])\n",
    "a([1,2])\n"
   ]
  },
  {
   "cell_type": "code",
   "execution_count": 5,
   "metadata": {},
   "outputs": [
    {
     "data": {
      "text/plain": [
       "[5, [1, 2, 3]]"
      ]
     },
     "execution_count": 5,
     "metadata": {},
     "output_type": "execute_result"
    }
   ],
   "source": [
    "c1 = closure([5])\n",
    "c1([1,2,3])"
   ]
  },
  {
   "cell_type": "code",
   "execution_count": 13,
   "metadata": {},
   "outputs": [],
   "source": [
    "def closure(*names):\n",
    "    names_list = []\n",
    "    for name in names:\n",
    "        if len(name) == 3:\n",
    "            names_list.append(name)\n",
    "            \n",
    "    def name_filter(filter_list):\n",
    "        for name in filter_list:\n",
    "            if name == \"이가영\":\n",
    "                names_list.append(\"고급 파이썬\")\n",
    "        return names\n",
    "    return name_filter"
   ]
  },
  {
   "cell_type": "code",
   "execution_count": 14,
   "metadata": {},
   "outputs": [
    {
     "data": {
      "text/plain": [
       "('이가영', '이가연')"
      ]
     },
     "execution_count": 14,
     "metadata": {},
     "output_type": "execute_result"
    }
   ],
   "source": [
    "c2 = closure(\"이가영\",\"이가연\")\n",
    "c2(\"이가영\")"
   ]
  },
  {
   "cell_type": "code",
   "execution_count": 8,
   "metadata": {},
   "outputs": [
    {
     "ename": "NameError",
     "evalue": "name 'multiply' is not defined",
     "output_type": "error",
     "traceback": [
      "\u001b[1;31m---------------------------------------------------------------------------\u001b[0m",
      "\u001b[1;31mNameError\u001b[0m                                 Traceback (most recent call last)",
      "\u001b[1;32m<ipython-input-8-749ea2f563ff>\u001b[0m in \u001b[0;36m<module>\u001b[1;34m\u001b[0m\n\u001b[0;32m      2\u001b[0m \u001b[1;32mdel\u001b[0m\u001b[1;33m(\u001b[0m\u001b[0mmultiply\u001b[0m\u001b[1;33m)\u001b[0m\u001b[1;33m\u001b[0m\u001b[1;33m\u001b[0m\u001b[0m\n\u001b[0;32m      3\u001b[0m \u001b[1;31m# 삭제되어 뜨지 않는다\u001b[0m\u001b[1;33m\u001b[0m\u001b[1;33m\u001b[0m\u001b[1;33m\u001b[0m\u001b[0m\n\u001b[1;32m----> 4\u001b[1;33m \u001b[0mmultiply\u001b[0m\u001b[1;33m\u001b[0m\u001b[1;33m\u001b[0m\u001b[0m\n\u001b[0m",
      "\u001b[1;31mNameError\u001b[0m: name 'multiply' is not defined"
     ]
    }
   ],
   "source": [
    "# 함수 삭제해보기\n",
    "del(multiply)\n",
    "# 삭제되어 뜨지 않는다\n",
    "multiply"
   ]
  },
  {
   "cell_type": "code",
   "execution_count": 10,
   "metadata": {},
   "outputs": [
    {
     "data": {
      "text/plain": [
       "35"
      ]
     },
     "execution_count": 10,
     "metadata": {},
     "output_type": "execute_result"
    }
   ],
   "source": [
    "# but 변수에 저장한 값은 그대로 남아 있는 것을 확인 가능\n",
    "m5(7)"
   ]
  },
  {
   "cell_type": "markdown",
   "metadata": {},
   "source": [
    "#### 데코레이터\n",
    "\n",
    "- 함수를 선언하고 기능을 덮어 함수에 쓸 수 있다\n",
    "- 메인 함수에 또다른 함수를 데코레이터로 선언하여 사용하는 것이 가능하다. \n",
    "- 목적: 재사용 용이, 가독성이 좋음, 직관성이 강함"
   ]
  },
  {
   "cell_type": "code",
   "execution_count": 17,
   "metadata": {},
   "outputs": [
    {
     "data": {
      "text/plain": [
       "4"
      ]
     },
     "execution_count": 17,
     "metadata": {},
     "output_type": "execute_result"
    }
   ],
   "source": [
    "# 수업 자료\n",
    "# 아래 처럼 이렇게 원래 써야함\n",
    "def add(a,b):\n",
    "    return a + b\n",
    "\n",
    "def document_it(func):\n",
    "    def new_func(*args, **kargs):\n",
    "        print('arguments: ', args)\n",
    "        print(\"key arguments: \", kargs)\n",
    "        return func(*args, **kargs)\n",
    "    return\n",
    "\n",
    "add(1,3)"
   ]
  },
  {
   "cell_type": "code",
   "execution_count": 6,
   "metadata": {},
   "outputs": [
    {
     "ename": "SyntaxError",
     "evalue": "duplicate argument 'args' in function definition (<ipython-input-6-545c792fb515>, line 7)",
     "output_type": "error",
     "traceback": [
      "\u001b[1;36m  File \u001b[1;32m\"<ipython-input-6-545c792fb515>\"\u001b[1;36m, line \u001b[1;32m7\u001b[0m\n\u001b[1;33m    print(\"key arguments: \", kargs)\u001b[0m\n\u001b[1;37m       ^\u001b[0m\n\u001b[1;31mSyntaxError\u001b[0m\u001b[1;31m:\u001b[0m duplicate argument 'args' in function definition\n"
     ]
    }
   ],
   "source": [
    "#데코레이터 활용하기\n",
    "\n",
    "def document_it(func):\n",
    "    def new_func( *args, **kargs):\n",
    "        print('arguments: ', args)\n",
    "        print(\"key arguments: \", kargs)\n",
    "        return func(*args, **kargs)\n",
    "    return new_func\n",
    "\n",
    "@document_it\n",
    "def add(a,b):\n",
    "    return a + b\n",
    "\n",
    "# add에 없는 원소들도 데코레이터 때문에 출력되는 것 확인 가능 \n",
    "add(1,3)"
   ]
  },
  {
   "cell_type": "code",
   "execution_count": 25,
   "metadata": {},
   "outputs": [],
   "source": [
    "# 수업 실습\n",
    "# add에 활용할 중첩 함수: 결과 값의 제곱값을 반환하는 클로저 함수 만들기\n",
    "\n",
    "def square(func):\n",
    "    def new_func(*args):\n",
    "        result = func(*args)\n",
    "        return result * result\n",
    "    return new_func\n",
    "\n",
    "@square\n",
    "def add(a, b):\n",
    "    print(a+b)\n",
    "    return a + b"
   ]
  },
  {
   "cell_type": "code",
   "execution_count": 42,
   "metadata": {},
   "outputs": [
    {
     "name": "stdout",
     "output_type": "stream",
     "text": [
      "7\n"
     ]
    },
    {
     "data": {
      "text/plain": [
       "49"
      ]
     },
     "execution_count": 42,
     "metadata": {},
     "output_type": "execute_result"
    }
   ],
   "source": [
    "add(3,4)"
   ]
  },
  {
   "cell_type": "code",
   "execution_count": 35,
   "metadata": {},
   "outputs": [
    {
     "name": "stdout",
     "output_type": "stream",
     "text": [
      "MusicBank  녹화 시작\n",
      "안녕하세요~! 오늘의 방송 시작합니다~!\n",
      "금요일 요정 뮤직뱅크가 돌아왔습니다~!\n",
      "그럼 바로 무대 보러 가실까요~?\n",
      "MusicBank 녹화 끝\n",
      "\n",
      "McountDown  녹화 시작\n",
      "안녕하세요~! 오늘의 방송 시작합니다~!\n",
      "목요일, 제일 핫한 엠카~!\n",
      "그럼 바로 무대 보러 가실까요~?\n",
      "McountDown 녹화 끝\n",
      "\n"
     ]
    }
   ],
   "source": [
    "# 혼자 실습\n",
    "# 데코레이터 예제 + 개인적으로 함수명을 어떻게 가져오는지 궁금했어서 찾은 예제\n",
    "\n",
    "def opening(program):\n",
    "    def inside():\n",
    "        print(program.__name__,' 녹화 시작')\n",
    "        print(\"안녕하세요~! 오늘의 방송 시작합니다~!\")\n",
    "        program()\n",
    "        print(\"그럼 바로 무대 보러 가실까요~?\")\n",
    "        print(program.__name__,'녹화 끝')\n",
    "        print('')\n",
    "    return inside\n",
    "\n",
    "@opening\n",
    "def MusicBank():\n",
    "    print(f'금요일 요정 뮤직뱅크가 돌아왔습니다~!')\n",
    "    \n",
    "@opening\n",
    "def McountDown():\n",
    "    print(f'목요일, 제일 핫한 엠카~!')\n",
    "    \n",
    "    \n",
    "MusicBank()\n",
    "McountDown()"
   ]
  },
  {
   "cell_type": "markdown",
   "metadata": {},
   "source": [
    "#### scope: global, local, nonlocal\n",
    "- 내부 함수는 외부 함수의 인자를 참조만 할 수 있다 = 읽기만 가능\n",
    "- nonlocal 예약어를 활용한다. "
   ]
  },
  {
   "cell_type": "code",
   "execution_count": 36,
   "metadata": {},
   "outputs": [],
   "source": [
    "#전역 변수 위치\n",
    "global_a = \"Here is global\"\n",
    "\n",
    "def inside_function():\n",
    "    print(\"Here is local\")\n",
    "    def inner():\n",
    "        print(\"deeper\")"
   ]
  },
  {
   "cell_type": "code",
   "execution_count": 37,
   "metadata": {},
   "outputs": [
    {
     "data": {
      "text/plain": [
       "11"
      ]
     },
     "execution_count": 37,
     "metadata": {},
     "output_type": "execute_result"
    }
   ],
   "source": [
    "# nonlocal을 사용해주지 않으면 error남. \n",
    "z = 3\n",
    "def outer(x):\n",
    "    y = 4\n",
    "    def inner():\n",
    "        nonlocal x\n",
    "        # 제일 가까운걸 먼저 인식한다\n",
    "        x+=1\n",
    "        return x #1000\n",
    "    return inner()\n",
    "\n",
    "# inner을 반환하기 때문에 바뀜\n",
    "outer(10)"
   ]
  },
  {
   "cell_type": "code",
   "execution_count": 41,
   "metadata": {},
   "outputs": [
    {
     "data": {
      "text/plain": [
       "[7, 5, 13, 25, 50, 100, 200]"
      ]
     },
     "execution_count": 41,
     "metadata": {},
     "output_type": "execute_result"
    }
   ],
   "source": [
    "#주의하고, 지양해야 할 코드 \n",
    "\n",
    "def my_func(nums:list):\n",
    "    # 가변인자 -> 리턴 없이도 리턴 얻어 반환함\n",
    "    # 문서화를 통한 사용자가 알 수 있게 해야함\n",
    "    nums.append(sum(nums))\n",
    "    \n",
    "a = [7, 5, 13]\n",
    "my_func(a)\n",
    "my_func(a)\n",
    "my_func(a)\n",
    "my_func(a)\n",
    "# 한 100번 하면 형태 예측 불가능해짐\n",
    "a"
   ]
  },
  {
   "cell_type": "markdown",
   "metadata": {},
   "source": [
    "### 수업 중 실습\n",
    "\n",
    "1. 함수: 차 속도, 제한 속도를 비교해서 true, false반환\n",
    "\n",
    "2. 데코레이터 함수\n",
    "- 만약 제한속도를 초과하였다면 얼마나 초과했는지 프린트하는 함수\n",
    "- 예: 100, 80\n",
    "- 20km/h 초과하였습니다. "
   ]
  },
  {
   "cell_type": "code",
   "execution_count": 47,
   "metadata": {},
   "outputs": [
    {
     "data": {
      "text/plain": [
       "' 초과속도: 20 km/h '"
      ]
     },
     "execution_count": 47,
     "metadata": {},
     "output_type": "execute_result"
    }
   ],
   "source": [
    "def report_speed(func):\n",
    "    def inner(speed, limit):\n",
    "        if func(speed, limit):\n",
    "            if func(speed, limit):\n",
    "                return f' 초과속도: {speed - limit} km/h '\n",
    "            else:\n",
    "                return f' 속도를 준수하였습니다 '\n",
    "    return inner\n",
    "\n",
    "\n",
    "@report_speed\n",
    "def is_speeding(speed, limit):\n",
    "    # 과속 시 True에 걸리도록\n",
    "    return speed>limit\n",
    "\n",
    "is_speeding(100,80)"
   ]
  },
  {
   "cell_type": "code",
   "execution_count": 52,
   "metadata": {},
   "outputs": [
    {
     "data": {
      "text/plain": [
       "' 과자가 남아있습니다. :고래밥'"
      ]
     },
     "execution_count": 52,
     "metadata": {},
     "output_type": "execute_result"
    }
   ],
   "source": [
    "# True, false 받는 예제 혼자 해보기\n",
    "# 깨달은 것: return inner을 해주지 않으면 nontype error가 뜬다\n",
    "\n",
    "def how_many_eats(func):\n",
    "    def inner(snacks, number):\n",
    "        if func(snacks, number):\n",
    "            return f' 과자가 남아있습니다. :{snacks}'\n",
    "\n",
    "        else:\n",
    "            return \"과자가 없습니다.\"\n",
    "    return inner\n",
    "\n",
    "@how_many_eats\n",
    "def eat_snacks(snacks, number):\n",
    "    return number>0\n",
    "\n",
    "eat_snacks('고래밥',10)"
   ]
  },
  {
   "cell_type": "markdown",
   "metadata": {},
   "source": [
    "### 제너레이터\n",
    "\n",
    "- 가장 큰 특징은 한번 쓰면 없어짐! = 메모리 효율성 증대에 용이\n",
    "- return 대신 yield를 사용하고 순회하여 리턴을 반환해줌\n",
    "    - 때문에 단순 호출하면 안되고 for문 사용하여 yield해줌\n",
    "- 순회의 리턴값을 하나씩 반환해줌\n",
    "- 시퀀스를 생성하는 객체"
   ]
  },
  {
   "cell_type": "code",
   "execution_count": 61,
   "metadata": {},
   "outputs": [
    {
     "data": {
      "text/plain": [
       "<generator object func_1 at 0x00000280946C12C8>"
      ]
     },
     "execution_count": 61,
     "metadata": {},
     "output_type": "execute_result"
    }
   ],
   "source": [
    "def func_1():\n",
    "    for i in range(5):\n",
    "        yield i\n",
    "        \n",
    "func_1()"
   ]
  },
  {
   "cell_type": "code",
   "execution_count": 62,
   "metadata": {},
   "outputs": [
    {
     "name": "stdout",
     "output_type": "stream",
     "text": [
      "0\n",
      "1\n",
      "2\n",
      "3\n",
      "4\n"
     ]
    }
   ],
   "source": [
    "# 아래와 같이 활용해야함\n",
    "\n",
    "ex_f = func_1()\n",
    "for i in ex_f:\n",
    "    print(i)"
   ]
  },
  {
   "cell_type": "code",
   "execution_count": 63,
   "metadata": {},
   "outputs": [],
   "source": [
    "# 한번 사용해서 작동하지 않음\n",
    "for i in ex_f:\n",
    "    print(i)"
   ]
  },
  {
   "cell_type": "code",
   "execution_count": 69,
   "metadata": {},
   "outputs": [],
   "source": [
    "# 수업 예제 응용\n",
    "\n",
    "fruits = '망고,사과,배,체리'.split(',')\n",
    "\n",
    "def buy(fruits_list:list):\n",
    "    for fruit in fruits_list:\n",
    "        yield fruit\n",
    "\n",
    "fruits_list = buy(fruits)"
   ]
  },
  {
   "cell_type": "code",
   "execution_count": 72,
   "metadata": {},
   "outputs": [],
   "source": [
    "# 얘는 제너레이터라 두번 하면 안되는데 \n",
    "for i in fruits_list:\n",
    "    print(i)"
   ]
  },
  {
   "cell_type": "code",
   "execution_count": 73,
   "metadata": {},
   "outputs": [
    {
     "name": "stdout",
     "output_type": "stream",
     "text": [
      "망고\n",
      "사과\n",
      "배\n",
      "체리\n"
     ]
    }
   ],
   "source": [
    "# 얘는 두번해도 멀쩡히 된다. 제너레이터 자체를 call해서 그런 것 같다.\n",
    "for i in buy(fruits):\n",
    "    print(i)"
   ]
  },
  {
   "cell_type": "markdown",
   "metadata": {},
   "source": [
    "#### 수업 실습 : range 함수 구현하기.\n",
    "- 당연히 range 사용 금지"
   ]
  },
  {
   "cell_type": "code",
   "execution_count": 74,
   "metadata": {},
   "outputs": [],
   "source": [
    "def my_range(start, end, step = 1):\n",
    "    while start < end:\n",
    "        yield start\n",
    "        start += step"
   ]
  },
  {
   "cell_type": "code",
   "execution_count": 75,
   "metadata": {},
   "outputs": [
    {
     "data": {
      "text/plain": [
       "[0, 1, 2, 3, 4, 5, 6, 7, 8, 9]"
      ]
     },
     "execution_count": 75,
     "metadata": {},
     "output_type": "execute_result"
    }
   ],
   "source": [
    "[i for i in range(10)]"
   ]
  },
  {
   "cell_type": "code",
   "execution_count": 76,
   "metadata": {},
   "outputs": [
    {
     "name": "stdout",
     "output_type": "stream",
     "text": [
      "1\n",
      "3\n"
     ]
    }
   ],
   "source": [
    "for i in my_range(1,5,2):\n",
    "    print(i)"
   ]
  },
  {
   "cell_type": "code",
   "execution_count": 81,
   "metadata": {},
   "outputs": [],
   "source": [
    "# 컴프리헨션으로 제너레이터 만들기\n",
    "# 괄호로 만들어주면 됨!\n",
    "ranger = (i for i in range(3,7))"
   ]
  },
  {
   "cell_type": "code",
   "execution_count": 82,
   "metadata": {},
   "outputs": [
    {
     "name": "stdout",
     "output_type": "stream",
     "text": [
      "K3\n",
      "K4\n",
      "K5\n",
      "K6\n"
     ]
    }
   ],
   "source": [
    "for i in ranger:\n",
    "    print(f'K{i}')"
   ]
  },
  {
   "cell_type": "code",
   "execution_count": 83,
   "metadata": {},
   "outputs": [],
   "source": [
    "#두번 사용은 불가함\n",
    "for i in ranger:\n",
    "    print(f'K{i}')\n",
    "    #출력x"
   ]
  },
  {
   "cell_type": "markdown",
   "metadata": {},
   "source": [
    "#### 재귀 함수\n",
    "\n",
    "- 자기 자신을 호출하는 함수.\n",
    "- 재귀가 너무 깊어지면 예외 발생하는 것에 주의하기\n",
    "\n",
    "\n",
    " => 주로 모든 요소의 차원을 단일화시킬 때 사용\n",
    "    [a, b, a,b,c..] 식으로 단일화 시킬 때 .."
   ]
  },
  {
   "cell_type": "code",
   "execution_count": 86,
   "metadata": {},
   "outputs": [
    {
     "name": "stdout",
     "output_type": "stream",
     "text": [
      "False\n"
     ]
    },
    {
     "data": {
      "text/plain": [
       "True"
      ]
     },
     "execution_count": 86,
     "metadata": {},
     "output_type": "execute_result"
    }
   ],
   "source": [
    "# isinstance: 타입을 물어보는 함수\n",
    "print(isinstance('word',int))\n",
    "isinstance('word',str)"
   ]
  },
  {
   "cell_type": "code",
   "execution_count": 87,
   "metadata": {},
   "outputs": [],
   "source": [
    "def flatten(sent):\n",
    "    for word in sent:\n",
    "        if isinstance(word, list):\n",
    "            # 리스트가 맞다면\n",
    "            for sub_word in flatten(word):\n",
    "                yield sub_word\n",
    "        else:\n",
    "            yield word\n",
    "            \n",
    "a = [1,2, [2, 3, 4],[[[1,2]]]]"
   ]
  },
  {
   "cell_type": "code",
   "execution_count": 90,
   "metadata": {},
   "outputs": [
    {
     "name": "stdout",
     "output_type": "stream",
     "text": [
      "1 2 2 3 4 1 2 "
     ]
    }
   ],
   "source": [
    "for i in flatten(a):\n",
    "    print(i, end = ' ')"
   ]
  },
  {
   "cell_type": "code",
   "execution_count": 91,
   "metadata": {},
   "outputs": [],
   "source": [
    "#파이썬 3.3이상 일 시 더 간략화 하는 법\n",
    "def flatten(sent):\n",
    "    for word in sent:\n",
    "        if isinstance(word, list):\n",
    "            # 리스트가 맞다면\n",
    "            #for sub_word in flatten(word):\n",
    "                #yield sub_word\n",
    "            yield from flatten(word) #3.3이상 버전에서 지원\n",
    "        else:\n",
    "            yield word"
   ]
  },
  {
   "cell_type": "markdown",
   "metadata": {},
   "source": [
    "### 예외 처리 | exception handling\n",
    "- 프로그램 동작 중 예외가 발생했을 때 대처하기 위함\n",
    "- 사용자에게 예외를 알리고 원하는 조치를 설정한다. \n",
    "- 프로그램이 정상적으로 종료가 될 수 있다. \n",
    "\n",
    "#### 주로 일어나는 예외\n",
    "1. index error : 인덱스 벗어날 때\n",
    "2. value error : int(\"hello\")와 같이 값이 맞지 않을 때\n",
    "3. name error : 선언해주지 않은 변수나 잘못된 이름의 변수를 불러올 때\n",
    "\n",
    "- 아래는 예외 처리 방법"
   ]
  },
  {
   "cell_type": "code",
   "execution_count": 94,
   "metadata": {},
   "outputs": [
    {
     "name": "stdout",
     "output_type": "stream",
     "text": [
      "변수명이 잘못되었습니다\n"
     ]
    }
   ],
   "source": [
    "# 예외 처리 방법\n",
    "try:\n",
    "    # 예외가 발생할 수도 있는 코드 블럭\n",
    "    DoOo + 1\n",
    "\n",
    "except NameError:\n",
    "    # 예외 시 행할 행동\n",
    "    print(\"변수명이 잘못되었습니다\")\n",
    "    # 정상 종료"
   ]
  },
  {
   "cell_type": "code",
   "execution_count": 95,
   "metadata": {},
   "outputs": [
    {
     "name": "stdout",
     "output_type": "stream",
     "text": [
      "0으로 나눌 수 없다\n"
     ]
    }
   ],
   "source": [
    "# 유의 해야할 경우: 원하는 경우만 빼서 하고 싶을 때\n",
    "# 예외가 일어나면 어쨋든 강제 종료라 위치에 유의해야함\n",
    "# 잘못된 예시\n",
    "try:\n",
    "    \n",
    "    for i in range(4):\n",
    "        print(4/i)\n",
    "    \n",
    "# 얘가 한거: 0하고 종료\n",
    "except ZeroDivisionError:\n",
    "    print(\"0으로 나눌 수 없다\")\n",
    "    # 강제 종료"
   ]
  },
  {
   "cell_type": "code",
   "execution_count": 98,
   "metadata": {},
   "outputs": [
    {
     "name": "stdout",
     "output_type": "stream",
     "text": [
      "0으로 나눌 수 없다\n",
      "4.0\n",
      "2.0\n",
      "1.3333333333333333\n"
     ]
    }
   ],
   "source": [
    "# 위치를 바꿔주면\n",
    "for i in range(4):\n",
    "    try:\n",
    "        print(4/i)\n",
    "    \n",
    "    # 예외 경우를 for 문 안으로 넣어주었다\n",
    "    except ZeroDivisionError:\n",
    "    # 예외 시 행할 행동\n",
    "        print(\"0으로 나눌 수 없다\")"
   ]
  },
  {
   "cell_type": "code",
   "execution_count": 102,
   "metadata": {},
   "outputs": [
    {
     "name": "stdin",
     "output_type": "stream",
     "text": [
      "인덱스를 입력해주세요>> 0\n"
     ]
    },
    {
     "name": "stdout",
     "output_type": "stream",
     "text": [
      "O\n"
     ]
    },
    {
     "name": "stdin",
     "output_type": "stream",
     "text": [
      "인덱스를 입력해주세요>> 10\n"
     ]
    },
    {
     "name": "stdout",
     "output_type": "stream",
     "text": [
      "string index out of range\n"
     ]
    },
    {
     "name": "stdin",
     "output_type": "stream",
     "text": [
      "인덱스를 입력해주세요>> ak\n"
     ]
    },
    {
     "name": "stdout",
     "output_type": "stream",
     "text": [
      "invalid literal for int() with base 10: 'ak'\n"
     ]
    },
    {
     "name": "stdin",
     "output_type": "stream",
     "text": [
      "인덱스를 입력해주세요>> q\n"
     ]
    }
   ],
   "source": [
    "# 주요 에러 사항\n",
    "# 에러가 나서 앞에 껄 다 날려버리면 아까우니 문장으로 출력되게끔 해주는 코드\n",
    "word = 'Oh hi!'\n",
    "\n",
    "while True:\n",
    "    index = input('인덱스를 입력해주세요>>')\n",
    "    if index == 'q':\n",
    "        break\n",
    "    \n",
    "    try:\n",
    "        index = int(index) #value error, indexerror\n",
    "        print(word[index])\n",
    "        \n",
    "    except ValueError as error1: #e1 => 예외 핸들러. e1은 ddd등으로 바꾸기 가능\n",
    "        print(error1) #에러 메세지를 그대로 보기 위함.\n",
    "    except IndexError as error2:\n",
    "        print(error2)"
   ]
  },
  {
   "cell_type": "markdown",
   "metadata": {},
   "source": [
    "#### 예외 일으키기\n",
    "- 원하는 순간에서 프로그램이 강제종료 되도록 설정해줄 수 있음\n",
    "- raise, assert\n",
    "- assert는 많이 씀. if else 필요 없이 assertion으로 막아주고 싶을 때 사용\n",
    "    - assert는 True를 보장해준다\n",
    "- raise 예외타입(메시지) 형식으로 사용\n",
    "- assert <참인 조건>, <False일 경우 내보낼 메시지>"
   ]
  },
  {
   "cell_type": "code",
   "execution_count": 103,
   "metadata": {},
   "outputs": [
    {
     "name": "stdin",
     "output_type": "stream",
     "text": [
      "알파벳>> a\n",
      "알파벳>> 10\n"
     ]
    },
    {
     "ename": "ValueError",
     "evalue": "알파벳이 아닙니다",
     "output_type": "error",
     "traceback": [
      "\u001b[1;31m---------------------------------------------------------------------------\u001b[0m",
      "\u001b[1;31mValueError\u001b[0m                                Traceback (most recent call last)",
      "\u001b[1;32m<ipython-input-103-8ae962ffdab6>\u001b[0m in \u001b[0;36m<module>\u001b[1;34m\u001b[0m\n\u001b[0;32m      2\u001b[0m     \u001b[0malphabet\u001b[0m \u001b[1;33m=\u001b[0m \u001b[0minput\u001b[0m\u001b[1;33m(\u001b[0m\u001b[1;34m\"알파벳>>\"\u001b[0m\u001b[1;33m)\u001b[0m\u001b[1;33m\u001b[0m\u001b[1;33m\u001b[0m\u001b[0m\n\u001b[0;32m      3\u001b[0m     \u001b[1;32mif\u001b[0m \u001b[1;32mnot\u001b[0m \u001b[0malphabet\u001b[0m\u001b[1;33m.\u001b[0m\u001b[0misalpha\u001b[0m\u001b[1;33m(\u001b[0m\u001b[1;33m)\u001b[0m\u001b[1;33m:\u001b[0m\u001b[1;33m\u001b[0m\u001b[1;33m\u001b[0m\u001b[0m\n\u001b[1;32m----> 4\u001b[1;33m         \u001b[1;32mraise\u001b[0m \u001b[0mValueError\u001b[0m\u001b[1;33m(\u001b[0m\u001b[1;34m\"알파벳이 아닙니다\"\u001b[0m\u001b[1;33m)\u001b[0m\u001b[1;33m\u001b[0m\u001b[1;33m\u001b[0m\u001b[0m\n\u001b[0m",
      "\u001b[1;31mValueError\u001b[0m: 알파벳이 아닙니다"
     ]
    }
   ],
   "source": [
    "while True:\n",
    "    alphabet = input(\"알파벳>>\")\n",
    "    if not alphabet.isalpha():\n",
    "        raise ValueError(\"알파벳이 아닙니다\")"
   ]
  },
  {
   "cell_type": "code",
   "execution_count": 104,
   "metadata": {},
   "outputs": [
    {
     "ename": "AssertionError",
     "evalue": "정수 아님",
     "output_type": "error",
     "traceback": [
      "\u001b[1;31m---------------------------------------------------------------------------\u001b[0m",
      "\u001b[1;31mAssertionError\u001b[0m                            Traceback (most recent call last)",
      "\u001b[1;32m<ipython-input-104-a2fd480701dc>\u001b[0m in \u001b[0;36m<module>\u001b[1;34m\u001b[0m\n\u001b[0;32m      3\u001b[0m     \u001b[1;32mreturn\u001b[0m \u001b[0mbin\u001b[0m\u001b[1;33m(\u001b[0m\u001b[0mnum\u001b[0m\u001b[1;33m)\u001b[0m\u001b[1;33m\u001b[0m\u001b[1;33m\u001b[0m\u001b[0m\n\u001b[0;32m      4\u001b[0m \u001b[1;33m\u001b[0m\u001b[0m\n\u001b[1;32m----> 5\u001b[1;33m \u001b[0mget_binary\u001b[0m\u001b[1;33m(\u001b[0m\u001b[1;34m'10'\u001b[0m\u001b[1;33m)\u001b[0m\u001b[1;33m\u001b[0m\u001b[1;33m\u001b[0m\u001b[0m\n\u001b[0m",
      "\u001b[1;32m<ipython-input-104-a2fd480701dc>\u001b[0m in \u001b[0;36mget_binary\u001b[1;34m(num)\u001b[0m\n\u001b[0;32m      1\u001b[0m \u001b[1;32mdef\u001b[0m \u001b[0mget_binary\u001b[0m\u001b[1;33m(\u001b[0m\u001b[0mnum\u001b[0m\u001b[1;33m)\u001b[0m\u001b[1;33m:\u001b[0m\u001b[1;33m\u001b[0m\u001b[1;33m\u001b[0m\u001b[0m\n\u001b[1;32m----> 2\u001b[1;33m     \u001b[1;32massert\u001b[0m \u001b[0misinstance\u001b[0m\u001b[1;33m(\u001b[0m\u001b[0mnum\u001b[0m\u001b[1;33m,\u001b[0m \u001b[0mint\u001b[0m\u001b[1;33m)\u001b[0m\u001b[1;33m,\u001b[0m \u001b[1;34m'정수 아님'\u001b[0m\u001b[1;33m\u001b[0m\u001b[1;33m\u001b[0m\u001b[0m\n\u001b[0m\u001b[0;32m      3\u001b[0m     \u001b[1;32mreturn\u001b[0m \u001b[0mbin\u001b[0m\u001b[1;33m(\u001b[0m\u001b[0mnum\u001b[0m\u001b[1;33m)\u001b[0m\u001b[1;33m\u001b[0m\u001b[1;33m\u001b[0m\u001b[0m\n\u001b[0;32m      4\u001b[0m \u001b[1;33m\u001b[0m\u001b[0m\n\u001b[0;32m      5\u001b[0m \u001b[0mget_binary\u001b[0m\u001b[1;33m(\u001b[0m\u001b[1;34m'10'\u001b[0m\u001b[1;33m)\u001b[0m\u001b[1;33m\u001b[0m\u001b[1;33m\u001b[0m\u001b[0m\n",
      "\u001b[1;31mAssertionError\u001b[0m: 정수 아님"
     ]
    }
   ],
   "source": [
    "def get_binary(num):\n",
    "    assert isinstance(num, int), '정수 아님'\n",
    "    return bin(num)\n",
    "\n",
    "get_binary('10')"
   ]
  },
  {
   "cell_type": "markdown",
   "metadata": {},
   "source": [
    "#### 사용자 정의 예외 타입\n",
    "- 예외 class를 선언하고 exception 클래스를 상속 받는다 "
   ]
  },
  {
   "cell_type": "code",
   "execution_count": 107,
   "metadata": {},
   "outputs": [
    {
     "name": "stdout",
     "output_type": "stream",
     "text": [
      "삐용삐용\n"
     ]
    }
   ],
   "source": [
    "class MyException(Exception):\n",
    "    # 별다르게 출력되는 것은 아니다\n",
    "    print(\"삐용삐용\")"
   ]
  },
  {
   "cell_type": "code",
   "execution_count": 108,
   "metadata": {},
   "outputs": [
    {
     "name": "stdout",
     "output_type": "stream",
     "text": [
      "dublin\n",
      "newyork\n",
      "seoul\n"
     ]
    },
    {
     "ename": "MyException",
     "evalue": "대문자 안됨",
     "output_type": "error",
     "traceback": [
      "\u001b[1;31m---------------------------------------------------------------------------\u001b[0m",
      "\u001b[1;31mMyException\u001b[0m                               Traceback (most recent call last)",
      "\u001b[1;32m<ipython-input-108-647fb1d1546c>\u001b[0m in \u001b[0;36m<module>\u001b[1;34m\u001b[0m\n\u001b[0;32m      3\u001b[0m \u001b[1;32mfor\u001b[0m \u001b[0mcity\u001b[0m \u001b[1;32min\u001b[0m \u001b[0mcities\u001b[0m\u001b[1;33m:\u001b[0m\u001b[1;33m\u001b[0m\u001b[1;33m\u001b[0m\u001b[0m\n\u001b[0;32m      4\u001b[0m     \u001b[1;32mif\u001b[0m \u001b[0mcity\u001b[0m\u001b[1;33m.\u001b[0m\u001b[0misupper\u001b[0m\u001b[1;33m(\u001b[0m\u001b[1;33m)\u001b[0m\u001b[1;33m:\u001b[0m\u001b[1;33m\u001b[0m\u001b[1;33m\u001b[0m\u001b[0m\n\u001b[1;32m----> 5\u001b[1;33m         \u001b[1;32mraise\u001b[0m \u001b[0mMyException\u001b[0m\u001b[1;33m(\u001b[0m\u001b[1;34m'대문자 안됨'\u001b[0m\u001b[1;33m)\u001b[0m\u001b[1;33m\u001b[0m\u001b[1;33m\u001b[0m\u001b[0m\n\u001b[0m\u001b[0;32m      6\u001b[0m \u001b[1;33m\u001b[0m\u001b[0m\n\u001b[0;32m      7\u001b[0m     \u001b[1;32melse\u001b[0m\u001b[1;33m:\u001b[0m\u001b[1;33m\u001b[0m\u001b[1;33m\u001b[0m\u001b[0m\n",
      "\u001b[1;31mMyException\u001b[0m: 대문자 안됨"
     ]
    }
   ],
   "source": [
    "cities = 'dublin newyork seoul TOKYO'.split()\n",
    "\n",
    "for city in cities:\n",
    "    if city.isupper():\n",
    "        raise MyException('대문자 안됨')\n",
    "        \n",
    "    else:\n",
    "        print(city)"
   ]
  },
  {
   "cell_type": "code",
   "execution_count": 110,
   "metadata": {},
   "outputs": [],
   "source": [
    "# 경우에 따른 에러 클래스 지정해주기\n",
    "class LowercaseException(Exception):\n",
    "    def __init__(self):\n",
    "        super().__init__('소문자 안됩니다')"
   ]
  },
  {
   "cell_type": "code",
   "execution_count": 111,
   "metadata": {},
   "outputs": [
    {
     "name": "stdout",
     "output_type": "stream",
     "text": [
      "DUBLIN\n"
     ]
    },
    {
     "ename": "LowercaseException",
     "evalue": "소문자 안됩니다",
     "output_type": "error",
     "traceback": [
      "\u001b[1;31m---------------------------------------------------------------------------\u001b[0m",
      "\u001b[1;31mLowercaseException\u001b[0m                        Traceback (most recent call last)",
      "\u001b[1;32m<ipython-input-111-a3f42e59e4e0>\u001b[0m in \u001b[0;36m<module>\u001b[1;34m\u001b[0m\n\u001b[0;32m      3\u001b[0m \u001b[1;32mfor\u001b[0m \u001b[0mcity\u001b[0m \u001b[1;32min\u001b[0m \u001b[0mcities\u001b[0m\u001b[1;33m:\u001b[0m\u001b[1;33m\u001b[0m\u001b[1;33m\u001b[0m\u001b[0m\n\u001b[0;32m      4\u001b[0m     \u001b[1;32mif\u001b[0m \u001b[0mcity\u001b[0m\u001b[1;33m.\u001b[0m\u001b[0mislower\u001b[0m\u001b[1;33m(\u001b[0m\u001b[1;33m)\u001b[0m\u001b[1;33m:\u001b[0m\u001b[1;33m\u001b[0m\u001b[1;33m\u001b[0m\u001b[0m\n\u001b[1;32m----> 5\u001b[1;33m         \u001b[1;32mraise\u001b[0m \u001b[0mLowercaseException\u001b[0m\u001b[1;33m\u001b[0m\u001b[1;33m\u001b[0m\u001b[0m\n\u001b[0m\u001b[0;32m      6\u001b[0m \u001b[1;33m\u001b[0m\u001b[0m\n\u001b[0;32m      7\u001b[0m     \u001b[1;32melse\u001b[0m\u001b[1;33m:\u001b[0m\u001b[1;33m\u001b[0m\u001b[1;33m\u001b[0m\u001b[0m\n",
      "\u001b[1;31mLowercaseException\u001b[0m: 소문자 안됩니다"
     ]
    }
   ],
   "source": [
    "cities = 'DUBLIN newyork seoul TOKYO'.split()\n",
    "\n",
    "for city in cities:\n",
    "    if city.islower():\n",
    "        raise LowercaseException\n",
    "        \n",
    "    else:\n",
    "        print(city)"
   ]
  },
  {
   "cell_type": "code",
   "execution_count": null,
   "metadata": {},
   "outputs": [],
   "source": []
  }
 ],
 "metadata": {
  "kernelspec": {
   "display_name": "Python 3",
   "language": "python",
   "name": "python3"
  },
  "language_info": {
   "codemirror_mode": {
    "name": "ipython",
    "version": 3
   },
   "file_extension": ".py",
   "mimetype": "text/x-python",
   "name": "python",
   "nbconvert_exporter": "python",
   "pygments_lexer": "ipython3",
   "version": "3.7.6"
  }
 },
 "nbformat": 4,
 "nbformat_minor": 4
}
