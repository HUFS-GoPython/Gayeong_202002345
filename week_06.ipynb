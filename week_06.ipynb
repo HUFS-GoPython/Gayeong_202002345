{
 "cells": [
  {
   "cell_type": "markdown",
   "metadata": {},
   "source": [
    "### 6주차 복습\n",
    "(작동이 느려지면 커널을 다시 시작 해야하는 경우가 생겨 편의를 위해 수업 초에 배운 nltk를 후반에 복습하고 초반엔 튜플과 리스트 부터 복습했습니다!)\n",
    "\n",
    "#### tuple & List\n",
    "\n",
    "1. 튜플과 리스트 생성하기"
   ]
  },
  {
   "cell_type": "code",
   "execution_count": 5,
   "metadata": {},
   "outputs": [
    {
     "data": {
      "text/plain": [
       "((), [])"
      ]
     },
     "execution_count": 5,
     "metadata": {},
     "output_type": "execute_result"
    }
   ],
   "source": [
    "#소괄호로 묶기\n",
    "emptyT = ()\n",
    "emptyT = tuple()\n",
    "\n",
    "\n",
    "#대괄호로 묶기\n",
    "emptyL = []\n",
    "empthL = list()\n",
    "\n",
    "emptyT,emptyL #비어있음"
   ]
  },
  {
   "cell_type": "code",
   "execution_count": 4,
   "metadata": {},
   "outputs": [
    {
     "name": "stdout",
     "output_type": "stream",
     "text": [
      "False False\n"
     ]
    }
   ],
   "source": [
    "#빈 튜플과 리스트의 특성\n",
    "print(bool(emptyT),bool(emptyL))"
   ]
  },
  {
   "cell_type": "markdown",
   "metadata": {},
   "source": [
    "1.1 요소가 두개 이상일 때\n",
    "\n",
    "- 리스트는 [] 를 사용해야함\n",
    "- 튜플은 ()를 사용하지만 사용하지 않아도 무관함."
   ]
  },
  {
   "cell_type": "code",
   "execution_count": 6,
   "metadata": {},
   "outputs": [
    {
     "data": {
      "text/plain": [
       "(('a', 'b'), ['a', 'b'])"
      ]
     },
     "execution_count": 6,
     "metadata": {},
     "output_type": "execute_result"
    }
   ],
   "source": [
    "listA = ['a','b']\n",
    "tupleA = 'a','b'#없이써도 됨 =  괄호 안치고 더 많이 씀\n",
    "tupleA = ('a','b')\n",
    "\n",
    "tupleA,listA"
   ]
  },
  {
   "cell_type": "markdown",
   "metadata": {},
   "source": [
    "1.2 요소가 한개일 때\n",
    "\n",
    "- 리스트는 단순히 하나만 적으면 됨: []로 인식이 되기 때문!\n",
    "- 튜플은 ,을 붙여줘야만!!!!!한개로 인식함"
   ]
  },
  {
   "cell_type": "code",
   "execution_count": 9,
   "metadata": {},
   "outputs": [
    {
     "name": "stdout",
     "output_type": "stream",
     "text": [
      "<class 'str'> <class 'tuple'>\n"
     ]
    },
    {
     "data": {
      "text/plain": [
       "(('a',), ['a'])"
      ]
     },
     "execution_count": 9,
     "metadata": {},
     "output_type": "execute_result"
    }
   ],
   "source": [
    "listA = ['a']\n",
    "tupleA = ('a',)#컴마를 안붙이면 스트링으로 되어버림\n",
    "tupleA = 'a',\n",
    "strA = 'a'\n",
    "\n",
    "print(type(strA),type(tupleA))\n",
    "tupleA,listA"
   ]
  },
  {
   "cell_type": "markdown",
   "metadata": {},
   "source": [
    "\n",
    "\n",
    "\n",
    "2. 여러 변수 할당하기\n",
    "\n",
    "- 패킹(packing): 한 변수에 여러개의 데이터를 할당하는 것\n",
    "    - 리스트, 튜플은 그 자체로 패킹임\n",
    "    : a = [1,2,3,4~]\n",
    "    \n",
    "- 언패킹(unpacking): 여러 변수에 하나의 데이터를 할당하는 것. 그것을 각각의 변수로 변환하는 것\n",
    "    : a,b,c = [1,2,3]"
   ]
  },
  {
   "cell_type": "code",
   "execution_count": 10,
   "metadata": {},
   "outputs": [
    {
     "data": {
      "text/plain": [
       "('b', 'y', 'e')"
      ]
     },
     "execution_count": 10,
     "metadata": {},
     "output_type": "execute_result"
    }
   ],
   "source": [
    "#언패킹\n",
    "saying = 'bye'\n",
    "\n",
    "a,b,c = saying\n",
    "\n",
    "a,b,c"
   ]
  },
  {
   "cell_type": "code",
   "execution_count": 14,
   "metadata": {},
   "outputs": [
    {
     "name": "stdout",
     "output_type": "stream",
     "text": [
      "glory fire victory\n",
      "the girl is on fire\n"
     ]
    }
   ],
   "source": [
    "#언패킹 리스트\n",
    "\n",
    "a,b,c = ['glory','fire', 'victory']\n",
    "print(a,b,c)\n",
    "print(f'the girl is on {b}')"
   ]
  },
  {
   "cell_type": "code",
   "execution_count": 16,
   "metadata": {},
   "outputs": [
    {
     "data": {
      "text/plain": [
       "('hello', 'abcd')"
      ]
     },
     "execution_count": 16,
     "metadata": {},
     "output_type": "execute_result"
    }
   ],
   "source": [
    "#값 교환\n",
    "\n",
    "pwd = 'abcd'\n",
    "userId = 'hello'\n",
    "#pwd = 'hello', userId ='abcd'\n",
    "\n",
    "#원래 아래의 네줄을 걸쳐야 값이 교환\n",
    "temp1 = pwd\n",
    "temp2 = userId\n",
    "pwd = temp2\n",
    "userId = temp1\n",
    "\n",
    "#값 위치가 바뀌었음을 확인할 수 있다\n",
    "pwd, userId"
   ]
  },
  {
   "cell_type": "code",
   "execution_count": 17,
   "metadata": {},
   "outputs": [
    {
     "data": {
      "text/plain": [
       "('abcd', 'hello')"
      ]
     },
     "execution_count": 17,
     "metadata": {},
     "output_type": "execute_result"
    }
   ],
   "source": [
    "#다만 튜플 쓰면 아래와 같이 가능(튜플의 장점!)\n",
    "\n",
    "pwd, userId = userId,pwd\n",
    "\n",
    "pwd,userId #중간에 바꼈다가 다시 바궈줘서 원위치"
   ]
  },
  {
   "cell_type": "markdown",
   "metadata": {},
   "source": [
    "\n",
    "\n",
    "3. 튜플과 리스트는 연산이 가능하다. 단 튜플의 경우 \n",
    "\n",
    "- +: 합치기(a,b,c,d)\n",
    "- *: 반복하기(a,b,a,b)\n",
    "- ,: 그냥 두개 잇기( (a,b),(c,d))형태\n",
    "- < : 대소 비교 연산자. 첫번째 값부터 비교 후 똑같을 시 두번째 인덱스로 넘어감. "
   ]
  },
  {
   "cell_type": "code",
   "execution_count": 20,
   "metadata": {},
   "outputs": [
    {
     "name": "stdout",
     "output_type": "stream",
     "text": [
      "['list', '는 패킹이다']\n",
      "('love', 'glory', 'victory')\n"
     ]
    }
   ],
   "source": [
    "#+\n",
    "print(['list']+['는 패킹이다'])\n",
    "print(('love',)+('glory','victory'))"
   ]
  },
  {
   "cell_type": "code",
   "execution_count": 21,
   "metadata": {},
   "outputs": [
    {
     "name": "stdout",
     "output_type": "stream",
     "text": [
      "['list', 'list']\n",
      "('good', 'day', 'good', 'day')\n"
     ]
    }
   ],
   "source": [
    "#*\n",
    "print(['list']*2)\n",
    "print(('good','day')*2)"
   ]
  },
  {
   "cell_type": "code",
   "execution_count": 22,
   "metadata": {},
   "outputs": [
    {
     "name": "stdout",
     "output_type": "stream",
     "text": [
      "['list'] ['반점으로 잇기']\n",
      "('고급파이썬', 'nltk') ('구텐베르그', '브라운코퍼스')\n"
     ]
    }
   ],
   "source": [
    "#,\n",
    "print(['list'],['반점으로 잇기'])\n",
    "print(('고급파이썬','nltk'),('구텐베르그','브라운코퍼스'))"
   ]
  },
  {
   "cell_type": "code",
   "execution_count": 25,
   "metadata": {},
   "outputs": [
    {
     "name": "stdout",
     "output_type": "stream",
     "text": [
      "True\n",
      "True\n"
     ]
    }
   ],
   "source": [
    "#대소 비교\n",
    "\n",
    "\n",
    "a = [1,2,3]\n",
    "b = [1,3,2]\n",
    "\n",
    "print(a<b)\n",
    "\n",
    "c = (3,4)\n",
    "d = (5,6,7)\n",
    "print(c<d)"
   ]
  },
  {
   "cell_type": "markdown",
   "metadata": {},
   "source": [
    "\n",
    "\n",
    "4. 순회하기 \n",
    "\n",
    "- for elem in arr: 원소(elem)을 순회할 수 있다\n",
    "- 튜플은 리스트 컴프리헨션이 불가하다. \n",
    "- 언패킹 중 *을 사용하는 방법이 있으나 느리기 때문에 비추한다( 주피터 노트에서는 starred가 불가하다며 오류남)"
   ]
  },
  {
   "cell_type": "code",
   "execution_count": 27,
   "metadata": {},
   "outputs": [
    {
     "name": "stdout",
     "output_type": "stream",
     "text": [
      "1\n",
      "2\n",
      "3\n"
     ]
    }
   ],
   "source": [
    "a = 1, 2, 3\n",
    "\n",
    "for i in a:\n",
    "    print(i)"
   ]
  },
  {
   "cell_type": "code",
   "execution_count": 31,
   "metadata": {},
   "outputs": [
    {
     "name": "stdout",
     "output_type": "stream",
     "text": [
      "['vi', 'gl', 'mi']\n",
      "('vi', 'gl', 'mi')\n"
     ]
    }
   ],
   "source": [
    "#가장 빠른 방법은 리스트컴프리헨션\n",
    "text = 'victory','glory','midterm'\n",
    "\n",
    "t_arr = [word[:2] for word in text]\n",
    "print(t_arr)\n",
    "print(tuple(t_arr))"
   ]
  },
  {
   "cell_type": "markdown",
   "metadata": {},
   "source": [
    "\n",
    "6. 튜플은 불변 객체이다.(immutable)\n",
    "\n",
    "- a= 1, 2, 3, 4\n",
    "- 곧 죽어도 val(값)이 바뀔 수 없음\n",
    "- 코드 수정할 때 튜플 수정할 수 없게 하는 용도로 사용함. \n",
    "- key값을 저장하거나 할 때 사용. \n",
    "\n",
    "- blue =1 ,white=2 등을 저장할 때 주로 사용\\\n"
   ]
  },
  {
   "cell_type": "code",
   "execution_count": 32,
   "metadata": {},
   "outputs": [
    {
     "data": {
      "text/plain": [
       "(2015122534024, 2015120689336)"
      ]
     },
     "execution_count": 32,
     "metadata": {},
     "output_type": "execute_result"
    }
   ],
   "source": [
    "a = (1,)\n",
    "b =(1,2,3)\n",
    "id(a),id(a+b)\n",
    "#둘이 객체가 다름. 수정이 아님. "
   ]
  },
  {
   "cell_type": "markdown",
   "metadata": {},
   "source": [
    "7. 튜플은 메모리 사용이 적다\n",
    "\n",
    "8. 형변환은 tuple(), list()을 통해 가능하다."
   ]
  },
  {
   "cell_type": "code",
   "execution_count": 41,
   "metadata": {},
   "outputs": [
    {
     "data": {
      "text/plain": [
       "('c', 'a', 't')"
      ]
     },
     "execution_count": 41,
     "metadata": {},
     "output_type": "execute_result"
    }
   ],
   "source": [
    "#단일요소는 스펠링으로 쪼갬\n",
    "tuple('cat')"
   ]
  },
  {
   "cell_type": "code",
   "execution_count": 37,
   "metadata": {},
   "outputs": [
    {
     "data": {
      "text/plain": [
       "('cat', 'dog')"
      ]
     },
     "execution_count": 37,
     "metadata": {},
     "output_type": "execute_result"
    }
   ],
   "source": [
    "tuple(['cat','dog'])"
   ]
  },
  {
   "cell_type": "code",
   "execution_count": 40,
   "metadata": {},
   "outputs": [
    {
     "name": "stdout",
     "output_type": "stream",
     "text": [
      "['c', 'a', 't']\n",
      "['cat', 'dog']\n"
     ]
    }
   ],
   "source": [
    "print(list('cat'))\n",
    "print(list(('cat','dog')))"
   ]
  },
  {
   "cell_type": "markdown",
   "metadata": {},
   "source": [
    "\n",
    "정리하자면....!\n",
    "\n",
    "- 튜플의 장점:\n",
    "    - 타인이 변경하는 걸 막을 수 있다\n",
    "        -다만 주로 변경할 일이 많기 때문에 튜플 사용이 드물다\n",
    "    - 메모리 사용이 적다\n",
    "    \n",
    "    \n",
    "- 리스트의 장점\n",
    "    - 데이터를 순차적으로 파악하기가 좋다\n",
    "    - 중복되는 데이터를 포함할 수 있다"
   ]
  },
  {
   "cell_type": "markdown",
   "metadata": {},
   "source": [
    "\n",
    "\n",
    "\n",
    "### list 관련 함수\n",
    "\n",
    "0. 리스트 특징\n",
    "- 연산가능\n",
    "- 인덱스(offset)접근 가능\n",
    "- 슬라이싱이 가능하다. 개수가 안맞아도 삽입이 가능함!\n",
    "- list(range(범위)) 설정 가능!"
   ]
  },
  {
   "cell_type": "code",
   "execution_count": 44,
   "metadata": {},
   "outputs": [
    {
     "name": "stdout",
     "output_type": "stream",
     "text": [
      "['mon', 'fri', '월', '금']\n",
      "['mon', 'fri', '월', '금', 'mon', 'fri', '월', '금']\n"
     ]
    }
   ],
   "source": [
    "#연산 가능\n",
    "\n",
    "day = ['mon','fri']\n",
    "kor = ['월','금']\n",
    "day+=kor\n",
    "print(day)\n",
    "print(day*2)"
   ]
  },
  {
   "cell_type": "code",
   "execution_count": 47,
   "metadata": {},
   "outputs": [
    {
     "name": "stdout",
     "output_type": "stream",
     "text": [
      "fri\n"
     ]
    },
    {
     "data": {
      "text/plain": [
       "['mon', 'fri', '월', '요일 모음']"
      ]
     },
     "execution_count": 47,
     "metadata": {},
     "output_type": "execute_result"
    }
   ],
   "source": [
    "#인덱스 접근 가능\n",
    "\n",
    "print(day[1])\n",
    "day[-1] = '요일 모음'\n",
    "day"
   ]
  },
  {
   "cell_type": "code",
   "execution_count": 49,
   "metadata": {},
   "outputs": [
    {
     "data": {
      "text/plain": [
       "[1, 2, '월', '요일 모음']"
      ]
     },
     "execution_count": 49,
     "metadata": {},
     "output_type": "execute_result"
    }
   ],
   "source": [
    "day[:2] = 1,2 \n",
    "#mon,fri가 지워지고 두개가 들어감\n",
    "day"
   ]
  },
  {
   "cell_type": "code",
   "execution_count": 51,
   "metadata": {},
   "outputs": [
    {
     "data": {
      "text/plain": [
       "[1, 2, 3]"
      ]
     },
     "execution_count": 51,
     "metadata": {},
     "output_type": "execute_result"
    }
   ],
   "source": [
    "a = 1, 2, 3, 4, 5\n",
    "\n",
    "a = list(range(1,4))\n",
    "a"
   ]
  },
  {
   "cell_type": "markdown",
   "metadata": {},
   "source": [
    "\n",
    "1. 항목 변경하기\n",
    "\n",
    "- 할당할 필요 x. 바로 추가하지만 반환하지 않기 때문에 따로 확인해봐야한다. \n",
    "\n",
    "- arr.append(추가할 요소): 마지막에 요소를 추가함\n",
    "- arr.insert(index, 추가할 요소): 원하는 인덱스에 추가 가능\n",
    "- arr.extend(합병할 리스트): 리스트를 병합한다. \n",
    "\n",
    "- append와 extend의 차이: append는 리스트를 append하면 그대로 리스트가 추가되지만 extend는 한 리스트 안으로 병합된다"
   ]
  },
  {
   "cell_type": "code",
   "execution_count": 57,
   "metadata": {},
   "outputs": [
    {
     "data": {
      "text/plain": [
       "['mon', 'fri', '월']"
      ]
     },
     "execution_count": 57,
     "metadata": {},
     "output_type": "execute_result"
    }
   ],
   "source": [
    "day = ['mon', 'fri']\n",
    "\n",
    "#append\n",
    "\n",
    "day.append('월')\n",
    "day"
   ]
  },
  {
   "cell_type": "code",
   "execution_count": 58,
   "metadata": {},
   "outputs": [
    {
     "data": {
      "text/plain": [
       "['sun', 'mon', 'fri', '월']"
      ]
     },
     "execution_count": 58,
     "metadata": {},
     "output_type": "execute_result"
    }
   ],
   "source": [
    "#insert\n",
    "day.insert(0,'sun')\n",
    "day"
   ]
  },
  {
   "cell_type": "code",
   "execution_count": 59,
   "metadata": {},
   "outputs": [
    {
     "data": {
      "text/plain": [
       "['sun', 'mon', 'fri', '월', '화', '수']"
      ]
     },
     "execution_count": 59,
     "metadata": {},
     "output_type": "execute_result"
    }
   ],
   "source": [
    "#extend\n",
    "\n",
    "day.extend(['화','수'])\n",
    "day"
   ]
  },
  {
   "cell_type": "code",
   "execution_count": 60,
   "metadata": {},
   "outputs": [
    {
     "data": {
      "text/plain": [
       "['sun', 'mon', 'fri', '월', '화', '수', '목', '금']"
      ]
     },
     "execution_count": 60,
     "metadata": {},
     "output_type": "execute_result"
    }
   ],
   "source": [
    "e_day = ['목','금']\n",
    "\n",
    "day.extend(e_day)\n",
    "day"
   ]
  },
  {
   "cell_type": "code",
   "execution_count": 61,
   "metadata": {},
   "outputs": [
    {
     "name": "stdout",
     "output_type": "stream",
     "text": [
      "[1, 2]\n",
      "[1, 2, [3, 4]]\n"
     ]
    }
   ],
   "source": [
    "#extend와 append차이\n",
    "\n",
    "empty = []\n",
    "\n",
    "empty.extend([1,2])\n",
    "print(empty)\n",
    "\n",
    "empty.append([3,4])\n",
    "print(empty)"
   ]
  },
  {
   "cell_type": "markdown",
   "metadata": {},
   "source": [
    "\n",
    "\n",
    "### 삭제하기\n",
    "\n",
    "- del arr[index]: 인덱스 값을 입력하여 삭제. 인덱스 값이 다 당겨짐. 자리가 보존되지 않고 아이템이 다 당겨진다는 것에 유의\n",
    "\n",
    "- arr.remove(제거할 요소): 특정한 값 삭제. 첫번째로 찾은 요소만 제거\n",
    "\n",
    "- arr.pop(index): 기본 값은 -1로 인덱스를 입력하지 않으면 가장 마지막 값이 삭제된다. 삭제 후 삭제한 값을 보여주는 것이 큰 특징이다\n",
    "\n",
    "- arr.clear(): 전체 삭제"
   ]
  },
  {
   "cell_type": "code",
   "execution_count": 77,
   "metadata": {},
   "outputs": [
    {
     "data": {
      "text/plain": [
       "['화', '수', '목', '금', '토', '일']"
      ]
     },
     "execution_count": 77,
     "metadata": {},
     "output_type": "execute_result"
    }
   ],
   "source": [
    "day = ['월','화','수','목','금','토','일']\n",
    "\n",
    "#del\n",
    "del day[0]\n",
    "day"
   ]
  },
  {
   "cell_type": "code",
   "execution_count": 78,
   "metadata": {},
   "outputs": [
    {
     "data": {
      "text/plain": [
       "['화', '목', '금', '토', '일']"
      ]
     },
     "execution_count": 78,
     "metadata": {},
     "output_type": "execute_result"
    }
   ],
   "source": [
    "#remove\n",
    "day.remove('수')\n",
    "day"
   ]
  },
  {
   "cell_type": "code",
   "execution_count": 79,
   "metadata": {},
   "outputs": [
    {
     "data": {
      "text/plain": [
       "'일'"
      ]
     },
     "execution_count": 79,
     "metadata": {},
     "output_type": "execute_result"
    }
   ],
   "source": [
    "#pop\n",
    "\n",
    "day.pop()"
   ]
  },
  {
   "cell_type": "code",
   "execution_count": 80,
   "metadata": {},
   "outputs": [
    {
     "data": {
      "text/plain": [
       "'화'"
      ]
     },
     "execution_count": 80,
     "metadata": {},
     "output_type": "execute_result"
    }
   ],
   "source": [
    "day.pop(0)"
   ]
  },
  {
   "cell_type": "code",
   "execution_count": 81,
   "metadata": {},
   "outputs": [
    {
     "data": {
      "text/plain": [
       "['목', '금', '토']"
      ]
     },
     "execution_count": 81,
     "metadata": {},
     "output_type": "execute_result"
    }
   ],
   "source": [
    "day"
   ]
  },
  {
   "cell_type": "code",
   "execution_count": 82,
   "metadata": {},
   "outputs": [
    {
     "data": {
      "text/plain": [
       "[]"
      ]
     },
     "execution_count": 82,
     "metadata": {},
     "output_type": "execute_result"
    }
   ],
   "source": [
    "day.clear()\n",
    "day"
   ]
  },
  {
   "cell_type": "markdown",
   "metadata": {},
   "source": [
    "### 값찾기\n",
    "\n",
    "- list(range(n))로 리스트 선언이 가능하다\n",
    "- index(찾을 요소): 인덱스로 접근 가능\n",
    "- elem in arr: 값이 있는지 확인이 가능하다"
   ]
  },
  {
   "cell_type": "code",
   "execution_count": 86,
   "metadata": {},
   "outputs": [
    {
     "data": {
      "text/plain": [
       "[0, 1, 2, 3, 4]"
      ]
     },
     "execution_count": 86,
     "metadata": {},
     "output_type": "execute_result"
    }
   ],
   "source": [
    "arr = list(range(5))\n",
    "arr"
   ]
  },
  {
   "cell_type": "code",
   "execution_count": 85,
   "metadata": {},
   "outputs": [
    {
     "data": {
      "text/plain": [
       "4"
      ]
     },
     "execution_count": 85,
     "metadata": {},
     "output_type": "execute_result"
    }
   ],
   "source": [
    "arr.index(4)"
   ]
  },
  {
   "cell_type": "code",
   "execution_count": 88,
   "metadata": {},
   "outputs": [
    {
     "data": {
      "text/plain": [
       "0"
      ]
     },
     "execution_count": 88,
     "metadata": {},
     "output_type": "execute_result"
    }
   ],
   "source": [
    "arr1 = ['0번째','첫번째','두번째']\n",
    "arr1.index('0번째')"
   ]
  },
  {
   "cell_type": "code",
   "execution_count": 89,
   "metadata": {},
   "outputs": [
    {
     "data": {
      "text/plain": [
       "True"
      ]
     },
     "execution_count": 89,
     "metadata": {},
     "output_type": "execute_result"
    }
   ],
   "source": [
    "'두번째' in arr1"
   ]
  },
  {
   "cell_type": "markdown",
   "metadata": {},
   "source": [
    "### 정렬하기\n",
    "- 리스트.sort(arr,<reverse=True>): 정렬한 뒤 값 반환하지 않고 기존 값 변경이 되어있음.\n",
    "\n",
    "- sorted(arr,<reverse=True>): 정렬된 복사본을 반환. 기존 값은 유지. 때문에 할당이 필수적임\n",
    "\n",
    "- list.reverse(): 뭐든 거꾸로 출력"
   ]
  },
  {
   "cell_type": "code",
   "execution_count": 92,
   "metadata": {},
   "outputs": [
    {
     "data": {
      "text/plain": [
       "[4, 312, 2001]"
      ]
     },
     "execution_count": 92,
     "metadata": {},
     "output_type": "execute_result"
    }
   ],
   "source": [
    "arr = [312,2001,4]\n",
    "\n",
    "arr.sort()\n",
    "arr"
   ]
  },
  {
   "cell_type": "code",
   "execution_count": 101,
   "metadata": {},
   "outputs": [
    {
     "name": "stdout",
     "output_type": "stream",
     "text": [
      "[4, 312, 2001]\n",
      "[312, 2001, 4]\n",
      "[4, 312, 2001]\n"
     ]
    }
   ],
   "source": [
    "arr = [312,2001,4]\n",
    "\n",
    "print(sorted(arr))\n",
    "print(arr)\n",
    "#바뀌지 않은 것 확인 가능\n",
    "\n",
    "copy = sorted(arr)\n",
    "print(copy)"
   ]
  },
  {
   "cell_type": "code",
   "execution_count": 103,
   "metadata": {},
   "outputs": [
    {
     "data": {
      "text/plain": [
       "[4, 2001, 312]"
      ]
     },
     "execution_count": 103,
     "metadata": {},
     "output_type": "execute_result"
    }
   ],
   "source": [
    "arr = [312,2001,4]\n",
    "\n",
    "#정렬하지 않고 반대로\n",
    "arr.reverse()\n",
    "arr"
   ]
  },
  {
   "cell_type": "code",
   "execution_count": 108,
   "metadata": {},
   "outputs": [
    {
     "data": {
      "text/plain": [
       "[4, 2001, 312]"
      ]
     },
     "execution_count": 108,
     "metadata": {},
     "output_type": "execute_result"
    }
   ],
   "source": [
    "arr = [312,2001,4]\n",
    "#앞에 리스트를 써주지 않으면 이상해짐\n",
    "c = list(reversed(arr))\n",
    "c"
   ]
  },
  {
   "cell_type": "markdown",
   "metadata": {},
   "source": [
    "### 할당하기\n",
    "\n",
    "- = 으로 할당할 때에는 하나의 값이 변하면 같이 변함.\n",
    "    -메모리 주소를 참조하고 있으므로..!\n",
    "\n",
    "- shallow copy\n",
    "    - a가 변해도 b가 변하지 않게 하는 복사\n",
    "    - 리스트.copy()\n",
    "    - list(리스트)\n",
    "    - 리스트[:]\n",
    "    - 값이 1차원이라고 생각. 값이 바뀌지 않음\n",
    "    - 단 리스트내의 리스트 값의 주소는 같다. 즉 리스트내의 리스트 값은 변할 수 있다!\n",
    "    \n",
    "    \n",
    "- deep copy\n",
    "    - 가변 객체가 아이템으로 올 때 바꾸고 싶지 않을 때 사용\n",
    "    - 변동사항이 적용되지 않는다. 아예 다른 주소!"
   ]
  },
  {
   "cell_type": "code",
   "execution_count": 115,
   "metadata": {},
   "outputs": [
    {
     "data": {
      "text/plain": [
       "(2015122606728, 2015122606728)"
      ]
     },
     "execution_count": 115,
     "metadata": {},
     "output_type": "execute_result"
    }
   ],
   "source": [
    "a = [0,1,2,3]\n",
    "\n",
    "b = a\n",
    "\n",
    "#a,b 의 주소가 같음을 확인. 메모리 주소 참조\n",
    "id(b),id(a)"
   ]
  },
  {
   "cell_type": "code",
   "execution_count": 114,
   "metadata": {},
   "outputs": [
    {
     "name": "stdout",
     "output_type": "stream",
     "text": [
      "[7, 1, 2, 3]\n",
      "[7, 1, 2, 3]\n"
     ]
    }
   ],
   "source": [
    "b[0] = 7\n",
    "\n",
    "#둘다 바뀜\n",
    "print(b)\n",
    "print(a)"
   ]
  },
  {
   "cell_type": "code",
   "execution_count": 125,
   "metadata": {},
   "outputs": [
    {
     "name": "stdout",
     "output_type": "stream",
     "text": [
      "[0, 1, 2, 3]\n"
     ]
    },
    {
     "data": {
      "text/plain": [
       "(2015122672072, 2015122488712)"
      ]
     },
     "execution_count": 125,
     "metadata": {},
     "output_type": "execute_result"
    }
   ],
   "source": [
    "#shallow: 주소값을 참조하지 않아 원본은 변하지 않는\n",
    "\n",
    "a = [0,1,2,3]\n",
    "\n",
    "#주소가 달라짐을 확인 가능\n",
    "#변동사항이 생겨도 a는 달라지지 않는다\n",
    "b = a.copy()\n",
    "\n",
    "print(b)\n",
    "\n",
    "id(a),id(b)"
   ]
  },
  {
   "cell_type": "code",
   "execution_count": 126,
   "metadata": {},
   "outputs": [
    {
     "data": {
      "text/plain": [
       "(2015120674632, 2015122569992)"
      ]
     },
     "execution_count": 126,
     "metadata": {},
     "output_type": "execute_result"
    }
   ],
   "source": [
    "#shallow\n",
    "c = list(a)\n",
    "d = a[:]\n",
    "\n",
    "id(c),id(d)"
   ]
  },
  {
   "cell_type": "code",
   "execution_count": 127,
   "metadata": {},
   "outputs": [
    {
     "data": {
      "text/plain": [
       "[0, 1, 2, 3, '추가']"
      ]
     },
     "execution_count": 127,
     "metadata": {},
     "output_type": "execute_result"
    }
   ],
   "source": [
    "a. append('추가')\n",
    "a"
   ]
  },
  {
   "cell_type": "code",
   "execution_count": 129,
   "metadata": {},
   "outputs": [
    {
     "name": "stdout",
     "output_type": "stream",
     "text": [
      "[0, 1, 2, 3]\n",
      "[0, 1, 2, 3]\n",
      "[0, 1, 2, 3]\n"
     ]
    }
   ],
   "source": [
    "#a가 바뀌었지만 shallowcopy된 것들은 바뀌지 않은 것을 알 수 있다\n",
    "print(b)\n",
    "print(c)\n",
    "print(d)"
   ]
  },
  {
   "cell_type": "code",
   "execution_count": 146,
   "metadata": {},
   "outputs": [
    {
     "name": "stdout",
     "output_type": "stream",
     "text": [
      "['mon', 'tue']\n"
     ]
    },
    {
     "data": {
      "text/plain": [
       "2015122774280"
      ]
     },
     "execution_count": 146,
     "metadata": {},
     "output_type": "execute_result"
    }
   ],
   "source": [
    "#shallow copy의 예시\n",
    "a = [0,1,2,3,['mon','tue']]\n",
    "print(a[-1])\n",
    "id(a[-1])"
   ]
  },
  {
   "cell_type": "code",
   "execution_count": 147,
   "metadata": {},
   "outputs": [
    {
     "data": {
      "text/plain": [
       "[0, 1, 2, 3, ['mon', 'tue']]"
      ]
     },
     "execution_count": 147,
     "metadata": {},
     "output_type": "execute_result"
    }
   ],
   "source": [
    "b = a.copy()\n",
    "b"
   ]
  },
  {
   "cell_type": "code",
   "execution_count": 148,
   "metadata": {},
   "outputs": [
    {
     "data": {
      "text/plain": [
       "[0, 1, 2, 3, ['mon', 'wed', 'tue']]"
      ]
     },
     "execution_count": 148,
     "metadata": {},
     "output_type": "execute_result"
    }
   ],
   "source": [
    "a[-1].insert(-1, 'wed')\n",
    "a"
   ]
  },
  {
   "cell_type": "code",
   "execution_count": 150,
   "metadata": {},
   "outputs": [
    {
     "data": {
      "text/plain": [
       "[0, 1, 2, 3, ['mon', 'wed', 'tue']]"
      ]
     },
     "execution_count": 150,
     "metadata": {},
     "output_type": "execute_result"
    }
   ],
   "source": [
    "#아무것도 안했는데 내부 값이 바뀐 것을 확인\n",
    "b"
   ]
  },
  {
   "cell_type": "code",
   "execution_count": 156,
   "metadata": {},
   "outputs": [
    {
     "data": {
      "text/plain": [
       "[1, 2, 3]"
      ]
     },
     "execution_count": 156,
     "metadata": {},
     "output_type": "execute_result"
    }
   ],
   "source": [
    "#deepcopy\n",
    "\n",
    "arr = [1, 2, 3]\n",
    "\n",
    "import copy\n",
    "\n",
    "deep = copy.deepcopy(arr)\n",
    "deep"
   ]
  },
  {
   "cell_type": "code",
   "execution_count": 157,
   "metadata": {},
   "outputs": [
    {
     "data": {
      "text/plain": [
       "(2015088750152, 2015122570056)"
      ]
     },
     "execution_count": 157,
     "metadata": {},
     "output_type": "execute_result"
    }
   ],
   "source": [
    "#주소는 다름\n",
    "id(arr),id(deep)"
   ]
  },
  {
   "cell_type": "code",
   "execution_count": 158,
   "metadata": {},
   "outputs": [
    {
     "data": {
      "text/plain": [
       "[1, 2, 3, '추가']"
      ]
     },
     "execution_count": 158,
     "metadata": {},
     "output_type": "execute_result"
    }
   ],
   "source": [
    "arr.append('추가')\n",
    "arr"
   ]
  },
  {
   "cell_type": "code",
   "execution_count": 159,
   "metadata": {},
   "outputs": [
    {
     "data": {
      "text/plain": [
       "[1, 2, 3]"
      ]
     },
     "execution_count": 159,
     "metadata": {},
     "output_type": "execute_result"
    }
   ],
   "source": [
    "deep"
   ]
  },
  {
   "cell_type": "code",
   "execution_count": 166,
   "metadata": {},
   "outputs": [
    {
     "data": {
      "text/plain": [
       "[0, 1, ['mon', 'tue', 'wed']]"
      ]
     },
     "execution_count": 166,
     "metadata": {},
     "output_type": "execute_result"
    }
   ],
   "source": [
    "arr = [0,1,['mon','tue']]\n",
    "\n",
    "arr[-1].append('wed')\n",
    "\n",
    "arr"
   ]
  },
  {
   "cell_type": "code",
   "execution_count": 167,
   "metadata": {},
   "outputs": [
    {
     "data": {
      "text/plain": [
       "[0, 1, ['mon', 'tue', 'wed']]"
      ]
     },
     "execution_count": 167,
     "metadata": {},
     "output_type": "execute_result"
    }
   ],
   "source": [
    "deep = copy.deepcopy(arr)\n",
    "deep"
   ]
  },
  {
   "cell_type": "code",
   "execution_count": 168,
   "metadata": {},
   "outputs": [
    {
     "name": "stdout",
     "output_type": "stream",
     "text": [
      "wed\n",
      "[0, 1, ['mon', 'tue']]\n",
      "[0, 1, ['mon', 'tue', 'wed']]\n"
     ]
    }
   ],
   "source": [
    "#딥카피로 인해 arr에는 변동사항이 적용이 되지 않았다!\n",
    "print(deep[-1].pop())\n",
    "print(deep)\n",
    "print(arr)"
   ]
  },
  {
   "cell_type": "markdown",
   "metadata": {},
   "source": [
    "### 순회하기\n",
    "\n",
    "- zip(): 여러개 리스트 동시 순회\n",
    "- enumerate(): 인덱스도 함께 돌고자 할 때(list,range)\n",
    "- range()"
   ]
  },
  {
   "cell_type": "code",
   "execution_count": 169,
   "metadata": {},
   "outputs": [
    {
     "name": "stdout",
     "output_type": "stream",
     "text": [
      "1 mon\n",
      "2 tue\n",
      "3 wed\n"
     ]
    }
   ],
   "source": [
    "a = [1,2,3]\n",
    "b = ['mon','tue','wed','thu']\n",
    "\n",
    "#두개의 리스트를 한번에 순회 가능\n",
    "#아이템 수가 적은 시퀀스에서 완료된다. \n",
    "for itemA, itemB in zip(a,b):\n",
    "    print(itemA,itemB)"
   ]
  },
  {
   "cell_type": "code",
   "execution_count": 170,
   "metadata": {},
   "outputs": [
    {
     "name": "stdout",
     "output_type": "stream",
     "text": [
      "1 mon 월\n",
      "2 tue 화\n",
      "3 wed 수\n"
     ]
    }
   ],
   "source": [
    "c = ['월','화','수']\n",
    "for A,B,C in zip(a,b,c):\n",
    "    print(A,B,C)"
   ]
  },
  {
   "cell_type": "code",
   "execution_count": 171,
   "metadata": {},
   "outputs": [
    {
     "name": "stdout",
     "output_type": "stream",
     "text": [
      "[('mon', '월'), ('tue', '화'), ('wed', '수')]\n",
      "{1: 'mon', 2: 'tue', 3: 'wed'}\n"
     ]
    }
   ],
   "source": [
    "print(list(zip(b,c)))\n",
    "print(dict(zip(a,b)))"
   ]
  },
  {
   "cell_type": "code",
   "execution_count": 172,
   "metadata": {},
   "outputs": [
    {
     "name": "stdout",
     "output_type": "stream",
     "text": [
      "0 mon\n",
      "1 tue\n",
      "2 wed\n",
      "3 thu\n"
     ]
    }
   ],
   "source": [
    "#인덱스를 같이 반환하는 enumerate\n",
    "for idx, itemA in enumerate(b):\n",
    "    print(idx,itemA)\n"
   ]
  },
  {
   "cell_type": "markdown",
   "metadata": {},
   "source": [
    "\n",
    "\n",
    "\n",
    "### 리스트 컴프리헨션"
   ]
  },
  {
   "cell_type": "code",
   "execution_count": 177,
   "metadata": {},
   "outputs": [
    {
     "data": {
      "text/plain": [
       "['월', '화', '수']"
      ]
     },
     "execution_count": 177,
     "metadata": {},
     "output_type": "execute_result"
    }
   ],
   "source": [
    "days = ['월요일','화요일','수요일']\n",
    "e = ['mon','tue','wed']\n",
    "\n",
    "[day[0] for day in days]"
   ]
  },
  {
   "cell_type": "code",
   "execution_count": 178,
   "metadata": {},
   "outputs": [
    {
     "data": {
      "text/plain": [
       "[('m', '월'), ('t', '화'), ('w', '수')]"
      ]
     },
     "execution_count": 178,
     "metadata": {},
     "output_type": "execute_result"
    }
   ],
   "source": [
    "ex = [(eng[0], day[0]) for eng,day in zip(e,days)]\n",
    "ex"
   ]
  },
  {
   "cell_type": "markdown",
   "metadata": {},
   "source": [
    "#### 수업 중 연습 \n",
    "\n",
    "- 리스트 -> for문으로 \n",
    "- for문을 사용하여 ex를 구현하기\n",
    "    - a(1,2,3) b(월화수)임. for문으로 ex랑 똑같이 해보기"
   ]
  },
  {
   "cell_type": "code",
   "execution_count": 180,
   "metadata": {},
   "outputs": [
    {
     "data": {
      "text/plain": [
       "[(1, '월'), (2, '화'), (3, '수')]"
      ]
     },
     "execution_count": 180,
     "metadata": {},
     "output_type": "execute_result"
    }
   ],
   "source": [
    "#listcompt\n",
    "\n",
    "a = (1,2,3)\n",
    "b = ('월','화','수')\n",
    "\n",
    "res = [(num,day) for num,day in zip(a,b)]\n",
    "\n",
    "res"
   ]
  },
  {
   "cell_type": "code",
   "execution_count": 182,
   "metadata": {},
   "outputs": [
    {
     "name": "stdout",
     "output_type": "stream",
     "text": [
      "[(1, '월'), (2, '화'), (3, '수')]\n"
     ]
    }
   ],
   "source": [
    "#for문으로 풀기\n",
    "\n",
    "a = (1,2,3)\n",
    "b = ('월','화','수')\n",
    "result = []\n",
    "\n",
    "for num,day in zip(a,b):\n",
    "    result.append((num,day))\n",
    "    \n",
    "print(result)"
   ]
  },
  {
   "cell_type": "code",
   "execution_count": 183,
   "metadata": {},
   "outputs": [
    {
     "data": {
      "text/plain": [
       "[(1, '월'),\n",
       " (1, '화'),\n",
       " (1, '수'),\n",
       " (2, '월'),\n",
       " (2, '화'),\n",
       " (2, '수'),\n",
       " (3, '월'),\n",
       " (3, '화'),\n",
       " (3, '수')]"
      ]
     },
     "execution_count": 183,
     "metadata": {},
     "output_type": "execute_result"
    }
   ],
   "source": [
    "#이중 포문이 도는 리스트 컴프리헨션 형태\n",
    "#for day in b\n",
    "    # for nal in a\n",
    "[(nal,day) for nal in a for day in b]"
   ]
  },
  {
   "cell_type": "code",
   "execution_count": 184,
   "metadata": {},
   "outputs": [],
   "source": [
    "#문제 1\n",
    "sentence = \"don't judge a book by its cover\"\n",
    "#[(대문자, 타이틀(앞글자만 대문자), 글자수)]로 저장된 리스트로 만들어라\n",
    "#리스트 컴프 사용하기"
   ]
  },
  {
   "cell_type": "code",
   "execution_count": 185,
   "metadata": {},
   "outputs": [
    {
     "data": {
      "text/plain": [
       "[(\"DON'T\", \"Don'T\", 5),\n",
       " ('JUDGE', 'Judge', 5),\n",
       " ('A', 'A', 1),\n",
       " ('BOOK', 'Book', 4),\n",
       " ('BY', 'By', 2),\n",
       " ('ITS', 'Its', 3),\n",
       " ('COVER', 'Cover', 5)]"
      ]
     },
     "execution_count": 185,
     "metadata": {},
     "output_type": "execute_result"
    }
   ],
   "source": [
    "[(word.upper(), word.title(), len(word)) for word in sentence.split()]"
   ]
  },
  {
   "cell_type": "code",
   "execution_count": 186,
   "metadata": {},
   "outputs": [],
   "source": [
    "#문제2\n",
    "\n",
    "text = [\n",
    "    ['hello','guys'],\n",
    "    ['how','are','you']\n",
    "]\n",
    "\n",
    "#2.1. 문장으로 구성된 리스트로 만들기\n",
    "    #['hello guys','how are you']\n",
    "    \n",
    "#2.2 전체 단어를 하나의 리스트로 가져오기\n",
    "    #['','','','','']\n",
    "#2.3 전체를 스트링으로 가져오기\n",
    "    #'Hello guys how are you'"
   ]
  },
  {
   "cell_type": "code",
   "execution_count": 187,
   "metadata": {},
   "outputs": [
    {
     "data": {
      "text/plain": [
       "['helloguys', 'howareyou']"
      ]
     },
     "execution_count": 187,
     "metadata": {},
     "output_type": "execute_result"
    }
   ],
   "source": [
    "#2.1\n",
    "[''.join(lists) for lists in text]"
   ]
  },
  {
   "cell_type": "code",
   "execution_count": 193,
   "metadata": {},
   "outputs": [
    {
     "name": "stdout",
     "output_type": "stream",
     "text": [
      "['hello', 'guys', 'how', 'are', 'you']\n"
     ]
    }
   ],
   "source": [
    "#2-2\n",
    "arr = []\n",
    "for sent in text:\n",
    "    for word in sent:\n",
    "       arr.append(word) \n",
    "print(arr)"
   ]
  },
  {
   "cell_type": "code",
   "execution_count": 195,
   "metadata": {},
   "outputs": [
    {
     "data": {
      "text/plain": [
       "['hello', 'guys', 'how', 'are', 'you']"
      ]
     },
     "execution_count": 195,
     "metadata": {},
     "output_type": "execute_result"
    }
   ],
   "source": [
    "#2-2 listcomp로 풀기\n",
    "\n",
    "arr = [word for sent in text for word in sent]\n",
    "arr"
   ]
  },
  {
   "cell_type": "code",
   "execution_count": 206,
   "metadata": {},
   "outputs": [
    {
     "data": {
      "text/plain": [
       "[['hello', 'guys'], ['how', 'are', 'you']]"
      ]
     },
     "execution_count": 206,
     "metadata": {},
     "output_type": "execute_result"
    }
   ],
   "source": [
    "#2-3\n",
    "ans = [sent for sent in text]\n",
    "ans"
   ]
  },
  {
   "cell_type": "code",
   "execution_count": 215,
   "metadata": {},
   "outputs": [
    {
     "data": {
      "text/plain": [
       "'hello guys'"
      ]
     },
     "execution_count": 215,
     "metadata": {},
     "output_type": "execute_result"
    }
   ],
   "source": [
    "#join:''안의 문자를 기준으로 합쳐준다.\n",
    "#'.'join:이.가.영됨\n",
    "ans1 = ' '.join(ans[0])\n",
    "ans1"
   ]
  },
  {
   "cell_type": "code",
   "execution_count": 214,
   "metadata": {},
   "outputs": [
    {
     "data": {
      "text/plain": [
       "'how are you'"
      ]
     },
     "execution_count": 214,
     "metadata": {},
     "output_type": "execute_result"
    }
   ],
   "source": [
    "ans2 = ' '.join(ans[1])\n",
    "ans2"
   ]
  },
  {
   "cell_type": "code",
   "execution_count": 223,
   "metadata": {},
   "outputs": [
    {
     "data": {
      "text/plain": [
       "'hello guys how are you'"
      ]
     },
     "execution_count": 223,
     "metadata": {},
     "output_type": "execute_result"
    }
   ],
   "source": [
    "#이거 굳이 안더하고 합쳐지는 구간(guys+how)사이 띄어쓰기 넣는 방법???\n",
    "answer = ans1 +' '+ ans2\n",
    "answer"
   ]
  },
  {
   "cell_type": "markdown",
   "metadata": {},
   "source": [
    "### nltk brown 코퍼스"
   ]
  },
  {
   "cell_type": "code",
   "execution_count": 2,
   "metadata": {},
   "outputs": [
    {
     "name": "stdout",
     "output_type": "stream",
     "text": [
      "showing info https://raw.githubusercontent.com/nltk/nltk_data/gh-pages/index.xml\n"
     ]
    },
    {
     "data": {
      "text/plain": [
       "True"
      ]
     },
     "execution_count": 2,
     "metadata": {},
     "output_type": "execute_result"
    }
   ],
   "source": [
    "import nltk\n",
    "nltk.download()\n",
    "#교수님은 선택창이 뜨는데 나는 창이 따로 뜸"
   ]
  },
  {
   "cell_type": "code",
   "execution_count": 3,
   "metadata": {},
   "outputs": [
    {
     "data": {
      "text/plain": [
       "<CategorizedTaggedCorpusReader in 'C:\\\\Users\\\\bestl\\\\AppData\\\\Roaming\\\\nltk_data\\\\corpora\\\\brown'>"
      ]
     },
     "execution_count": 3,
     "metadata": {},
     "output_type": "execute_result"
    }
   ],
   "source": [
    "brown = nltk.corpus.brown\n",
    "brown"
   ]
  },
  {
   "cell_type": "code",
   "execution_count": 4,
   "metadata": {},
   "outputs": [],
   "source": [
    "cfd1 = nltk.ConditionalFreqDist(\n",
    "    (genre,word)\n",
    "    for genre in brown.categories()\n",
    "    for word in brown.words(categories = genre)\n",
    "    )"
   ]
  },
  {
   "cell_type": "code",
   "execution_count": 5,
   "metadata": {},
   "outputs": [
    {
     "name": "stdout",
     "output_type": "stream",
     "text": [
      "                 can could  will would   may might \n",
      "     adventure    46   151    50   191     5    58 \n",
      "belles_lettres   246   213   236   392   207   113 \n",
      "     editorial   121    56   233   180    74    39 \n",
      "       fiction    37   166    52   287     8    44 \n",
      "    government   117    38   244   120   153    13 \n"
     ]
    }
   ],
   "source": [
    "modals = ['can','could','will','would','may','might']\n",
    "genres = brown.categories()[:5]\n",
    "cfd1. tabulate(conditions=genres, samples=modals)"
   ]
  },
  {
   "cell_type": "code",
   "execution_count": 6,
   "metadata": {},
   "outputs": [
    {
     "name": "stdout",
     "output_type": "stream",
     "text": [
      "                  can   may might  will would \n",
      "      adventure    48     7    59    51   194 \n",
      " belles_lettres   249   221   113   246   397 \n",
      "      editorial   124    79    39   235   185 \n",
      "        fiction    39    10    44    56   291 \n",
      "     government   119   179    13   244   120 \n",
      "        hobbies   276   143    22   269    83 \n",
      "          humor    17     8     8    13    56 \n",
      "        learned   367   336   128   340   321 \n",
      "           lore   170   170    50   178   188 \n",
      "        mystery    45    15    57    25   189 \n",
      "           news    94    93    38   389   246 \n",
      "       religion    84    79    12    72    69 \n",
      "        reviews    45    47    26    61    48 \n",
      "        romance    79    11    51    49   247 \n",
      "science_fiction    16     4    12    17    80 \n"
     ]
    }
   ],
   "source": [
    "#장르 별로 modal의 빈도를 가진 cfd\n",
    "#전체에 대한 modal의 컨디션이 나오는 코드\n",
    "\n",
    "cfd2 = nltk.ConditionalFreqDist(\n",
    "    (genre,modals)#가로 세로를 바꾸고 싶다면 둘을 바꾸면 됨\n",
    "    for genre in brown.categories()\n",
    "    for modals in ['can', 'will', 'would', 'may', 'might']\n",
    "    \n",
    "    for word in brown.words(categories = genre)#콜론없음\n",
    "    #modal과 brown을 연결시켜주는 고리임\n",
    "    \n",
    "        if word.lower()==modals #candidate\n",
    "    )\n",
    "cfd2.tabulate()"
   ]
  },
  {
   "cell_type": "code",
   "execution_count": 7,
   "metadata": {},
   "outputs": [
    {
     "data": {
      "image/png": "[encoded data removed]",
      "text/plain": [
       "<Figure size 432x288 with 1 Axes>"
      ]
     },
     "metadata": {
      "needs_background": "light"
     },
     "output_type": "display_data"
    },
    {
     "data": {
      "text/plain": [
       "<matplotlib.axes._subplots.AxesSubplot at 0x26547a8b608>"
      ]
     },
     "execution_count": 7,
     "metadata": {},
     "output_type": "execute_result"
    }
   ],
   "source": [
    "#다운되지 않을 시\n",
    "#!pop install matplotlib\n",
    "cfd2.plot()"
   ]
  },
  {
   "cell_type": "code",
   "execution_count": 8,
   "metadata": {},
   "outputs": [
    {
     "data": {
      "image/png": "[encoded data removed]",
      "text/plain": [
       "<Figure size 864x360 with 1 Axes>"
      ]
     },
     "metadata": {
      "needs_background": "light"
     },
     "output_type": "display_data"
    },
    {
     "data": {
      "text/plain": [
       "<matplotlib.axes._subplots.AxesSubplot at 0x26547cb25c8>"
      ]
     },
     "execution_count": 8,
     "metadata": {},
     "output_type": "execute_result"
    }
   ],
   "source": [
    "#그래프가 안이뻐서 키워보기(시각화에서 배움)\n",
    "#as plt 라는 이름으로 함수를 부르고 사이즈를 조절\n",
    "import matplotlib.pyplot as plt\n",
    "\n",
    "plt.figure(figsize = (12,5))\n",
    "cfd2.plot()"
   ]
  },
  {
   "cell_type": "code",
   "execution_count": 22,
   "metadata": {},
   "outputs": [
    {
     "name": "stdout",
     "output_type": "stream",
     "text": [
      "            adventure  belles_lettres       editorial         fiction      government         hobbies           humor         learned            lore         mystery            news        religion         reviews         romance science_fiction \n",
      "  can              48             249             124              39             119             276              17             367             170              45              94              84              45              79              16 \n",
      "  may               7             221              79              10             179             143               8             336             170              15              93              79              47              11               4 \n",
      "might              59             113              39              44              13              22               8             128              50              57              38              12              26              51              12 \n",
      " will              51             246             235              56             244             269              13             340             178              25             389              72              61              49              17 \n",
      "would             194             397             185             291             120              83              56             321             188             189             246              69              48             247              80 \n"
     ]
    }
   ],
   "source": [
    "#장르 별로 modal의 빈도를 가진 cfd\n",
    "#전체에 대한 modal의 컨디션이 나오는 코드\n",
    "#가로세로 바꾼 예시\n",
    "\n",
    "cfd3 = nltk.ConditionalFreqDist(\n",
    "    (modals,genre)#가로 세로를 바꾸고 싶다면 둘을 바꾸면 됨\n",
    "    for genre in brown.categories()\n",
    "    for modals in ['can', 'will', 'would', 'may', 'might']\n",
    "    \n",
    "    for word in brown.words(categories = genre)#콜론없음\n",
    "    #modal과 brown을 연결시켜주는 고리임\n",
    "    \n",
    "        if word.lower()==modals #candidate\n",
    "    )\n",
    "\n",
    "cfd3.tabulate()"
   ]
  },
  {
   "cell_type": "code",
   "execution_count": 23,
   "metadata": {},
   "outputs": [
    {
     "data": {
      "image/png": "[encoded data removed]",
      "text/plain": [
       "<Figure size 864x360 with 1 Axes>"
      ]
     },
     "metadata": {
      "needs_background": "light"
     },
     "output_type": "display_data"
    },
    {
     "data": {
      "text/plain": [
       "<matplotlib.axes._subplots.AxesSubplot at 0x265490407c8>"
      ]
     },
     "execution_count": 23,
     "metadata": {},
     "output_type": "execute_result"
    }
   ],
   "source": [
    "import matplotlib.pyplot as plt\n",
    "\n",
    "plt.figure(figsize = (12,5))\n",
    "cfd3.plot()"
   ]
  },
  {
   "cell_type": "markdown",
   "metadata": {},
   "source": [
    "### inaugural: 연설문 nltk"
   ]
  },
  {
   "cell_type": "code",
   "execution_count": 19,
   "metadata": {},
   "outputs": [],
   "source": [
    "inaugural = nltk.corpus.inaugural"
   ]
  },
  {
   "cell_type": "code",
   "execution_count": 20,
   "metadata": {},
   "outputs": [
    {
     "data": {
      "text/plain": [
       "['1789-Washington.txt', '1793-Washington.txt', '1797-Adams.txt']"
      ]
     },
     "execution_count": 20,
     "metadata": {},
     "output_type": "execute_result"
    }
   ],
   "source": [
    "#inaugural.fileids()\n",
    "inaugural.fileids()[:3]\n",
    "#연도-대통령이름.txt\n",
    "#바이든까지 업데이트 되어있다"
   ]
  },
  {
   "cell_type": "markdown",
   "metadata": {},
   "source": [
    "#inaugural에서 america,citizen의 빈도수, 연도별로\n",
    "(\n",
    "    (target_word),fileid)#fileid에서 .txt제거하기\n",
    ")\n",
    "\n",
    "- fileid가 x축에 깔리도록"
   ]
  },
  {
   "cell_type": "code",
   "execution_count": 21,
   "metadata": {},
   "outputs": [
    {
     "data": {
      "image/png": "[encoded data removed]",
      "text/plain": [
       "<Figure size 432x288 with 1 Axes>"
      ]
     },
     "metadata": {
      "needs_background": "light"
     },
     "output_type": "display_data"
    },
    {
     "data": {
      "text/plain": [
       "<matplotlib.axes._subplots.AxesSubplot at 0x26548f9ca48>"
      ]
     },
     "execution_count": 21,
     "metadata": {},
     "output_type": "execute_result"
    }
   ],
   "source": [
    "\n",
    "cfd3 = nltk.ConditionalFreqDist(\n",
    "    #x축 y축 바꾸기는 아래 두줄 중 주석 달고 풀고로. 논리 연습\n",
    "    (target_word, fileid[:-4])\n",
    "    #(fileid[:-4],target_word)\n",
    "    \n",
    "    for fileid in inaugural.fileids()\n",
    "    \n",
    "    #for genre in brown.categories()\n",
    "    #for modals in ['can','could','will','would','may','might']\n",
    "    for target_word in ['america','citizen']\n",
    "    #for word in brown.words(categories = genre)\n",
    "    for word in inaugural.words(fileids = fileid)\n",
    "        #if word.lower() == modals\n",
    "        if word.lower().startswith(target_word)\n",
    "    )\n",
    "\n",
    "#파일아이디랑 타겟 워드로 설정. \n",
    "cfd3.plot()"
   ]
  },
  {
   "cell_type": "code",
   "execution_count": 25,
   "metadata": {},
   "outputs": [
    {
     "name": "stdout",
     "output_type": "stream",
     "text": [
      "                america citizen \n",
      "1789-Washington       2       5 \n",
      "1793-Washington       1       1 \n",
      "     1797-Adams       8       6 \n",
      " 1801-Jefferson       0       7 \n",
      " 1805-Jefferson       1      10 \n",
      "   1809-Madison       0       1 \n",
      "   1813-Madison       1       4 \n",
      "    1817-Monroe       1      14 \n",
      "    1821-Monroe       2      15 \n",
      "     1825-Adams       0       3 \n",
      "   1829-Jackson       0       2 \n",
      "   1833-Jackson       2       3 \n",
      "  1837-VanBuren       2       7 \n",
      "  1841-Harrison       7      38 \n",
      "      1845-Polk       0      11 \n",
      "    1849-Taylor       2       2 \n",
      "    1853-Pierce       2       4 \n",
      "  1857-Buchanan       3       7 \n",
      "   1861-Lincoln       2       7 \n",
      "   1865-Lincoln       1       0 \n",
      "     1869-Grant       0       5 \n",
      "     1873-Grant       0       3 \n",
      "     1877-Hayes       1       9 \n",
      "  1881-Garfield       2       9 \n",
      " 1885-Cleveland       4      13 \n",
      "  1889-Harrison       6      12 \n",
      " 1893-Cleveland       9      10 \n",
      "  1897-McKinley       9      10 \n",
      "  1901-McKinley       7       2 \n",
      " 1905-Roosevelt       0       1 \n",
      "      1909-Taft      12       6 \n",
      "    1917-Wilson       4       3 \n",
      "   1921-Harding      24       6 \n",
      "  1925-Coolidge      11       5 \n",
      "    1929-Hoover      12      12 \n",
      " 1933-Roosevelt       2       1 \n",
      " 1937-Roosevelt       5       2 \n",
      " 1941-Roosevelt      12       1 \n",
      " 1945-Roosevelt       2       1 \n",
      "    1949-Truman       4       1 \n",
      "1953-Eisenhower       6       7 \n",
      "1957-Eisenhower       7       0 \n",
      "   1961-Kennedy       7       5 \n",
      "   1965-Johnson      10       4 \n",
      "     1969-Nixon      10       1 \n",
      "     1973-Nixon      23       1 \n",
      "    1977-Carter       5       0 \n",
      "    1981-Reagan      16       3 \n",
      "    1985-Reagan      21       6 \n",
      "      1989-Bush      11       3 \n",
      "   1993-Clinton      33       2 \n",
      "   1997-Clinton      31      10 \n",
      "      2001-Bush      20      11 \n",
      "      2005-Bush      30       7 \n",
      "     2009-Obama      15       2 \n",
      "     2013-Obama      19       8 \n",
      "     2017-Trump      35       4 \n",
      "     2021-Biden      40       1 \n"
     ]
    }
   ],
   "source": [
    "\n",
    "cfd3 = nltk.ConditionalFreqDist(\n",
    "    #x축 y축 바꾸기는 아래 두줄 중 주석 달고 풀고로. 논리 연습\n",
    "    #(target_word, fileid[:-4])\n",
    "    (fileid[:-4],target_word)\n",
    "    \n",
    "    for fileid in inaugural.fileids()\n",
    "    \n",
    "    #for genre in brown.categories()\n",
    "    #for modals in ['can','could','will','would','may','might']\n",
    "    for target_word in ['america','citizen']\n",
    "    #for word in brown.words(categories = genre)\n",
    "    for word in inaugural.words(fileids = fileid)\n",
    "        #if word.lower() == modals\n",
    "        if word.lower().startswith(target_word)\n",
    "    )\n",
    "\n",
    "#파일아이디랑 타겟 워드로 설정. \n",
    "\n",
    "\n",
    "cfd3.tabulate()"
   ]
  },
  {
   "cell_type": "code",
   "execution_count": 16,
   "metadata": {},
   "outputs": [
    {
     "name": "stderr",
     "output_type": "stream",
     "text": [
      "[nltk_data] Downloading package inaugural to brown...\n",
      "[nltk_data]   Package inaugural is already up-to-date!\n"
     ]
    },
    {
     "data": {
      "text/plain": [
       "True"
      ]
     },
     "execution_count": 16,
     "metadata": {},
     "output_type": "execute_result"
    }
   ],
   "source": [
    "#nltk 브라운, 인아규럴 출력\n",
    "\n",
    "import nltk\n",
    "nltk.download('inaugural','brown')\n",
    "\n",
    "#brown.raw()\n",
    "#이걸 그대로 두면 너무 복습파일이 길어져서 렌더링이 되지 않는 것 같습니다"
   ]
  },
  {
   "cell_type": "markdown",
   "metadata": {},
   "source": [
    "#### 이하 정제 과제 할 것\n",
    "\n",
    "\n",
    "### 5주차 과제 틀린 부분 개선한 코드"
   ]
  },
  {
   "cell_type": "code",
   "execution_count": 272,
   "metadata": {},
   "outputs": [],
   "source": [
    "#cfd의 기본이 되는 코드임. 반드시 이해하고 넘어가야함. 되도록이면 암기할 것\n",
    "#조건 frequency Distance\n",
    "\n",
    "cfd = nltk.ConditionalFreqDist(\n",
    "    (genre,word.lower())\n",
    "    #lower()에 괄호를 빼먹어서 다 작동 안함\n",
    "    for genre in brown.categories()\n",
    "    for word in brown.words(categories = genre)\n",
    "    )"
   ]
  },
  {
   "cell_type": "code",
   "execution_count": 273,
   "metadata": {},
   "outputs": [
    {
     "data": {
      "text/plain": [
       "[('.', 3326),\n",
       " ('the', 2817),\n",
       " (',', 2805),\n",
       " ('to', 1294),\n",
       " ('and', 1282),\n",
       " ('a', 1196),\n",
       " ('he', 1076),\n",
       " ('of', 913),\n",
       " ('was', 828),\n",
       " ('``', 740)]"
      ]
     },
     "execution_count": 273,
     "metadata": {},
     "output_type": "execute_result"
    }
   ],
   "source": [
    "cfd['mystery'].most_common(10)"
   ]
  },
  {
   "cell_type": "code",
   "execution_count": 274,
   "metadata": {},
   "outputs": [
    {
     "data": {
      "text/plain": [
       "3780"
      ]
     },
     "execution_count": 274,
     "metadata": {},
     "output_type": "execute_result"
    }
   ],
   "source": [
    "cfd['adventure']['the']"
   ]
  },
  {
   "cell_type": "code",
   "execution_count": 275,
   "metadata": {},
   "outputs": [
    {
     "data": {
      "text/plain": [
       "FreqDist({',': 3899, '.': 3736, 'the': 2988, 'and': 1905, 'to': 1517, 'a': 1383, 'of': 1202, 'he': 1068, '``': 1045, \"''\": 1044, ...})"
      ]
     },
     "execution_count": 275,
     "metadata": {},
     "output_type": "execute_result"
    }
   ],
   "source": [
    "cfd['romance']"
   ]
  },
  {
   "cell_type": "code",
   "execution_count": 277,
   "metadata": {},
   "outputs": [
    {
     "data": {
      "text/plain": [
       "True"
      ]
     },
     "execution_count": 277,
     "metadata": {},
     "output_type": "execute_result"
    }
   ],
   "source": [
    "#구텐베르그 호출하기\n",
    "\n",
    "import nltk\n",
    "from nltk.corpus import gutenberg\n",
    "nltk.download('gutenberg',quiet=True)"
   ]
  },
  {
   "cell_type": "code",
   "execution_count": 286,
   "metadata": {},
   "outputs": [
    {
     "data": {
      "text/plain": [
       "['m-ch', 'c---ch', 's-ch']"
      ]
     },
     "execution_count": 286,
     "metadata": {},
     "output_type": "execute_result"
    }
   ],
   "source": [
    "# 3 글자를 가리는 것에 있어서 replace는 비효율 적임. \n",
    "words = gutenberg.words(fileids='chesterton-thursday.txt')\n",
    "#ans1 = set([word[0].lower()+\"-\"*len(word[1:-2])+word[-2:] for word in words if word.endswith('ch')])\n",
    "ans1 = set([word[0].lower()+\"-\"*len(word[1:-2])+word[-2:] for word in words if word.endswith('ch')][:3])\n",
    "list(ans1)"
   ]
  },
  {
   "cell_type": "code",
   "execution_count": null,
   "metadata": {},
   "outputs": [],
   "source": []
  }
 ],
 "metadata": {
  "kernelspec": {
   "display_name": "Python 3",
   "language": "python",
   "name": "python3"
  },
  "language_info": {
   "codemirror_mode": {
    "name": "ipython",
    "version": 3
   },
   "file_extension": ".py",
   "mimetype": "text/x-python",
   "name": "python",
   "nbconvert_exporter": "python",
   "pygments_lexer": "ipython3",
   "version": "3.7.6"
  }
 },
 "nbformat": 4,
 "nbformat_minor": 4
}
