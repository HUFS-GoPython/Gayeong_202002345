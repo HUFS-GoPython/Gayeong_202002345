{
 "cells": [
  {
   "cell_type": "code",
   "execution_count": null,
   "metadata": {},
   "outputs": [],
   "source": [
    "#파이썬에서 주석다는 방법(코드가 아닌 부분)\n",
    "#run(실행): shift+enter"
   ]
  },
  {
   "cell_type": "markdown",
   "metadata": {},
   "source": [
    "mark down 영역(+m)\n",
    "마크 다운= 필기\n",
    "\n",
    "\n",
    "\n",
    "### Heading3\n",
    ":샵을 눌러 가능.제목!\n",
    "\n",
    "## Heading 2\n",
    "\n",
    "- 리스트 가능(-하고 한칸 뛰기)\n",
    "- 1\n",
    "- 2\n",
    "\n"
   ]
  },
  {
   "cell_type": "markdown",
   "metadata": {},
   "source": [
    "## 프로그래밍이란?\n",
    "-programming: 프로그래밍 언어를 사용하여 프로그램을 개발하는 것\n",
    "\n",
    "-program:일련의 작업을 자동화 하는 것\n",
    "\n",
    "-python: 프로그래밍 언어 중 하나, 인간이 컴퓨터에게 작업을 명령하기 위해 사용하는 컴퓨터가 이해할 수 있는 언어"
   ]
  },
  {
   "cell_type": "markdown",
   "metadata": {},
   "source": [
    "## Ch2.Data: Types, Values, Variables, and Names"
   ]
  },
  {
   "cell_type": "code",
   "execution_count": 5,
   "metadata": {},
   "outputs": [],
   "source": [
    "a = 2\n",
    "#대입"
   ]
  },
  {
   "cell_type": "markdown",
   "metadata": {},
   "source": [
    "-markdown=m+\n",
    "\n",
    "-변수 ㅣ variable(i.e.a): 특정 값을 저장하는 공간\n",
    "\n",
    "-값 ㅣ value:2\n",
    "\n",
    "-자료형 ㅣ type:2가 어떤 타입인가?\n",
    "\n",
    "-할당하다 ㅣ assign:2를 a에 넣는 과정\n",
    "    -a가 2다\n",
    "    ->a==2(equal)"
   ]
  },
  {
   "cell_type": "code",
   "execution_count": 6,
   "metadata": {},
   "outputs": [
    {
     "data": {
      "text/plain": [
       "2"
      ]
     },
     "execution_count": 6,
     "metadata": {},
     "output_type": "execute_result"
    }
   ],
   "source": [
    "a"
   ]
  },
  {
   "cell_type": "code",
   "execution_count": 7,
   "metadata": {},
   "outputs": [
    {
     "data": {
      "text/plain": [
       "True"
      ]
     },
     "execution_count": 7,
     "metadata": {},
     "output_type": "execute_result"
    }
   ],
   "source": [
    "a==2\n",
    "#부울변수"
   ]
  },
  {
   "cell_type": "markdown",
   "metadata": {},
   "source": [
    "## 변수의 타입\n",
    "- boolean(불리언: True, False)-bool\n",
    ": 진리값, 거지값 등에 사용되며 반복문에서도 많이 사용됨.(조건으로!)\n",
    "ex:if True~~~\n",
    "\n",
    "- integer(정수: 1, 2, ...)-int\n",
    "나눗셈 시 내림이 되는 것에 주의 \n",
    "3/2=1\n",
    "\n",
    "- floating point number(부동 소수점: 1.0, 2.0, 0.45)-float\n",
    "\n",
    "- string(문자열: \"\"안에 써야함)-str\n",
    ": 입력값(input)도 항상 다른 조건이 없다면 str로 인식되는 것에 유의하기.\n",
    "\n",
    "\n",
    "*피피티에 언급된 사항: 위의 변수 타입들은 불변형이다. 가변형에는 리스트, 딕셔너리 등등이 있다.\n",
    "\n",
    "가변=mutable-불변=immutable 이라고 한다."
   ]
  },
  {
   "cell_type": "code",
   "execution_count": 6,
   "metadata": {},
   "outputs": [],
   "source": [
    "num=4"
   ]
  },
  {
   "cell_type": "code",
   "execution_count": 7,
   "metadata": {},
   "outputs": [
    {
     "name": "stdout",
     "output_type": "stream",
     "text": [
      "4\n"
     ]
    }
   ],
   "source": [
    "print(num)"
   ]
  },
  {
   "cell_type": "code",
   "execution_count": 8,
   "metadata": {},
   "outputs": [
    {
     "data": {
      "text/plain": [
       "int"
      ]
     },
     "execution_count": 8,
     "metadata": {},
     "output_type": "execute_result"
    }
   ],
   "source": [
    "type(num)"
   ]
  },
  {
   "cell_type": "code",
   "execution_count": 9,
   "metadata": {},
   "outputs": [
    {
     "data": {
      "text/plain": [
       "float"
      ]
     },
     "execution_count": 9,
     "metadata": {},
     "output_type": "execute_result"
    }
   ],
   "source": [
    "type(1.0)"
   ]
  },
  {
   "cell_type": "code",
   "execution_count": 10,
   "metadata": {},
   "outputs": [
    {
     "data": {
      "text/plain": [
       "bool"
      ]
     },
     "execution_count": 10,
     "metadata": {},
     "output_type": "execute_result"
    }
   ],
   "source": [
    "type(a==2)"
   ]
  },
  {
   "cell_type": "code",
   "execution_count": 11,
   "metadata": {},
   "outputs": [
    {
     "name": "stdout",
     "output_type": "stream",
     "text": [
      "my name\n"
     ]
    }
   ],
   "source": [
    "name='my name'\n",
    "print(name)"
   ]
  },
  {
   "cell_type": "code",
   "execution_count": 12,
   "metadata": {},
   "outputs": [
    {
     "data": {
      "text/plain": [
       "str"
      ]
     },
     "execution_count": 12,
     "metadata": {},
     "output_type": "execute_result"
    }
   ],
   "source": [
    "type(name)"
   ]
  },
  {
   "cell_type": "code",
   "execution_count": 8,
   "metadata": {},
   "outputs": [
    {
     "name": "stdout",
     "output_type": "stream",
     "text": [
      "I'm Sam\n",
      "I'm Sam\n"
     ]
    }
   ],
   "source": [
    "#single quote 안에 single quite 를 문자로 인식\n",
    "#I'm Sam\n",
    "\n",
    "#1.\\사용\n",
    "print('I\\'m Sam')\n",
    "#문장이 길어지면 따옴표 사용이 잦아질 수 있기 때문에 이 방법 추천\n",
    "\n",
    "\n",
    "#2 \"\"사용\n",
    "print(\"I'm Sam\")\n",
    "#다른 따옴표를 사용하면 상관 없다."
   ]
  },
  {
   "cell_type": "markdown",
   "metadata": {},
   "source": [
    "## 변수명 정하기\n",
    "- 소문자, 대문자, 숫자, 언더바(_) 사용한다.\n",
    "    -예: 'name', 'my_name'\n",
    "    -불가능한 예:'my-name', '3name'\n",
    "\n",
    "언더바 사용= 띄어쓰기는 인식 안하기 때문. 경우에 따라 소문자, 대문자를 별개로 구분해두는 경우도 많음.(클래스명/ 변수명)\n",
    "\n",
    "++변수명 정하기의 두가지 유형(Gayeong Lee를 예시로)\n",
    "\n",
    "1. 스네이크 케이스\n",
    "띄어쓰기를 언더바로 구분하여 적기\n",
    "Gayeong_lee\n",
    "\n",
    "2. 캐멀 케이스\n",
    "단어의 첫글자를 대문자로 구분\n",
    "GayeongLee\n",
    "\n",
    "\n",
    "\n",
    "- 변수명으로 사용할 수 없는 케이스\n",
    "    \n",
    "    1.숫자로 시작할 수 없다\n",
    "    \n",
    "    2.예약어는 사용할 수 없다."
   ]
  },
  {
   "cell_type": "code",
   "execution_count": 9,
   "metadata": {},
   "outputs": [
    {
     "name": "stdout",
     "output_type": "stream",
     "text": [
      "\n",
      "Here is a list of the Python keywords.  Enter any keyword to get more help.\n",
      "\n",
      "False               class               from                or\n",
      "None                continue            global              pass\n",
      "True                def                 if                  raise\n",
      "and                 del                 import              return\n",
      "as                  elif                in                  try\n",
      "assert              else                is                  while\n",
      "async               except              lambda              with\n",
      "await               finally             nonlocal            yield\n",
      "break               for                 not                 \n",
      "\n"
     ]
    }
   ],
   "source": [
    "help(\"keywords\")\n",
    "#예약어들로 변수명으로 설정할 수 없다."
   ]
  },
  {
   "cell_type": "code",
   "execution_count": 14,
   "metadata": {},
   "outputs": [
    {
     "data": {
      "text/plain": [
       "'Lee'"
      ]
     },
     "execution_count": 14,
     "metadata": {},
     "output_type": "execute_result"
    }
   ],
   "source": [
    "name='Lee'\n",
    "name"
   ]
  },
  {
   "cell_type": "code",
   "execution_count": 18,
   "metadata": {},
   "outputs": [
    {
     "ename": "SyntaxError",
     "evalue": "invalid syntax (<ipython-input-18-5c576382abd6>, line 1)",
     "output_type": "error",
     "traceback": [
      "\u001b[1;36m  File \u001b[1;32m\"<ipython-input-18-5c576382abd6>\"\u001b[1;36m, line \u001b[1;32m1\u001b[0m\n\u001b[1;33m    3name=kim\u001b[0m\n\u001b[1;37m        ^\u001b[0m\n\u001b[1;31mSyntaxError\u001b[0m\u001b[1;31m:\u001b[0m invalid syntax\n"
     ]
    }
   ],
   "source": [
    "3name=kim\n",
    "#변수명 맨앞에 숫자는 올 수 없다"
   ]
  },
  {
   "cell_type": "code",
   "execution_count": 17,
   "metadata": {},
   "outputs": [
    {
     "ename": "SyntaxError",
     "evalue": "invalid syntax (<ipython-input-17-8a19c9435f8e>, line 1)",
     "output_type": "error",
     "traceback": [
      "\u001b[1;36m  File \u001b[1;32m\"<ipython-input-17-8a19c9435f8e>\"\u001b[1;36m, line \u001b[1;32m1\u001b[0m\n\u001b[1;33m    def=\"Hwang\"\u001b[0m\n\u001b[1;37m       ^\u001b[0m\n\u001b[1;31mSyntaxError\u001b[0m\u001b[1;31m:\u001b[0m invalid syntax\n"
     ]
    }
   ],
   "source": [
    "def=\"Hwang\"\n",
    "#예약어는 변수명으로 사용할 수 없다"
   ]
  },
  {
   "cell_type": "markdown",
   "metadata": {},
   "source": [
    "-주의할 점(특별한 용도가 있기 때문에 일반적으로 사용하지 않는 변수명 타입)\n",
    "\n",
    "1.언더바로 시작하는 변수명\n",
    "    \n",
    "    예:_name\n",
    "    \n",
    "\n",
    "2. 언더바가 2개 있는 변수명\n",
    "\n",
    "    예:__name__\n",
    "\n",
    "\n",
    "3.대문자로 시작하는 변수명\n",
    "\n",
    "    예:Car\n",
    "    \n",
    "4.전체가 대문자인 변수명\n",
    "\n",
    "    예:CAR"
   ]
  },
  {
   "cell_type": "code",
   "execution_count": 19,
   "metadata": {},
   "outputs": [],
   "source": [
    "#number != Number\n",
    "word1='number'\n",
    "word2='Number'"
   ]
  },
  {
   "cell_type": "code",
   "execution_count": 20,
   "metadata": {},
   "outputs": [
    {
     "data": {
      "text/plain": [
       "False"
      ]
     },
     "execution_count": 20,
     "metadata": {},
     "output_type": "execute_result"
    }
   ],
   "source": [
    "word1==word2\n",
    "#대소문자를 구분한다"
   ]
  },
  {
   "cell_type": "code",
   "execution_count": 21,
   "metadata": {},
   "outputs": [
    {
     "data": {
      "text/plain": [
       "True"
      ]
     },
     "execution_count": 21,
     "metadata": {},
     "output_type": "execute_result"
    }
   ],
   "source": [
    "word1 != word2"
   ]
  },
  {
   "cell_type": "markdown",
   "metadata": {},
   "source": [
    "### 할당하기\n",
    "\n",
    "- 수학에서는 =가 양변이 같음을 의미하는데, 프로그램에서는 할당을 의미한다.\n",
    "    예: name='lee'\n",
    "    -lee라는 값을 name에 넣는 것.\n",
    "    \n",
    "- 오른쪽에 있는 모든 것은 값을 가져야한다.(\"초기화\")\n",
    ": 결과를 항상 왼쪽에. 방향에 유의\n",
    "\n",
    "Univ='HUFS'는 되지만\n",
    "'HUFS'=univ 식으로 할당은 불가능함!\n",
    "\n",
    "\n",
    "-한번에 여러 변수도 할당이 가능하다"
   ]
  },
  {
   "cell_type": "code",
   "execution_count": 22,
   "metadata": {},
   "outputs": [],
   "source": [
    "car = 'hyundai'"
   ]
  },
  {
   "cell_type": "code",
   "execution_count": 11,
   "metadata": {},
   "outputs": [
    {
     "name": "stdout",
     "output_type": "stream",
     "text": [
      "2\n"
     ]
    }
   ],
   "source": [
    "two=dois=dos=2\n",
    "print(dos)"
   ]
  },
  {
   "cell_type": "code",
   "execution_count": 25,
   "metadata": {},
   "outputs": [],
   "source": [
    "kia = 'kia'\n",
    "#초기화\n",
    "truck = kia"
   ]
  },
  {
   "cell_type": "code",
   "execution_count": 10,
   "metadata": {},
   "outputs": [
    {
     "name": "stdout",
     "output_type": "stream",
     "text": [
      "2 12\n"
     ]
    }
   ],
   "source": [
    "#y= x+10\n",
    "#x가 초기화 되지 않아 오류가 난다.\n",
    "\n",
    "x=2\n",
    "y=2\n",
    "y=x+10\n",
    "print(x,y)"
   ]
  },
  {
   "cell_type": "code",
   "execution_count": 28,
   "metadata": {},
   "outputs": [
    {
     "data": {
      "text/plain": [
       "str"
      ]
     },
     "execution_count": 28,
     "metadata": {},
     "output_type": "execute_result"
    }
   ],
   "source": [
    "type(car) #str"
   ]
  },
  {
   "cell_type": "code",
   "execution_count": 29,
   "metadata": {},
   "outputs": [],
   "source": [
    "#str car ='kia'\n",
    "car='kia'"
   ]
  },
  {
   "cell_type": "code",
   "execution_count": 31,
   "metadata": {},
   "outputs": [
    {
     "data": {
      "text/plain": [
       "'kia'"
      ]
     },
     "execution_count": 31,
     "metadata": {},
     "output_type": "execute_result"
    }
   ],
   "source": [
    "car"
   ]
  },
  {
   "cell_type": "markdown",
   "metadata": {},
   "source": [
    "연습문제\n",
    "99를 prince에 할당하기"
   ]
  },
  {
   "cell_type": "code",
   "execution_count": 12,
   "metadata": {},
   "outputs": [
    {
     "data": {
      "text/plain": [
       "99"
      ]
     },
     "execution_count": 12,
     "metadata": {},
     "output_type": "execute_result"
    }
   ],
   "source": [
    "prince=99\n",
    "prince"
   ]
  },
  {
   "cell_type": "markdown",
   "metadata": {},
   "source": [
    "연습문제 2.4 5+2.0의 타입은?"
   ]
  },
  {
   "cell_type": "code",
   "execution_count": 15,
   "metadata": {},
   "outputs": [
    {
     "data": {
      "text/plain": [
       "float"
      ]
     },
     "execution_count": 15,
     "metadata": {},
     "output_type": "execute_result"
    }
   ],
   "source": [
    "ans= 5+2.0\n",
    "type(ans)"
   ]
  },
  {
   "cell_type": "markdown",
   "metadata": {},
   "source": [
    "정수+실수면 자연수로 떨어져도 실수 타입이 된다는 것을 알 수 있다."
   ]
  },
  {
   "cell_type": "code",
   "execution_count": null,
   "metadata": {},
   "outputs": [],
   "source": []
  }
 ],
 "metadata": {
  "kernelspec": {
   "display_name": "Python 3",
   "language": "python",
   "name": "python3"
  },
  "language_info": {
   "codemirror_mode": {
    "name": "ipython",
    "version": 3
   },
   "file_extension": ".py",
   "mimetype": "text/x-python",
   "name": "python",
   "nbconvert_exporter": "python",
   "pygments_lexer": "ipython3",
   "version": "3.7.6"
  }
 },
 "nbformat": 4,
 "nbformat_minor": 4
}
