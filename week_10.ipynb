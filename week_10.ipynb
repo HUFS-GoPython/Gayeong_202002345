{
 "cells": [
  {
   "cell_type": "markdown",
   "metadata": {},
   "source": [
    "## 10주차 복습"
   ]
  },
  {
   "cell_type": "markdown",
   "metadata": {},
   "source": [
    "### defaultdict\n",
    "\n",
    "- dict의 서브클래스라고 한다. \n",
    "- defaultdict()는 인자로 주어진 값을 딕셔너리 값의 초기 값으로 지정할 수 있다\n",
    "    - 숫자, 리스트, 셋 등으로 초기화 가능\n",
    "- 외부 함수라 아래의 함수로 임포트 해야 사용이 가능하다\n",
    "    - from collections import defaultdict\n",
    "- defailtdict(list) 와 같이 괄호 안에 디폴트 값 형식을 정해줄 수 있다. \n",
    "    - list일 시 빈 리스트, set일 시 빈 set, int일 시 0"
   ]
  },
  {
   "cell_type": "code",
   "execution_count": 1,
   "metadata": {},
   "outputs": [],
   "source": [
    "from collections import defaultdict"
   ]
  },
  {
   "cell_type": "code",
   "execution_count": 2,
   "metadata": {},
   "outputs": [
    {
     "data": {
      "text/plain": [
       "{'a': 1, 'p': 2, 'l': 1, 'e': 1}"
      ]
     },
     "execution_count": 2,
     "metadata": {},
     "output_type": "execute_result"
    }
   ],
   "source": [
    "letter = 'apple'\n",
    "empty = {}\n",
    "for ch in letter:\n",
    "    empty.setdefault(ch,0) #기본값이 0이다.\n",
    "    empty[ch] += 1\n",
    "empty"
   ]
  },
  {
   "cell_type": "code",
   "execution_count": 5,
   "metadata": {},
   "outputs": [
    {
     "data": {
      "text/plain": [
       "defaultdict(float, {'a': 1.0, 'p': 2.0, 'l': 1.0, 'e': 1.0})"
      ]
     },
     "execution_count": 5,
     "metadata": {},
     "output_type": "execute_result"
    }
   ],
   "source": [
    "empty2 = defaultdict(float)\n",
    "for ch in letter:\n",
    "    empty2[ch]+=1\n",
    "    \n",
    "empty2"
   ]
  },
  {
   "cell_type": "code",
   "execution_count": 6,
   "metadata": {},
   "outputs": [
    {
     "data": {
      "text/plain": [
       "defaultdict(list, {})"
      ]
     },
     "execution_count": 6,
     "metadata": {},
     "output_type": "execute_result"
    }
   ],
   "source": [
    "#리스트가 디폴트인 경우\n",
    "list_dict = defaultdict(list)\n",
    "list_dict"
   ]
  },
  {
   "cell_type": "code",
   "execution_count": 7,
   "metadata": {},
   "outputs": [
    {
     "data": {
      "text/plain": [
       "defaultdict(list, {'key1': 'empty'})"
      ]
     },
     "execution_count": 7,
     "metadata": {},
     "output_type": "execute_result"
    }
   ],
   "source": [
    "list_dict['key1'] = 'empty'\n",
    "list_dict"
   ]
  },
  {
   "cell_type": "code",
   "execution_count": 8,
   "metadata": {},
   "outputs": [],
   "source": [
    "#과제 1번 count, append위의 함수로 개선해보기"
   ]
  },
  {
   "cell_type": "markdown",
   "metadata": {},
   "source": [
    "#### 10주차: 객체와 클래스 (파이썬의 꽃)\n",
    "\n",
    "\n",
    "- 객체의 개념은 다소 복잡하지만 프로그래밍 랭귀지에서는 속성, 행동을 가지는 어떤 개념\n",
    "\n",
    "- ex) 자동차 구현 시\n",
    "     - 속성: 엔진, 브랜드, 가격, 색상, 이름 => 변수\n",
    "     - 행동: 나가다, 정지하다, 기름을 넣다 => 매소드(함수)\n",
    "        \n",
    "        \n",
    "- ex) 실체가 없는 예시: 사전(dictionary)\n",
    "     - 속성: 글자수, 시작 글자, 출현 빈도수\n",
    "     - 행동: 추가하다, 제외하다..\n",
    "        - 행동의 경우 함수로 정의해주며 필수적으로 self는 넣어준다\n",
    "        - def function(self)\n",
    "        - 이후 필요한 인자가 있다면 셀프 뒤로 넣어주면 됨\n",
    "        \n",
    "- 속성은 내가 쓸 것만 가져와서 설정한다. \n",
    "\n",
    "- 객체를 사용하는 이유는 코드를 재사용하기가 수월하기 때문이다."
   ]
  },
  {
   "cell_type": "code",
   "execution_count": 10,
   "metadata": {},
   "outputs": [
    {
     "data": {
      "text/plain": [
       "'\\n     사람      상점                  물건\\n     이름,돈    재고, 이익, 고객명단   브랜드, 이름, 가격\\n행동: 사다      회원등록, 팔다, 수익 계산'"
      ]
     },
     "execution_count": 10,
     "metadata": {},
     "output_type": "execute_result"
    }
   ],
   "source": [
    "#관련 짓는 방법: 어떤 사람이 가서 상점에서 물건을 산다\n",
    "'''\n",
    "     사람      상점                      물건\n",
    "속성:이름,돈    재고, 이익, 고객명단      브랜드, 이름, 가격\n",
    "행동: 사다      회원등록, 팔다, 수익 계산'''\n"
   ]
  },
  {
   "cell_type": "markdown",
   "metadata": {},
   "source": [
    "### 클래스\n",
    "- 객체가 가져야 할 기본 정보를 담은 코드. 흔히 '틀'로 비유된다\n",
    "    - 틀로 찍어낸다 생각하면 된다.\n",
    "    - 붕어빵 틀이 클래스고 붕어빵은 인스턴스\n",
    "    - 타입이 클래스명으로 달라진다..!\n",
    "- convention: 클래스명의 컨벤션은 앞글자를 대문자로 사용하며 주로 카멜 표기법을 사용한다.\n",
    "    - class Car, class Cat, classMyName\n",
    "- 중간중간 등장하는 pass: 비어있다면 넘겨라\n",
    "- def __init__(self,~): 생성자 라고 불림. 속성을 초기화 하는 함수이며 self는 인스턴스가 타고 들어오게 됨."
   ]
  },
  {
   "cell_type": "markdown",
   "metadata": {},
   "source": [
    "##### 고양이의 속성\n",
    "- 종, 털 색, 눈 색, 집/길"
   ]
  },
  {
   "cell_type": "code",
   "execution_count": 5,
   "metadata": {},
   "outputs": [
    {
     "name": "stdout",
     "output_type": "stream",
     "text": [
      "<__main__.Cat object at 0x00000193C2F971C8>\n"
     ]
    },
    {
     "data": {
      "text/plain": [
       "(<__main__.Cat at 0x193c2f97708>, <__main__.Cat at 0x193c30781c8>)"
      ]
     },
     "execution_count": 5,
     "metadata": {},
     "output_type": "execute_result"
    }
   ],
   "source": [
    "#정의 하는 방법\n",
    "class Cat:\n",
    "    pass\n",
    "#선언(괄호 꼭 사용할 것)\n",
    "cat1 = Cat()\n",
    "cat2 = Cat()\n",
    "cat3 = Cat()\n",
    "print(Cat())\n",
    "cat1,cat2"
   ]
  },
  {
   "cell_type": "code",
   "execution_count": 4,
   "metadata": {},
   "outputs": [
    {
     "data": {
      "text/plain": [
       "__main__.Cat"
      ]
     },
     "execution_count": 4,
     "metadata": {},
     "output_type": "execute_result"
    }
   ],
   "source": [
    "#타입이 달라진다.\n",
    "type(cat1)"
   ]
  },
  {
   "cell_type": "code",
   "execution_count": 7,
   "metadata": {},
   "outputs": [
    {
     "name": "stdout",
     "output_type": "stream",
     "text": [
      "코숏\n",
      "뱅갈\n",
      "스핑크스\n"
     ]
    }
   ],
   "source": [
    "#type은 변수명이 예약어와 겹쳐 수정\n",
    "cat1.breed = '코숏'\n",
    "cat2.breed = '뱅갈'\n",
    "cat3.breed = '스핑크스'\n",
    "for cat in [cat1,cat2,cat3]:\n",
    "    print(cat.breed)"
   ]
  },
  {
   "cell_type": "code",
   "execution_count": 9,
   "metadata": {},
   "outputs": [
    {
     "data": {
      "text/plain": [
       "('코리안 쇼트 헤어', '갈색')"
      ]
     },
     "execution_count": 9,
     "metadata": {},
     "output_type": "execute_result"
    }
   ],
   "source": [
    "#클래스는 틀. 속성을 정해줄 수 있다.물론 하나만 정해줄 수 있다. \n",
    "class Cat:\n",
    "    breed = '코리안 쇼트 헤어'\n",
    "    color = '갈색'\n",
    "    \n",
    "cat4 = Cat()\n",
    "cat4.breed, cat4.color"
   ]
  },
  {
   "cell_type": "code",
   "execution_count": 12,
   "metadata": {},
   "outputs": [],
   "source": [
    "#속성을 초기화 하여 다양한 속성을 정하고자 할 때 사용하는 init\n",
    "#하나만 정해줘도 사용 가능\n",
    "class Cat:\n",
    "    def __init__(self, breed, color, eyes):\n",
    "        self.breed = breed\n",
    "        self.color = color\n",
    "        self.eyes = eyes"
   ]
  },
  {
   "cell_type": "code",
   "execution_count": 17,
   "metadata": {},
   "outputs": [
    {
     "data": {
      "text/plain": [
       "('샴', 'brown', 'blue')"
      ]
     },
     "execution_count": 17,
     "metadata": {},
     "output_type": "execute_result"
    }
   ],
   "source": [
    "#위의 인자들을 입력해줘야 클래스가 작동한다.\n",
    "cat4 = Cat(breed = '샴', color = 'brown', eyes = 'blue')\n",
    "cat4.breed, cat4.color, cat4.eyes"
   ]
  },
  {
   "cell_type": "code",
   "execution_count": 18,
   "metadata": {},
   "outputs": [
    {
     "data": {
      "text/plain": [
       "'갈색'"
      ]
     },
     "execution_count": 18,
     "metadata": {},
     "output_type": "execute_result"
    }
   ],
   "source": [
    "#객체의 행동에서 말했듯 행동은 함수(매소드)로 구현된다.\n",
    "class Cat:\n",
    "    def __init__(self, breed, color, eyes):\n",
    "        self.breed = breed\n",
    "        self.color = color\n",
    "        self.eyes = eyes\n",
    "        \n",
    "    #action 정의 시 self는 필수이며 이후 필요한 인자가 있다면 입력해준다    \n",
    "    def meow(self):\n",
    "        #실습의 응용. 내 고양이(종류: 길냥이)이 야옹\n",
    "        print('meow,meow')\n",
    "    def sleep(self):\n",
    "        print('zzzzzZz,,')\n",
    "        \n",
    "my_cat = Cat('코숏','갈색','파랑')\n",
    "my_cat.color"
   ]
  },
  {
   "cell_type": "code",
   "execution_count": 19,
   "metadata": {},
   "outputs": [
    {
     "data": {
      "text/plain": [
       "'brown'"
      ]
     },
     "execution_count": 19,
     "metadata": {},
     "output_type": "execute_result"
    }
   ],
   "source": [
    "#속성 바꾸기가 가능하다\n",
    "my_cat. color = 'brown'\n",
    "my_cat.color"
   ]
  },
  {
   "cell_type": "code",
   "execution_count": 22,
   "metadata": {},
   "outputs": [
    {
     "name": "stdout",
     "output_type": "stream",
     "text": [
      "zzzzzZz,,\n",
      "meow,meow\n"
     ]
    }
   ],
   "source": [
    "my_cat.sleep()\n",
    "my_cat.meow()"
   ]
  },
  {
   "cell_type": "code",
   "execution_count": 26,
   "metadata": {},
   "outputs": [
    {
     "name": "stdout",
     "output_type": "stream",
     "text": [
      "재롱이는 잘 크고 있다.\n",
      "이제부터 내 고양이 이름은 순디\n"
     ]
    }
   ],
   "source": [
    "#실습 응용. 행동에 인자 받아 출력하기 \n",
    "class Cat:\n",
    "    def __init__(self, breed, color, name):\n",
    "        self.breed = breed\n",
    "        self.color = color\n",
    "        self.name = name\n",
    "        \n",
    "    def grow(self):\n",
    "        print(f'{self.name}이는 잘 크고 있다.')\n",
    "        \n",
    "    def change_name(self,name):\n",
    "        self.name = name\n",
    "        print(f'이제부터 내 고양이 이름은 {self.name}')\n",
    "        \n",
    "my_cat = Cat('코숏','갈색','재롱')\n",
    "my_cat.grow()\n",
    "my_cat.change_name('순디')"
   ]
  },
  {
   "cell_type": "code",
   "execution_count": 37,
   "metadata": {},
   "outputs": [
    {
     "data": {
      "text/plain": [
       "('길고양이', 'brown', None)"
      ]
     },
     "execution_count": 37,
     "metadata": {},
     "output_type": "execute_result"
    }
   ],
   "source": [
    "#디폴트 값 설정 및 빈 값으로 설정하기\n",
    "#빈 값은 빈 스트링보다는 None으로 표시한다. 출력상의 오류를 방지\n",
    "#디폴트 값이 없는 인자- 디폴트값이 있는 인자 순으로 나열되어야 한다. 안그러면 error\n",
    "class Cat:\n",
    "    def __init__ (self, color, breed = '길고양이', name = None):\n",
    "        self.breed = breed\n",
    "        self.color = color\n",
    "        self.name = name\n",
    "        \n",
    "this_cat = Cat('brown')\n",
    "this_cat.breed, this_cat.color, this_cat.name"
   ]
  },
  {
   "cell_type": "markdown",
   "metadata": {},
   "source": [
    "### getter와 setter 캡슐화\n",
    "- 캡슐화를 통해 정보 은닉을 하여 클래스 외부에서 변수 접근을 용이하지 못하게 막아주는 것\n",
    "- 클래스 외부에서 값을 휙휙 바꾸는 것은 굉장히 위험하고 오류가 날 가능성을 높이기 때문에 사용한다. "
   ]
  },
  {
   "cell_type": "code",
   "execution_count": 38,
   "metadata": {},
   "outputs": [
    {
     "data": {
      "text/plain": [
       "'참이슬'"
      ]
     },
     "execution_count": 38,
     "metadata": {},
     "output_type": "execute_result"
    }
   ],
   "source": [
    "#class밖에서 값을 바꾸는게 위험한 예시\n",
    "class Soju:\n",
    "    brand = '참이슬'\n",
    "    \n",
    "restaurant = Soju()\n",
    "restaurant.brand"
   ]
  },
  {
   "cell_type": "code",
   "execution_count": 39,
   "metadata": {},
   "outputs": [
    {
     "data": {
      "text/plain": [
       "'한라산'"
      ]
     },
     "execution_count": 39,
     "metadata": {},
     "output_type": "execute_result"
    }
   ],
   "source": [
    "Soju.brand = '한라산'\n",
    "#바뀌어버림\n",
    "restaurant.brand"
   ]
  },
  {
   "cell_type": "code",
   "execution_count": 40,
   "metadata": {},
   "outputs": [
    {
     "data": {
      "text/plain": [
       "'한라산'"
      ]
     },
     "execution_count": 40,
     "metadata": {},
     "output_type": "execute_result"
    }
   ],
   "source": [
    "#외에 선언하는 것들도 바뀌어버림\n",
    "pocha = Soju()\n",
    "pocha.brand"
   ]
  },
  {
   "cell_type": "code",
   "execution_count": 39,
   "metadata": {},
   "outputs": [],
   "source": [
    "#캡슐화 및 정보 은닉\n",
    "class Drink:\n",
    "    def __init__(self, brand):\n",
    "        #원래 self.brand = brand인데 이러면 변수명을 알아야 접근이 가능함\n",
    "        self.set_brand(brand)\n",
    "        \n",
    "    def get_brand(self):\n",
    "        #getter. 원래의 변수명에 접근하도록 함\n",
    "        print('from the getter')\n",
    "        return self.brand\n",
    "    \n",
    "    def set_brand(self, brand):\n",
    "        #setter. 변수명으로 바꾸는 작업이며 바꾸는거라 return은 필요하지 않다.\n",
    "        #input_brand가 바뀌기 때문에 \n",
    "        print('from the setter')\n",
    "        self.brand = brand"
   ]
  },
  {
   "cell_type": "code",
   "execution_count": 41,
   "metadata": {},
   "outputs": [
    {
     "name": "stdout",
     "output_type": "stream",
     "text": [
      "from the setter\n",
      "from the setter\n"
     ]
    },
    {
     "data": {
      "text/plain": [
       "'Cass'"
      ]
     },
     "execution_count": 41,
     "metadata": {},
     "output_type": "execute_result"
    }
   ],
   "source": [
    "#전과 같이 클라우드라고 선언해줬지만\n",
    "ex = Drink('Kloud')\n",
    "ex.set_brand('Cass')\n",
    "#여기가 kloud로 떠야하는것 아닌가\n",
    "ex.brand"
   ]
  },
  {
   "cell_type": "code",
   "execution_count": 42,
   "metadata": {},
   "outputs": [
    {
     "data": {
      "text/plain": [
       "'Cass'"
      ]
     },
     "execution_count": 42,
     "metadata": {},
     "output_type": "execute_result"
    }
   ],
   "source": [
    "ex.brand"
   ]
  },
  {
   "cell_type": "code",
   "execution_count": 43,
   "metadata": {},
   "outputs": [
    {
     "name": "stdout",
     "output_type": "stream",
     "text": [
      "from the getter\n"
     ]
    },
    {
     "data": {
      "text/plain": [
       "'Cass'"
      ]
     },
     "execution_count": 43,
     "metadata": {},
     "output_type": "execute_result"
    }
   ],
   "source": [
    "#setter로 해야만 변수명이 바뀌는 모습\n",
    "ex.get_brand()"
   ]
  },
  {
   "cell_type": "code",
   "execution_count": 24,
   "metadata": {},
   "outputs": [
    {
     "name": "stdout",
     "output_type": "stream",
     "text": [
      "19\n",
      "22\n"
     ]
    }
   ],
   "source": [
    "#잘 이해가 가지 않아 가져온 getter setter의 예제 \n",
    "#출처: https://daebaq27.tistory.com/59\n",
    "\n",
    "class Person:\n",
    "    def __init__(self, first_name, last_name, age):\n",
    "        self.first_name = first_name\n",
    "        self.last_name = last_name\n",
    "        self.set_age(age)\n",
    "\n",
    "    def get_age(self): ## getter\n",
    "        return self._age # 외부에서 직접 접근을 하지 못하고, getter를 통해서만 가능\n",
    "\n",
    "    def set_age(self, age): ## setter\n",
    "        if age < 0:\n",
    "            raise ValueError(\"Invalid age\")\n",
    "        self._age = age\n",
    "        \n",
    "person1 = Person('Gy','Lee',22)\n",
    "person1.age = 19\n",
    "#겉으로는 바뀐 것 같지만\n",
    "print(person1.age)\n",
    "#본 내용은 바뀌지 않았다. \n",
    "print(person1.get_age())"
   ]
  },
  {
   "cell_type": "code",
   "execution_count": 51,
   "metadata": {},
   "outputs": [
    {
     "data": {
      "text/plain": [
       "'Soju'"
      ]
     },
     "execution_count": 51,
     "metadata": {},
     "output_type": "execute_result"
    }
   ],
   "source": [
    "#정보 은닉의 두번째 방법: 파이쏘닉함. \n",
    "class Drink:\n",
    "    def __init__(self, input_brand):\n",
    "        self.hidden_brand = input_brand\n",
    "        \n",
    "    def get_brand(self):\n",
    "        #getter. 원래는 변수명을 바꿀 시 brand접근이 되면 안됨\n",
    "        return self.hidden_brand\n",
    "    \n",
    "    def set_brand(self, input_brand):\n",
    "        self.hidden_brand = input_brand\n",
    "        \n",
    "    brand = property(get_brand, set_brand)\n",
    "    \n",
    "drink = Drink('Soju')\n",
    "drink.brand"
   ]
  },
  {
   "cell_type": "code",
   "execution_count": 52,
   "metadata": {},
   "outputs": [
    {
     "data": {
      "text/plain": [
       "'aa'"
      ]
     },
     "execution_count": 52,
     "metadata": {},
     "output_type": "execute_result"
    }
   ],
   "source": [
    "#세번째: decorator: @.. 가장 파이쏘닉함\n",
    "class Car:\n",
    "    def __init__(self, input_brand):\n",
    "        self.hidden_brand = input_brand\n",
    "        \n",
    "    @property\n",
    "    def brand(self):\n",
    "        return self.hidden_brand\n",
    "    \n",
    "    @brand.setter\n",
    "    def brand(self, input_brand):\n",
    "        self.hidden_brand = input_brand\n",
    "        \n",
    "c = Car('aa')\n",
    "c.brand"
   ]
  },
  {
   "cell_type": "code",
   "execution_count": 7,
   "metadata": {},
   "outputs": [
    {
     "name": "stdout",
     "output_type": "stream",
     "text": [
      "Soju\n",
      "Soju\n"
     ]
    }
   ],
   "source": [
    "#정보 은닉의 세번째 방법: 가장 파이쏘닉한 decorator @~~\n",
    "class Drink:\n",
    "    def __init__(self, input_brand):\n",
    "        self.hidden_brand = input_brand\n",
    "        \n",
    "    @property\n",
    "    def brand(self):\n",
    "        return self.hidden_brand\n",
    "    \n",
    "    @brand.setter\n",
    "    def brand(self, input_brand):\n",
    "        self. hidden_brand = input_brand\n",
    "\n",
    "drink = Drink('beer')\n",
    "drink.hidden_brand = 'Soju'\n",
    "\n",
    "print(drink.brand)\n",
    "print(drink.hidden_brand)"
   ]
  },
  {
   "cell_type": "code",
   "execution_count": 8,
   "metadata": {},
   "outputs": [],
   "source": [
    "#4. 주피터 노트에서 제대로 실현되는 @property 데코레이터.__ 정보은닉\n",
    "#get,set은 코드가 돌아가지만 property에 접근시 코드가 돌아가질 않음\n",
    "#getter,setter함수 만들 필요가 없이 더 간단한 것이 장점임\n",
    "class Car:\n",
    "    def __init__(self, input_brand):\n",
    "        self.hidden_brand = input_brand\n",
    "        \n",
    "    @property\n",
    "    def brand(self):\n",
    "        return self.__brand\n",
    "    \n",
    "    @brand.setter\n",
    "    def brand(self, input_brand):\n",
    "        self.__brand = input_brand\n",
    "        \n",
    "c = Car('bb')"
   ]
  },
  {
   "cell_type": "code",
   "execution_count": 9,
   "metadata": {},
   "outputs": [
    {
     "ename": "AttributeError",
     "evalue": "'Car' object has no attribute '__brand'",
     "output_type": "error",
     "traceback": [
      "\u001b[1;31m---------------------------------------------------------------------------\u001b[0m",
      "\u001b[1;31mAttributeError\u001b[0m                            Traceback (most recent call last)",
      "\u001b[1;32m<ipython-input-9-ddb5afbc4820>\u001b[0m in \u001b[0;36m<module>\u001b[1;34m\u001b[0m\n\u001b[0;32m      1\u001b[0m \u001b[1;31m#쉽게 바꿀 수 없게 한다.\u001b[0m\u001b[1;33m\u001b[0m\u001b[1;33m\u001b[0m\u001b[1;33m\u001b[0m\u001b[0m\n\u001b[1;32m----> 2\u001b[1;33m \u001b[0mc\u001b[0m\u001b[1;33m.\u001b[0m\u001b[0m__brand\u001b[0m\u001b[1;33m\u001b[0m\u001b[1;33m\u001b[0m\u001b[0m\n\u001b[0m",
      "\u001b[1;31mAttributeError\u001b[0m: 'Car' object has no attribute '__brand'"
     ]
    }
   ],
   "source": [
    "#쉽게 바꿀 수 없게 한다. 접근 시 오류\n",
    "c.__brand"
   ]
  },
  {
   "cell_type": "code",
   "execution_count": 11,
   "metadata": {},
   "outputs": [
    {
     "data": {
      "text/plain": [
       "'bb'"
      ]
     },
     "execution_count": 11,
     "metadata": {},
     "output_type": "execute_result"
    }
   ],
   "source": [
    "c.hidden_brand"
   ]
  },
  {
   "cell_type": "code",
   "execution_count": 13,
   "metadata": {},
   "outputs": [
    {
     "data": {
      "text/plain": [
       "14"
      ]
     },
     "execution_count": 13,
     "metadata": {},
     "output_type": "execute_result"
    }
   ],
   "source": [
    "class Circle:\n",
    "    def __init__(self, radius):\n",
    "        self.radius = radius\n",
    "        \n",
    "    @property\n",
    "    def diameter(self):\n",
    "        return self.radius*2\n",
    "        \n",
    "c = Circle(7)\n",
    "c.diameter"
   ]
  },
  {
   "cell_type": "code",
   "execution_count": 57,
   "metadata": {},
   "outputs": [
    {
     "ename": "ValueError",
     "evalue": "Invalid age",
     "output_type": "error",
     "traceback": [
      "\u001b[1;31m---------------------------------------------------------------------------\u001b[0m",
      "\u001b[1;31mValueError\u001b[0m                                Traceback (most recent call last)",
      "\u001b[1;32m<ipython-input-57-9a47ac779e5b>\u001b[0m in \u001b[0;36m<module>\u001b[1;34m\u001b[0m\n\u001b[0;32m     21\u001b[0m \u001b[0mperson2\u001b[0m\u001b[1;33m.\u001b[0m\u001b[0mage\u001b[0m\u001b[1;33m\u001b[0m\u001b[1;33m\u001b[0m\u001b[0m\n\u001b[0;32m     22\u001b[0m \u001b[1;31m#set age의 조건에 걸려 오류가 나는 것 확인 가능. set에 조건을 걸면 제한이 가능해진다.\u001b[0m\u001b[1;33m\u001b[0m\u001b[1;33m\u001b[0m\u001b[1;33m\u001b[0m\u001b[0m\n\u001b[1;32m---> 23\u001b[1;33m \u001b[0mperson2\u001b[0m\u001b[1;33m.\u001b[0m\u001b[0mset_age\u001b[0m\u001b[1;33m(\u001b[0m\u001b[1;33m-\u001b[0m\u001b[1;36m1\u001b[0m\u001b[1;33m)\u001b[0m\u001b[1;33m\u001b[0m\u001b[1;33m\u001b[0m\u001b[0m\n\u001b[0m",
      "\u001b[1;32m<ipython-input-57-9a47ac779e5b>\u001b[0m in \u001b[0;36mset_age\u001b[1;34m(self, age)\u001b[0m\n\u001b[0;32m     11\u001b[0m     \u001b[1;32mdef\u001b[0m \u001b[0mset_age\u001b[0m\u001b[1;33m(\u001b[0m\u001b[0mself\u001b[0m\u001b[1;33m,\u001b[0m \u001b[0mage\u001b[0m\u001b[1;33m)\u001b[0m\u001b[1;33m:\u001b[0m\u001b[1;33m\u001b[0m\u001b[1;33m\u001b[0m\u001b[0m\n\u001b[0;32m     12\u001b[0m         \u001b[1;32mif\u001b[0m \u001b[0mage\u001b[0m \u001b[1;33m<\u001b[0m \u001b[1;36m0\u001b[0m\u001b[1;33m:\u001b[0m\u001b[1;33m\u001b[0m\u001b[1;33m\u001b[0m\u001b[0m\n\u001b[1;32m---> 13\u001b[1;33m             \u001b[1;32mraise\u001b[0m \u001b[0mValueError\u001b[0m\u001b[1;33m(\u001b[0m\u001b[1;34m\"Invalid age\"\u001b[0m\u001b[1;33m)\u001b[0m\u001b[1;33m\u001b[0m\u001b[1;33m\u001b[0m\u001b[0m\n\u001b[0m\u001b[0;32m     14\u001b[0m         \u001b[0mself\u001b[0m\u001b[1;33m.\u001b[0m\u001b[0m_age\u001b[0m \u001b[1;33m=\u001b[0m \u001b[0mage\u001b[0m\u001b[1;33m\u001b[0m\u001b[1;33m\u001b[0m\u001b[0m\n\u001b[0;32m     15\u001b[0m \u001b[1;33m\u001b[0m\u001b[0m\n",
      "\u001b[1;31mValueError\u001b[0m: Invalid age"
     ]
    }
   ],
   "source": [
    "#이해를 위해 혼자 더 찾아본 정보: 파이썬의 내장 함수 property\n",
    "class Person:\n",
    "    def __init__(self, first_name, last_name, age):\n",
    "        self.first_name = first_name\n",
    "        self.last_name = last_name\n",
    "        self.age = age\n",
    "\n",
    "    def get_age(self):\n",
    "        return self._age\n",
    "\n",
    "    def set_age(self, age):\n",
    "        if age < 0:\n",
    "            raise ValueError(\"Invalid age\")\n",
    "        self._age = age\n",
    "\n",
    "    age = property(get_age, set_age)\n",
    "    \n",
    "person2 = Person('Yelin','Baeck',23)\n",
    "person2.age = 25\n",
    "#겉으로 바뀜\n",
    "person2.age\n",
    "#set age의 조건에 걸려 오류가 나는 것 확인 가능. set에 조건을 걸면 제한이 가능해진다. \n",
    "person2.set_age(-1)"
   ]
  },
  {
   "cell_type": "code",
   "execution_count": 58,
   "metadata": {},
   "outputs": [
    {
     "data": {
      "text/plain": [
       "25"
      ]
     },
     "execution_count": 58,
     "metadata": {},
     "output_type": "execute_result"
    }
   ],
   "source": [
    "person2.age"
   ]
  },
  {
   "cell_type": "markdown",
   "metadata": {},
   "source": [
    "### 실습: 과제 완성해오기\n",
    "- 객체: 메모장(노트), 메모\n",
    "- 변수: 제목,페이지 번호, 메모\n",
    "- 객체: 메모 - 변수: 글귀\n",
    "- 메소드 : 추가, 삭제, 페이지 번호 - 쓰기O, 지우기O\n",
    "\n",
    "\n",
    "- getter,setter 메모장 제목에 설정하기\n",
    "- '메모' 객체에 글귀를 추가한다 O write\n",
    "- '메모장' 객체에 메모 추가 O\n",
    "- 페이지 번호가 늘어난다\n",
    "- 메모를 삭제하면 페이지 번호가 줄어들고\n",
    "- 페이지가 300을 넘으면 메모 추가 못하게 막기O\n",
    "- 페이지 번호로 메모 찾을 수 있게 하기"
   ]
  },
  {
   "cell_type": "code",
   "execution_count": 1,
   "metadata": {},
   "outputs": [],
   "source": [
    "#노트북을 만들 시엔 노트와 메모를 요구한다. \n",
    "class Notebook:\n",
    "    #1쪽부터 하려면 page디폴트는 0이고 하나씩 더하는 식으로하기\n",
    "    def __init__(self, title, note = [], page = 0):\n",
    "        self.__title = title\n",
    "        self.note = note\n",
    "        self.page = page\n",
    "        \n",
    "    @property\n",
    "    def title(self):\n",
    "        return self.__title\n",
    "    \n",
    "    def add_note(self, write_memo):\n",
    "        \n",
    "        if self.page >=300:\n",
    "            print(\"이미 꽉찬 노트 입니다.(300p 초과)\")\n",
    "        \n",
    "        else:\n",
    "            self.note.append([write_memo, write_memo.memo])\n",
    "            #self.note.append([wirte_memo.memo])\n",
    "            self.page +=1\n",
    "            \n",
    "     \n",
    "    #번호가 줄어든다 = 페이지를 날려버린다\n",
    "    def remove_note(self, deleting):\n",
    "        for text in self.note:\n",
    "            #[0] = 주소\n",
    "            #[1]~ 내용. 안넣어주면 다날아감\n",
    "            if text[1] == deleting.memo:\n",
    "                self.page -=1\n",
    "                self.note.remove(text)\n",
    "                \n",
    "            #remove(text[][]) 방식으로 줄마다 날리는 것도 구상 해보기\n",
    "                \n",
    "    def get_note(self, searching_page):\n",
    "        searching_page -=1\n",
    "        finding = self.note[searching_page][1]\n",
    "        return finding\n",
    "    \n",
    "                \n",
    "    def get_page_num(self, write_note):\n",
    "        for text in self.note:\n",
    "            if text[1] == write_notes.memos:\n",
    "                index = self.note.index(text)\n",
    "                return  index+1\n",
    "        \n",
    "    \n",
    "class Note:\n",
    "    def __init__(self, write_memo = None):\n",
    "        self.memo = write_memo\n",
    "        \n",
    "    #메모를 추가한다.\n",
    "    def write(self, write_memo):\n",
    "        self.memo = write_memo\n",
    "        \n",
    "    #메모 객체를 지운다. 빈리스트 해야할지 none으로 해야할지 고민\n",
    "    def erase(self):\n",
    "        self.memo = None"
   ]
  },
  {
   "cell_type": "code",
   "execution_count": 2,
   "metadata": {},
   "outputs": [
    {
     "name": "stdout",
     "output_type": "stream",
     "text": [
      "양로원에서 전화를 한통 받았다\n",
      "어머니 사망, 내일 장례식, 이상 알립니다.\n"
     ]
    }
   ],
   "source": [
    "memo1 = '오늘 엄마가 죽었다. 아니 어쩌면 어제'\n",
    "memo2 = '양로원에서 전화를 한통 받았다'\n",
    "memo3 = '어머니 사망, 내일 장례식, 이상 알립니다.'\n",
    "\n",
    "note1 = Note()\n",
    "note1.write(memo1)\n",
    "note1.write(memo2)\n",
    "\n",
    "note2 = Note()\n",
    "note2.write(memo3)\n",
    "\n",
    "print(note1.memo)\n",
    "#memo2는 두번째 문장\n",
    "print(note2.memo)"
   ]
  },
  {
   "cell_type": "code",
   "execution_count": 3,
   "metadata": {},
   "outputs": [
    {
     "name": "stdout",
     "output_type": "stream",
     "text": [
      "None\n"
     ]
    }
   ],
   "source": [
    "note2.erase()\n",
    "print(note2.memo)"
   ]
  },
  {
   "cell_type": "code",
   "execution_count": 4,
   "metadata": {},
   "outputs": [],
   "source": [
    "note3 = Note()\n",
    "note3.write(memo1)\n",
    "note3.write(memo2)\n",
    "note3.write(memo3)"
   ]
  },
  {
   "cell_type": "code",
   "execution_count": 5,
   "metadata": {},
   "outputs": [
    {
     "data": {
      "text/plain": [
       "[]"
      ]
     },
     "execution_count": 5,
     "metadata": {},
     "output_type": "execute_result"
    }
   ],
   "source": [
    "writing_book = Notebook('메모장')\n",
    "writing_book.note"
   ]
  },
  {
   "cell_type": "code",
   "execution_count": 6,
   "metadata": {},
   "outputs": [
    {
     "data": {
      "text/plain": [
       "3"
      ]
     },
     "execution_count": 6,
     "metadata": {},
     "output_type": "execute_result"
    }
   ],
   "source": [
    "writing_book.add_note(note1)\n",
    "writing_book.add_note(note2) #none\n",
    "writing_book.add_note(note3)\n",
    "writing_book.page"
   ]
  },
  {
   "cell_type": "code",
   "execution_count": 7,
   "metadata": {},
   "outputs": [
    {
     "name": "stdout",
     "output_type": "stream",
     "text": [
      "[<__main__.Note object at 0x00000277917D1D08>, '양로원에서 전화를 한통 받았다']\n",
      "[<__main__.Note object at 0x000002779173CE48>, None]\n"
     ]
    }
   ],
   "source": [
    "writing_book.remove_note(note2)"
   ]
  },
  {
   "cell_type": "code",
   "execution_count": 8,
   "metadata": {},
   "outputs": [
    {
     "data": {
      "text/plain": [
       "'어머니 사망, 내일 장례식, 이상 알립니다.'"
      ]
     },
     "execution_count": 8,
     "metadata": {},
     "output_type": "execute_result"
    }
   ],
   "source": [
    "writing_book.get_note(2)"
   ]
  },
  {
   "cell_type": "code",
   "execution_count": null,
   "metadata": {},
   "outputs": [],
   "source": []
  }
 ],
 "metadata": {
  "kernelspec": {
   "display_name": "Python 3",
   "language": "python",
   "name": "python3"
  },
  "language_info": {
   "codemirror_mode": {
    "name": "ipython",
    "version": 3
   },
   "file_extension": ".py",
   "mimetype": "text/x-python",
   "name": "python",
   "nbconvert_exporter": "python",
   "pygments_lexer": "ipython3",
   "version": "3.7.6"
  }
 },
 "nbformat": 4,
 "nbformat_minor": 4
}
