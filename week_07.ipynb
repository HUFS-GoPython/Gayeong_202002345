{
 "cells": [
  {
   "cell_type": "markdown",
   "metadata": {},
   "source": [
    "### 7주차 복습\n",
    "\n",
    "#### 함수\n",
    "\n",
    "\n",
    "1. 정의\n",
    "\n",
    "    - 어떤 일을 수행하는 코드의 덩어리, 묶음\n",
    "    - 코드를 재사용하기 위함.\n",
    "    - 정의하기(define) -> 호출하기(call)\n",
    "        - 호출은 한줄이면 되지만 정의하기가 까다로워 구조에 유의해야 한다. \n",
    "        \n",
    "    - 호출하기: 함수이름(인수1, 2, 3...)(들여쓰기에 유의. def안에서 호출하면 안됨!!= 아마 재귀 호출이 될 것)\n",
    "    \n",
    "    - \"인터페이스\"를 잘 설정하면 내부를 몰라도 함수를 쉽게 쓸 수 있다.\n",
    "        - split(),join()등과 같이 직관적인 이름이 이상적이다. "
   ]
  },
  {
   "cell_type": "code",
   "execution_count": null,
   "metadata": {},
   "outputs": [],
   "source": [
    "#정의 하기\n",
    "\n",
    "def function_name(매개변수1,2,3):\n",
    "    수행문1\n",
    "    수행문2\n",
    "    ....\n",
    "    return 출력값"
   ]
  },
  {
   "cell_type": "markdown",
   "metadata": {},
   "source": [
    "2. 이름 짓기\n",
    "\n",
    "     - 소문자를 사용한다\n",
    "     - 카멜표기법 가능 < 언더바\n",
    "     \n",
    "     - 동사 + 명사: print_output,save_model, split_text\n",
    "         - 입력을 받아 가져오는 함수: get_~~~\n",
    "         - 무엇인가 계산하는 함수: calc~(calculate의 줄임말 정도는 자주 쓴다)\n",
    "         \n",
    "     - 외부 공유 시 줄임말 쓰지 말것 .명료하게 (pr_output X print_output O)\n",
    "         - 변수명도 가능한 직관적으로.\n",
    "         - ex: 가로 세로_garo,sero,length 등등.\n",
    "         - cnt 절대 노노 count 쓸 것"
   ]
  },
  {
   "cell_type": "markdown",
   "metadata": {},
   "source": [
    "3. 인수와 매개변수\n",
    "\n",
    "    - 매개변수 : 정의할 때 쓰임. 인터페이스에서만 유효. 함수를 벗어나면 쓸 수 없는 변수 = 지역 변수\n",
    "    \n",
    "    - 인수: 호출 시 쓰임\n",
    "    \n",
    "    - 함수 호출 시 인수에 할당된 값이 매개변수에 복제됨\n",
    "    \n",
    "        - line = 'hello'\n",
    "        - anything = line ###값을 copy\n",
    "        - anything은 사라짐(매개변수는 사라진ㄷ ㅏ)\n",
    "        \n",
    "    - return: 반환값. 반환할 시 변수에 저장하여 사용이 가능하다"
   ]
  },
  {
   "cell_type": "code",
   "execution_count": 1,
   "metadata": {},
   "outputs": [
    {
     "name": "stdout",
     "output_type": "stream",
     "text": [
      "말해 say yes say yes\n"
     ]
    }
   ],
   "source": [
    "#1. 입력 값이 없고, 반환(return)도 없는 경우 \n",
    "\n",
    "def say_yes():\n",
    "    print(\"말해 say yes say yes\")\n",
    "    \n",
    "say_yes()"
   ]
  },
  {
   "cell_type": "code",
   "execution_count": 9,
   "metadata": {},
   "outputs": [
    {
     "name": "stdout",
     "output_type": "stream",
     "text": [
      "말해 say yes say yes\n",
      "None\n"
     ]
    }
   ],
   "source": [
    "a = say_yes()\n",
    "print(a)\n",
    "#변수에 담기지 않는다"
   ]
  },
  {
   "cell_type": "code",
   "execution_count": 12,
   "metadata": {},
   "outputs": [
    {
     "data": {
      "text/plain": [
       "True"
      ]
     },
     "execution_count": 12,
     "metadata": {},
     "output_type": "execute_result"
    }
   ],
   "source": [
    "#2. 입력이 없지만 반환 값이 있는 경우\n",
    "\n",
    "def agree():\n",
    "    return True\n",
    "\n",
    "type(agree)\n",
    "agree()"
   ]
  },
  {
   "cell_type": "code",
   "execution_count": 13,
   "metadata": {},
   "outputs": [
    {
     "name": "stdout",
     "output_type": "stream",
     "text": [
      "Splendid\n"
     ]
    }
   ],
   "source": [
    "if agree():\n",
    "    print('Splendid')\n",
    "else:\n",
    "    print(\"that was unexpected!\")"
   ]
  },
  {
   "cell_type": "code",
   "execution_count": 22,
   "metadata": {},
   "outputs": [
    {
     "name": "stdout",
     "output_type": "stream",
     "text": [
      "메아리친다메아리친다\n"
     ]
    }
   ],
   "source": [
    "#3. 입력값O 반환값 X\n",
    "\n",
    "def echo(saying):\n",
    "    print('{0}{0}'.format(saying))\n",
    "\n",
    "echo(\"메아리친다\")\n",
    "# echo(\"메아리\")*2와 같은 연산이 불가함"
   ]
  },
  {
   "cell_type": "code",
   "execution_count": 18,
   "metadata": {},
   "outputs": [
    {
     "data": {
      "text/plain": [
       "'고파썬고파썬고파썬고파썬'"
      ]
     },
     "execution_count": 18,
     "metadata": {},
     "output_type": "execute_result"
    }
   ],
   "source": [
    "#4. 입력값과 반환 값 모두가 있는\n",
    "\n",
    "def echo(saying):\n",
    "    return('{0}{0}'.format(saying))\n",
    "\n",
    "#반환하여 mention이라는 변수명에 담기가 가능해졌다. \n",
    "Mention = echo(\"고파썬\")\n",
    "Mention*2"
   ]
  },
  {
   "cell_type": "markdown",
   "metadata": {},
   "source": [
    "*기타 인수\n",
    "\n",
    "- 위치 인수:\n",
    "    - positional argument\n",
    "    - 값을 순서대로 상응하는 매개변수에 복사하는 것\n",
    "    \n",
    "    \n",
    "- 키워드 인수\n",
    "    - keyword argument\n",
    "    - 매개변수에 상응하는 이름을 인수에 지정한다.\n",
    "    - 위치에 달라져도 된다\n",
    "    \n",
    "    \n",
    "- 디폴트 인수\n",
    "    - default argument\n",
    "    - 정의할 때 매개변수의 기본값 설정\n",
    "    - 호출 시 인수가 없으면 기본 값 적용\n",
    "    - 디폴트 값은 non-default값 뒤에 와야한다.\n",
    "    - return에 별다른 값을 입력하지 않을 시 None으로 기본값을 설정한다."
   ]
  },
  {
   "cell_type": "code",
   "execution_count": 23,
   "metadata": {},
   "outputs": [
    {
     "data": {
      "text/plain": [
       "'black'"
      ]
     },
     "execution_count": 23,
     "metadata": {},
     "output_type": "execute_result"
    }
   ],
   "source": [
    "def commentary(color):\n",
    "    #pass\n",
    "    if color == 'g':\n",
    "        return 'green'\n",
    "        \n",
    "    else:\n",
    "        return'black'\n",
    "    \n",
    "color = 'white'\n",
    "#함수 호출하여  white은 g가 아니므로 black이 출력된다\n",
    "commentary(color)"
   ]
  },
  {
   "cell_type": "code",
   "execution_count": 24,
   "metadata": {},
   "outputs": [
    {
     "name": "stdout",
     "output_type": "stream",
     "text": [
      "green\n",
      "black\n",
      "black\n"
     ]
    }
   ],
   "source": [
    "#리스트를 순회하며 값을 출력하는 것이 가능하다\n",
    "colors = ['g','r','b']\n",
    "\n",
    "for c in colors:\n",
    "    print (commentary(c))"
   ]
  },
  {
   "cell_type": "code",
   "execution_count": 25,
   "metadata": {},
   "outputs": [
    {
     "data": {
      "text/plain": [
       "{'wine': 'rioja', 'entree': 'cake', 'dessert': 'egg'}"
      ]
     },
     "execution_count": 25,
     "metadata": {},
     "output_type": "execute_result"
    }
   ],
   "source": [
    "#키워드 인수와 디폴트 값 인수 공부하기\n",
    "\n",
    "def menu(wine ,entree, dessert):\n",
    "    return{'wine':wine, 'entree': entree, 'dessert': dessert}\n",
    "\n",
    "menu('rioja', 'cake','egg')"
   ]
  },
  {
   "cell_type": "code",
   "execution_count": 27,
   "metadata": {},
   "outputs": [
    {
     "data": {
      "text/plain": [
       "{'wine': 'rioja', 'entree': 'egg', 'dessert': 'pancake'}"
      ]
     },
     "execution_count": 27,
     "metadata": {},
     "output_type": "execute_result"
    }
   ],
   "source": [
    "#키워드 인수: 위치가 바뀌어도 답이 알아서 잘 들어가는 것의 예시\n",
    "#와인과 앙트레의 위치가 바뀌어있다\n",
    "menu(entree = 'egg', wine = 'rioja', dessert = 'pancake')"
   ]
  },
  {
   "cell_type": "code",
   "execution_count": 29,
   "metadata": {},
   "outputs": [
    {
     "name": "stdout",
     "output_type": "stream",
     "text": [
      "{'wine': 'rioja', 'entree': 'cake', 'dessert': 'egg'}\n",
      "{'wine': 'redwine', 'entree': 'salad', 'dessert': 'scone'}\n"
     ]
    }
   ],
   "source": [
    "#default\n",
    "#dessert = 'scone'이 디폴트. \n",
    "def menu2(wine = 'redwine' ,entree =  'salad', dessert = 'scone'):\n",
    "    return{'wine':wine, 'entree': entree, 'dessert': dessert}\n",
    "\n",
    "\n",
    "print(menu2('rioja','cake','egg'))\n",
    "#디폴트 값 출력\n",
    "print(menu2())"
   ]
  },
  {
   "cell_type": "code",
   "execution_count": 30,
   "metadata": {},
   "outputs": [
    {
     "data": {
      "text/plain": [
       "{'wine': 'merlot', 'entree': 'egg', 'dessert': 'scone'}"
      ]
     },
     "execution_count": 30,
     "metadata": {},
     "output_type": "execute_result"
    }
   ],
   "source": [
    "#개수에 맞지 않게 입력해도 디폴트 값이 출력된다.\n",
    "menu2('merlot','egg')"
   ]
  },
  {
   "cell_type": "markdown",
   "metadata": {},
   "source": [
    "#### 수업 중의 함수 퀴즈: 나이를 통해 연도 받기\n",
    "- 입력 값: 나이 반환 값: 출생년도"
   ]
  },
  {
   "cell_type": "code",
   "execution_count": 34,
   "metadata": {},
   "outputs": [
    {
     "name": "stdin",
     "output_type": "stream",
     "text": [
      "당신은 몇살인가요? 22\n"
     ]
    },
    {
     "name": "stdout",
     "output_type": "stream",
     "text": [
      "2001년생 입니다!\n"
     ]
    }
   ],
   "source": [
    "input_age = int(input('당신은 몇살인가요?'))\n",
    "\n",
    "#yearcount->countyear\n",
    "#영어 문법 지켜서 함수명 선언해주기\n",
    "def count_year (age):\n",
    "    \n",
    "    #이번 년도는 변수명으로 선언해주기\n",
    "    #바꾸기가 용이함!\n",
    "    this_year = 2022\n",
    "    return this_year - age +1\n",
    "\n",
    "print(f'{count_year(input_age)}년생 입니다!')"
   ]
  },
  {
   "cell_type": "markdown",
   "metadata": {},
   "source": [
    "#### 수업 중의 함수 퀴즈: 사각형 넓이 구하기\n",
    "\n",
    "- 입력: 두변 길이\n",
    "- 출력: str(길이를 문자열로) cm"
   ]
  },
  {
   "cell_type": "code",
   "execution_count": 35,
   "metadata": {},
   "outputs": [
    {
     "name": "stdin",
     "output_type": "stream",
     "text": [
      "가로:  5\n",
      "세로:  6\n"
     ]
    },
    {
     "name": "stdout",
     "output_type": "stream",
     "text": [
      "30.0cm\n"
     ]
    }
   ],
   "source": [
    "input_garo = float(input(\"가로: \"))\n",
    "input_sero = float(input(\"세로: \"))\n",
    "\n",
    "def get_square_area(garo, sero):\n",
    "    area = garo * sero\n",
    "    \n",
    "    return f'{area}cm'\n",
    "\n",
    "print(get_square_area(input_garo, input_sero))"
   ]
  },
  {
   "cell_type": "markdown",
   "metadata": {},
   "source": [
    "#### 내가 해보는 함수 연습(퀴즈 응용): 소인수 분해 하는 함수 만들기\n",
    "\n"
   ]
  },
  {
   "cell_type": "code",
   "execution_count": 59,
   "metadata": {},
   "outputs": [
    {
     "name": "stdin",
     "output_type": "stream",
     "text": [
      "수를 입력해주세요 36\n"
     ]
    },
    {
     "name": "stdout",
     "output_type": "stream",
     "text": [
      "36 의 소인수는 [2, 2, 3, 3] 입니다\n"
     ]
    }
   ],
   "source": [
    "input_num = int(input('수를 입력해주세요'))\n",
    "\n",
    "\n",
    "def get_prime_number(num):\n",
    "    \n",
    "    result = []\n",
    "\n",
    "    division_num = 2\n",
    "\n",
    "    while division_num <= num:\n",
    "        if num % division_num == 0:\n",
    "            \n",
    "            result.append(division_num)\n",
    "            num = num / division_num\n",
    "\n",
    "        else:\n",
    "            division_num+=1\n",
    "            \n",
    "     \n",
    "            \n",
    "    return result\n",
    "            \n",
    "print(f'{input_num} 의 소인수는 {get_prime_number(input_num)} 입니다')"
   ]
  },
  {
   "cell_type": "markdown",
   "metadata": {},
   "source": [
    "### 함수 호출 방식:\n",
    "\n",
    "- 정의된 부분이 메모리에 업로드 되지만, 실행은 안된다\n",
    "    \n",
    "- 실행은 호출시 된다\n",
    "\n",
    "- 값을 넘기는 방식: 참조에 의한 호출(call by reference)"
   ]
  },
  {
   "cell_type": "code",
   "execution_count": 60,
   "metadata": {},
   "outputs": [
    {
     "name": "stdout",
     "output_type": "stream",
     "text": [
      "2\n",
      "3\n",
      "1\n",
      "4\n"
     ]
    }
   ],
   "source": [
    "### 호출 방식:\n",
    "\n",
    "def calc_area(length, width):\n",
    "    print('1')\n",
    "    \n",
    "    return length * width\n",
    "\n",
    "\n",
    "print('2')\n",
    "\n",
    "garo = 2\n",
    "sero = 43\n",
    "\n",
    "print('3')\n",
    "calc_area(garo,sero)#call할 때 삼수로 올라감\n",
    "\n",
    "print('4')"
   ]
  },
  {
   "cell_type": "markdown",
   "metadata": {},
   "source": [
    "2(함수를 건너뛰고 변수명부터 살핌)-3.함수호출을 읽음->1.함수를 불러 계산->4값을 도출"
   ]
  },
  {
   "cell_type": "code",
   "execution_count": 1,
   "metadata": {},
   "outputs": [
    {
     "name": "stdout",
     "output_type": "stream",
     "text": [
      "[2, 3] eggs\n",
      "[0, 1] ham\n"
     ]
    }
   ],
   "source": [
    "#메모리 주소.\n",
    "def spam(eggs):\n",
    "    eggs. append(1)\n",
    "    eggs = [2, 3]\n",
    "    print(eggs, 'eggs')\n",
    "    \n",
    "ham = [0]\n",
    "spam(ham)\n",
    "print(ham,'ham')"
   ]
  },
  {
   "cell_type": "code",
   "execution_count": 2,
   "metadata": {},
   "outputs": [
    {
     "name": "stdout",
     "output_type": "stream",
     "text": [
      "['a']\n",
      "['a', 'b']\n"
     ]
    }
   ],
   "source": [
    "#버기 함수 예제\n",
    "#얕은 복사: 리스트에 누적되어 저장된다.\n",
    "\n",
    "def buggy(arg, result = []):\n",
    "    result. append(arg)\n",
    "    print(result)\n",
    "    \n",
    "buggy('a') #[a]\n",
    "buggy('b') #[b]\n",
    "\n",
    "\n",
    "#얕은 복사로 계속 누적"
   ]
  },
  {
   "cell_type": "code",
   "execution_count": 3,
   "metadata": {},
   "outputs": [
    {
     "name": "stdout",
     "output_type": "stream",
     "text": [
      "['a']\n",
      "['b']\n"
     ]
    }
   ],
   "source": [
    "#계속 누적되지 않도록 하기\n",
    "\n",
    "def buggy(arg, result = []):\n",
    "    result = []#비우지 않으면 쌓인다\n",
    "    result. append(arg)\n",
    "    print(result)\n",
    "    \n",
    "buggy('a') #[a]\n",
    "buggy('b') #[b]"
   ]
  },
  {
   "cell_type": "code",
   "execution_count": 4,
   "metadata": {},
   "outputs": [
    {
     "name": "stdout",
     "output_type": "stream",
     "text": [
      "None 입니다\n"
     ]
    }
   ],
   "source": [
    "#어느경우에는 비우고, 어느 경우에는 쌓고 싶을 때 :None 사용\n",
    "\n",
    "thing = None\n",
    "\n",
    "if thing is None:\n",
    "    print('None 입니다')#True\n",
    "    \n",
    "elif thing:\n",
    "    print('b')\n",
    "    \n",
    "else:\n",
    "    print('b') #False"
   ]
  },
  {
   "cell_type": "code",
   "execution_count": 5,
   "metadata": {},
   "outputs": [
    {
     "name": "stdout",
     "output_type": "stream",
     "text": [
      "['a']\n",
      "[2, 3, 1]\n",
      "[2]\n",
      "[6]\n",
      "[0]\n",
      "[2, 3, 1]\n"
     ]
    }
   ],
   "source": [
    "#none을 활용하는 예제\n",
    "#디폴트를 None으로. 기본적으로 비움\n",
    "#아니면 어펜드\n",
    "def nonbuggy(arg, result = None):\n",
    "    \n",
    "    if result is None:\n",
    "        result = []\n",
    "    \n",
    "    #왜 여기 else를 하지 않지??? \n",
    "    result. append(arg)\n",
    "    print(result)\n",
    "        \n",
    "\n",
    "list_a = []\n",
    "nonbuggy('a',list_a)\n",
    "\n",
    "a = nonbuggy(1,[2,3])\n",
    "b = nonbuggy(2, a)\n",
    "bb = nonbuggy(6,b)\n",
    "c = nonbuggy(0,None)\n",
    "d = nonbuggy(1,[2,3])\n",
    "        "
   ]
  },
  {
   "cell_type": "markdown",
   "metadata": {},
   "source": [
    "#### 전역변수 vs 지역변수\n",
    "\n",
    "- 기본적으로 함수 내 변수와 함수 밖의 변수들은 다르다. \n",
    "- 지역변수: 함수 내에서만 사용 가능(매개변수 = 지역변수)\n",
    "- 전역변수: 프로그램 전체에서 사용 가능 \n",
    "    - 함수 내에서 전역변수를 만드는 방법: global\n",
    "    - global 변수명"
   ]
  },
  {
   "cell_type": "code",
   "execution_count": 11,
   "metadata": {},
   "outputs": [
    {
     "name": "stdout",
     "output_type": "stream",
     "text": [
      "이가영\n",
      "고급파이썬\n"
     ]
    }
   ],
   "source": [
    "a = '이가영'\n",
    "\n",
    "def call_name():\n",
    "    a = '고급파이썬'\n",
    "    print(a)\n",
    "\n",
    "#전역변수인 a출력\n",
    "print(a)\n",
    "#함수 내의 변수 출력\n",
    "call_name()"
   ]
  },
  {
   "cell_type": "code",
   "execution_count": 12,
   "metadata": {},
   "outputs": [
    {
     "name": "stdout",
     "output_type": "stream",
     "text": [
      "London\n",
      "paris\n"
     ]
    }
   ],
   "source": [
    "#수업 예제\n",
    "def fx():\n",
    "    city = 'London'\n",
    "    print(city)\n",
    "    \n",
    "    \n",
    "city = 'paris'\n",
    "fx()\n",
    "#런던이 아니라 파리가 출력됨\n",
    "print(city)"
   ]
  },
  {
   "cell_type": "code",
   "execution_count": 17,
   "metadata": {},
   "outputs": [
    {
     "name": "stdout",
     "output_type": "stream",
     "text": [
      "고급파이썬\n",
      "고급파이썬\n"
     ]
    }
   ],
   "source": [
    "#global\n",
    "\n",
    "a = '이가영'\n",
    "\n",
    "def call_name():\n",
    "    \n",
    "    global a\n",
    "    a = '고급파이썬'\n",
    "    print(a)\n",
    "\n",
    "\n",
    "#함수 내의 변수 출력\n",
    "call_name()\n",
    "\n",
    "#함수 호출 후 a를 보면 값이 바뀐 것을 확인할 수 있다. \n",
    "print(a)"
   ]
  },
  {
   "cell_type": "code",
   "execution_count": 18,
   "metadata": {},
   "outputs": [
    {
     "name": "stdout",
     "output_type": "stream",
     "text": [
      "London\n",
      "London\n"
     ]
    }
   ],
   "source": [
    "#수업 global 예제\n",
    "def fx():\n",
    "    '''\n",
    "    도시 이름을 구하는 코딩입니다\n",
    "    '''\n",
    "    global city\n",
    "    city = 'London'\n",
    "    print(city)\n",
    "    \n",
    "    \n",
    "city = 'paris'\n",
    "fx()\n",
    "#런던\n",
    "print(city)"
   ]
  },
  {
   "cell_type": "markdown",
   "metadata": {},
   "source": [
    "#### 독스트링이란 무엇인가?\n",
    "\n",
    "- 함수에 대한 설명. 매개 변수에 대한 설명, 타입, 함수의 의도\n",
    "- help(함수이름) 사용 시"
   ]
  },
  {
   "cell_type": "code",
   "execution_count": 20,
   "metadata": {},
   "outputs": [],
   "source": [
    "def go_army():\n",
    "    '''군대를 가는 함수입니다.'''\n",
    "    print(\"입영통지서\")"
   ]
  },
  {
   "cell_type": "code",
   "execution_count": 21,
   "metadata": {},
   "outputs": [
    {
     "name": "stdout",
     "output_type": "stream",
     "text": [
      "Help on function go_army in module __main__:\n",
      "\n",
      "go_army()\n",
      "    군대를 가는 함수입니다.\n",
      "\n"
     ]
    }
   ],
   "source": [
    "help(go_army)"
   ]
  },
  {
   "cell_type": "code",
   "execution_count": 22,
   "metadata": {},
   "outputs": [
    {
     "data": {
      "text/plain": [
       "'군대를 가는 함수입니다.'"
      ]
     },
     "execution_count": 22,
     "metadata": {},
     "output_type": "execute_result"
    }
   ],
   "source": [
    "#str로 반환이 가능하다.\n",
    "go_army.__doc__"
   ]
  },
  {
   "cell_type": "markdown",
   "metadata": {},
   "source": [
    "#### 과제의 코퍼스 정제 수업\n",
    "\n",
    "- 접근 방법은 다를 수 있으며 최선을 찾아야한다."
   ]
  },
  {
   "cell_type": "code",
   "execution_count": 26,
   "metadata": {
    "collapsed": true,
    "jupyter": {
     "outputs_hidden": true
    }
   },
   "outputs": [
    {
     "name": "stderr",
     "output_type": "stream",
     "text": [
      "[nltk_data] Downloading package brown to\n",
      "[nltk_data]     C:\\Users\\bestl\\AppData\\Roaming\\nltk_data...\n",
      "[nltk_data]   Package brown is already up-to-date!\n"
     ]
    },
    {
     "data": {
      "text/plain": [
       "\"\\n\\n\\tThey/ppss neither/cc liked/vbd nor/cc disliked/vbd the/at Old/jj-tl Man/nn-tl ./.\\nTo/in them/ppo he/pps could/md have/hv been/ben the/at broken/vbn bell/nn in/in the/at church/nn tower/nn which/wdt rang/vbd before/in and/cc after/in Mass/nn-tl ,/, and/cc at/in noon/nn ,/, and/cc at/in six/cd each/dt evening/nn --/-- its/pp$ tone/nn ,/, repetitive/jj ,/, monotonous/jj ,/, never/rb breaking/vbg the/at boredom/nn of/in the/at streets/nns ./.\\nThe/at Old/jj-tl Man/nn-tl was/bedz unimportant/jj ./.\\n\\n\\n\\tYet/rb if/cs he/pps were/bed not/* there/rb ,/, they/ppss would/md have/hv missed/vbn him/ppo ,/, as/cs they/ppss would/md have/hv missed/vbn the/at sounds/nns of/in bees/nns buzzing/vbg against/in the/at screen/nn door/nn in/in early/jj June/np ;/. ;/.\\nor/cc the/at smell/nn of/in thick/jj tomato/nn paste/nn --/-- the/at ripe/jj smell/nn that/wps was/bedz both/abx sweet/jj and/cc sour/jj --/-- rising/vbg up/rp from/in aluminum/nn trays/nns wrapped/vbn in/in fly-dotted/jj cheesecloth/nn ./.\\nOr/cc the/at surging/vbg whirling/vbg sounds/nns of/in bats/nns at/in night/nn ,/, when/wrb their/pp$ black/jj bodies/nns dived/vbd into/in the/at blackness/nn above/in and/cc below/in the/at amber/jj street/nn lights/nns ./.\\nOr/cc the/at bay/nn of/in female/nn dogs/nns in/in heat/nn ./.\\n\\n\\n\\tThey/ppss never/rb called/vbd him/ppo by/in name/nn ,/, although/cs he/pps had/hvd one/pn ./.\\nFilippo/np Rossi/np ,/, that's/dt+bez what/wdt he/pps was/bedz called/vbn in/in the/at old/jj country/nn ;/. ;/.\\nbut/cc here/rb he/pps was/bedz just/rb Signore/np or/cc the/at Old/jj-tl Man/nn-tl ./.\\nBut/cc this/dt was/bedz not/* unusual/jj ,/, because/cs youth/nn in/in these/dts quarters/nns was/bedz always/rb pushed/vbn at/in a/at distance/nn from/in its/pp$ elders/nns ./.\\nYouth/nn obeyed/vbd when/wrb commanded/vbn ./.\\nIt/pps went/vbd to/in church/nn on/in Sunday/nr and/cc one/cd Saturday/nr a/at month/nn went/vbd to/in confession/nn ./.\\nBut/cc youth/nn asked/vbd nothing/pn of/in its/pp$ parents/nns --/-- not/* a/at touch/nn of/in the/at hand/nn or/cc a/at kiss/nn given/vbn in/in passing/vbg ./.\\n\\n\\n\\tThe/at only/ap thing/nn unusual/jj about/in the/at Old/jj-tl Man/nn-tl had/hvd long/jj since/rb happened/vbn ./.\\nBut/cc the/at past/nn was/bedz dead/jj here/rb as/cs the/at present/jj was/bedz dead/jj ./.\\nOnce/cs the/at Old/jj-tl Man/nn-tl had/hvd had/hvn a/at wife/nn ./.\\nAnd/cc once/cs she/pps ,/, too/rb ,/, ignored/vbd him/ppo ./.\\nWith/in a/at tiny/jj fur-piece/nn wrapped/vbd around/in her/pp$ shoulders/nns ,/, she/pps wiggled/vbd her/pp$ satin-covered/jj buttocks/nns down/in the/at street/nn before/in him/ppo and/cc didn't/dod* stop/vb ./.\\nIn/in one/cd hand/nn she/pps clutched/vbd a/at hundred/cd dollar/nn bill/nn and/cc in/in the/at other/ap a/at straw/nn suitcase/nn ./.\\nThe/at way/nn she/pps strutted/vbd down/in the/at street/nn ,/, the/at Old/jj-tl Man/nn-tl would/md have/hv been/ben blind/jj not/* to/to have/hv noticed/vbn both/abx ./.\\nWithout/in looking/vbg at/in him/ppo ,/, without/in looking/vbg at/in anything/pn except/in Drexel/np-tl Street/nn-tl directly/rb in/in front/nn of/in her/ppo ,/, she/pps climbed/vbd up/rp into/in one/cd of/in those/dts orange/jj streetcars/nns ,/, rode/vbd away/rb in/in it/ppo ,/, and/cc never/rb came/vbd back/rb ./.\\n\\n\\n\\t``/`` But/cc she/pps shouldn't/md* have/hv come/vbn here/rb in/in the/at first/od place/nn ''/'' ,/, the/at women/nns had/hvd said/vbn ./.\\n\\n\\n\\t``/`` No/rb ,/, no/rb ./.\\nNot/* that/dt one/pn ./.\\nShe/pps thought/vbd she/pps was/bedz bigger/jjr than/cs we/ppss are/ber because/cs she/pps came/vbd from/in Torino/np ''/'' ./.\\n\\n\\n\\t``/`` Eh/uh ,/, Torino/np !/. !/.\\nShe/pps gave/vbd herself/ppl fancy/jj airs/nns !/. !/.\\nJust/rb because/cs she/pps had/hvd a/at part/nn on/in the/at stage/nn in/in the/at old/jj country/nn ,/, she/pps thought/vbd she/pps could/md carry/vb her/pp$ head/nn higher/rbr than/cs ours/pp$$ ''/'' ./.\\nThey/ppss had/hvd slapped/vbn their/pp$ thighs/nns ./.\\n\\n\\n\\t``/`` It's/pps+bez not/* for/in making/vbg pretty/jj speeches/nns about/in Dante/np those/dts actresses/nns get/vb paid/vbn so/ql good/rb ''/'' ./.\\n\\n\\n\\t``/`` Henh/uh ''/'' !/. !/.\\nCalloused/vbn fingers/nns ,/, caressed/vbn only/rb by/in the/at smoothness/nn of/in polished/vbn rosaries/nns ,/, had/hvd swayed/vbn excitedly/rb beneath/in puckered/vbn chins/nns where/wrb tiny/jj black/jj hairs/nns sprouted/vbd ,/, never/rb to/to be/be tweezed/vbn away/rb ./.\\nMauve-colored/jj mouths/nns that/wps had/hvd never/rb known/vbn anything/pn sweeter/jjr than/cs the/at taste/nn of/in new/jj wine/nn and/cc the/at passion/nn of/in man's/nn$ tongue/nn had/hvd not/* smiled/vbn ,/, but/cc had/hvd condemned/vbn again/rb and/cc again/rb ./.\\n``/`` Puttana/fw-nn ''/'' !/. !/.\\n\\n\\n\\tBut/cc if/cs the/at Old/jj-tl Man/nn-tl even/rb thought/vbd about/in his/pp$ wife/nn now/rb ,/, nobody/pn cared/vbd a/at fig/nn ./.\\nIt/pps was/bedz enough/ap for/in people/nns to/to know/vb that/cs at/in one/cd time/nn he/pps had/hvd looked/vbn down/in the/at street/nn at/in the/at f\""
      ]
     },
     "execution_count": 26,
     "metadata": {},
     "output_type": "execute_result"
    }
   ],
   "source": [
    "#임포트할 라이브러리는 한쪽으로 밀기\n",
    "import nltk\n",
    "nltk.download('brown')\n",
    "\n",
    "#데이터 셋 가져오기\n",
    "brown = nltk.corpus.brown\n",
    "romance = brown.raw(categories = 'romance')[:5000]\n",
    "#romance#[[they],[neither....]]"
   ]
  },
  {
   "cell_type": "code",
   "execution_count": 28,
   "metadata": {
    "collapsed": true,
    "jupyter": {
     "outputs_hidden": true
    }
   },
   "outputs": [
    {
     "data": {
      "text/plain": [
       "['They/ppss neither/cc liked/vbd nor/cc disliked/vbd the/at Old/jj-tl Man/nn-tl',\n",
       " 'To/in them/ppo he/pps could/md have/hv been/ben the/at broken/vbn bell/nn in/in the/at church/nn tower/nn which/wdt rang/vbd before/in and/cc after/in Mass/nn-tl ,/, and/cc at/in noon/nn ,/, and/cc at/in six/cd each/dt evening/nn --/-- its/pp$ tone/nn ,/, repetitive/jj ,/, monotonous/jj ,/, never/rb breaking/vbg the/at boredom/nn of/in the/at streets/nns',\n",
       " 'The/at Old/jj-tl Man/nn-tl was/bedz unimportant/jj',\n",
       " 'Yet/rb if/cs he/pps were/bed not/* there/rb ,/, they/ppss would/md have/hv missed/vbn him/ppo ,/, as/cs they/ppss would/md have/hv missed/vbn the/at sounds/nns of/in bees/nns buzzing/vbg against/in the/at screen/nn door/nn in/in early/jj June/np ;/. ;/.\\nor/cc the/at smell/nn of/in thick/jj tomato/nn paste/nn --/-- the/at ripe/jj smell/nn that/wps was/bedz both/abx sweet/jj and/cc sour/jj --/-- rising/vbg up/rp from/in aluminum/nn trays/nns wrapped/vbn in/in fly-dotted/jj cheesecloth/nn',\n",
       " 'Or/cc the/at surging/vbg whirling/vbg sounds/nns of/in bats/nns at/in night/nn ,/, when/wrb their/pp$ black/jj bodies/nns dived/vbd into/in the/at blackness/nn above/in and/cc below/in the/at amber/jj street/nn lights/nns',\n",
       " 'Or/cc the/at bay/nn of/in female/nn dogs/nns in/in heat/nn',\n",
       " 'They/ppss never/rb called/vbd him/ppo by/in name/nn ,/, although/cs he/pps had/hvd one/pn',\n",
       " \"Filippo/np Rossi/np ,/, that's/dt+bez what/wdt he/pps was/bedz called/vbn in/in the/at old/jj country/nn ;/. ;/.\\nbut/cc here/rb he/pps was/bedz just/rb Signore/np or/cc the/at Old/jj-tl Man/nn-tl\",\n",
       " 'But/cc this/dt was/bedz not/* unusual/jj ,/, because/cs youth/nn in/in these/dts quarters/nns was/bedz always/rb pushed/vbn at/in a/at distance/nn from/in its/pp$ elders/nns',\n",
       " 'Youth/nn obeyed/vbd when/wrb commanded/vbn',\n",
       " 'It/pps went/vbd to/in church/nn on/in Sunday/nr and/cc one/cd Saturday/nr a/at month/nn went/vbd to/in confession/nn',\n",
       " 'But/cc youth/nn asked/vbd nothing/pn of/in its/pp$ parents/nns --/-- not/* a/at touch/nn of/in the/at hand/nn or/cc a/at kiss/nn given/vbn in/in passing/vbg',\n",
       " 'The/at only/ap thing/nn unusual/jj about/in the/at Old/jj-tl Man/nn-tl had/hvd long/jj since/rb happened/vbn',\n",
       " 'But/cc the/at past/nn was/bedz dead/jj here/rb as/cs the/at present/jj was/bedz dead/jj',\n",
       " 'Once/cs the/at Old/jj-tl Man/nn-tl had/hvd had/hvn a/at wife/nn',\n",
       " 'And/cc once/cs she/pps ,/, too/rb ,/, ignored/vbd him/ppo',\n",
       " \"With/in a/at tiny/jj fur-piece/nn wrapped/vbd around/in her/pp$ shoulders/nns ,/, she/pps wiggled/vbd her/pp$ satin-covered/jj buttocks/nns down/in the/at street/nn before/in him/ppo and/cc didn't/dod* stop/vb\",\n",
       " 'In/in one/cd hand/nn she/pps clutched/vbd a/at hundred/cd dollar/nn bill/nn and/cc in/in the/at other/ap a/at straw/nn suitcase/nn',\n",
       " 'The/at way/nn she/pps strutted/vbd down/in the/at street/nn ,/, the/at Old/jj-tl Man/nn-tl would/md have/hv been/ben blind/jj not/* to/to have/hv noticed/vbn both/abx',\n",
       " 'Without/in looking/vbg at/in him/ppo ,/, without/in looking/vbg at/in anything/pn except/in Drexel/np-tl Street/nn-tl directly/rb in/in front/nn of/in her/ppo ,/, she/pps climbed/vbd up/rp into/in one/cd of/in those/dts orange/jj streetcars/nns ,/, rode/vbd away/rb in/in it/ppo ,/, and/cc never/rb came/vbd back/rb',\n",
       " \"``/`` But/cc she/pps shouldn't/md* have/hv come/vbn here/rb in/in the/at first/od place/nn ''/'' ,/, the/at women/nns had/hvd said/vbn\",\n",
       " '``/`` No/rb ,/, no/rb',\n",
       " 'Not/* that/dt one/pn',\n",
       " \"She/pps thought/vbd she/pps was/bedz bigger/jjr than/cs we/ppss are/ber because/cs she/pps came/vbd from/in Torino/np ''/''\",\n",
       " \"``/`` Eh/uh ,/, Torino/np !/. !/.\\nShe/pps gave/vbd herself/ppl fancy/jj airs/nns !/. !/.\\nJust/rb because/cs she/pps had/hvd a/at part/nn on/in the/at stage/nn in/in the/at old/jj country/nn ,/, she/pps thought/vbd she/pps could/md carry/vb her/pp$ head/nn higher/rbr than/cs ours/pp$$ ''/''\",\n",
       " 'They/ppss had/hvd slapped/vbn their/pp$ thighs/nns',\n",
       " \"``/`` It's/pps+bez not/* for/in making/vbg pretty/jj speeches/nns about/in Dante/np those/dts actresses/nns get/vb paid/vbn so/ql good/rb ''/''\",\n",
       " \"``/`` Henh/uh ''/'' !/. !/.\\nCalloused/vbn fingers/nns ,/, caressed/vbn only/rb by/in the/at smoothness/nn of/in polished/vbn rosaries/nns ,/, had/hvd swayed/vbn excitedly/rb beneath/in puckered/vbn chins/nns where/wrb tiny/jj black/jj hairs/nns sprouted/vbd ,/, never/rb to/to be/be tweezed/vbn away/rb\",\n",
       " \"Mauve-colored/jj mouths/nns that/wps had/hvd never/rb known/vbn anything/pn sweeter/jjr than/cs the/at taste/nn of/in new/jj wine/nn and/cc the/at passion/nn of/in man's/nn$ tongue/nn had/hvd not/* smiled/vbn ,/, but/cc had/hvd condemned/vbn again/rb and/cc again/rb\",\n",
       " \"``/`` Puttana/fw-nn ''/'' !/. !/.\\n\\n\\n\\tBut/cc if/cs the/at Old/jj-tl Man/nn-tl even/rb thought/vbd about/in his/pp$ wife/nn now/rb ,/, nobody/pn cared/vbd a/at fig/nn\",\n",
       " 'It/pps was/bedz enough/ap for/in people/nns to/to know/vb that/cs at/in one/cd time/nn he/pps had/hvd looked/vbn down/in the/at street/nn at/in the/at f']"
      ]
     },
     "execution_count": 28,
     "metadata": {},
     "output_type": "execute_result"
    }
   ],
   "source": [
    "#문장으로 끊기 best option\n",
    "sentence = [sentence.strip() for sentence in romance.split('./.')]\n",
    "#만약 \\로 하면 이상하게 끊김\n",
    "\n",
    "#물음표등의 정제\n",
    "#[word for word in sentence if '?' in sentence]\n",
    "\n",
    "#sentence"
   ]
  },
  {
   "cell_type": "code",
   "execution_count": 29,
   "metadata": {},
   "outputs": [
    {
     "data": {
      "text/plain": [
       "['They', 'neither', 'liked', 'nor', 'disliked', 'the', 'Old', 'Man']"
      ]
     },
     "execution_count": 29,
     "metadata": {},
     "output_type": "execute_result"
    }
   ],
   "source": [
    "#단어 분절\n",
    "example = sentence[0]\n",
    "\n",
    "#split을 공백으로 가져가기\n",
    "example.split(' ')\n",
    "\n",
    "\n",
    "[word.split('/')[0] for word in example.split(' ')]"
   ]
  },
  {
   "cell_type": "code",
   "execution_count": 31,
   "metadata": {},
   "outputs": [
    {
     "data": {
      "text/plain": [
       "['They', 'neither', 'liked', 'nor', 'disliked', 'the', 'Old', 'Man']"
      ]
     },
     "execution_count": 31,
     "metadata": {},
     "output_type": "execute_result"
    }
   ],
   "source": [
    "[word[:word.find('/')] for word in example.split(' ') if word.find('/')]"
   ]
  },
  {
   "cell_type": "code",
   "execution_count": 32,
   "metadata": {},
   "outputs": [],
   "source": [
    "#전체 텍스트에 적용하는 함수 만들기\n",
    "\n",
    "sentence_tokens = [[word.split('/')[0] for word in s.split(' ')] for s in sentence]\n",
    "#sentence_tokens"
   ]
  },
  {
   "cell_type": "code",
   "execution_count": 5,
   "metadata": {
    "collapsed": true,
    "jupyter": {
     "outputs_hidden": true
    }
   },
   "outputs": [
    {
     "name": "stderr",
     "output_type": "stream",
     "text": [
      "[nltk_data] Downloading package brown to\n",
      "[nltk_data]     C:\\Users\\bestl\\AppData\\Roaming\\nltk_data...\n",
      "[nltk_data]   Package brown is already up-to-date!\n"
     ]
    },
    {
     "ename": "AttributeError",
     "evalue": "'CategorizedTaggedCorpusReader' object has no attribute 'split'",
     "output_type": "error",
     "traceback": [
      "\u001b[1;31m---------------------------------------------------------------------------\u001b[0m",
      "\u001b[1;31mAttributeError\u001b[0m                            Traceback (most recent call last)",
      "\u001b[1;32m<ipython-input-5-354b404a5c49>\u001b[0m in \u001b[0;36m<module>\u001b[1;34m\u001b[0m\n\u001b[0;32m      4\u001b[0m \u001b[1;33m\u001b[0m\u001b[0m\n\u001b[0;32m      5\u001b[0m \u001b[0mbrown\u001b[0m \u001b[1;33m=\u001b[0m \u001b[0mnltk\u001b[0m\u001b[1;33m.\u001b[0m \u001b[0mcorpus\u001b[0m\u001b[1;33m.\u001b[0m \u001b[0mbrown\u001b[0m\u001b[1;33m\u001b[0m\u001b[1;33m\u001b[0m\u001b[0m\n\u001b[1;32m----> 6\u001b[1;33m user_punct = set([word for sent in brown.split() \\\n\u001b[0m\u001b[0;32m      7\u001b[0m                         \u001b[1;32mfor\u001b[0m \u001b[0mword\u001b[0m \u001b[1;32min\u001b[0m \u001b[0msent\u001b[0m\u001b[1;33m.\u001b[0m\u001b[0msplit\u001b[0m\u001b[1;33m(\u001b[0m\u001b[0mSLASH\u001b[0m\u001b[1;33m)\u001b[0m\u001b[0;31m \u001b[0m\u001b[0;31m\\\u001b[0m\u001b[1;33m\u001b[0m\u001b[1;33m\u001b[0m\u001b[0m\n\u001b[0;32m      8\u001b[0m                           if not sent[0].isalnum()])\n",
      "\u001b[1;32m~\\anaconda3\\lib\\site-packages\\nltk\\corpus\\util.py\u001b[0m in \u001b[0;36m__getattr__\u001b[1;34m(self, attr)\u001b[0m\n\u001b[0;32m    124\u001b[0m         \u001b[1;31m# This looks circular, but its not, since __load() changes our\u001b[0m\u001b[1;33m\u001b[0m\u001b[1;33m\u001b[0m\u001b[1;33m\u001b[0m\u001b[0m\n\u001b[0;32m    125\u001b[0m         \u001b[1;31m# __class__ to something new:\u001b[0m\u001b[1;33m\u001b[0m\u001b[1;33m\u001b[0m\u001b[1;33m\u001b[0m\u001b[0m\n\u001b[1;32m--> 126\u001b[1;33m         \u001b[1;32mreturn\u001b[0m \u001b[0mgetattr\u001b[0m\u001b[1;33m(\u001b[0m\u001b[0mself\u001b[0m\u001b[1;33m,\u001b[0m \u001b[0mattr\u001b[0m\u001b[1;33m)\u001b[0m\u001b[1;33m\u001b[0m\u001b[1;33m\u001b[0m\u001b[0m\n\u001b[0m\u001b[0;32m    127\u001b[0m \u001b[1;33m\u001b[0m\u001b[0m\n\u001b[0;32m    128\u001b[0m     \u001b[1;32mdef\u001b[0m \u001b[0m__repr__\u001b[0m\u001b[1;33m(\u001b[0m\u001b[0mself\u001b[0m\u001b[1;33m)\u001b[0m\u001b[1;33m:\u001b[0m\u001b[1;33m\u001b[0m\u001b[1;33m\u001b[0m\u001b[0m\n",
      "\u001b[1;31mAttributeError\u001b[0m: 'CategorizedTaggedCorpusReader' object has no attribute 'split'"
     ]
    }
   ],
   "source": [
    "#문장 부호 추출:\n",
    "#브라운 코퍼스의 예시\n",
    "user_punct = set([word for sent in brown.split() \\\n",
    "                        for word in sent.split(SLASH) \\\n",
    "                          if not sent[0].isalnum()])\n",
    "user_punct"
   ]
  },
  {
   "cell_type": "markdown",
   "metadata": {},
   "source": [
    "- 파이썬 문자 함수\n",
    "\n",
    "\n",
    "- text.isalpha() :문자로만 되어있으면 True.공백이 있다면 False를 반환하기 때문에 정제 시 strip을 사용하고 사용하기 용이하다.\n",
    "\n",
    "- text.isdigit(): 모두 숫자면 True\n",
    "\n",
    "- text.isalnum(): 문자열이 알파벳이나 숫자인지 검사하기(특수 문자에 대해 False출력)\n"
   ]
  },
  {
   "cell_type": "code",
   "execution_count": 6,
   "metadata": {},
   "outputs": [
    {
     "data": {
      "text/plain": [
       "('she', \"'s\")"
      ]
     },
     "execution_count": 6,
     "metadata": {},
     "output_type": "execute_result"
    }
   ],
   "source": [
    "#어퍼스트로피 처리하기\n",
    "word = 'she\\'s'\n",
    "index = word. find('\\'')\n",
    "word[:index], word[index:]\n"
   ]
  },
  {
   "cell_type": "markdown",
   "metadata": {},
   "source": [
    "### 깃허브의 문장부호 처리 참고 필기"
   ]
  },
  {
   "cell_type": "code",
   "execution_count": 10,
   "metadata": {},
   "outputs": [
    {
     "name": "stderr",
     "output_type": "stream",
     "text": [
      "[nltk_data] Downloading package brown to\n",
      "[nltk_data]     C:\\Users\\bestl\\AppData\\Roaming\\nltk_data...\n",
      "[nltk_data]   Package brown is already up-to-date!\n"
     ]
    }
   ],
   "source": [
    "import string\n",
    "import random\n",
    "\n",
    "import nltk\n",
    "\n",
    "nltk.download('brown')\n",
    "brown = nltk.corpus.brown.raw()\n",
    "brown_copy = brown\n",
    "brown = brown[:5000]"
   ]
  },
  {
   "cell_type": "code",
   "execution_count": 16,
   "metadata": {},
   "outputs": [
    {
     "data": {
      "text/plain": [
       "34"
      ]
     },
     "execution_count": 16,
     "metadata": {},
     "output_type": "execute_result"
    }
   ],
   "source": [
    "SLASH, HYPHEN, EOL, APOSTROPHE = '/', '-', './.', '\\'s'\n",
    "\n",
    "punctuations = list(string.punctuation)\n",
    "#print(len(punctuations))\n",
    "#32\n",
    "\n",
    "punctuations.extend(list(user_punct))\n",
    "len(set(punctuations))"
   ]
  },
  {
   "cell_type": "code",
   "execution_count": 11,
   "metadata": {},
   "outputs": [
    {
     "data": {
      "text/plain": [
       "{\"''\", ',', '.', '``'}"
      ]
     },
     "execution_count": 11,
     "metadata": {},
     "output_type": "execute_result"
    }
   ],
   "source": [
    "user_punct = set([word for sent in brown.split() \\\n",
    "                        for word in sent.split(SLASH) \\\n",
    "                          if not sent[0].isalnum()])\n",
    "user_punct"
   ]
  },
  {
   "cell_type": "code",
   "execution_count": 17,
   "metadata": {
    "collapsed": true,
    "jupyter": {
     "outputs_hidden": true
    }
   },
   "outputs": [
    {
     "name": "stdout",
     "output_type": "stream",
     "text": [
      "[\"The/at Fulton/np-tl County/nn-tl Grand/jj-tl Jury/nn-tl said/vbd Friday/nr an/at investigation/nn of/in Atlanta's/np$ recent/jj primary/nn election/nn produced/vbd ``/`` no/at evidence/nn ''/'' that/cs any/dti irregularities/nns took/vbd place/nn\", \"The/at jury/nn further/rbr said/vbd in/in term-end/nn presentments/nns that/cs the/at City/nn-tl Executive/jj-tl Committee/nn-tl ,/, which/wdt had/hvd over-all/jj charge/nn of/in the/at election/nn ,/, ``/`` deserves/vbz the/at praise/nn and/cc thanks/nns of/in the/at City/nn-tl of/in-tl Atlanta/np-tl ''/'' for/in the/at manner/nn in/in which/wdt the/at election/nn was/bedz conducted/vbn\", \"The/at September-October/np term/nn jury/nn had/hvd been/ben charged/vbn by/in Fulton/np-tl Superior/jj-tl Court/nn-tl Judge/nn-tl Durwood/np Pye/np to/to investigate/vb reports/nns of/in possible/jj ``/`` irregularities/nns ''/'' in/in the/at hard-fought/jj primary/nn which/wdt was/bedz won/vbn by/in Mayor-nominate/nn-tl Ivan/np Allen/np Jr./np\"]\n",
      "[['The', 'Fulton', 'County', 'Grand', 'Jury', 'said', 'Friday', 'an', 'investigation', 'of', \"Atlanta's\", 'recent', 'primary', 'election', 'produced', 'no', 'evidence', 'that', 'any', 'irregularities', 'took', 'place'], ['The', 'jury', 'further', 'said', 'in', 'term-end', 'presentments', 'that', 'the', 'City', 'Executive', 'Committee', 'which', 'had', 'over-all', 'charge', 'of', 'the', 'election', 'deserves', 'the', 'praise', 'and', 'thanks', 'of', 'the', 'City', 'of', 'Atlanta', 'for', 'the', 'manner', 'in', 'which', 'the', 'election', 'was', 'conducted']]\n"
     ]
    },
    {
     "data": {
      "text/plain": [
       "[\"Atlanta's\",\n",
       " 'term-end',\n",
       " 'over-all',\n",
       " 'September-October',\n",
       " 'hard-fought',\n",
       " 'Mayor-nominate',\n",
       " 'Jr.',\n",
       " \"Georgia's\",\n",
       " \"Georgia's\",\n",
       " 're-set',\n",
       " \"Department's\",\n",
       " \"ordinary's\"]"
      ]
     },
     "execution_count": 17,
     "metadata": {},
     "output_type": "execute_result"
    }
   ],
   "source": [
    "#아래와 같이 문장부호가 있는 단어들 확인이 가능하다\n",
    "\n",
    "#문장 분절\n",
    "# sentence split\n",
    "sentences = [sent.strip() for sent in brown.split(EOL)]\n",
    "print(sentences[:3])\n",
    "\n",
    "#단어 분절\n",
    "\n",
    "\n",
    "# word split test\n",
    "[w[:w.find(SLASH)] for w in sentences[0].split() \\\n",
    "     if w[:w.find(SLASH)] not in punctuations and w]\n",
    "\n",
    "\n",
    "sent_tokens = [[w[:w.find(SLASH)] for w in sentence.split() \\\n",
    "                   if w[:w.find(SLASH)] not in punctuations and w]\n",
    "                      for sentence in sentences]\n",
    "print(sent_tokens[:2])\n",
    "\n",
    "#alnum을 활용한 특수 부호가 들어간 문자 확인하기\n",
    "[word for sent in sent_tokens for word in sent if not word.isalnum()]"
   ]
  },
  {
   "cell_type": "code",
   "execution_count": 26,
   "metadata": {},
   "outputs": [
    {
     "data": {
      "text/plain": [
       "['이가영 한국외대생 은 고급파이썬을 듣기 위해 go out earlier  무려 ', '시리얼', '을 먹고 말이다.']"
      ]
     },
     "execution_count": 26,
     "metadata": {},
     "output_type": "execute_result"
    }
   ],
   "source": [
    "#어퍼스트로피, 하이픈 등 특수 용어들 정제하기 :split()으로 실현 가능\n",
    "\n",
    "\n",
    "ex = \"이가영-한국외대생-은 고급파이썬을 듣기 위해 go out earlier  무려 '시리얼'을 먹고 말이다.\"\n",
    "\n",
    "ex = ex.split('-')\n",
    "ex = (' ').join(ex)\n",
    "ex = ex.split(\"'\")\n",
    "#split된 부호들은 모두 삭제된다. \n",
    "ex"
   ]
  },
  {
   "cell_type": "code",
   "execution_count": null,
   "metadata": {},
   "outputs": [],
   "source": [
    "#외에 -정제의 경우 extend를 통해 합병해줘야 하는데 과제 코드의 경우에는 일일히 인덱스를 입력해줬지만, for문을 사용하면 더욱 편하게 입력할 수 있다 \n",
    "\n",
    "for loop\n",
    "    if index:\n",
    "        # hyphen\n",
    "        #'s\n",
    "        \n",
    "    # fur-piece's\n",
    "# 루프를타면서 extend"
   ]
  },
  {
   "cell_type": "code",
   "execution_count": 29,
   "metadata": {},
   "outputs": [
    {
     "data": {
      "text/plain": [
       "['i', 'me', 'my']"
      ]
     },
     "execution_count": 29,
     "metadata": {},
     "output_type": "execute_result"
    }
   ],
   "source": [
    "# 불용어: 빈도수만 많고, 문장에 특별한 의미를 추가해주지 못하는 용어들\n",
    "\n",
    "stopwords = nltk.corpus.stopwords.words('english')\n",
    "stopwords[:3]\n"
   ]
  },
  {
   "cell_type": "code",
   "execution_count": 31,
   "metadata": {},
   "outputs": [
    {
     "name": "stdout",
     "output_type": "stream",
     "text": [
      "My\n"
     ]
    }
   ],
   "source": [
    "token = 'My'\n",
    "\n",
    "for word in stopwords:\n",
    "    if token.lower() == word:\n",
    "        print(token)"
   ]
  },
  {
   "cell_type": "code",
   "execution_count": null,
   "metadata": {},
   "outputs": [],
   "source": []
  }
 ],
 "metadata": {
  "kernelspec": {
   "display_name": "Python 3",
   "language": "python",
   "name": "python3"
  },
  "language_info": {
   "codemirror_mode": {
    "name": "ipython",
    "version": 3
   },
   "file_extension": ".py",
   "mimetype": "text/x-python",
   "name": "python",
   "nbconvert_exporter": "python",
   "pygments_lexer": "ipython3",
   "version": "3.7.6"
  }
 },
 "nbformat": 4,
 "nbformat_minor": 4
}
